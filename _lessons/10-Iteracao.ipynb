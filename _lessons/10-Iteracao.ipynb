{
 "cells": [
  {
   "cell_type": "markdown",
   "metadata": {},
   "source": [
    "---\n",
    "layout: page\n",
    "title: Iteração\n",
    "nav_order: 10\n",
    "---\n",
    "[<img src=\"https://raw.githubusercontent.com/flaviovdf/fcd/master/assets/colab_favicon_small.png\" style=\"float: right;\">](https://colab.research.google.com/github/flaviovdf/fcd/blob/master/_lessons/10-Iteracao.ipynb)\n",
    "\n",
    "# Tópico 10 – Iteração\n",
    "{: .no_toc .mb-2 }\n",
    "\n",
    "Vamos aprender sobre laços em Python e um pouco sobre como gerar dados.\n",
    "{: .fs-6 .fw-300 }\n",
    "\n",
    "{: .no_toc .text-delta }\n",
    "Resultados Esperados\n",
    "\n",
    "1. Entender laços (`for`)\n",
    "1. Entender a geração de números aleatórios (`np.random`)\n",
    "\n",
    "{: .no_toc .text-delta }\n",
    "Material Adaptado do [DSC10 (UCSD)](https://dsc10.com/)"
   ]
  },
  {
   "cell_type": "markdown",
   "metadata": {},
   "source": [
    "<alert><font color='red'>Eu não tive tempo de mudar esses exemplos, então eles refletem a realidade da UCSD. Não da UFMG.</font></alert>"
   ]
  },
  {
   "cell_type": "code",
   "execution_count": 1,
   "metadata": {
    "execution": {
     "iopub.execute_input": "2025-03-30T15:39:08.285717Z",
     "iopub.status.busy": "2025-03-30T15:39:08.285590Z",
     "iopub.status.idle": "2025-03-30T15:39:08.516575Z",
     "shell.execute_reply": "2025-03-30T15:39:08.516023Z"
    },
    "slideshow": {
     "slide_type": "skip"
    }
   },
   "outputs": [],
   "source": [
    "import pandas as pd\n",
    "import numpy as np"
   ]
  },
  {
   "cell_type": "markdown",
   "metadata": {
    "slideshow": {
     "slide_type": "slide"
    }
   },
   "source": [
    "### Agenda\n",
    "\n",
    "- Booleanos.\n",
    "- Declarações condicionais (ou seja, declarações `if`).\n",
    "- Iteração (ou seja, loops `for`).\n",
    "\n",
    "**Observação:**\n",
    "- Concluímos a introdução de novas técnicas de manipulação de DataFrame.\n",
    "- Hoje abordaremos algumas ferramentas básicas de programação, que serão muito relevantes à medida que começarmos a abordar mais ideias em estatística (na próxima semana)."
   ]
  },
  {
   "cell_type": "markdown",
   "metadata": {
    "slideshow": {
     "slide_type": "slide"
    }
   },
   "source": [
    "## Booleanos"
   ]
  },
  {
   "cell_type": "markdown",
   "metadata": {
    "slideshow": {
     "slide_type": "slide"
    }
   },
   "source": [
    "### Recapitulação: Booleanos\n",
    "\n",
    "- `bool` é um tipo de dados em Python, assim como `int`, `float` e `str`.\n",
    "- Significa \"Boolean\", em homenagem a George Boole, um dos primeiros matemáticos.\n",
    "- Existem apenas dois valores booleanos possíveis: `True` ou `False`.\n",
    "- Sim ou não.\n",
    "- Ligado ou desligado.\n",
    "- 1 ou 0.\n",
    "- As comparações resultam em valores booleanos."
   ]
  },
  {
   "cell_type": "code",
   "execution_count": 2,
   "metadata": {
    "execution": {
     "iopub.execute_input": "2025-03-30T15:39:08.518350Z",
     "iopub.status.busy": "2025-03-30T15:39:08.518173Z",
     "iopub.status.idle": "2025-03-30T15:39:08.520368Z",
     "shell.execute_reply": "2025-03-30T15:39:08.520051Z"
    }
   },
   "outputs": [],
   "source": [
    "capstone = 'finished'\n",
    "units = 123"
   ]
  },
  {
   "cell_type": "code",
   "execution_count": 3,
   "metadata": {
    "execution": {
     "iopub.execute_input": "2025-03-30T15:39:08.521605Z",
     "iopub.status.busy": "2025-03-30T15:39:08.521496Z",
     "iopub.status.idle": "2025-03-30T15:39:08.525361Z",
     "shell.execute_reply": "2025-03-30T15:39:08.524986Z"
    }
   },
   "outputs": [
    {
     "data": {
      "text/plain": [
       "False"
      ]
     },
     "execution_count": 3,
     "metadata": {},
     "output_type": "execute_result"
    }
   ],
   "source": [
    "units >= 180"
   ]
  },
  {
   "cell_type": "code",
   "execution_count": 4,
   "metadata": {
    "execution": {
     "iopub.execute_input": "2025-03-30T15:39:08.548153Z",
     "iopub.status.busy": "2025-03-30T15:39:08.547979Z",
     "iopub.status.idle": "2025-03-30T15:39:08.551203Z",
     "shell.execute_reply": "2025-03-30T15:39:08.550771Z"
    }
   },
   "outputs": [
    {
     "data": {
      "text/plain": [
       "bool"
      ]
     },
     "execution_count": 4,
     "metadata": {},
     "output_type": "execute_result"
    }
   ],
   "source": [
    "type(units >= 180)"
   ]
  },
  {
   "cell_type": "markdown",
   "metadata": {
    "slideshow": {
     "slide_type": "slide"
    }
   },
   "source": [
    "### Operadores booleanos; `not`\n",
    "\n",
    "Existem três operadores que nos permitem realizar aritmética com booleanos – `not`, `and` e `or`."
   ]
  },
  {
   "cell_type": "markdown",
   "metadata": {
    "slideshow": {
     "slide_type": "fragment"
    }
   },
   "source": [
    "`not` vira `True` ↔️ `False`."
   ]
  },
  {
   "cell_type": "code",
   "execution_count": 5,
   "metadata": {
    "execution": {
     "iopub.execute_input": "2025-03-30T15:39:08.552724Z",
     "iopub.status.busy": "2025-03-30T15:39:08.552587Z",
     "iopub.status.idle": "2025-03-30T15:39:08.555497Z",
     "shell.execute_reply": "2025-03-30T15:39:08.555150Z"
    }
   },
   "outputs": [
    {
     "data": {
      "text/plain": [
       "'finished'"
      ]
     },
     "execution_count": 5,
     "metadata": {},
     "output_type": "execute_result"
    }
   ],
   "source": [
    "capstone"
   ]
  },
  {
   "cell_type": "code",
   "execution_count": 6,
   "metadata": {
    "execution": {
     "iopub.execute_input": "2025-03-30T15:39:08.556999Z",
     "iopub.status.busy": "2025-03-30T15:39:08.556865Z",
     "iopub.status.idle": "2025-03-30T15:39:08.559316Z",
     "shell.execute_reply": "2025-03-30T15:39:08.559028Z"
    }
   },
   "outputs": [
    {
     "data": {
      "text/plain": [
       "True"
      ]
     },
     "execution_count": 6,
     "metadata": {},
     "output_type": "execute_result"
    }
   ],
   "source": [
    "capstone == 'finished'"
   ]
  },
  {
   "cell_type": "code",
   "execution_count": 7,
   "metadata": {
    "execution": {
     "iopub.execute_input": "2025-03-30T15:39:08.560653Z",
     "iopub.status.busy": "2025-03-30T15:39:08.560525Z",
     "iopub.status.idle": "2025-03-30T15:39:08.562837Z",
     "shell.execute_reply": "2025-03-30T15:39:08.562559Z"
    }
   },
   "outputs": [
    {
     "data": {
      "text/plain": [
       "False"
      ]
     },
     "execution_count": 7,
     "metadata": {},
     "output_type": "execute_result"
    }
   ],
   "source": [
    "not capstone == 'finished'"
   ]
  },
  {
   "cell_type": "markdown",
   "metadata": {
    "slideshow": {
     "slide_type": "slide"
    }
   },
   "source": [
    "### O operador `e`\n",
    "\n",
    "O operador `and` é colocado entre dois `bool`s. É `True` se **ambos** forem `True`; caso contrário, é `Falso`."
   ]
  },
  {
   "cell_type": "code",
   "execution_count": 8,
   "metadata": {
    "execution": {
     "iopub.execute_input": "2025-03-30T15:39:08.564328Z",
     "iopub.status.busy": "2025-03-30T15:39:08.564031Z",
     "iopub.status.idle": "2025-03-30T15:39:08.566342Z",
     "shell.execute_reply": "2025-03-30T15:39:08.566071Z"
    }
   },
   "outputs": [
    {
     "data": {
      "text/plain": [
       "'finished'"
      ]
     },
     "execution_count": 8,
     "metadata": {},
     "output_type": "execute_result"
    }
   ],
   "source": [
    "capstone"
   ]
  },
  {
   "cell_type": "code",
   "execution_count": 9,
   "metadata": {
    "execution": {
     "iopub.execute_input": "2025-03-30T15:39:08.567640Z",
     "iopub.status.busy": "2025-03-30T15:39:08.567532Z",
     "iopub.status.idle": "2025-03-30T15:39:08.569772Z",
     "shell.execute_reply": "2025-03-30T15:39:08.569493Z"
    }
   },
   "outputs": [
    {
     "data": {
      "text/plain": [
       "123"
      ]
     },
     "execution_count": 9,
     "metadata": {},
     "output_type": "execute_result"
    }
   ],
   "source": [
    "units"
   ]
  },
  {
   "cell_type": "code",
   "execution_count": 10,
   "metadata": {
    "execution": {
     "iopub.execute_input": "2025-03-30T15:39:08.571099Z",
     "iopub.status.busy": "2025-03-30T15:39:08.570956Z",
     "iopub.status.idle": "2025-03-30T15:39:08.573425Z",
     "shell.execute_reply": "2025-03-30T15:39:08.573098Z"
    }
   },
   "outputs": [
    {
     "data": {
      "text/plain": [
       "False"
      ]
     },
     "execution_count": 10,
     "metadata": {},
     "output_type": "execute_result"
    }
   ],
   "source": [
    "capstone == 'finished' and units >= 180"
   ]
  },
  {
   "cell_type": "code",
   "execution_count": 11,
   "metadata": {
    "execution": {
     "iopub.execute_input": "2025-03-30T15:39:08.574887Z",
     "iopub.status.busy": "2025-03-30T15:39:08.574727Z",
     "iopub.status.idle": "2025-03-30T15:39:08.577414Z",
     "shell.execute_reply": "2025-03-30T15:39:08.577108Z"
    }
   },
   "outputs": [
    {
     "data": {
      "text/plain": [
       "True"
      ]
     },
     "execution_count": 11,
     "metadata": {},
     "output_type": "execute_result"
    }
   ],
   "source": [
    "capstone == 'finished' and units >= 120"
   ]
  },
  {
   "cell_type": "markdown",
   "metadata": {
    "slideshow": {
     "slide_type": "slide"
    }
   },
   "source": [
    "### O operador `ou`\n",
    "\n",
    "O operador `or` é colocado entre dois `bool`s. É `True` se **pelo menos um** for `True`; caso contrário, é `Falso`."
   ]
  },
  {
   "cell_type": "code",
   "execution_count": 12,
   "metadata": {
    "execution": {
     "iopub.execute_input": "2025-03-30T15:39:08.578849Z",
     "iopub.status.busy": "2025-03-30T15:39:08.578683Z",
     "iopub.status.idle": "2025-03-30T15:39:08.581506Z",
     "shell.execute_reply": "2025-03-30T15:39:08.581176Z"
    }
   },
   "outputs": [
    {
     "data": {
      "text/plain": [
       "'finished'"
      ]
     },
     "execution_count": 12,
     "metadata": {},
     "output_type": "execute_result"
    }
   ],
   "source": [
    "capstone"
   ]
  },
  {
   "cell_type": "code",
   "execution_count": 13,
   "metadata": {
    "execution": {
     "iopub.execute_input": "2025-03-30T15:39:08.583029Z",
     "iopub.status.busy": "2025-03-30T15:39:08.582884Z",
     "iopub.status.idle": "2025-03-30T15:39:08.585739Z",
     "shell.execute_reply": "2025-03-30T15:39:08.585403Z"
    }
   },
   "outputs": [
    {
     "data": {
      "text/plain": [
       "123"
      ]
     },
     "execution_count": 13,
     "metadata": {},
     "output_type": "execute_result"
    }
   ],
   "source": [
    "units"
   ]
  },
  {
   "cell_type": "code",
   "execution_count": 14,
   "metadata": {
    "execution": {
     "iopub.execute_input": "2025-03-30T15:39:08.587076Z",
     "iopub.status.busy": "2025-03-30T15:39:08.586971Z",
     "iopub.status.idle": "2025-03-30T15:39:08.589646Z",
     "shell.execute_reply": "2025-03-30T15:39:08.589315Z"
    }
   },
   "outputs": [
    {
     "data": {
      "text/plain": [
       "True"
      ]
     },
     "execution_count": 14,
     "metadata": {},
     "output_type": "execute_result"
    }
   ],
   "source": [
    "capstone == 'finished' or units >= 180"
   ]
  },
  {
   "cell_type": "code",
   "execution_count": 15,
   "metadata": {
    "execution": {
     "iopub.execute_input": "2025-03-30T15:39:08.590872Z",
     "iopub.status.busy": "2025-03-30T15:39:08.590769Z",
     "iopub.status.idle": "2025-03-30T15:39:08.593036Z",
     "shell.execute_reply": "2025-03-30T15:39:08.592728Z"
    }
   },
   "outputs": [
    {
     "data": {
      "text/plain": [
       "True"
      ]
     },
     "execution_count": 15,
     "metadata": {},
     "output_type": "execute_result"
    }
   ],
   "source": [
    "# Both are True!\n",
    "capstone == 'finished' or units >= 0"
   ]
  },
  {
   "cell_type": "code",
   "execution_count": 16,
   "metadata": {
    "execution": {
     "iopub.execute_input": "2025-03-30T15:39:08.594181Z",
     "iopub.status.busy": "2025-03-30T15:39:08.594082Z",
     "iopub.status.idle": "2025-03-30T15:39:08.596604Z",
     "shell.execute_reply": "2025-03-30T15:39:08.596277Z"
    }
   },
   "outputs": [
    {
     "data": {
      "text/plain": [
       "False"
      ]
     },
     "execution_count": 16,
     "metadata": {},
     "output_type": "execute_result"
    }
   ],
   "source": [
    "# Both are False!\n",
    "capstone == 'not started' or units >= 180"
   ]
  },
  {
   "cell_type": "markdown",
   "metadata": {
    "slideshow": {
     "slide_type": "slide"
    }
   },
   "source": [
    "### Ordem de operações\n",
    "\n",
    "- Por padrão, a ordem das operações é `not`, `and`, `or`. Veja a _precedência_ de todos os operadores em Python [here](https://www.programiz.com/python-programming/precedence-associativity).\n",
    "- Como de costume, use **`(`parênteses`)`** para tornar as expressões mais claras."
   ]
  },
  {
   "cell_type": "code",
   "execution_count": 17,
   "metadata": {
    "execution": {
     "iopub.execute_input": "2025-03-30T15:39:08.597910Z",
     "iopub.status.busy": "2025-03-30T15:39:08.597798Z",
     "iopub.status.idle": "2025-03-30T15:39:08.600160Z",
     "shell.execute_reply": "2025-03-30T15:39:08.599877Z"
    }
   },
   "outputs": [
    {
     "data": {
      "text/plain": [
       "'finished'"
      ]
     },
     "execution_count": 17,
     "metadata": {},
     "output_type": "execute_result"
    }
   ],
   "source": [
    "capstone"
   ]
  },
  {
   "cell_type": "code",
   "execution_count": 18,
   "metadata": {
    "execution": {
     "iopub.execute_input": "2025-03-30T15:39:08.601423Z",
     "iopub.status.busy": "2025-03-30T15:39:08.601317Z",
     "iopub.status.idle": "2025-03-30T15:39:08.603664Z",
     "shell.execute_reply": "2025-03-30T15:39:08.603353Z"
    }
   },
   "outputs": [
    {
     "data": {
      "text/plain": [
       "123"
      ]
     },
     "execution_count": 18,
     "metadata": {},
     "output_type": "execute_result"
    }
   ],
   "source": [
    "units"
   ]
  },
  {
   "cell_type": "code",
   "execution_count": 19,
   "metadata": {
    "execution": {
     "iopub.execute_input": "2025-03-30T15:39:08.605023Z",
     "iopub.status.busy": "2025-03-30T15:39:08.604886Z",
     "iopub.status.idle": "2025-03-30T15:39:08.607609Z",
     "shell.execute_reply": "2025-03-30T15:39:08.607297Z"
    }
   },
   "outputs": [
    {
     "data": {
      "text/plain": [
       "True"
      ]
     },
     "execution_count": 19,
     "metadata": {},
     "output_type": "execute_result"
    }
   ],
   "source": [
    "capstone == 'finished' or (capstone == 'in progress' and units >= 180)"
   ]
  },
  {
   "cell_type": "code",
   "execution_count": 20,
   "metadata": {
    "execution": {
     "iopub.execute_input": "2025-03-30T15:39:08.608953Z",
     "iopub.status.busy": "2025-03-30T15:39:08.608842Z",
     "iopub.status.idle": "2025-03-30T15:39:08.611189Z",
     "shell.execute_reply": "2025-03-30T15:39:08.610909Z"
    }
   },
   "outputs": [
    {
     "data": {
      "text/plain": [
       "False"
      ]
     },
     "execution_count": 20,
     "metadata": {},
     "output_type": "execute_result"
    }
   ],
   "source": [
    "# Different meaning!\n",
    "(capstone == 'finished' or capstone == 'in progress') and units >= 180"
   ]
  },
  {
   "cell_type": "code",
   "execution_count": 21,
   "metadata": {
    "execution": {
     "iopub.execute_input": "2025-03-30T15:39:08.612442Z",
     "iopub.status.busy": "2025-03-30T15:39:08.612341Z",
     "iopub.status.idle": "2025-03-30T15:39:08.614616Z",
     "shell.execute_reply": "2025-03-30T15:39:08.614313Z"
    }
   },
   "outputs": [
    {
     "data": {
      "text/plain": [
       "True"
      ]
     },
     "execution_count": 21,
     "metadata": {},
     "output_type": "execute_result"
    }
   ],
   "source": [
    "# \"and\" has precedence.\n",
    "capstone == 'finished' or capstone == 'in progress' and units >= 180"
   ]
  },
  {
   "cell_type": "markdown",
   "metadata": {
    "slideshow": {
     "slide_type": "slide"
    }
   },
   "source": [
    "### Booleanos podem ser complicados!\n",
    "\n",
    "Por exemplo, `não (a e b)` é **diferente** de `não a e não b`! Se você estiver curioso, leia mais sobre [De Morgan's Laws](https://blog.penjee.com/what-is-demorgans-law-in-programming-answered-with-pics/)."
   ]
  },
  {
   "cell_type": "code",
   "execution_count": 22,
   "metadata": {
    "execution": {
     "iopub.execute_input": "2025-03-30T15:39:08.615789Z",
     "iopub.status.busy": "2025-03-30T15:39:08.615686Z",
     "iopub.status.idle": "2025-03-30T15:39:08.617907Z",
     "shell.execute_reply": "2025-03-30T15:39:08.617580Z"
    }
   },
   "outputs": [
    {
     "data": {
      "text/plain": [
       "'finished'"
      ]
     },
     "execution_count": 22,
     "metadata": {},
     "output_type": "execute_result"
    }
   ],
   "source": [
    "capstone"
   ]
  },
  {
   "cell_type": "code",
   "execution_count": 23,
   "metadata": {
    "execution": {
     "iopub.execute_input": "2025-03-30T15:39:08.619303Z",
     "iopub.status.busy": "2025-03-30T15:39:08.618958Z",
     "iopub.status.idle": "2025-03-30T15:39:08.621251Z",
     "shell.execute_reply": "2025-03-30T15:39:08.620975Z"
    }
   },
   "outputs": [
    {
     "data": {
      "text/plain": [
       "123"
      ]
     },
     "execution_count": 23,
     "metadata": {},
     "output_type": "execute_result"
    }
   ],
   "source": [
    "units"
   ]
  },
  {
   "cell_type": "code",
   "execution_count": 24,
   "metadata": {
    "execution": {
     "iopub.execute_input": "2025-03-30T15:39:08.622624Z",
     "iopub.status.busy": "2025-03-30T15:39:08.622510Z",
     "iopub.status.idle": "2025-03-30T15:39:08.624944Z",
     "shell.execute_reply": "2025-03-30T15:39:08.624665Z"
    }
   },
   "outputs": [
    {
     "data": {
      "text/plain": [
       "True"
      ]
     },
     "execution_count": 24,
     "metadata": {},
     "output_type": "execute_result"
    }
   ],
   "source": [
    "not (capstone == 'finished' and units >= 180)"
   ]
  },
  {
   "cell_type": "code",
   "execution_count": 25,
   "metadata": {
    "execution": {
     "iopub.execute_input": "2025-03-30T15:39:08.626307Z",
     "iopub.status.busy": "2025-03-30T15:39:08.626197Z",
     "iopub.status.idle": "2025-03-30T15:39:08.628479Z",
     "shell.execute_reply": "2025-03-30T15:39:08.628212Z"
    }
   },
   "outputs": [
    {
     "data": {
      "text/plain": [
       "False"
      ]
     },
     "execution_count": 25,
     "metadata": {},
     "output_type": "execute_result"
    }
   ],
   "source": [
    "(not capstone == 'finished') and (not units >= 180)"
   ]
  },
  {
   "cell_type": "markdown",
   "metadata": {
    "slideshow": {
     "slide_type": "slide"
    }
   },
   "source": [
    "### Nota: `&` e `|` vs. `e` e `ou`"
   ]
  },
  {
   "cell_type": "markdown",
   "metadata": {
    "slideshow": {
     "slide_type": "fragment"
    }
   },
   "source": [
    "- Use os operadores `&` e `|` entre duas **Séries**. A aritmética será feita elemento a elemento (separadamente para cada linha).\n",
    "- Isto é relevante ao escrever consultas DataFrame, por ex. `df[(df.get('capstone') == 'concluído') & (df.get('units') >= 180)]`."
   ]
  },
  {
   "cell_type": "markdown",
   "metadata": {
    "slideshow": {
     "slide_type": "fragment"
    }
   },
   "source": [
    "- Use os operadores `and` e `or` entre dois booleanos **individuais**.\n",
    "- por exemplo. `capstone == 'acabado' e unidades >= 180`."
   ]
  },
  {
   "cell_type": "markdown",
   "metadata": {
    "slideshow": {
     "slide_type": "slide"
    }
   },
   "source": [
    "### Verificação de conceito ✅ – Resposta em [cc.dsc10.com](http://cc.dsc10.com)\n",
    "\n",
    "Suponha que definimos `a = True` e `b = True`. Qual é o valor da expressão a seguir?\n",
    "\n",
    "```py\n",
    "not (((not a) and b) or ((not b) or a))\n",
    "```\n",
    "\n",
    "A. `Verdade`\n",
    "\n",
    "Por exemplo, `Falso`\n",
    "\n",
    "C. Poderia ser qualquer um"
   ]
  },
  {
   "cell_type": "markdown",
   "metadata": {
    "slideshow": {
     "slide_type": "slide"
    }
   },
   "source": [
    "### Além: o operador `in`\n",
    "\n",
    "Às vezes, queremos verificar se um elemento específico está em uma lista/matriz ou se uma **substring** específica está em uma string. O operador `in` pode fazer isso por nós:"
   ]
  },
  {
   "cell_type": "code",
   "execution_count": 26,
   "metadata": {
    "execution": {
     "iopub.execute_input": "2025-03-30T15:39:08.630679Z",
     "iopub.status.busy": "2025-03-30T15:39:08.630406Z",
     "iopub.status.idle": "2025-03-30T15:39:08.632751Z",
     "shell.execute_reply": "2025-03-30T15:39:08.632478Z"
    }
   },
   "outputs": [
    {
     "data": {
      "text/plain": [
       "True"
      ]
     },
     "execution_count": 26,
     "metadata": {},
     "output_type": "execute_result"
    }
   ],
   "source": [
    "3 in [1, 2, 3]"
   ]
  },
  {
   "cell_type": "code",
   "execution_count": 27,
   "metadata": {
    "execution": {
     "iopub.execute_input": "2025-03-30T15:39:08.634120Z",
     "iopub.status.busy": "2025-03-30T15:39:08.634012Z",
     "iopub.status.idle": "2025-03-30T15:39:08.636089Z",
     "shell.execute_reply": "2025-03-30T15:39:08.635835Z"
    }
   },
   "outputs": [
    {
     "data": {
      "text/plain": [
       "True"
      ]
     },
     "execution_count": 27,
     "metadata": {},
     "output_type": "execute_result"
    }
   ],
   "source": [
    "'hey' in 'hey my name is'"
   ]
  },
  {
   "cell_type": "code",
   "execution_count": 28,
   "metadata": {
    "execution": {
     "iopub.execute_input": "2025-03-30T15:39:08.637334Z",
     "iopub.status.busy": "2025-03-30T15:39:08.637225Z",
     "iopub.status.idle": "2025-03-30T15:39:08.639476Z",
     "shell.execute_reply": "2025-03-30T15:39:08.639186Z"
    }
   },
   "outputs": [
    {
     "data": {
      "text/plain": [
       "False"
      ]
     },
     "execution_count": 28,
     "metadata": {},
     "output_type": "execute_result"
    }
   ],
   "source": [
    "'dog' in 'hey my name is'"
   ]
  },
  {
   "cell_type": "markdown",
   "metadata": {
    "slideshow": {
     "slide_type": "slide"
    }
   },
   "source": [
    "## Condicionais"
   ]
  },
  {
   "cell_type": "markdown",
   "metadata": {
    "slideshow": {
     "slide_type": "slide"
    }
   },
   "source": [
    "### instruções `if`\n",
    "\n",
    "- Freqüentemente, desejaremos executar um bloco de código somente se uma expressão condicional específica for `True`.\n",
    "- A sintaxe para isso é a seguinte (não esqueça dos dois pontos!):\n",
    "\n",
    "\n",
    "```py\n",
    "if <condition>:\n",
    "    <body>\n",
    "```\n",
    "\n",
    "- O recuo é importante!"
   ]
  },
  {
   "cell_type": "code",
   "execution_count": 29,
   "metadata": {
    "execution": {
     "iopub.execute_input": "2025-03-30T15:39:08.640838Z",
     "iopub.status.busy": "2025-03-30T15:39:08.640735Z",
     "iopub.status.idle": "2025-03-30T15:39:08.642856Z",
     "shell.execute_reply": "2025-03-30T15:39:08.642600Z"
    }
   },
   "outputs": [
    {
     "data": {
      "text/plain": [
       "'finished'"
      ]
     },
     "execution_count": 29,
     "metadata": {},
     "output_type": "execute_result"
    }
   ],
   "source": [
    "capstone = 'finished'\n",
    "capstone"
   ]
  },
  {
   "cell_type": "code",
   "execution_count": 30,
   "metadata": {
    "execution": {
     "iopub.execute_input": "2025-03-30T15:39:08.644149Z",
     "iopub.status.busy": "2025-03-30T15:39:08.644048Z",
     "iopub.status.idle": "2025-03-30T15:39:08.645939Z",
     "shell.execute_reply": "2025-03-30T15:39:08.645651Z"
    }
   },
   "outputs": [
    {
     "name": "stdout",
     "output_type": "stream",
     "text": [
      "Looks like you are ready to graduate!\n"
     ]
    }
   ],
   "source": [
    "if capstone == 'finished':\n",
    "    print('Looks like you are ready to graduate!')"
   ]
  },
  {
   "cell_type": "markdown",
   "metadata": {
    "slideshow": {
     "slide_type": "slide"
    }
   },
   "source": [
    "### `else`\n",
    "\n",
    "`else`: Faça outra coisa se a condição especificada for `False`."
   ]
  },
  {
   "cell_type": "code",
   "execution_count": 31,
   "metadata": {
    "execution": {
     "iopub.execute_input": "2025-03-30T15:39:08.647163Z",
     "iopub.status.busy": "2025-03-30T15:39:08.647063Z",
     "iopub.status.idle": "2025-03-30T15:39:08.649147Z",
     "shell.execute_reply": "2025-03-30T15:39:08.648893Z"
    }
   },
   "outputs": [
    {
     "data": {
      "text/plain": [
       "'finished'"
      ]
     },
     "execution_count": 31,
     "metadata": {},
     "output_type": "execute_result"
    }
   ],
   "source": [
    "capstone = 'finished'\n",
    "capstone"
   ]
  },
  {
   "cell_type": "code",
   "execution_count": 32,
   "metadata": {
    "execution": {
     "iopub.execute_input": "2025-03-30T15:39:08.650561Z",
     "iopub.status.busy": "2025-03-30T15:39:08.650457Z",
     "iopub.status.idle": "2025-03-30T15:39:08.652418Z",
     "shell.execute_reply": "2025-03-30T15:39:08.652125Z"
    }
   },
   "outputs": [
    {
     "name": "stdout",
     "output_type": "stream",
     "text": [
      "Looks like you are ready to graduate!\n"
     ]
    }
   ],
   "source": [
    "if capstone == 'finished':\n",
    "    print('Looks like you are ready to graduate!')\n",
    "else:\n",
    "    print('Before you graduate, you need to finish your capstone project.')"
   ]
  },
  {
   "cell_type": "markdown",
   "metadata": {
    "slideshow": {
     "slide_type": "slide"
    }
   },
   "source": [
    "### `elif`\n",
    "\n",
    "- E se quisermos verificar mais de uma condição? Use `elif`.\n",
    "- `elif`: se a condição especificada for `False`, verifique a próxima condição.\n",
    "- Se essa condição for `False`, verifique a próxima condição e assim por diante, até vermos uma condição `True`.\n",
    "- Depois de ver uma condição `True`, ele avalia o código recuado e para.\n",
    "- Se nenhuma das condições for `True`, o corpo `else` é executado."
   ]
  },
  {
   "cell_type": "code",
   "execution_count": 33,
   "metadata": {
    "execution": {
     "iopub.execute_input": "2025-03-30T15:39:08.654028Z",
     "iopub.status.busy": "2025-03-30T15:39:08.653789Z",
     "iopub.status.idle": "2025-03-30T15:39:08.655539Z",
     "shell.execute_reply": "2025-03-30T15:39:08.655239Z"
    }
   },
   "outputs": [],
   "source": [
    "capstone = 'in progress'\n",
    "units = 123"
   ]
  },
  {
   "cell_type": "code",
   "execution_count": 34,
   "metadata": {
    "execution": {
     "iopub.execute_input": "2025-03-30T15:39:08.656875Z",
     "iopub.status.busy": "2025-03-30T15:39:08.656760Z",
     "iopub.status.idle": "2025-03-30T15:39:08.659159Z",
     "shell.execute_reply": "2025-03-30T15:39:08.658799Z"
    }
   },
   "outputs": [
    {
     "name": "stdout",
     "output_type": "stream",
     "text": [
      "Before you graduate, you need to finish your capstone project and take 57 more units.\n"
     ]
    }
   ],
   "source": [
    "if capstone == 'finished' and units >= 180:\n",
    "    print('Looks like you are ready to graduate!')\n",
    "elif capstone != 'finished' and units < 180:\n",
    "    print('Before you graduate, you need to finish your capstone project and take', 180 - units, 'more units.')\n",
    "elif units >= 180:\n",
    "    print('Before you graduate, you need to finish your capstone project.')\n",
    "else:\n",
    "    print('Before you graduate, you need to take', 180 - units, 'more units.')"
   ]
  },
  {
   "cell_type": "markdown",
   "metadata": {
    "slideshow": {
     "slide_type": "fragment"
    }
   },
   "source": [
    "E se usarmos `if` em vez de `elif`?"
   ]
  },
  {
   "cell_type": "code",
   "execution_count": 35,
   "metadata": {
    "execution": {
     "iopub.execute_input": "2025-03-30T15:39:08.660583Z",
     "iopub.status.busy": "2025-03-30T15:39:08.660470Z",
     "iopub.status.idle": "2025-03-30T15:39:08.662800Z",
     "shell.execute_reply": "2025-03-30T15:39:08.662466Z"
    },
    "slideshow": {
     "slide_type": "-"
    }
   },
   "outputs": [
    {
     "name": "stdout",
     "output_type": "stream",
     "text": [
      "Before you graduate, you need to finish your capstone project and take 57 more units.\n",
      "Before you graduate, you need to take 57 more units.\n"
     ]
    }
   ],
   "source": [
    "if capstone == 'finished' and units >= 180:\n",
    "    print('Looks like you are ready to graduate!')\n",
    "if capstone != 'finished' and units < 180:\n",
    "    print('Before you graduate, you need to finish your capstone project and take', 180 - units, 'more units.')\n",
    "if units >= 180:\n",
    "    print('Before you graduate, you need to finish your capstone project.')\n",
    "else:\n",
    "    print('Before you graduate, you need to take', 180 - units, 'more units.')"
   ]
  },
  {
   "cell_type": "markdown",
   "metadata": {
    "slideshow": {
     "slide_type": "slide"
    }
   },
   "source": [
    "### Exemplo: Porcentagem para nota em letras\n",
    "\n",
    "Abaixo, complete a implementação da função `grade_converter`, que recebe uma nota percentual (`grade`) e retorna a letra da nota correspondente, conforme tabela:\n",
    "\n",
    "| Carta | Alcance |\n",
    "| --- | --- |\n",
    "| Um | [90, 100] |\n",
    "| B | [80, 90) |\n",
    "| C | [70, 80) |\n",
    "| D | [60, 70) |\n",
    "| F | [0, 60)\n",
    "\n",
    "Sua função deve funcionar nestes exemplos:\n",
    "\n",
    "```py\n",
    ">>> grade_converter(84)\n",
    "'B'\n",
    "\n",
    ">>> grade_converter(60)\n",
    "'D'\n",
    "```"
   ]
  },
  {
   "cell_type": "code",
   "execution_count": 36,
   "metadata": {
    "execution": {
     "iopub.execute_input": "2025-03-30T15:39:08.664166Z",
     "iopub.status.busy": "2025-03-30T15:39:08.664042Z",
     "iopub.status.idle": "2025-03-30T15:39:08.665757Z",
     "shell.execute_reply": "2025-03-30T15:39:08.665482Z"
    }
   },
   "outputs": [],
   "source": [
    "def grade_converter(grade):\n",
    "    ..."
   ]
  },
  {
   "cell_type": "code",
   "execution_count": 37,
   "metadata": {
    "execution": {
     "iopub.execute_input": "2025-03-30T15:39:08.667076Z",
     "iopub.status.busy": "2025-03-30T15:39:08.666962Z",
     "iopub.status.idle": "2025-03-30T15:39:08.668681Z",
     "shell.execute_reply": "2025-03-30T15:39:08.668373Z"
    }
   },
   "outputs": [],
   "source": [
    "grade_converter(84)"
   ]
  },
  {
   "cell_type": "code",
   "execution_count": 38,
   "metadata": {
    "execution": {
     "iopub.execute_input": "2025-03-30T15:39:08.669994Z",
     "iopub.status.busy": "2025-03-30T15:39:08.669878Z",
     "iopub.status.idle": "2025-03-30T15:39:08.671682Z",
     "shell.execute_reply": "2025-03-30T15:39:08.671330Z"
    }
   },
   "outputs": [],
   "source": [
    "grade_converter(60)"
   ]
  },
  {
   "cell_type": "markdown",
   "metadata": {
    "slideshow": {
     "slide_type": "slide"
    }
   },
   "source": [
    "### Atividade\n",
    "\n",
    "```py\n",
    "\n",
    "def mystery(a, b):\n",
    "    if (a + b > 4) and (b > 0):\n",
    "        return 'bear'\n",
    "    elif (a * b >= 4) or (b < 0):\n",
    "        return 'triton'\n",
    "    else:\n",
    "        return 'bruin'\n",
    "```\n",
    "\n",
    "Sem executar código:\n",
    "1. O que `mystery(2, 2)` retorna?\n",
    "1. Encontre entradas para que chamar `mystery` produza `'bruin'`."
   ]
  },
  {
   "cell_type": "code",
   "execution_count": 39,
   "metadata": {
    "execution": {
     "iopub.execute_input": "2025-03-30T15:39:08.673184Z",
     "iopub.status.busy": "2025-03-30T15:39:08.673055Z",
     "iopub.status.idle": "2025-03-30T15:39:08.675168Z",
     "shell.execute_reply": "2025-03-30T15:39:08.674849Z"
    },
    "slideshow": {
     "slide_type": "slide"
    }
   },
   "outputs": [],
   "source": [
    "def mystery(a, b):\n",
    "    if (a + b > 4) and (b > 0):\n",
    "        return 'bear'\n",
    "    elif (a * b >= 4) or (b < 0):\n",
    "        return 'triton'\n",
    "    else:\n",
    "        return 'bruin'"
   ]
  },
  {
   "cell_type": "markdown",
   "metadata": {
    "slideshow": {
     "slide_type": "slide"
    }
   },
   "source": [
    "## Iteração"
   ]
  },
  {
   "cell_type": "markdown",
   "metadata": {
    "slideshow": {
     "slide_type": "slide"
    }
   },
   "source": [
    "![](https://raw.githubusercontent.com/flaviovdf/fcd/master/assets/10-Iteracao/images/iteration.png)"
   ]
  },
  {
   "cell_type": "markdown",
   "metadata": {
    "slideshow": {
     "slide_type": "slide"
    }
   },
   "source": [
    "### loops `for`"
   ]
  },
  {
   "cell_type": "code",
   "execution_count": 40,
   "metadata": {
    "execution": {
     "iopub.execute_input": "2025-03-30T15:39:08.676668Z",
     "iopub.status.busy": "2025-03-30T15:39:08.676546Z",
     "iopub.status.idle": "2025-03-30T15:39:13.683409Z",
     "shell.execute_reply": "2025-03-30T15:39:13.681954Z"
    }
   },
   "outputs": [
    {
     "name": "stdout",
     "output_type": "stream",
     "text": [
      "Launching in...\n",
      "t-minus 10\n"
     ]
    },
    {
     "name": "stdout",
     "output_type": "stream",
     "text": [
      "t-minus 9\n"
     ]
    },
    {
     "name": "stdout",
     "output_type": "stream",
     "text": [
      "t-minus 8\n"
     ]
    },
    {
     "name": "stdout",
     "output_type": "stream",
     "text": [
      "t-minus 7\n"
     ]
    },
    {
     "name": "stdout",
     "output_type": "stream",
     "text": [
      "t-minus 6\n"
     ]
    },
    {
     "name": "stdout",
     "output_type": "stream",
     "text": [
      "t-minus 5\n"
     ]
    },
    {
     "name": "stdout",
     "output_type": "stream",
     "text": [
      "t-minus 4\n"
     ]
    },
    {
     "name": "stdout",
     "output_type": "stream",
     "text": [
      "t-minus 3\n"
     ]
    },
    {
     "name": "stdout",
     "output_type": "stream",
     "text": [
      "t-minus 2\n"
     ]
    },
    {
     "name": "stdout",
     "output_type": "stream",
     "text": [
      "t-minus 1\n"
     ]
    },
    {
     "name": "stdout",
     "output_type": "stream",
     "text": [
      "Blast off! 🚀\n"
     ]
    }
   ],
   "source": [
    "import time\n",
    "\n",
    "print('Launching in...')\n",
    "\n",
    "for x in [10, 9, 8, 7, 6, 5, 4, 3, 2, 1]:\n",
    "    print('t-minus', x)\n",
    "    time.sleep(0.5) # Pauses for half a second\n",
    "    \n",
    "print('Blast off! 🚀')"
   ]
  },
  {
   "cell_type": "markdown",
   "metadata": {
    "slideshow": {
     "slide_type": "slide"
    }
   },
   "source": [
    "### `for`-loops\n",
    "\n",
    "- Loops nos permitem repetir a execução do código. Existem dois tipos de loops em Python; o loop `for` é um deles.\n",
    "- A sintaxe de um loop `for` é a seguinte:\n",
    "```py\n",
    "for <element> in <sequence>:\n",
    "    <for body>\n",
    "```\n",
    "- Leia isto como: “para cada elemento desta sequência, repita este código”.\n",
    "- Nota: listas, arrays e strings são exemplos de sequências.\n",
    "- Assim como nas instruções `if`, o recuo é importante!"
   ]
  },
  {
   "cell_type": "markdown",
   "metadata": {
    "slideshow": {
     "slide_type": "slide"
    }
   },
   "source": [
    "### Exemplo: Quadrados"
   ]
  },
  {
   "cell_type": "code",
   "execution_count": 41,
   "metadata": {
    "execution": {
     "iopub.execute_input": "2025-03-30T15:39:13.686882Z",
     "iopub.status.busy": "2025-03-30T15:39:13.686760Z",
     "iopub.status.idle": "2025-03-30T15:39:13.690199Z",
     "shell.execute_reply": "2025-03-30T15:39:13.689526Z"
    }
   },
   "outputs": [
    {
     "name": "stdout",
     "output_type": "stream",
     "text": [
      "4 squared is 16\n",
      "2 squared is 4\n",
      "1 squared is 1\n",
      "3 squared is 9\n"
     ]
    }
   ],
   "source": [
    "num = 4\n",
    "print(num, 'squared is', num ** 2)\n",
    "\n",
    "num = 2\n",
    "print(num, 'squared is', num ** 2)\n",
    "\n",
    "num = 1\n",
    "print(num, 'squared is', num ** 2)\n",
    "\n",
    "num = 3\n",
    "print(num, 'squared is', num ** 2)"
   ]
  },
  {
   "cell_type": "code",
   "execution_count": 42,
   "metadata": {
    "execution": {
     "iopub.execute_input": "2025-03-30T15:39:13.692557Z",
     "iopub.status.busy": "2025-03-30T15:39:13.692264Z",
     "iopub.status.idle": "2025-03-30T15:39:13.694806Z",
     "shell.execute_reply": "2025-03-30T15:39:13.694488Z"
    },
    "slideshow": {
     "slide_type": "fragment"
    }
   },
   "outputs": [
    {
     "name": "stdout",
     "output_type": "stream",
     "text": [
      "4 squared is 16\n",
      "2 squared is 4\n",
      "1 squared is 1\n",
      "3 squared is 9\n"
     ]
    }
   ],
   "source": [
    "# The loop variable can be anything!\n",
    "\n",
    "list_of_numbers = [4, 2, 1, 3]\n",
    "\n",
    "for num in list_of_numbers:\n",
    "    print(num, 'squared is', num ** 2)"
   ]
  },
  {
   "cell_type": "markdown",
   "metadata": {
    "slideshow": {
     "slide_type": "fragment"
    }
   },
   "source": [
    "A linha `print(num, 'squared is', num ** 2)` é executada quatro vezes:\n",
    "- Na primeira iteração, `num` é 4.\n",
    "- Na segunda iteração, `num` é 2.\n",
    "- Na terceira iteração, `num` é 1.\n",
    "- Na quarta iteração, `num` é 3.\n",
    "\n",
    "Isso acontece mesmo que não haja `num = ` em lugar nenhum."
   ]
  },
  {
   "cell_type": "markdown",
   "metadata": {
    "slideshow": {
     "slide_type": "slide"
    }
   },
   "source": [
    "### Atividade\n",
    "\n",
    "Usando o array `colleges`, escreva um loop `for` que imprima:\n",
    "\n",
    "```\n",
    "Revelle College\n",
    "John Muir College\n",
    "Thurgood Marshall College\n",
    "Earl Warren College\n",
    "Eleanor Roosevelt College\n",
    "Sixth College\n",
    "Seventh College\n",
    "```\n",
    "\n",
    "<br>\n",
    "<detalhes>\n",
    "<summary>Clique aqui para ver a solução <b>depois</b> de tentar você mesmo.</summary>\n",
    "<br>\n",
    "<pré>\n",
    "para faculdade em faculdades:\n",
    "print(faculdade + 'Faculdade')\n",
    "</pré>\n",
    "\n",
    "</detalhes>"
   ]
  },
  {
   "cell_type": "code",
   "execution_count": 43,
   "metadata": {
    "execution": {
     "iopub.execute_input": "2025-03-30T15:39:13.696186Z",
     "iopub.status.busy": "2025-03-30T15:39:13.696070Z",
     "iopub.status.idle": "2025-03-30T15:39:13.698029Z",
     "shell.execute_reply": "2025-03-30T15:39:13.697756Z"
    }
   },
   "outputs": [],
   "source": [
    "colleges = np.array(['Revelle', 'John Muir', 'Thurgood Marshall', \n",
    "            'Earl Warren', 'Eleanor Roosevelt', 'Sixth', 'Seventh'])"
   ]
  },
  {
   "cell_type": "code",
   "execution_count": 44,
   "metadata": {
    "execution": {
     "iopub.execute_input": "2025-03-30T15:39:13.699355Z",
     "iopub.status.busy": "2025-03-30T15:39:13.699241Z",
     "iopub.status.idle": "2025-03-30T15:39:13.701539Z",
     "shell.execute_reply": "2025-03-30T15:39:13.701282Z"
    }
   },
   "outputs": [
    {
     "data": {
      "text/plain": [
       "Ellipsis"
      ]
     },
     "execution_count": 44,
     "metadata": {},
     "output_type": "execute_result"
    }
   ],
   "source": [
    "..."
   ]
  },
  {
   "cell_type": "markdown",
   "metadata": {
    "slideshow": {
     "slide_type": "slide"
    }
   },
   "source": [
    "### Gamas\n",
    "\n",
    "- Lembre-se, cada elemento de uma lista/array possui uma posição numérica.\n",
    "- A posição do primeiro elemento é 0, a posição do segundo elemento é 1, etc.\n",
    "- Podemos escrever um loop `for` que acessa cada elemento em um array usando sua posição.\n",
    "- `np.arange` será útil."
   ]
  },
  {
   "cell_type": "code",
   "execution_count": 45,
   "metadata": {
    "execution": {
     "iopub.execute_input": "2025-03-30T15:39:13.702855Z",
     "iopub.status.busy": "2025-03-30T15:39:13.702751Z",
     "iopub.status.idle": "2025-03-30T15:39:13.704639Z",
     "shell.execute_reply": "2025-03-30T15:39:13.704374Z"
    }
   },
   "outputs": [],
   "source": [
    "actions = np.array(['ate', 'slept', 'exercised'])\n",
    "feelings = np.array(['content 🙂', 'energized 😃', 'exhausted 😩'])"
   ]
  },
  {
   "cell_type": "code",
   "execution_count": 46,
   "metadata": {
    "execution": {
     "iopub.execute_input": "2025-03-30T15:39:13.705814Z",
     "iopub.status.busy": "2025-03-30T15:39:13.705705Z",
     "iopub.status.idle": "2025-03-30T15:39:13.707938Z",
     "shell.execute_reply": "2025-03-30T15:39:13.707674Z"
    }
   },
   "outputs": [
    {
     "data": {
      "text/plain": [
       "3"
      ]
     },
     "execution_count": 46,
     "metadata": {},
     "output_type": "execute_result"
    }
   ],
   "source": [
    "len(actions)"
   ]
  },
  {
   "cell_type": "code",
   "execution_count": 47,
   "metadata": {
    "execution": {
     "iopub.execute_input": "2025-03-30T15:39:13.709606Z",
     "iopub.status.busy": "2025-03-30T15:39:13.709441Z",
     "iopub.status.idle": "2025-03-30T15:39:13.711881Z",
     "shell.execute_reply": "2025-03-30T15:39:13.711602Z"
    }
   },
   "outputs": [
    {
     "name": "stdout",
     "output_type": "stream",
     "text": [
      "0\n",
      "1\n",
      "2\n"
     ]
    }
   ],
   "source": [
    "for i in np.arange(len(actions)):\n",
    "    print(i)"
   ]
  },
  {
   "cell_type": "code",
   "execution_count": 48,
   "metadata": {
    "execution": {
     "iopub.execute_input": "2025-03-30T15:39:13.713149Z",
     "iopub.status.busy": "2025-03-30T15:39:13.713040Z",
     "iopub.status.idle": "2025-03-30T15:39:13.715201Z",
     "shell.execute_reply": "2025-03-30T15:39:13.714920Z"
    }
   },
   "outputs": [
    {
     "name": "stdout",
     "output_type": "stream",
     "text": [
      "I ate and I felt content 🙂\n",
      "I slept and I felt energized 😃\n",
      "I exercised and I felt exhausted 😩\n"
     ]
    }
   ],
   "source": [
    "for i in np.arange(len(actions)):\n",
    "    print('I', actions[i], 'and I felt', feelings[i])"
   ]
  },
  {
   "cell_type": "markdown",
   "metadata": {
    "slideshow": {
     "slide_type": "slide"
    }
   },
   "source": [
    "### Exemplo: Cachinhos Dourados e os Três Ursos\n",
    "\n",
    "Não precisamos usar a variável de loop!"
   ]
  },
  {
   "cell_type": "code",
   "execution_count": 49,
   "metadata": {
    "execution": {
     "iopub.execute_input": "2025-03-30T15:39:13.716658Z",
     "iopub.status.busy": "2025-03-30T15:39:13.716527Z",
     "iopub.status.idle": "2025-03-30T15:39:13.718671Z",
     "shell.execute_reply": "2025-03-30T15:39:13.718406Z"
    }
   },
   "outputs": [
    {
     "name": "stdout",
     "output_type": "stream",
     "text": [
      "🐻\n",
      "🐻\n",
      "🐻\n",
      "👧🏼\n"
     ]
    }
   ],
   "source": [
    "for i in np.arange(3):\n",
    "    print('🐻')\n",
    "print('👧🏼')"
   ]
  },
  {
   "cell_type": "markdown",
   "metadata": {
    "slideshow": {
     "slide_type": "slide"
    }
   },
   "source": [
    "### Randomização e iteração\n",
    "\n",
    "- Nas próximas aulas, aprenderemos como **simular** eventos aleatórios, como jogar uma moeda."
   ]
  },
  {
   "cell_type": "markdown",
   "metadata": {
    "slideshow": {
     "slide_type": "fragment"
    }
   },
   "source": [
    "- Freqüentemente, iremos:\n",
    "1. Execute um experimento, por ex. \"jogue 10 moedas.\"\n",
    "2. Acompanhe algum resultado, por ex. \"número de cabeças.\"\n",
    "3. Repita as etapas 1 e 2 muitas e muitas vezes usando um loop `for`."
   ]
  },
  {
   "cell_type": "markdown",
   "metadata": {
    "slideshow": {
     "slide_type": "slide"
    }
   },
   "source": [
    "### Armazenando os resultados\n",
    "\n",
    "- Para armazenar nossos resultados, normalmente usaremos um `int` ou um array.\n",
    "- Se estiver usando um `int`, definimos uma variável `int` (geralmente para `0`) antes do loop, então usamos `+` para adicioná-la dentro do loop.\n",
    "- Se estiver usando um array, criamos um array (geralmente vazio) antes do loop, então usamos `np.append` para adicioná-lo dentro do loop.\n"
   ]
  },
  {
   "cell_type": "markdown",
   "metadata": {
    "slideshow": {
     "slide_type": "slide"
    }
   },
   "source": [
    "\n",
    "![](https://raw.githubusercontent.com/flaviovdf/fcd/master/assets/10-Iteracao/images/append.jpg)\n"
   ]
  },
  {
   "cell_type": "markdown",
   "metadata": {
    "slideshow": {
     "slide_type": "slide"
    }
   },
   "source": [
    "### `np.append`\n",
    "\n",
    "- Esta função recebe duas entradas:\n",
    "- uma matriz\n",
    "- um elemento para adicionar ao final do array\n",
    "- Retorna um novo array. Não modifica a matriz de entrada.\n",
    "- Normalmente usamos assim para estender um array em um elemento:\n",
    "`nome_do_array = np.append(nome_do_array, element_to_add)`\n",
    "- ⚠️ **Lembre-se de armazenar o resultado!**"
   ]
  },
  {
   "cell_type": "code",
   "execution_count": 50,
   "metadata": {
    "execution": {
     "iopub.execute_input": "2025-03-30T15:39:13.720073Z",
     "iopub.status.busy": "2025-03-30T15:39:13.719968Z",
     "iopub.status.idle": "2025-03-30T15:39:13.721763Z",
     "shell.execute_reply": "2025-03-30T15:39:13.721495Z"
    }
   },
   "outputs": [],
   "source": [
    "some_array = np.array([])"
   ]
  },
  {
   "cell_type": "code",
   "execution_count": 51,
   "metadata": {
    "execution": {
     "iopub.execute_input": "2025-03-30T15:39:13.723063Z",
     "iopub.status.busy": "2025-03-30T15:39:13.722937Z",
     "iopub.status.idle": "2025-03-30T15:39:13.725411Z",
     "shell.execute_reply": "2025-03-30T15:39:13.725128Z"
    }
   },
   "outputs": [
    {
     "data": {
      "text/plain": [
       "array(['hello'], dtype='<U32')"
      ]
     },
     "execution_count": 51,
     "metadata": {},
     "output_type": "execute_result"
    }
   ],
   "source": [
    "np.append(some_array, 'hello')"
   ]
  },
  {
   "cell_type": "code",
   "execution_count": 52,
   "metadata": {
    "execution": {
     "iopub.execute_input": "2025-03-30T15:39:13.727473Z",
     "iopub.status.busy": "2025-03-30T15:39:13.727160Z",
     "iopub.status.idle": "2025-03-30T15:39:13.730147Z",
     "shell.execute_reply": "2025-03-30T15:39:13.729745Z"
    }
   },
   "outputs": [
    {
     "data": {
      "text/plain": [
       "array([], dtype=float64)"
      ]
     },
     "execution_count": 52,
     "metadata": {},
     "output_type": "execute_result"
    }
   ],
   "source": [
    "some_array"
   ]
  },
  {
   "cell_type": "code",
   "execution_count": 53,
   "metadata": {
    "execution": {
     "iopub.execute_input": "2025-03-30T15:39:13.731572Z",
     "iopub.status.busy": "2025-03-30T15:39:13.731442Z",
     "iopub.status.idle": "2025-03-30T15:39:13.734352Z",
     "shell.execute_reply": "2025-03-30T15:39:13.734031Z"
    }
   },
   "outputs": [
    {
     "data": {
      "text/plain": [
       "array(['hello'], dtype='<U32')"
      ]
     },
     "execution_count": 53,
     "metadata": {},
     "output_type": "execute_result"
    }
   ],
   "source": [
    "# Need to save the new array!\n",
    "some_array = np.append(some_array, 'hello')\n",
    "some_array"
   ]
  },
  {
   "cell_type": "code",
   "execution_count": 54,
   "metadata": {
    "execution": {
     "iopub.execute_input": "2025-03-30T15:39:13.735645Z",
     "iopub.status.busy": "2025-03-30T15:39:13.735538Z",
     "iopub.status.idle": "2025-03-30T15:39:13.738199Z",
     "shell.execute_reply": "2025-03-30T15:39:13.737835Z"
    }
   },
   "outputs": [
    {
     "data": {
      "text/plain": [
       "array(['hello', 'there'], dtype='<U32')"
      ]
     },
     "execution_count": 54,
     "metadata": {},
     "output_type": "execute_result"
    }
   ],
   "source": [
    "some_array = np.append(some_array, 'there')\n",
    "some_array"
   ]
  },
  {
   "cell_type": "markdown",
   "metadata": {
    "slideshow": {
     "slide_type": "slide"
    }
   },
   "source": [
    "### Exemplo: lançamento de moeda\n",
    "\n",
    "A função `flip(n)` lança `n` moedas justas e retorna o número de caras que viu. (Não se preocupe em como isso funciona por enquanto.)"
   ]
  },
  {
   "cell_type": "code",
   "execution_count": 55,
   "metadata": {
    "execution": {
     "iopub.execute_input": "2025-03-30T15:39:13.739626Z",
     "iopub.status.busy": "2025-03-30T15:39:13.739430Z",
     "iopub.status.idle": "2025-03-30T15:39:13.741500Z",
     "shell.execute_reply": "2025-03-30T15:39:13.741182Z"
    }
   },
   "outputs": [],
   "source": [
    "def flip(n):\n",
    "    '''Returns the number of heads in n simulated coin flips, using randomness.'''\n",
    "    return np.random.multinomial(n, [0.5, 0.5])[0]"
   ]
  },
  {
   "cell_type": "code",
   "execution_count": 56,
   "metadata": {
    "execution": {
     "iopub.execute_input": "2025-03-30T15:39:13.742767Z",
     "iopub.status.busy": "2025-03-30T15:39:13.742651Z",
     "iopub.status.idle": "2025-03-30T15:39:13.745873Z",
     "shell.execute_reply": "2025-03-30T15:39:13.745490Z"
    }
   },
   "outputs": [
    {
     "data": {
      "text/plain": [
       "5"
      ]
     },
     "execution_count": 56,
     "metadata": {},
     "output_type": "execute_result"
    }
   ],
   "source": [
    "# Run this cell a few times – you'll see different results!\n",
    "flip(10)"
   ]
  },
  {
   "cell_type": "markdown",
   "metadata": {
    "slideshow": {
     "slide_type": "fragment"
    }
   },
   "source": [
    "Vamos repetir o ato de lançar 10 moedas, 10.000 vezes.\n",
    "- Cada vez, usaremos a função `flip` para lançar 10 moedas e calcular o número de caras que vimos.\n",
    "- Armazenaremos esses números em um array, `heads_array`.\n",
    "- Cada vez que usarmos nossa função `flip` para lançar 10 moedas, adicionaremos um elemento ao final de `heads_array`."
   ]
  },
  {
   "cell_type": "code",
   "execution_count": 57,
   "metadata": {
    "execution": {
     "iopub.execute_input": "2025-03-30T15:39:13.747349Z",
     "iopub.status.busy": "2025-03-30T15:39:13.747220Z",
     "iopub.status.idle": "2025-03-30T15:39:13.799728Z",
     "shell.execute_reply": "2025-03-30T15:39:13.799312Z"
    }
   },
   "outputs": [],
   "source": [
    "# heads_array starts empty – before the simulation, we haven't flipped any coins!\n",
    "heads_array = np.array([])\n",
    "\n",
    "for i in np.arange(10000):\n",
    "    \n",
    "    # Flip 10 coins and count the number of heads.\n",
    "    num_heads = flip(10)\n",
    "    \n",
    "    # Add the number of heads seen to heads_array.\n",
    "    heads_array = np.append(heads_array, num_heads)"
   ]
  },
  {
   "cell_type": "markdown",
   "metadata": {},
   "source": [
    "Agora, `heads_array` contém 10.000 números, cada um correspondendo ao número de caras em 10 lançamentos de moeda simulados."
   ]
  },
  {
   "cell_type": "code",
   "execution_count": 58,
   "metadata": {
    "execution": {
     "iopub.execute_input": "2025-03-30T15:39:13.802025Z",
     "iopub.status.busy": "2025-03-30T15:39:13.801890Z",
     "iopub.status.idle": "2025-03-30T15:39:13.804660Z",
     "shell.execute_reply": "2025-03-30T15:39:13.804314Z"
    }
   },
   "outputs": [
    {
     "data": {
      "text/plain": [
       "array([6., 4., 8., ..., 5., 3., 4.])"
      ]
     },
     "execution_count": 58,
     "metadata": {},
     "output_type": "execute_result"
    }
   ],
   "source": [
    "heads_array"
   ]
  },
  {
   "cell_type": "code",
   "execution_count": 59,
   "metadata": {
    "execution": {
     "iopub.execute_input": "2025-03-30T15:39:13.806087Z",
     "iopub.status.busy": "2025-03-30T15:39:13.805899Z",
     "iopub.status.idle": "2025-03-30T15:39:13.808747Z",
     "shell.execute_reply": "2025-03-30T15:39:13.808246Z"
    }
   },
   "outputs": [
    {
     "data": {
      "text/plain": [
       "10000"
      ]
     },
     "execution_count": 59,
     "metadata": {},
     "output_type": "execute_result"
    }
   ],
   "source": [
    "len(heads_array)"
   ]
  },
  {
   "cell_type": "code",
   "execution_count": 60,
   "metadata": {
    "execution": {
     "iopub.execute_input": "2025-03-30T15:39:13.810091Z",
     "iopub.status.busy": "2025-03-30T15:39:13.809952Z",
     "iopub.status.idle": "2025-03-30T15:39:14.197658Z",
     "shell.execute_reply": "2025-03-30T15:39:14.197209Z"
    }
   },
   "outputs": [
    {
     "data": {
      "image/png": "[encoded data removed]",
      "text/plain": [
       "<Figure size 640x480 with 1 Axes>"
      ]
     },
     "metadata": {},
     "output_type": "display_data"
    }
   ],
   "source": [
    "(pd.DataFrame().assign(num_heads=heads_array)\n",
    " .plot(kind='hist', density=True, bins=np.arange(0, 12), ec='w', legend=False, \n",
    "       title = 'Distribution of the number of heads in 10 coin flips')\n",
    ");"
   ]
  },
  {
   "cell_type": "markdown",
   "metadata": {
    "slideshow": {
     "slide_type": "slide"
    }
   },
   "source": [
    "### O padrão acumulador"
   ]
  },
  {
   "cell_type": "markdown",
   "metadata": {},
   "source": [
    "![](https://raw.githubusercontent.com/flaviovdf/fcd/master/assets/10-Iteracao/images/accumulate.jpg)"
   ]
  },
  {
   "cell_type": "markdown",
   "metadata": {
    "slideshow": {
     "slide_type": "slide"
    }
   },
   "source": [
    "### loops `for` no DSC 10\n",
    "\n",
    "- Quase todos os loops `for` no DSC 10 usarão o **padrão acumulador**.\n",
    "- Isso significa que inicializamos uma variável e a adicionamos repetidamente dentro de um loop.\n",
    "\n",
    "- **Não** use loops `for` para realizar operações matemáticas em cada elemento de um array ou série.\n",
    "- Em vez disso, use manipulações de DataFrame e métodos de matriz ou série integrados.\n",
    "\n",
    "- Vídeo útil 🎥: [For Loops (and when not to use them) em DSC 10](https://www.youtube.com/watch?v=BlczSBT80fU)."
   ]
  },
  {
   "cell_type": "markdown",
   "metadata": {
    "slideshow": {
     "slide_type": "slide"
    }
   },
   "source": [
    "### Trabalhando com strings\n",
    "\n",
    "String são sequências, então podemos iterá-las também!"
   ]
  },
  {
   "cell_type": "code",
   "execution_count": 61,
   "metadata": {
    "execution": {
     "iopub.execute_input": "2025-03-30T15:39:14.199464Z",
     "iopub.status.busy": "2025-03-30T15:39:14.199280Z",
     "iopub.status.idle": "2025-03-30T15:39:14.201704Z",
     "shell.execute_reply": "2025-03-30T15:39:14.201341Z"
    }
   },
   "outputs": [
    {
     "name": "stdout",
     "output_type": "stream",
     "text": [
      "U\n",
      "C\n",
      " \n",
      "S\n",
      "A\n",
      "N\n",
      " \n",
      "D\n",
      "I\n",
      "E\n",
      "G\n",
      "O\n"
     ]
    }
   ],
   "source": [
    "for letter in 'uc san diego':\n",
    "    print(letter.upper())"
   ]
  },
  {
   "cell_type": "code",
   "execution_count": 62,
   "metadata": {
    "execution": {
     "iopub.execute_input": "2025-03-30T15:39:14.203072Z",
     "iopub.status.busy": "2025-03-30T15:39:14.202926Z",
     "iopub.status.idle": "2025-03-30T15:39:14.206392Z",
     "shell.execute_reply": "2025-03-30T15:39:14.205983Z"
    }
   },
   "outputs": [
    {
     "data": {
      "text/plain": [
       "2"
      ]
     },
     "execution_count": 62,
     "metadata": {},
     "output_type": "execute_result"
    }
   ],
   "source": [
    "'california'.count('a')"
   ]
  },
  {
   "cell_type": "markdown",
   "metadata": {
    "slideshow": {
     "slide_type": "slide"
    }
   },
   "source": [
    "### Exemplo: contagem de vogais\n",
    "\n",
    "Abaixo, complete a implementação da função `vowel_count`, que retorna o número de vogais na string de entrada `s` (incluindo repetições). Um exemplo de comportamento é mostrado abaixo.\n",
    "\n",
    "```py\n",
    ">>> vowel_count('king triton')\n",
    "3\n",
    "\n",
    ">>> vowel_count('i go to uc san diego')\n",
    "8\n",
    "```"
   ]
  },
  {
   "cell_type": "code",
   "execution_count": 63,
   "metadata": {
    "execution": {
     "iopub.execute_input": "2025-03-30T15:39:14.207829Z",
     "iopub.status.busy": "2025-03-30T15:39:14.207711Z",
     "iopub.status.idle": "2025-03-30T15:39:14.209954Z",
     "shell.execute_reply": "2025-03-30T15:39:14.209624Z"
    }
   },
   "outputs": [],
   "source": [
    "def vowel_count(s):\n",
    "    \n",
    "    # We need to keep track of the number of vowels seen so far. Before we start, we've seen zero vowels.\n",
    "    number = 0\n",
    "    \n",
    "    # For each of the 5 vowels:\n",
    "       \n",
    "        # Count the number of occurrences of this vowel in s.\n",
    "        \n",
    "        # Add this count to the variable number.\n",
    "    \n",
    "    # Once we've gotten through all 5 vowels, return the answer.\n",
    "    "
   ]
  },
  {
   "cell_type": "code",
   "execution_count": 64,
   "metadata": {
    "execution": {
     "iopub.execute_input": "2025-03-30T15:39:14.212627Z",
     "iopub.status.busy": "2025-03-30T15:39:14.212415Z",
     "iopub.status.idle": "2025-03-30T15:39:14.214680Z",
     "shell.execute_reply": "2025-03-30T15:39:14.214384Z"
    }
   },
   "outputs": [],
   "source": [
    "vowel_count('king triton')"
   ]
  },
  {
   "cell_type": "code",
   "execution_count": 65,
   "metadata": {
    "execution": {
     "iopub.execute_input": "2025-03-30T15:39:14.216003Z",
     "iopub.status.busy": "2025-03-30T15:39:14.215886Z",
     "iopub.status.idle": "2025-03-30T15:39:14.217914Z",
     "shell.execute_reply": "2025-03-30T15:39:14.217575Z"
    }
   },
   "outputs": [],
   "source": [
    "vowel_count('i go to uc san diego')"
   ]
  },
  {
   "cell_type": "markdown",
   "metadata": {
    "slideshow": {
     "slide_type": "slide"
    }
   },
   "source": [
    "## Resumo, da próxima vez"
   ]
  },
  {
   "cell_type": "markdown",
   "metadata": {
    "slideshow": {
     "slide_type": "slide"
    }
   },
   "source": [
    "### Resumo\n",
    "\n",
    "- As instruções `if` nos permitem executar pedaços de código dependendo se certas condições são `True`.\n",
    "- `for`-loops são usados ​​para repetir a execução do código para cada elemento de uma sequência.\n",
    "- Listas, arrays e strings são exemplos de sequências."
   ]
  }
 ],
 "metadata": {
  "kernelspec": {
   "display_name": "teaching",
   "language": "python",
   "name": "python3"
  },
  "language_info": {
   "codemirror_mode": {
    "name": "ipython",
    "version": 3
   },
   "file_extension": ".py",
   "mimetype": "text/x-python",
   "name": "python",
   "nbconvert_exporter": "python",
   "pygments_lexer": "ipython3",
   "version": "3.12.7"
  },
  "livereveal": {
   "scroll": true,
   "transition": "none"
  },
  "rise": {
   "enable_chalkboard": true
  }
 },
 "nbformat": 4,
 "nbformat_minor": 4
}
