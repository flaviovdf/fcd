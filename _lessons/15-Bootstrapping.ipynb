{
 "cells": [
  {
   "cell_type": "markdown",
   "metadata": {},
   "source": [
    "---\n",
    "layout: page\n",
    "title: Intervalos de Confiança e Bootstrapping \n",
    "nav_order: 15\n",
    "---\n",
    "[<img src=\"https://raw.githubusercontent.com/flaviovdf/fcd/master/assets/colab_favicon_small.png\" style=\"float: right;\">](https://colab.research.google.com/github/flaviovdf/fcd/blob/master/_lessons/15-Bootstrapping.ipynb)\n",
    "\n",
    "# Tópico 15 – Intervalos de Confiança e Bootstrapping\n",
    "{: .no_toc .mb-2 }\n",
    "\n",
    "Como na prática em Ciência de Dados raramente temos acesso à população inteira, na maior parte das vezes realizamos a inferência desejada com base em uma amostra. Porém, uma amostra nos possibilita ter apenas uma estimativa, e muitas vezes ficamos incertos sobre o quão precisa de fato é essa estimativa. Nessa aula, vamos aprender como quantificar a incerteza sobre nossas estimativas e como aplicar uma técnica pioneira que nos permite, com base em uma única amostra, simular diferentes cenários possíveis para nossas estimativas.\n",
    "{: .fs-6 .fw-300 }\n",
    "\n",
    "{: .no_toc .text-delta }\n",
    "Resultados Esperados\n",
    "\n",
    "1. Entender o papel das distribuições amostrais na quantificação de incerteza sobre nossas estimativas.\n",
    "2. Aprender sobre as potencialidades do bootstrap, e aprender como operacionalizá-lo na prática.\n",
    "3. Introduzir as noções de percentis e de intervalos de confiança nesse contexto.\n",
    "\n",
    "{: .no_toc .text-delta }\n",
    "Material Adaptado do [DSC10 (UCSD)](https://dsc10.com/)"
   ]
  },
  {
   "cell_type": "code",
   "execution_count": 1,
   "metadata": {
    "execution": {
     "iopub.execute_input": "2025-03-30T15:42:25.871008Z",
     "iopub.status.busy": "2025-03-30T15:42:25.870666Z",
     "iopub.status.idle": "2025-03-30T15:42:26.304124Z",
     "shell.execute_reply": "2025-03-30T15:42:26.303562Z"
    }
   },
   "outputs": [],
   "source": [
    "# Imports for this lesson.\n",
    "import numpy as np\n",
    "import pandas as pd\n",
    "import pandas as pd\n",
    "import matplotlib.pyplot as plt\n",
    "plt.style.use('ggplot')\n",
    "\n",
    "# Animations\n",
    "from IPython.display import display, IFrame\n",
    "\n",
    "def show_bootstrapping_slides():\n",
    "    src = \"https://docs.google.com/presentation/d/e/2PACX-1vS_iYHJYXSVMMZ-YQVFwMEFR6EFN3FDSAvaMyUm-YJfLQgRMTHm3vI-wWJJ5999eFJq70nWp2hyItZg/embed?start=false&loop=false&delayms=3000&rm=minimal\"\n",
    "    width = 960\n",
    "    height = 509\n",
    "    display(IFrame(src, width, height))"
   ]
  },
  {
   "cell_type": "markdown",
   "metadata": {
    "slideshow": {
     "slide_type": "slide"
    }
   },
   "source": [
    "## Recapitulando: Inferência Estatística"
   ]
  },
  {
   "cell_type": "markdown",
   "metadata": {
    "slideshow": {
     "slide_type": "slide"
    }
   },
   "source": [
    "### Salários dos funcionários públicos da cidade de San Diego\n",
    "\n",
    "Os salários de todos os funcionários públicos da cidade de San Diego [estão disponíveis publicamente](https://publicpay.ca.gov/Reports/Cities/City.aspx?entityid=405&year=2021&rpt=1). Nesse exemplo, estamos utilizando a base de dados mais recente (de 2022)."
   ]
  },
  {
   "cell_type": "code",
   "execution_count": 2,
   "metadata": {
    "execution": {
     "iopub.execute_input": "2025-03-30T15:42:26.306117Z",
     "iopub.status.busy": "2025-03-30T15:42:26.305938Z",
     "iopub.status.idle": "2025-03-30T15:42:26.739314Z",
     "shell.execute_reply": "2025-03-30T15:42:26.738896Z"
    },
    "scrolled": true
   },
   "outputs": [
    {
     "data": {
      "text/html": [
       "<div>\n",
       "<style scoped>\n",
       "    .dataframe tbody tr th:only-of-type {\n",
       "        vertical-align: middle;\n",
       "    }\n",
       "\n",
       "    .dataframe tbody tr th {\n",
       "        vertical-align: top;\n",
       "    }\n",
       "\n",
       "    .dataframe thead th {\n",
       "        text-align: right;\n",
       "    }\n",
       "</style>\n",
       "<table border=\"1\" class=\"dataframe\">\n",
       "  <thead>\n",
       "    <tr style=\"text-align: right;\">\n",
       "      <th></th>\n",
       "      <th>Year</th>\n",
       "      <th>EmployerType</th>\n",
       "      <th>EmployerName</th>\n",
       "      <th>DepartmentOrSubdivision</th>\n",
       "      <th>Position</th>\n",
       "      <th>ElectedOfficial</th>\n",
       "      <th>Judicial</th>\n",
       "      <th>OtherPositions</th>\n",
       "      <th>MinPositionSalary</th>\n",
       "      <th>MaxPositionSalary</th>\n",
       "      <th>...</th>\n",
       "      <th>HealthDentalVision</th>\n",
       "      <th>TotalRetirementAndHealthContribution</th>\n",
       "      <th>PensionFormula</th>\n",
       "      <th>EmployerURL</th>\n",
       "      <th>EmployerPopulation</th>\n",
       "      <th>LastUpdatedDate</th>\n",
       "      <th>EmployerCounty</th>\n",
       "      <th>SpecialDistrictActivities</th>\n",
       "      <th>IncludesUnfundedLiability</th>\n",
       "      <th>SpecialDistrictType</th>\n",
       "    </tr>\n",
       "  </thead>\n",
       "  <tbody>\n",
       "    <tr>\n",
       "      <th>0</th>\n",
       "      <td>2022</td>\n",
       "      <td>City</td>\n",
       "      <td>San Diego</td>\n",
       "      <td>Police</td>\n",
       "      <td>Police Officer II</td>\n",
       "      <td>False</td>\n",
       "      <td>False</td>\n",
       "      <td>NaN</td>\n",
       "      <td>87256</td>\n",
       "      <td>105435</td>\n",
       "      <td>...</td>\n",
       "      <td>7532</td>\n",
       "      <td>27561</td>\n",
       "      <td>3.0% @ 50</td>\n",
       "      <td>www.sandiego.gov</td>\n",
       "      <td>1368395</td>\n",
       "      <td>06/27/2023</td>\n",
       "      <td>San Diego</td>\n",
       "      <td>NaN</td>\n",
       "      <td>False</td>\n",
       "      <td>NaN</td>\n",
       "    </tr>\n",
       "    <tr>\n",
       "      <th>1</th>\n",
       "      <td>2022</td>\n",
       "      <td>City</td>\n",
       "      <td>San Diego</td>\n",
       "      <td>Police</td>\n",
       "      <td>Police Sergeant</td>\n",
       "      <td>False</td>\n",
       "      <td>False</td>\n",
       "      <td>NaN</td>\n",
       "      <td>105872</td>\n",
       "      <td>128003</td>\n",
       "      <td>...</td>\n",
       "      <td>19000</td>\n",
       "      <td>23508</td>\n",
       "      <td>3.0% @ 50</td>\n",
       "      <td>www.sandiego.gov</td>\n",
       "      <td>1368395</td>\n",
       "      <td>06/27/2023</td>\n",
       "      <td>San Diego</td>\n",
       "      <td>NaN</td>\n",
       "      <td>False</td>\n",
       "      <td>NaN</td>\n",
       "    </tr>\n",
       "    <tr>\n",
       "      <th>2</th>\n",
       "      <td>2022</td>\n",
       "      <td>City</td>\n",
       "      <td>San Diego</td>\n",
       "      <td>Fire-Rescue</td>\n",
       "      <td>Fire Engineer</td>\n",
       "      <td>False</td>\n",
       "      <td>False</td>\n",
       "      <td>NaN</td>\n",
       "      <td>69389</td>\n",
       "      <td>83886</td>\n",
       "      <td>...</td>\n",
       "      <td>20750</td>\n",
       "      <td>42217</td>\n",
       "      <td>3.0% @ 50</td>\n",
       "      <td>www.sandiego.gov</td>\n",
       "      <td>1368395</td>\n",
       "      <td>06/27/2023</td>\n",
       "      <td>San Diego</td>\n",
       "      <td>NaN</td>\n",
       "      <td>False</td>\n",
       "      <td>NaN</td>\n",
       "    </tr>\n",
       "    <tr>\n",
       "      <th>3</th>\n",
       "      <td>2022</td>\n",
       "      <td>City</td>\n",
       "      <td>San Diego</td>\n",
       "      <td>Retirement</td>\n",
       "      <td>Retirement Administrator</td>\n",
       "      <td>False</td>\n",
       "      <td>False</td>\n",
       "      <td>NaN</td>\n",
       "      <td>106371</td>\n",
       "      <td>424736</td>\n",
       "      <td>...</td>\n",
       "      <td>0</td>\n",
       "      <td>37792</td>\n",
       "      <td>1.0% @ 55</td>\n",
       "      <td>www.sandiego.gov</td>\n",
       "      <td>1368395</td>\n",
       "      <td>06/27/2023</td>\n",
       "      <td>San Diego</td>\n",
       "      <td>NaN</td>\n",
       "      <td>False</td>\n",
       "      <td>NaN</td>\n",
       "    </tr>\n",
       "    <tr>\n",
       "      <th>4</th>\n",
       "      <td>2022</td>\n",
       "      <td>City</td>\n",
       "      <td>San Diego</td>\n",
       "      <td>Police</td>\n",
       "      <td>Police Sergeant</td>\n",
       "      <td>False</td>\n",
       "      <td>False</td>\n",
       "      <td>NaN</td>\n",
       "      <td>105872</td>\n",
       "      <td>128003</td>\n",
       "      <td>...</td>\n",
       "      <td>17812</td>\n",
       "      <td>39604</td>\n",
       "      <td>3.0% @ 50</td>\n",
       "      <td>www.sandiego.gov</td>\n",
       "      <td>1368395</td>\n",
       "      <td>06/27/2023</td>\n",
       "      <td>San Diego</td>\n",
       "      <td>NaN</td>\n",
       "      <td>False</td>\n",
       "      <td>NaN</td>\n",
       "    </tr>\n",
       "    <tr>\n",
       "      <th>...</th>\n",
       "      <td>...</td>\n",
       "      <td>...</td>\n",
       "      <td>...</td>\n",
       "      <td>...</td>\n",
       "      <td>...</td>\n",
       "      <td>...</td>\n",
       "      <td>...</td>\n",
       "      <td>...</td>\n",
       "      <td>...</td>\n",
       "      <td>...</td>\n",
       "      <td>...</td>\n",
       "      <td>...</td>\n",
       "      <td>...</td>\n",
       "      <td>...</td>\n",
       "      <td>...</td>\n",
       "      <td>...</td>\n",
       "      <td>...</td>\n",
       "      <td>...</td>\n",
       "      <td>...</td>\n",
       "      <td>...</td>\n",
       "      <td>...</td>\n",
       "    </tr>\n",
       "    <tr>\n",
       "      <th>12824</th>\n",
       "      <td>2022</td>\n",
       "      <td>City</td>\n",
       "      <td>San Diego</td>\n",
       "      <td>Library</td>\n",
       "      <td>Assistant Management Analyst</td>\n",
       "      <td>False</td>\n",
       "      <td>False</td>\n",
       "      <td>NaN</td>\n",
       "      <td>54434</td>\n",
       "      <td>66144</td>\n",
       "      <td>...</td>\n",
       "      <td>0</td>\n",
       "      <td>2</td>\n",
       "      <td>NaN</td>\n",
       "      <td>www.sandiego.gov</td>\n",
       "      <td>1368395</td>\n",
       "      <td>06/27/2023</td>\n",
       "      <td>San Diego</td>\n",
       "      <td>NaN</td>\n",
       "      <td>False</td>\n",
       "      <td>NaN</td>\n",
       "    </tr>\n",
       "    <tr>\n",
       "      <th>12825</th>\n",
       "      <td>2022</td>\n",
       "      <td>City</td>\n",
       "      <td>San Diego</td>\n",
       "      <td>Police</td>\n",
       "      <td>Word Processing Operator</td>\n",
       "      <td>False</td>\n",
       "      <td>False</td>\n",
       "      <td>NaN</td>\n",
       "      <td>38189</td>\n",
       "      <td>45947</td>\n",
       "      <td>...</td>\n",
       "      <td>0</td>\n",
       "      <td>0</td>\n",
       "      <td>NaN</td>\n",
       "      <td>www.sandiego.gov</td>\n",
       "      <td>1368395</td>\n",
       "      <td>06/27/2023</td>\n",
       "      <td>San Diego</td>\n",
       "      <td>NaN</td>\n",
       "      <td>False</td>\n",
       "      <td>NaN</td>\n",
       "    </tr>\n",
       "    <tr>\n",
       "      <th>12826</th>\n",
       "      <td>2022</td>\n",
       "      <td>City</td>\n",
       "      <td>San Diego</td>\n",
       "      <td>Public Utilities</td>\n",
       "      <td>Cashier</td>\n",
       "      <td>False</td>\n",
       "      <td>False</td>\n",
       "      <td>NaN</td>\n",
       "      <td>36712</td>\n",
       "      <td>44179</td>\n",
       "      <td>...</td>\n",
       "      <td>0</td>\n",
       "      <td>0</td>\n",
       "      <td>1.0% @ 55</td>\n",
       "      <td>www.sandiego.gov</td>\n",
       "      <td>1368395</td>\n",
       "      <td>06/27/2023</td>\n",
       "      <td>San Diego</td>\n",
       "      <td>NaN</td>\n",
       "      <td>False</td>\n",
       "      <td>NaN</td>\n",
       "    </tr>\n",
       "    <tr>\n",
       "      <th>12827</th>\n",
       "      <td>2022</td>\n",
       "      <td>City</td>\n",
       "      <td>San Diego</td>\n",
       "      <td>Police</td>\n",
       "      <td>Police Officer II</td>\n",
       "      <td>False</td>\n",
       "      <td>False</td>\n",
       "      <td>NaN</td>\n",
       "      <td>87256</td>\n",
       "      <td>105435</td>\n",
       "      <td>...</td>\n",
       "      <td>0</td>\n",
       "      <td>0</td>\n",
       "      <td>NaN</td>\n",
       "      <td>www.sandiego.gov</td>\n",
       "      <td>1368395</td>\n",
       "      <td>06/27/2023</td>\n",
       "      <td>San Diego</td>\n",
       "      <td>NaN</td>\n",
       "      <td>False</td>\n",
       "      <td>NaN</td>\n",
       "    </tr>\n",
       "    <tr>\n",
       "      <th>12828</th>\n",
       "      <td>2022</td>\n",
       "      <td>City</td>\n",
       "      <td>San Diego</td>\n",
       "      <td>Police</td>\n",
       "      <td>Police Dispatcher</td>\n",
       "      <td>False</td>\n",
       "      <td>False</td>\n",
       "      <td>NaN</td>\n",
       "      <td>58115</td>\n",
       "      <td>70075</td>\n",
       "      <td>...</td>\n",
       "      <td>0</td>\n",
       "      <td>0</td>\n",
       "      <td>NaN</td>\n",
       "      <td>www.sandiego.gov</td>\n",
       "      <td>1368395</td>\n",
       "      <td>06/27/2023</td>\n",
       "      <td>San Diego</td>\n",
       "      <td>NaN</td>\n",
       "      <td>False</td>\n",
       "      <td>NaN</td>\n",
       "    </tr>\n",
       "  </tbody>\n",
       "</table>\n",
       "<p>12829 rows × 29 columns</p>\n",
       "</div>"
      ],
      "text/plain": [
       "       Year EmployerType EmployerName DepartmentOrSubdivision  \\\n",
       "0      2022         City    San Diego                  Police   \n",
       "1      2022         City    San Diego                  Police   \n",
       "2      2022         City    San Diego             Fire-Rescue   \n",
       "3      2022         City    San Diego              Retirement   \n",
       "4      2022         City    San Diego                  Police   \n",
       "...     ...          ...          ...                     ...   \n",
       "12824  2022         City    San Diego                 Library   \n",
       "12825  2022         City    San Diego                  Police   \n",
       "12826  2022         City    San Diego        Public Utilities   \n",
       "12827  2022         City    San Diego                  Police   \n",
       "12828  2022         City    San Diego                  Police   \n",
       "\n",
       "                           Position  ElectedOfficial  Judicial  \\\n",
       "0                 Police Officer II            False     False   \n",
       "1                   Police Sergeant            False     False   \n",
       "2                     Fire Engineer            False     False   \n",
       "3          Retirement Administrator            False     False   \n",
       "4                   Police Sergeant            False     False   \n",
       "...                             ...              ...       ...   \n",
       "12824  Assistant Management Analyst            False     False   \n",
       "12825      Word Processing Operator            False     False   \n",
       "12826                       Cashier            False     False   \n",
       "12827             Police Officer II            False     False   \n",
       "12828             Police Dispatcher            False     False   \n",
       "\n",
       "       OtherPositions  MinPositionSalary  MaxPositionSalary  ...  \\\n",
       "0                 NaN              87256             105435  ...   \n",
       "1                 NaN             105872             128003  ...   \n",
       "2                 NaN              69389              83886  ...   \n",
       "3                 NaN             106371             424736  ...   \n",
       "4                 NaN             105872             128003  ...   \n",
       "...               ...                ...                ...  ...   \n",
       "12824             NaN              54434              66144  ...   \n",
       "12825             NaN              38189              45947  ...   \n",
       "12826             NaN              36712              44179  ...   \n",
       "12827             NaN              87256             105435  ...   \n",
       "12828             NaN              58115              70075  ...   \n",
       "\n",
       "       HealthDentalVision  TotalRetirementAndHealthContribution  \\\n",
       "0                    7532                                 27561   \n",
       "1                   19000                                 23508   \n",
       "2                   20750                                 42217   \n",
       "3                       0                                 37792   \n",
       "4                   17812                                 39604   \n",
       "...                   ...                                   ...   \n",
       "12824                   0                                     2   \n",
       "12825                   0                                     0   \n",
       "12826                   0                                     0   \n",
       "12827                   0                                     0   \n",
       "12828                   0                                     0   \n",
       "\n",
       "       PensionFormula       EmployerURL  EmployerPopulation  LastUpdatedDate  \\\n",
       "0           3.0% @ 50  www.sandiego.gov             1368395       06/27/2023   \n",
       "1           3.0% @ 50  www.sandiego.gov             1368395       06/27/2023   \n",
       "2           3.0% @ 50  www.sandiego.gov             1368395       06/27/2023   \n",
       "3           1.0% @ 55  www.sandiego.gov             1368395       06/27/2023   \n",
       "4           3.0% @ 50  www.sandiego.gov             1368395       06/27/2023   \n",
       "...               ...               ...                 ...              ...   \n",
       "12824             NaN  www.sandiego.gov             1368395       06/27/2023   \n",
       "12825             NaN  www.sandiego.gov             1368395       06/27/2023   \n",
       "12826       1.0% @ 55  www.sandiego.gov             1368395       06/27/2023   \n",
       "12827             NaN  www.sandiego.gov             1368395       06/27/2023   \n",
       "12828             NaN  www.sandiego.gov             1368395       06/27/2023   \n",
       "\n",
       "       EmployerCounty  SpecialDistrictActivities  IncludesUnfundedLiability  \\\n",
       "0           San Diego                        NaN                      False   \n",
       "1           San Diego                        NaN                      False   \n",
       "2           San Diego                        NaN                      False   \n",
       "3           San Diego                        NaN                      False   \n",
       "4           San Diego                        NaN                      False   \n",
       "...               ...                        ...                        ...   \n",
       "12824       San Diego                        NaN                      False   \n",
       "12825       San Diego                        NaN                      False   \n",
       "12826       San Diego                        NaN                      False   \n",
       "12827       San Diego                        NaN                      False   \n",
       "12828       San Diego                        NaN                      False   \n",
       "\n",
       "       SpecialDistrictType  \n",
       "0                      NaN  \n",
       "1                      NaN  \n",
       "2                      NaN  \n",
       "3                      NaN  \n",
       "4                      NaN  \n",
       "...                    ...  \n",
       "12824                  NaN  \n",
       "12825                  NaN  \n",
       "12826                  NaN  \n",
       "12827                  NaN  \n",
       "12828                  NaN  \n",
       "\n",
       "[12829 rows x 29 columns]"
      ]
     },
     "execution_count": 2,
     "metadata": {},
     "output_type": "execute_result"
    }
   ],
   "source": [
    "population = pd.read_csv('https://raw.githubusercontent.com/flaviovdf/fcd/master/assets/15-Bootstrapping/data/2022_salaries.csv')\n",
    "population"
   ]
  },
  {
   "cell_type": "markdown",
   "metadata": {
    "slideshow": {
     "slide_type": "slide"
    }
   },
   "source": [
    "Quando trabalhamos com um base de dados com um número grande de colunas, não conseguimos visualizá-las todas ao mesmo tempo. Nesses casos, é sempre uma boa ideia analisarmos os nomes das colunas."
   ]
  },
  {
   "cell_type": "code",
   "execution_count": 3,
   "metadata": {
    "execution": {
     "iopub.execute_input": "2025-03-30T15:42:26.763127Z",
     "iopub.status.busy": "2025-03-30T15:42:26.762969Z",
     "iopub.status.idle": "2025-03-30T15:42:26.765935Z",
     "shell.execute_reply": "2025-03-30T15:42:26.765653Z"
    }
   },
   "outputs": [
    {
     "data": {
      "text/plain": [
       "Index(['Year', 'EmployerType', 'EmployerName', 'DepartmentOrSubdivision',\n",
       "       'Position', 'ElectedOfficial', 'Judicial', 'OtherPositions',\n",
       "       'MinPositionSalary', 'MaxPositionSalary', 'ReportedBaseWage',\n",
       "       'RegularPay', 'OvertimePay', 'LumpSumPay', 'OtherPay', 'TotalWages',\n",
       "       'DefinedBenefitPlanContribution', 'EmployeesRetirementCostCovered',\n",
       "       'DeferredCompensationPlan', 'HealthDentalVision',\n",
       "       'TotalRetirementAndHealthContribution', 'PensionFormula', 'EmployerURL',\n",
       "       'EmployerPopulation', 'LastUpdatedDate', 'EmployerCounty',\n",
       "       'SpecialDistrictActivities', 'IncludesUnfundedLiability',\n",
       "       'SpecialDistrictType'],\n",
       "      dtype='object')"
      ]
     },
     "execution_count": 3,
     "metadata": {},
     "output_type": "execute_result"
    }
   ],
   "source": [
    "population.columns"
   ]
  },
  {
   "cell_type": "markdown",
   "metadata": {
    "slideshow": {
     "slide_type": "fragment"
    }
   },
   "source": [
    "Como aqui estamos interessados apenas nos salários totais (`'TotalWages'`), selecionaremos (com `get`) apenas essa coluna."
   ]
  },
  {
   "cell_type": "code",
   "execution_count": 4,
   "metadata": {
    "execution": {
     "iopub.execute_input": "2025-03-30T15:42:26.767395Z",
     "iopub.status.busy": "2025-03-30T15:42:26.767281Z",
     "iopub.status.idle": "2025-03-30T15:42:26.771689Z",
     "shell.execute_reply": "2025-03-30T15:42:26.771393Z"
    }
   },
   "outputs": [
    {
     "data": {
      "text/html": [
       "<div>\n",
       "<style scoped>\n",
       "    .dataframe tbody tr th:only-of-type {\n",
       "        vertical-align: middle;\n",
       "    }\n",
       "\n",
       "    .dataframe tbody tr th {\n",
       "        vertical-align: top;\n",
       "    }\n",
       "\n",
       "    .dataframe thead th {\n",
       "        text-align: right;\n",
       "    }\n",
       "</style>\n",
       "<table border=\"1\" class=\"dataframe\">\n",
       "  <thead>\n",
       "    <tr style=\"text-align: right;\">\n",
       "      <th></th>\n",
       "      <th>TotalWages</th>\n",
       "    </tr>\n",
       "  </thead>\n",
       "  <tbody>\n",
       "    <tr>\n",
       "      <th>0</th>\n",
       "      <td>384909</td>\n",
       "    </tr>\n",
       "    <tr>\n",
       "      <th>1</th>\n",
       "      <td>381566</td>\n",
       "    </tr>\n",
       "    <tr>\n",
       "      <th>2</th>\n",
       "      <td>350013</td>\n",
       "    </tr>\n",
       "    <tr>\n",
       "      <th>3</th>\n",
       "      <td>347755</td>\n",
       "    </tr>\n",
       "    <tr>\n",
       "      <th>4</th>\n",
       "      <td>345113</td>\n",
       "    </tr>\n",
       "    <tr>\n",
       "      <th>...</th>\n",
       "      <td>...</td>\n",
       "    </tr>\n",
       "    <tr>\n",
       "      <th>12824</th>\n",
       "      <td>29</td>\n",
       "    </tr>\n",
       "    <tr>\n",
       "      <th>12825</th>\n",
       "      <td>8</td>\n",
       "    </tr>\n",
       "    <tr>\n",
       "      <th>12826</th>\n",
       "      <td>6</td>\n",
       "    </tr>\n",
       "    <tr>\n",
       "      <th>12827</th>\n",
       "      <td>4</td>\n",
       "    </tr>\n",
       "    <tr>\n",
       "      <th>12828</th>\n",
       "      <td>2</td>\n",
       "    </tr>\n",
       "  </tbody>\n",
       "</table>\n",
       "<p>12829 rows × 1 columns</p>\n",
       "</div>"
      ],
      "text/plain": [
       "       TotalWages\n",
       "0          384909\n",
       "1          381566\n",
       "2          350013\n",
       "3          347755\n",
       "4          345113\n",
       "...           ...\n",
       "12824          29\n",
       "12825           8\n",
       "12826           6\n",
       "12827           4\n",
       "12828           2\n",
       "\n",
       "[12829 rows x 1 columns]"
      ]
     },
     "execution_count": 4,
     "metadata": {},
     "output_type": "execute_result"
    }
   ],
   "source": [
    "population = population.get(['TotalWages'])\n",
    "population"
   ]
  },
  {
   "cell_type": "code",
   "execution_count": 5,
   "metadata": {
    "execution": {
     "iopub.execute_input": "2025-03-30T15:42:26.772946Z",
     "iopub.status.busy": "2025-03-30T15:42:26.772833Z",
     "iopub.status.idle": "2025-03-30T15:42:26.988402Z",
     "shell.execute_reply": "2025-03-30T15:42:26.987867Z"
    }
   },
   "outputs": [
    {
     "data": {
      "image/png": "[encoded data removed]",
      "text/plain": [
       "<Figure size 1000x500 with 1 Axes>"
      ]
     },
     "metadata": {},
     "output_type": "display_data"
    }
   ],
   "source": [
    "population.plot(kind='hist', bins=np.arange(0, 400000, 10000), density=True, ec='w', figsize=(10, 5),\n",
    "                title='Distribuição dos Salários Totais dos Funcionários Públicos da cidade de San Diego em 2022')\n",
    "plt.ylabel('Frequência');"
   ]
  },
  {
   "cell_type": "markdown",
   "metadata": {
    "slideshow": {
     "slide_type": "slide"
    }
   },
   "source": [
    "### Salário mediano\n",
    "\n",
    "- Podemos utilizar a função `.median()` para calcular o salário mediano de todos os funcionários públicos da cidade de San Diego.\n",
    "- Note que, como temos a população _inteira_ disponível, essa mediana é um **parâmetro**, i.e. **não-aleatória**."
   ]
  },
  {
   "cell_type": "code",
   "execution_count": 6,
   "metadata": {
    "execution": {
     "iopub.execute_input": "2025-03-30T15:42:26.991191Z",
     "iopub.status.busy": "2025-03-30T15:42:26.990909Z",
     "iopub.status.idle": "2025-03-30T15:42:26.995870Z",
     "shell.execute_reply": "2025-03-30T15:42:26.995060Z"
    }
   },
   "outputs": [
    {
     "data": {
      "text/plain": [
       "78136.0"
      ]
     },
     "execution_count": 6,
     "metadata": {},
     "output_type": "execute_result"
    }
   ],
   "source": [
    "population_median = population.get('TotalWages').median()\n",
    "population_median"
   ]
  },
  {
   "cell_type": "markdown",
   "metadata": {
    "slideshow": {
     "slide_type": "slide"
    }
   },
   "source": [
    "### Na prática, porém..."
   ]
  },
  {
   "cell_type": "markdown",
   "metadata": {
    "slideshow": {
     "slide_type": "fragment"
    }
   },
   "source": [
    "- Na prática, o processo de entrevistar **toda** a população (no caso mais de 12,000 funcionários) é caro e pode consumir muito tempo.\n",
    "    - Além disso, muitas vezes é impossível entrevistar todos os indivíduos da população."
   ]
  },
  {
   "cell_type": "markdown",
   "metadata": {
    "slideshow": {
     "slide_type": "fragment"
    }
   },
   "source": [
    "- O que fazemos então é aferir os salários com base em uma amostra aleatória (nesse exemplo tomamos $n = 500$)."
   ]
  },
  {
   "cell_type": "markdown",
   "metadata": {
    "slideshow": {
     "slide_type": "slide"
    }
   },
   "source": [
    "### Revisão da terminologia"
   ]
  },
  {
   "cell_type": "markdown",
   "metadata": {
    "slideshow": {
     "slide_type": "fragment"
    }
   },
   "source": [
    "- O DataFrame completo de salários, i.e. `population.get(['TotalWages'])`, é a nossa **população**."
   ]
  },
  {
   "cell_type": "markdown",
   "metadata": {
    "slideshow": {
     "slide_type": "fragment"
    }
   },
   "source": [
    "- Nós observamos uma **amostra** de tamanho $n = 500$ dessa população."
   ]
  },
  {
   "cell_type": "markdown",
   "metadata": {
    "slideshow": {
     "slide_type": "fragment"
    }
   },
   "source": [
    "- Queremos determinar a **mediana populacional** (que é um _parâmetro_), mas como não temos acesso à população completa, utilizaremos a **mediana amostral** (que é uma _estatística_) como uma **estimativa** desse parâmetro."
   ]
  },
  {
   "cell_type": "markdown",
   "metadata": {
    "slideshow": {
     "slide_type": "fragment"
    }
   },
   "source": [
    "- Nesse processo, esperamos que a mediana amostral seja próxima da mediana populacional."
   ]
  },
  {
   "cell_type": "markdown",
   "metadata": {
    "slideshow": {
     "slide_type": "slide"
    }
   },
   "source": [
    "### A mediana amostral\n",
    "\n",
    "Vamos amostrar 500 funcionários aleatoriamente. Para fazer isso, podemos utilizar o método `.sample`."
   ]
  },
  {
   "cell_type": "code",
   "execution_count": 7,
   "metadata": {
    "execution": {
     "iopub.execute_input": "2025-03-30T15:42:26.998583Z",
     "iopub.status.busy": "2025-03-30T15:42:26.998380Z",
     "iopub.status.idle": "2025-03-30T15:42:27.004737Z",
     "shell.execute_reply": "2025-03-30T15:42:27.004375Z"
    }
   },
   "outputs": [
    {
     "data": {
      "text/html": [
       "<div>\n",
       "<style scoped>\n",
       "    .dataframe tbody tr th:only-of-type {\n",
       "        vertical-align: middle;\n",
       "    }\n",
       "\n",
       "    .dataframe tbody tr th {\n",
       "        vertical-align: top;\n",
       "    }\n",
       "\n",
       "    .dataframe thead th {\n",
       "        text-align: right;\n",
       "    }\n",
       "</style>\n",
       "<table border=\"1\" class=\"dataframe\">\n",
       "  <thead>\n",
       "    <tr style=\"text-align: right;\">\n",
       "      <th></th>\n",
       "      <th>TotalWages</th>\n",
       "    </tr>\n",
       "  </thead>\n",
       "  <tbody>\n",
       "    <tr>\n",
       "      <th>10301</th>\n",
       "      <td>27866</td>\n",
       "    </tr>\n",
       "    <tr>\n",
       "      <th>6913</th>\n",
       "      <td>71861</td>\n",
       "    </tr>\n",
       "    <tr>\n",
       "      <th>5163</th>\n",
       "      <td>91843</td>\n",
       "    </tr>\n",
       "    <tr>\n",
       "      <th>6445</th>\n",
       "      <td>77727</td>\n",
       "    </tr>\n",
       "    <tr>\n",
       "      <th>5861</th>\n",
       "      <td>84770</td>\n",
       "    </tr>\n",
       "    <tr>\n",
       "      <th>...</th>\n",
       "      <td>...</td>\n",
       "    </tr>\n",
       "    <tr>\n",
       "      <th>12493</th>\n",
       "      <td>1935</td>\n",
       "    </tr>\n",
       "    <tr>\n",
       "      <th>7020</th>\n",
       "      <td>70557</td>\n",
       "    </tr>\n",
       "    <tr>\n",
       "      <th>3002</th>\n",
       "      <td>121209</td>\n",
       "    </tr>\n",
       "    <tr>\n",
       "      <th>3718</th>\n",
       "      <td>109709</td>\n",
       "    </tr>\n",
       "    <tr>\n",
       "      <th>2394</th>\n",
       "      <td>131409</td>\n",
       "    </tr>\n",
       "  </tbody>\n",
       "</table>\n",
       "<p>500 rows × 1 columns</p>\n",
       "</div>"
      ],
      "text/plain": [
       "       TotalWages\n",
       "10301       27866\n",
       "6913        71861\n",
       "5163        91843\n",
       "6445        77727\n",
       "5861        84770\n",
       "...           ...\n",
       "12493        1935\n",
       "7020        70557\n",
       "3002       121209\n",
       "3718       109709\n",
       "2394       131409\n",
       "\n",
       "[500 rows x 1 columns]"
      ]
     },
     "execution_count": 7,
     "metadata": {},
     "output_type": "execute_result"
    }
   ],
   "source": [
    "np.random.seed(38) # Magic to ensure that we get the same results every time this code is run.\n",
    "\n",
    "# Take a sample of size 500.\n",
    "my_sample = population.sample(500)\n",
    "my_sample"
   ]
  },
  {
   "cell_type": "markdown",
   "metadata": {},
   "source": [
    "Nesse notebook, não vamos mais modificar `my_sample`, então esse DataFrame vai sempre se referir à essa amostra em particular."
   ]
  },
  {
   "cell_type": "code",
   "execution_count": 8,
   "metadata": {
    "execution": {
     "iopub.execute_input": "2025-03-30T15:42:27.007187Z",
     "iopub.status.busy": "2025-03-30T15:42:27.006830Z",
     "iopub.status.idle": "2025-03-30T15:42:27.009795Z",
     "shell.execute_reply": "2025-03-30T15:42:27.009486Z"
    },
    "scrolled": true
   },
   "outputs": [
    {
     "data": {
      "text/plain": [
       "76237.0"
      ]
     },
     "execution_count": 8,
     "metadata": {},
     "output_type": "execute_result"
    }
   ],
   "source": [
    "# Compute the sample median.\n",
    "sample_median = my_sample.get('TotalWages').median()\n",
    "sample_median"
   ]
  },
  {
   "cell_type": "markdown",
   "metadata": {
    "slideshow": {
     "slide_type": "slide"
    }
   },
   "source": [
    "### O quão confiantes estamos que essa é uma boa estimativa?"
   ]
  },
  {
   "cell_type": "markdown",
   "metadata": {
    "slideshow": {
     "slide_type": "fragment"
    }
   },
   "source": [
    "- Nossa estimativa é função da amostra aleatória particular `my_sample`. Se tívessemos coletado outra amostra, a estimativa poderia ter sido diferente."
   ]
  },
  {
   "cell_type": "markdown",
   "metadata": {
    "slideshow": {
     "slide_type": "fragment"
    }
   },
   "source": [
    "- **Agora, o quão diferente nossa estimativa poderia ter sido?** Nosssa _confiança_ na estimativa depende fundamentalmente da resposta à essa pergunta."
   ]
  },
  {
   "cell_type": "markdown",
   "metadata": {
    "slideshow": {
     "slide_type": "fragment"
    }
   },
   "source": [
    "- The sample median is a random number. It comes from some distribution, which we don't know. "
   ]
  },
  {
   "cell_type": "markdown",
   "metadata": {
    "slideshow": {
     "slide_type": "fragment"
    }
   },
   "source": [
    "- **Se** conhecéssmos a distribuição verdadeira da mediana amostral (i.e. a _distribuição amostral_), essa distribuição nos ajudaria a responder essa pergunta.\n",
    "    - Distribuições mais \"estreitas\" (i.e. com baixa _variabilidade/dispersão_) $\\Rightarrow$ nossa estimativa em geral não teria sido tão diferente.\n",
    "    - Distribuições mais \"largas\" (i.e. com alta variabilidade/dispersão) $\\Rightarrow$ nossa estimativa em geral teria sido bem diferente."
   ]
  },
  {
   "cell_type": "markdown",
   "metadata": {
    "slideshow": {
     "slide_type": "slide"
    }
   },
   "source": [
    "### Uma abordagem ineficiente\n",
    "\n",
    "- Uma ideia natural aqui então seria: coletar repetidas amostras de tamanho $n = 500$ **da população** e calcular as medianas amostrais de cada uma.\n",
    "    - Foi examente isso o que fizemos na aula anterior, quando calculamos a distribuição empírica das médias amostrais dos atrasos de vôos (como aproximação para a distribuição amostral)."
   ]
  },
  {
   "cell_type": "code",
   "execution_count": 9,
   "metadata": {
    "execution": {
     "iopub.execute_input": "2025-03-30T15:42:27.012219Z",
     "iopub.status.busy": "2025-03-30T15:42:27.011750Z",
     "iopub.status.idle": "2025-03-30T15:42:27.316985Z",
     "shell.execute_reply": "2025-03-30T15:42:27.316641Z"
    }
   },
   "outputs": [
    {
     "data": {
      "text/plain": [
       "array([81686.5, 79641. , 75592. , 79469.5, 77175. , 75526.5, 77413. ,\n",
       "       86007. , 78891.5, 71640.5, 78253. , 83384. , 82162. , 74003.5,\n",
       "       79478. , 79985.5, 75580.5, 84105.5, 84890.5, 81649.5, 78085. ,\n",
       "       78449. , 75220. , 74996. , 74392. , 78017.5, 83398.5, 78928. ,\n",
       "       83277. , 73590. , 73691. , 84165. , 74246.5, 83854.5, 74342. ,\n",
       "       79689. , 81256. , 80983.5, 79579.5, 78033.5, 75918. , 76480. ,\n",
       "       76747.5, 78460.5, 77018. , 85621. , 79800. , 78172.5, 80487.5,\n",
       "       80164.5, 75039. , 81065.5, 84117. , 77577. , 74250.5, 79980. ,\n",
       "       75246. , 80619.5, 76118.5, 75835. , 79458.5, 79705.5, 83076.5,\n",
       "       79501.5, 78588. , 75554.5, 83264. , 79714.5, 82792.5, 75455. ,\n",
       "       77597.5, 71865. , 70303. , 77472. , 77054.5, 79156.5, 78637. ,\n",
       "       74680.5, 76653. , 69339. , 72018. , 75271.5, 77726. , 77975. ,\n",
       "       72222.5, 78741.5, 72568. , 74245.5, 79069. , 80487. , 71996. ,\n",
       "       78742.5, 77119.5, 80751.5, 81273.5, 79862.5, 72562.5, 84078.5,\n",
       "       73879. , 76557. , 72682. , 77076.5, 79239.5, 79517. , 82193.5,\n",
       "       77431. , 70932. , 74613.5, 78831. , 75946. , 75495.5, 80395.5,\n",
       "       77796. , 74833.5, 77458. , 78243.5, 79289. , 81876. , 72535.5,\n",
       "       71646. , 77956. , 83139.5, 71294. , 70114.5, 74787. , 81019.5,\n",
       "       76827.5, 75640.5, 73494. , 77547.5, 81855.5, 68920. , 82074.5,\n",
       "       73882.5, 78614. , 74359.5, 84428.5, 75968.5, 80128. , 69545.5,\n",
       "       83167. , 80024.5, 83176. , 76921. , 82364. , 80495.5, 81630. ,\n",
       "       85638. , 75693. , 78960.5, 77763. , 79041. , 77943.5, 75997.5,\n",
       "       80157.5, 79342. , 79488.5, 77416.5, 74128.5, 81461. , 83135.5,\n",
       "       71046.5, 75724. , 80933.5, 75349.5, 74694. , 81216. , 81706. ,\n",
       "       74374. , 76528.5, 81589.5, 81040.5, 74758.5, 75366.5, 84609.5,\n",
       "       77164.5, 75171.5, 81737. , 82023.5, 81525.5, 76760.5, 76718. ,\n",
       "       81798. , 81694. , 83348.5, 83742.5, 80448.5, 71706.5, 87240. ,\n",
       "       79233. , 78726.5, 84864. , 82489.5, 69132. , 76921. , 74693. ,\n",
       "       77497. , 82245. , 76929. , 82289.5, 82602. , 78248. , 77429. ,\n",
       "       76942.5, 77404.5, 73540. , 84142. , 73575.5, 79342. , 78861.5,\n",
       "       76935. , 74801.5, 84408.5, 75229. , 78856. , 77579. , 76672. ,\n",
       "       78606. , 74782. , 80454.5, 83855. , 74045. , 83553. , 79733.5,\n",
       "       77721.5, 78361.5, 78675. , 75052. , 81042.5, 78927.5, 82075.5,\n",
       "       76420. , 81904. , 80960.5, 72084. , 74809.5, 74983. , 73501. ,\n",
       "       76880.5, 77680.5, 77717.5, 78650. , 75078. , 84003. , 75911. ,\n",
       "       80807.5, 73770. , 76208. , 80126.5, 79417. , 72807.5, 80614. ,\n",
       "       80703. , 82781.5, 73035.5, 77849. , 78835.5, 79770.5, 75800. ,\n",
       "       78902.5, 71730.5, 78574.5, 79914. , 78546. , 81252. , 78895. ,\n",
       "       76408.5, 76836. , 75829. , 78876.5, 76039.5, 83185.5, 76461. ,\n",
       "       77746.5, 76935.5, 72213.5, 79273. , 70648.5, 75613.5, 81665. ,\n",
       "       79460.5, 71826. , 74017. , 80131. , 80244. , 75232.5, 83491.5,\n",
       "       68415. , 84019.5, 75704.5, 78566.5, 74558. , 76919.5, 78432. ,\n",
       "       75116. , 74863.5, 81388.5, 77455.5, 77682.5, 71703. , 75341. ,\n",
       "       81324.5, 78264. , 78906.5, 75887. , 82782.5, 82815. , 81453. ,\n",
       "       69057. , 71480.5, 77317.5, 77938.5, 82239.5, 78036. , 78617. ,\n",
       "       75798.5, 80051.5, 80816.5, 88310.5, 78567. , 78756. , 74623. ,\n",
       "       75954. , 76968. , 77579. , 84591.5, 84261.5, 80683. , 77013.5,\n",
       "       77744.5, 78180.5, 80567.5, 78763. , 76840. , 79249.5, 84500.5,\n",
       "       77766. , 72200. , 79731. , 80228. , 77778.5, 72206.5, 75850.5,\n",
       "       72543.5, 79963. , 83103.5, 77943. , 77522. , 74045.5, 80593. ,\n",
       "       74884. , 79745.5, 80117. , 82802. , 83697.5, 72850. , 80681.5,\n",
       "       71934.5, 84493.5, 78833.5, 81267. , 82178.5, 75454.5, 80788. ,\n",
       "       80567. , 74488. , 74247.5, 76683.5, 76537.5, 79780.5, 80744. ,\n",
       "       77620.5, 82176.5, 77162. , 79903. , 77549.5, 76925. , 77380. ,\n",
       "       77348. , 73850.5, 76949. , 84097.5, 78746.5, 80269. , 81154. ,\n",
       "       70930. , 79193. , 82696.5, 78686. , 77888. , 80735.5, 79188.5,\n",
       "       74245.5, 77974. , 80200.5, 82211.5, 78845.5, 80431. , 84430. ,\n",
       "       82184.5, 76403. , 78248. , 81895.5, 74061. , 74635. , 75796. ,\n",
       "       73580.5, 81111. , 69685.5, 73448.5, 81500. , 76684.5, 75231.5,\n",
       "       80795. , 77869.5, 75576.5, 81394. , 79671. , 78682. , 74716.5,\n",
       "       77407. , 73879.5, 74448. , 71359.5, 75977. , 80889.5, 73801.5,\n",
       "       83273.5, 78802.5, 77848. , 78835.5, 74838.5, 77393.5, 75555.5,\n",
       "       78857. , 78688.5, 77512.5, 78746. , 77888.5, 76401.5, 78892. ,\n",
       "       74047.5, 80324. , 78537. , 73950.5, 84456. , 73304.5, 74470. ,\n",
       "       81718. , 71971.5, 74762.5, 75394.5, 76611. , 82254.5, 73577.5,\n",
       "       76921. , 80105.5, 73460.5, 80033.5, 79662. , 80075.5, 74939.5,\n",
       "       77552. , 71954. , 75868. , 77888. , 75604.5, 72305. , 81605. ,\n",
       "       83205. , 80582.5, 79588.5, 80002.5, 83626.5, 75208.5, 79817. ,\n",
       "       77209.5, 78999.5, 80861. , 74925. , 75154. , 80927.5, 77175.5,\n",
       "       79166.5, 79229. , 77766. , 81001.5, 80306. , 77187. , 75566. ,\n",
       "       76451.5, 78741.5, 73787. , 79472.5, 73029. , 80198.5, 80096. ,\n",
       "       76391. , 80564. , 75221.5, 80977. , 80540.5, 77430.5, 79752.5,\n",
       "       72007. , 80290.5, 82557.5, 79630.5, 78109. , 78384.5, 77623. ,\n",
       "       78215. , 76082.5, 75386.5, 81363.5, 83956. , 72098. , 74552. ,\n",
       "       80070.5, 77886. , 75118.5, 71308. , 86353. , 81871. , 75354. ,\n",
       "       72534.5, 86076. , 81434. , 84891.5, 78506. , 80362.5, 76990.5,\n",
       "       74712.5, 80928. , 74566.5, 80198. , 81212. , 79819. , 77500. ,\n",
       "       73309.5, 84413.5, 83106.5, 78638.5, 83016. , 77816.5, 81656.5,\n",
       "       82185. , 76172. , 79255.5, 82074. , 80206.5, 77142.5, 81225.5,\n",
       "       75414.5, 78089.5, 79766. , 79553. , 74744.5, 81678. , 76972. ,\n",
       "       78392. , 74515. , 75116. , 74448.5, 81855.5, 77883. , 80714. ,\n",
       "       79828.5, 85025. , 81869. , 73984. , 77344.5, 75950.5, 83517.5,\n",
       "       71204.5, 77038. , 84589.5, 81452. , 80364. , 75307.5, 80437.5,\n",
       "       82489.5, 78090. , 75006. , 80812. , 77302. , 74909.5, 76300. ,\n",
       "       74561.5, 83800.5, 82033. , 78818.5, 73610.5, 79565.5, 82255.5,\n",
       "       78899.5, 71997.5, 79909. , 82125. , 76996.5, 79301.5, 76000.5,\n",
       "       77454. , 74959. , 77158.5, 80737.5, 70709.5, 75509. , 76168. ,\n",
       "       80306.5, 73676.5, 74587. , 80908.5, 70950.5, 78063.5, 78348. ,\n",
       "       76171. , 85174.5, 80731.5, 78928. , 86958.5, 81809. , 81582. ,\n",
       "       83057. , 77454.5, 81791. , 73889.5, 77585.5, 83989. , 73341.5,\n",
       "       80388.5, 78336. , 81592.5, 82801.5, 77740. , 77043.5, 78243.5,\n",
       "       80232.5, 80348.5, 78770. , 71825.5, 83531.5, 79759.5, 74647. ,\n",
       "       68879.5, 78659. , 78301. , 79648.5, 76788.5, 77353. , 78071.5,\n",
       "       77324. , 77497.5, 68073.5, 77738. , 77178.5, 75130. , 75453.5,\n",
       "       74970.5, 75402. , 74063. , 80615.5, 75425. , 80500.5, 79793. ,\n",
       "       76989.5, 76616.5, 81276. , 78056.5, 75668.5, 74452.5, 78893.5,\n",
       "       79957. , 70867. , 77439. , 70718.5, 78870. , 82847.5, 82238.5,\n",
       "       83467.5, 72673. , 77036.5, 74256.5, 78136. , 76107.5, 72592.5,\n",
       "       80102. , 79350.5, 79555.5, 74165.5, 81517.5, 77952. , 77245.5,\n",
       "       77610. , 82411.5, 75764. , 71260. , 71925. , 79402. , 75910. ,\n",
       "       76900.5, 77919. , 78070. , 79375. , 73740.5, 77065. , 70675.5,\n",
       "       77644. , 80105.5, 76508. , 78744.5, 70614.5, 79404.5, 84781. ,\n",
       "       80279.5, 80339. , 79433. , 85525. , 74722. , 81923. , 83215. ,\n",
       "       76876.5, 77427. , 80553. , 85985.5, 82196.5, 79571. , 71138. ,\n",
       "       76120. , 74278. , 77184. , 77123. , 76269.5, 70698. , 78279. ,\n",
       "       80585.5, 77102.5, 77893.5, 79434. , 76047. , 78673.5, 74121.5,\n",
       "       80338. , 78734. , 83201.5, 76989.5, 77453. , 75902. , 80640. ,\n",
       "       78193. , 79889.5, 78744.5, 81993. , 74717. , 72395.5, 81052.5,\n",
       "       76983. , 79323. , 81819. , 80235.5, 78721.5, 81510.5, 83405. ,\n",
       "       77455.5, 77378. , 75439.5, 78700.5, 74042. , 70573. , 86006. ,\n",
       "       77470.5, 80716. , 81947. , 81163.5, 80436.5, 77538.5, 77159. ,\n",
       "       76333.5, 82013.5, 73907.5, 72168. , 70869. , 78879.5, 75820. ,\n",
       "       85968. , 78490.5, 78553. , 83141.5, 78001. , 76856.5, 77920. ,\n",
       "       75956. , 83616. , 80429.5, 77287. , 69872.5, 71279.5, 78082. ,\n",
       "       78842.5, 81539. , 74982. , 77486. , 77916. , 76755. , 74543.5,\n",
       "       77549. , 73800.5, 81199.5, 73063.5, 80444. , 77325.5, 76726.5,\n",
       "       78081. , 76559. , 77442. , 85738. , 77104. , 81356. , 73693.5,\n",
       "       74583. , 75518.5, 79770.5, 80656.5, 76687.5, 74341.5, 82861. ,\n",
       "       75629. , 78079. , 77900.5, 80033.5, 83524. , 84216.5, 80103. ,\n",
       "       76000.5, 78078. , 82788.5, 75794. , 77884.5, 80853. , 73841. ,\n",
       "       75148.5, 75802. , 76431. , 79837.5, 75896. , 80047. , 77336. ,\n",
       "       80874. , 79556.5, 75073.5, 77595. , 81463. , 78041. , 79268.5,\n",
       "       77559. , 69928.5, 84028.5, 78569. , 73471. , 78680. , 75918.5,\n",
       "       75975.5, 81840. , 77891.5, 80585. , 77736.5, 74197.5, 86675.5,\n",
       "       80863.5, 74826. , 69192. , 75864. , 77348. , 80235. , 76185.5,\n",
       "       75158.5, 76221.5, 79798.5, 71188.5, 83042.5, 79977. , 78553.5,\n",
       "       78108.5, 75109. , 76156.5, 75960.5, 74683.5, 76524. , 75242. ,\n",
       "       77245. , 78692.5, 78292.5, 78091.5, 78835.5, 74628. , 84802.5,\n",
       "       82213. , 79211. , 81900. , 78636. , 76304. , 82187.5, 80021. ,\n",
       "       75433. , 76412.5, 83852. , 72805.5, 68601. , 79223. , 76835. ,\n",
       "       77792.5, 79335.5, 75045. , 81631.5, 70936. , 76672.5, 74863.5,\n",
       "       75471.5, 86055.5, 84183.5, 76955. , 77676.5, 76939.5, 75922. ,\n",
       "       77072. , 75182.5, 76556.5, 72948.5, 81311.5, 80436. , 75879.5,\n",
       "       72187.5, 74841. , 76367.5, 77234. , 72142.5, 86134. , 79695.5,\n",
       "       75938.5, 77850. , 72636.5, 78913.5, 80237.5, 71225.5, 75524.5,\n",
       "       74101.5, 73501. , 81821.5, 78190.5, 74130. , 79747. , 82361.5,\n",
       "       81312. , 73549.5, 81104. , 84750.5, 76788.5, 73980. , 74690.5,\n",
       "       83653.5, 73816.5, 78730. , 76431. , 79736. , 77353. , 74097. ,\n",
       "       78811. , 75551.5, 79520. , 79751. , 79290.5, 83143.5, 76327. ,\n",
       "       75044.5, 79419. , 79561. , 82306.5, 70006.5, 81066.5, 73713. ,\n",
       "       83575. , 77412.5, 77173.5, 78234.5, 76457.5, 78331.5, 78003. ,\n",
       "       73859. , 75361.5, 77690.5, 79306.5, 73023.5, 73656.5, 73260.5,\n",
       "       77295. , 84928. , 80520.5, 79350. , 78826.5, 78459.5])"
      ]
     },
     "execution_count": 9,
     "metadata": {},
     "output_type": "execute_result"
    }
   ],
   "source": [
    "sample_medians = np.array([])\n",
    "for i in np.arange(1000):\n",
    "    median = population.sample(500).get('TotalWages').median()\n",
    "    sample_medians = np.append(sample_medians, median)\n",
    "sample_medians"
   ]
  },
  {
   "cell_type": "code",
   "execution_count": 10,
   "metadata": {
    "execution": {
     "iopub.execute_input": "2025-03-30T15:42:27.318537Z",
     "iopub.status.busy": "2025-03-30T15:42:27.318397Z",
     "iopub.status.idle": "2025-03-30T15:42:27.620024Z",
     "shell.execute_reply": "2025-03-30T15:42:27.619533Z"
    }
   },
   "outputs": [
    {
     "data": {
      "image/png": "[encoded data removed]",
      "text/plain": [
       "<Figure size 800x500 with 1 Axes>"
      ]
     },
     "metadata": {},
     "output_type": "display_data"
    }
   ],
   "source": [
    "(pd.DataFrame()\n",
    " .assign(SampleMedians=sample_medians)\n",
    " .plot(kind='hist', density=True,\n",
    "       bins=30, ec='w', figsize=(8, 5),\n",
    "       title='Distribuição da Mediana Amostral de 1,000 Amostras da População\\n de Tamanho $n = 500$')\n",
    ")\n",
    "plt.ylabel(\"Frequência\");"
   ]
  },
  {
   "cell_type": "markdown",
   "metadata": {
    "slideshow": {
     "slide_type": "fragment"
    }
   },
   "source": [
    "- Essa distribuição empírica da mediana amostral é uma aproximação para sua verdadeira distribuição amostral."
   ]
  },
  {
   "cell_type": "markdown",
   "metadata": {
    "slideshow": {
     "slide_type": "slide"
    }
   },
   "source": [
    "### E porque essa abordagem é ineficiente?"
   ]
  },
  {
   "cell_type": "markdown",
   "metadata": {
    "slideshow": {
     "slide_type": "fragment"
    }
   },
   "source": [
    "- Amostrar repetidas vezes da mesma população muitas vezes é infactível pelas mesmas razões pelas quais não trabalhamos com a população desde o começo!\n",
    "    - Se pudéssemos fazer isso, porque não simplesmente coletar mais dados (i.e. uma amostra maior)?"
   ]
  },
  {
   "cell_type": "markdown",
   "metadata": {
    "slideshow": {
     "slide_type": "fragment"
    }
   },
   "source": [
    "- **Ideia pioneira**: se a distribuição da nossa amostra original `my_sample` se parece com a distribuição populacional, **podemos aproveitar esse fato para derivarmos uma boa aproximação para a distribuição amostral de interesse**. "
   ]
  },
  {
   "cell_type": "code",
   "execution_count": 11,
   "metadata": {
    "execution": {
     "iopub.execute_input": "2025-03-30T15:42:27.622373Z",
     "iopub.status.busy": "2025-03-30T15:42:27.622240Z",
     "iopub.status.idle": "2025-03-30T15:42:27.785848Z",
     "shell.execute_reply": "2025-03-30T15:42:27.785428Z"
    }
   },
   "outputs": [
    {
     "data": {
      "image/png": "[encoded data removed]",
      "text/plain": [
       "<Figure size 1000x500 with 1 Axes>"
      ]
     },
     "metadata": {},
     "output_type": "display_data"
    }
   ],
   "source": [
    "fig, ax = plt.subplots(figsize=(10, 5))\n",
    "bins=np.arange(10_000, 300_000, 10_000)\n",
    "population.plot(kind='hist', y='TotalWages', ax=ax, density=True, alpha=.75, bins=bins, ec='w')\n",
    "my_sample.plot(kind='hist', y='TotalWages', ax=ax, density=True, alpha=.75, bins=bins, ec='w')\n",
    "plt.legend(['População', '`my_sample`'])\n",
    "plt.ylabel(\"Frequência\");"
   ]
  },
  {
   "cell_type": "markdown",
   "metadata": {
    "slideshow": {
     "slide_type": "fragment"
    }
   },
   "source": [
    "Note que no histograma acima estamos comparando a _distribuição populacional_ com a _distribuição empírica_ de uma amostra em particular (`my_sample`), e **não** a distribuição das medianas amostrais de várias amostras como vimos até agora."
   ]
  },
  {
   "cell_type": "markdown",
   "metadata": {
    "slideshow": {
     "slide_type": "slide"
    }
   },
   "source": [
    "## Bootstrapping 🥾"
   ]
  },
  {
   "cell_type": "markdown",
   "metadata": {
    "slideshow": {
     "slide_type": "slide"
    }
   },
   "source": [
    "### Bootstrapping"
   ]
  },
  {
   "cell_type": "markdown",
   "metadata": {
    "slideshow": {
     "slide_type": "fragment"
    }
   },
   "source": [
    "- **Ideia principal**: Utilizar a amostra no lugar da população.\n",
    "    - Assumimos aqui que a amostra \"se parece\" com a população.\n",
    "    - Logo, _reamostrar da amostra_, de uma certa maneira, é similar à reamostrar da própria população!\n",
    "    - Denominamos o conjunto de técnicas que se baseiam em reamostragens a partir da amostra de **bootstrapping**."
   ]
  },
  {
   "cell_type": "code",
   "execution_count": 12,
   "metadata": {
    "execution": {
     "iopub.execute_input": "2025-03-30T15:42:27.787575Z",
     "iopub.status.busy": "2025-03-30T15:42:27.787421Z",
     "iopub.status.idle": "2025-03-30T15:42:27.789849Z",
     "shell.execute_reply": "2025-03-30T15:42:27.789549Z"
    },
    "slideshow": {
     "slide_type": "slide"
    }
   },
   "outputs": [
    {
     "data": {
      "text/html": [
       "\n",
       "        <iframe\n",
       "            width=\"960\"\n",
       "            height=\"509\"\n",
       "            src=\"https://docs.google.com/presentation/d/e/2PACX-1vS_iYHJYXSVMMZ-YQVFwMEFR6EFN3FDSAvaMyUm-YJfLQgRMTHm3vI-wWJJ5999eFJq70nWp2hyItZg/embed?start=false&loop=false&delayms=3000&rm=minimal\"\n",
       "            frameborder=\"0\"\n",
       "            allowfullscreen\n",
       "            \n",
       "        ></iframe>\n",
       "        "
      ],
      "text/plain": [
       "<IPython.lib.display.IFrame at 0x7f4ef0f51340>"
      ]
     },
     "metadata": {},
     "output_type": "display_data"
    }
   ],
   "source": [
    "show_bootstrapping_slides()"
   ]
  },
  {
   "cell_type": "markdown",
   "metadata": {
    "slideshow": {
     "slide_type": "slide"
    }
   },
   "source": [
    "### Com reposição ou sem reposição?"
   ]
  },
  {
   "cell_type": "markdown",
   "metadata": {
    "slideshow": {
     "slide_type": "fragment"
    }
   },
   "source": [
    "- Nosso objetivo quando realizamos um bootstrap é gerar uma amostra do _mesmo tamanho_, porém com _algumas características_ diferentes da amostra original."
   ]
  },
  {
   "cell_type": "markdown",
   "metadata": {
    "slideshow": {
     "slide_type": "fragment"
    }
   },
   "source": [
    "- Para ilustrar esse ponto, considere um exemplo simples onde vamos reamostrar repetidas vezes **sem reposição**, uma amostra original igual a [1, 2, 3]."
   ]
  },
  {
   "cell_type": "code",
   "execution_count": 13,
   "metadata": {
    "execution": {
     "iopub.execute_input": "2025-03-30T15:42:27.791317Z",
     "iopub.status.busy": "2025-03-30T15:42:27.791111Z",
     "iopub.status.idle": "2025-03-30T15:42:27.794448Z",
     "shell.execute_reply": "2025-03-30T15:42:27.794100Z"
    }
   },
   "outputs": [
    {
     "name": "stdout",
     "output_type": "stream",
     "text": [
      "Resample:  [2 1 3]     Median:  2.0\n",
      "Resample:  [1 2 3]     Median:  2.0\n",
      "Resample:  [1 2 3]     Median:  2.0\n",
      "Resample:  [3 1 2]     Median:  2.0\n",
      "Resample:  [1 3 2]     Median:  2.0\n",
      "Resample:  [1 3 2]     Median:  2.0\n",
      "Resample:  [3 1 2]     Median:  2.0\n",
      "Resample:  [3 2 1]     Median:  2.0\n",
      "Resample:  [1 2 3]     Median:  2.0\n",
      "Resample:  [3 2 1]     Median:  2.0\n"
     ]
    }
   ],
   "source": [
    "original = [1, 2, 3]\n",
    "for i in np.arange(10):\n",
    "    resample = np.random.choice(original, 3, replace=False)\n",
    "    print(\"Resample: \", resample, \"    Median: \", np.median(resample))"
   ]
  },
  {
   "cell_type": "markdown",
   "metadata": {
    "slideshow": {
     "slide_type": "fragment"
    }
   },
   "source": [
    "- Vamos agora repetir o mesmo experimento, mas dessa vez reamostrando **com reposição**:"
   ]
  },
  {
   "cell_type": "code",
   "execution_count": 14,
   "metadata": {
    "execution": {
     "iopub.execute_input": "2025-03-30T15:42:27.795935Z",
     "iopub.status.busy": "2025-03-30T15:42:27.795775Z",
     "iopub.status.idle": "2025-03-30T15:42:27.799204Z",
     "shell.execute_reply": "2025-03-30T15:42:27.798861Z"
    },
    "scrolled": true
   },
   "outputs": [
    {
     "name": "stdout",
     "output_type": "stream",
     "text": [
      "Resample:  [3 2 1]     Median:  2.0\n",
      "Resample:  [1 1 3]     Median:  1.0\n",
      "Resample:  [3 2 1]     Median:  2.0\n",
      "Resample:  [1 1 2]     Median:  1.0\n",
      "Resample:  [2 1 3]     Median:  2.0\n",
      "Resample:  [3 3 3]     Median:  3.0\n",
      "Resample:  [1 1 1]     Median:  1.0\n",
      "Resample:  [2 2 3]     Median:  2.0\n",
      "Resample:  [2 3 2]     Median:  2.0\n",
      "Resample:  [3 3 2]     Median:  3.0\n"
     ]
    }
   ],
   "source": [
    "original = [1, 2, 3]\n",
    "for i in np.arange(10):\n",
    "    resample = np.random.choice(original, 3, replace=True)\n",
    "    print(\"Resample: \", resample, \"    Median: \", np.median(resample))"
   ]
  },
  {
   "cell_type": "markdown",
   "metadata": {
    "slideshow": {
     "slide_type": "fragment"
    }
   },
   "source": [
    "- Concluímos com esse exemplo que:\n",
    "    - Quando amostramos _sem reposição_, as novas amostras (amostras bootstrap) são em um certo sentido \"idênticas\" à amostra original – muda se apenas a ordenação dos indivíduos.\n",
    "        - Como consequência, todas as suas características (isto é, estatísticas), são _iguais_.\n",
    "    - Por outro lado, quando amostramos _com reposição_, as amostras bootstrap em geral terão características diferentes da amostra original.\n",
    "        - As estatísticas calculadas nas amostras bootstrap serão em geral diferentes das calculadas na amostra original, o que nos permite aferir _variabilidade das estimativas_ entre as amostras e/ou construir uma distribuição amostral para as estatísticas de interesse."
   ]
  },
  {
   "cell_type": "markdown",
   "metadata": {
    "slideshow": {
     "slide_type": "fragment"
    }
   },
   "source": [
    "- Dessa forma, quando realizamos um bootstrap, sempre reamostramos **com reposição**, para garantir que as nossas amostras bootstrap possam ser diferentes da nossa amostra original.\n",
    "    - O bootstrap funciona então como um processo que \"imita\", em um certo sentido, o ato de coletar novas amostras."
   ]
  },
  {
   "cell_type": "markdown",
   "metadata": {
    "slideshow": {
     "slide_type": "slide"
    }
   },
   "source": [
    "### Bootstrap na amostra de salários\n",
    "\n",
    "Conforme dito anteriormente, para realizar o bootstrap na nossa amostra basta gerar novas amostras **reamostrando com reposição da nossa amostra original, `my_sample`**."
   ]
  },
  {
   "cell_type": "code",
   "execution_count": 15,
   "metadata": {
    "execution": {
     "iopub.execute_input": "2025-03-30T15:42:27.800823Z",
     "iopub.status.busy": "2025-03-30T15:42:27.800566Z",
     "iopub.status.idle": "2025-03-30T15:42:28.426549Z",
     "shell.execute_reply": "2025-03-30T15:42:28.426011Z"
    }
   },
   "outputs": [],
   "source": [
    "# Note that the population DataFrame, population, doesn't appear anywhere here.\n",
    "# This is all based on one sample, my_sample.\n",
    "\n",
    "np.random.seed(38) # Magic to ensure that we get the same results every time this code is run.\n",
    "\n",
    "n_resamples = 5000\n",
    "boot_medians = np.array([])\n",
    "\n",
    "for i in range(n_resamples):\n",
    "    \n",
    "    # Resample from my_sample WITH REPLACEMENT.\n",
    "    resample = my_sample.sample(500, replace=True)\n",
    "    \n",
    "    # Compute the median.\n",
    "    median = resample.get('TotalWages').median()\n",
    "    \n",
    "    # Store it in our array of medians.\n",
    "    boot_medians = np.append(boot_medians, median)"
   ]
  },
  {
   "cell_type": "code",
   "execution_count": 16,
   "metadata": {
    "execution": {
     "iopub.execute_input": "2025-03-30T15:42:28.428229Z",
     "iopub.status.busy": "2025-03-30T15:42:28.428100Z",
     "iopub.status.idle": "2025-03-30T15:42:28.431113Z",
     "shell.execute_reply": "2025-03-30T15:42:28.430814Z"
    }
   },
   "outputs": [
    {
     "data": {
      "text/plain": [
       "array([76896. , 72945. , 73555. , ..., 74431. , 75868. , 78601.5])"
      ]
     },
     "execution_count": 16,
     "metadata": {},
     "output_type": "execute_result"
    }
   ],
   "source": [
    "boot_medians"
   ]
  },
  {
   "cell_type": "markdown",
   "metadata": {
    "slideshow": {
     "slide_type": "slide"
    }
   },
   "source": [
    "### _Distribuição bootstrap_ da mediana amostral"
   ]
  },
  {
   "cell_type": "code",
   "execution_count": 17,
   "metadata": {
    "execution": {
     "iopub.execute_input": "2025-03-30T15:42:28.432742Z",
     "iopub.status.busy": "2025-03-30T15:42:28.432512Z",
     "iopub.status.idle": "2025-03-30T15:42:28.552271Z",
     "shell.execute_reply": "2025-03-30T15:42:28.551825Z"
    }
   },
   "outputs": [
    {
     "data": {
      "image/png": "[encoded data removed]",
      "text/plain": [
       "<Figure size 1000x500 with 1 Axes>"
      ]
     },
     "metadata": {},
     "output_type": "display_data"
    }
   ],
   "source": [
    "pd.DataFrame().assign(BootstrapMedians=boot_medians).plot(kind='hist', density=True, bins=np.arange(63000, 88000, 1000), ec='w', figsize=(10, 5))\n",
    "plt.scatter(population_median, 0.000004, color='blue', s=100, label='population median').set_zorder(2)\n",
    "plt.legend()\n",
    "plt.ylabel(\"Frequência\");"
   ]
  },
  {
   "cell_type": "markdown",
   "metadata": {
    "slideshow": {
     "slide_type": "fragment"
    }
   },
   "source": [
    "Apenas para termos uma referência do quão boa é nossa inferência, a mediana populacional é reportada no histograma acima como um <span style=\"color:blue\"><b>ponto azul</b></span>.\n",
    "\n",
    "**Lembre porém que, na maior parte das situações, não temos acesso à essa informação!**"
   ]
  },
  {
   "cell_type": "markdown",
   "metadata": {
    "slideshow": {
     "slide_type": "slide"
    }
   },
   "source": [
    "### Mas afinal, como o bootstrap nos ajuda a responder nossa pergunta original?\n",
    "\n",
    "Lembre que, aqui, iniciamos apenas com a mediana amostral:"
   ]
  },
  {
   "cell_type": "code",
   "execution_count": 18,
   "metadata": {
    "execution": {
     "iopub.execute_input": "2025-03-30T15:42:28.553923Z",
     "iopub.status.busy": "2025-03-30T15:42:28.553701Z",
     "iopub.status.idle": "2025-03-30T15:42:28.556468Z",
     "shell.execute_reply": "2025-03-30T15:42:28.556178Z"
    }
   },
   "outputs": [
    {
     "data": {
      "text/plain": [
       "76237.0"
      ]
     },
     "execution_count": 18,
     "metadata": {},
     "output_type": "execute_result"
    }
   ],
   "source": [
    "my_sample.get('TotalWages').median()"
   ]
  },
  {
   "cell_type": "markdown",
   "metadata": {
    "slideshow": {
     "slide_type": "fragment"
    }
   },
   "source": [
    "Com base nessa estimativa, podemos dizer apenas que o salário mediano da população é aproximadamente \\\\$76,237, mas não muito mais do que isso.\n",
    "\n",
    "Em particular, não podemos afirmar nada acerca da _variabilidade_ dessa estimativa, isto é, o quão _confiantes_ (ou incertos!) estamos sobre esse valor."
   ]
  },
  {
   "cell_type": "markdown",
   "metadata": {
    "slideshow": {
     "slide_type": "fragment"
    }
   },
   "source": [
    "Após realizarmos um bootstrap, porém, podemos gerar uma distribuição empírica da mediana amostral:"
   ]
  },
  {
   "cell_type": "code",
   "execution_count": 19,
   "metadata": {
    "execution": {
     "iopub.execute_input": "2025-03-30T15:42:28.557939Z",
     "iopub.status.busy": "2025-03-30T15:42:28.557801Z",
     "iopub.status.idle": "2025-03-30T15:42:28.660411Z",
     "shell.execute_reply": "2025-03-30T15:42:28.660094Z"
    },
    "slideshow": {
     "slide_type": "-"
    }
   },
   "outputs": [
    {
     "data": {
      "image/png": "[encoded data removed]",
      "text/plain": [
       "<Figure size 1000x500 with 1 Axes>"
      ]
     },
     "metadata": {},
     "output_type": "display_data"
    }
   ],
   "source": [
    "(pd.DataFrame()\n",
    " .assign(BootstrapMedians=boot_medians)\n",
    " .plot(kind='hist', density=True, bins=np.arange(63000, 88000, 1000), ec='w', figsize=(10, 5))\n",
    ")\n",
    "plt.legend()\n",
    "plt.ylabel(\"Frequência\");"
   ]
  },
  {
   "cell_type": "markdown",
   "metadata": {
    "slideshow": {
     "slide_type": "fragment"
    }
   },
   "source": [
    "e essa distribuição nos permite realizar afirmações do tipo\n",
    "\n",
    "> O salário mediano na população está entre \\\\$68,000 e \\\\$82,000."
   ]
  },
  {
   "cell_type": "markdown",
   "metadata": {
    "slideshow": {
     "slide_type": "fragment"
    }
   },
   "source": [
    "**Pergunta**: Poderíamos também dizer que o salário mediano na população está entre \\\\$70,000 e \\\\$80,000, ou entre \\\\$65,000 e \\\\$85,000. Qual desses dois intervalos você reportaria?"
   ]
  },
  {
   "cell_type": "markdown",
   "metadata": {
    "slideshow": {
     "slide_type": "slide"
    }
   },
   "source": [
    "## Percentis"
   ]
  },
  {
   "cell_type": "markdown",
   "metadata": {
    "slideshow": {
     "slide_type": "slide"
    }
   },
   "source": [
    "### Definição informal\n",
    "\n",
    "> Seja $p$ um número entre 0 e 100. O $p$-ésimo percentil de um conjunto de observações é o número que é maior ou igual a $p\\%$ de todos os valores do conjunto."
   ]
  },
  {
   "cell_type": "markdown",
   "metadata": {
    "slideshow": {
     "slide_type": "fragment"
    }
   },
   "source": [
    "<center><img src=\"https://raw.githubusercontent.com/flaviovdf/fcd/master/assets/15-Bootstrapping/images/percentile2.jpg\" width=600></center>"
   ]
  },
  {
   "cell_type": "markdown",
   "metadata": {
    "slideshow": {
     "slide_type": "fragment"
    }
   },
   "source": [
    "**Outro exemplo**: Se você está no percentil $80$ da altura de um certo conjunto de pessoas, isso significa que aproximadamente $80\\%$ das pessoas desse conjunto são mais baixas que você, e que $20\\%$ são mais altas.\n",
    "\n",
    "<center><img src=\"https://raw.githubusercontent.com/flaviovdf/fcd/master/assets/15-Bootstrapping/images/percentile.svg\" width=400></center>"
   ]
  },
  {
   "cell_type": "markdown",
   "metadata": {
    "slideshow": {
     "slide_type": "slide"
    }
   },
   "source": [
    "### Calculando os percentis\n",
    "\n",
    "- O pacote `numpy` contém uma função para calcular percentis, `np.percentile(array, p)`, que retorna o `p`-ésimo percentil de `array`. \n",
    "- Por enquanto, não entraremos em detalhes sobre como esse valor é calculado – nos concentraremos apenas em utilizar o resultado.\n",
    "    - Retornaremos à esse ponto mais adiante, mas apenas para uma breve reflexão: você acha que ordenar a amostra, calcular as frequências correspondentes e encontrar o valor correspondente à frequência $p\\%$ em geral é suficiente?"
   ]
  },
  {
   "cell_type": "code",
   "execution_count": 20,
   "metadata": {
    "execution": {
     "iopub.execute_input": "2025-03-30T15:42:28.662700Z",
     "iopub.status.busy": "2025-03-30T15:42:28.662539Z",
     "iopub.status.idle": "2025-03-30T15:42:28.665534Z",
     "shell.execute_reply": "2025-03-30T15:42:28.665235Z"
    }
   },
   "outputs": [
    {
     "data": {
      "text/plain": [
       "6.0"
      ]
     },
     "execution_count": 20,
     "metadata": {},
     "output_type": "execute_result"
    }
   ],
   "source": [
    "np.percentile([4, 6, 9, 2, 7], 50)"
   ]
  },
  {
   "cell_type": "code",
   "execution_count": 21,
   "metadata": {
    "execution": {
     "iopub.execute_input": "2025-03-30T15:42:28.666994Z",
     "iopub.status.busy": "2025-03-30T15:42:28.666865Z",
     "iopub.status.idle": "2025-03-30T15:42:28.669617Z",
     "shell.execute_reply": "2025-03-30T15:42:28.669300Z"
    }
   },
   "outputs": [
    {
     "data": {
      "text/plain": [
       "6.0"
      ]
     },
     "execution_count": 21,
     "metadata": {},
     "output_type": "execute_result"
    }
   ],
   "source": [
    "np.percentile([2, 4, 6, 7, 9], 50)"
   ]
  },
  {
   "cell_type": "markdown",
   "metadata": {
    "slideshow": {
     "slide_type": "slide"
    }
   },
   "source": [
    "## Intervalos de confiança"
   ]
  },
  {
   "cell_type": "markdown",
   "metadata": {
    "slideshow": {
     "slide_type": "slide"
    }
   },
   "source": [
    "Anteriormente, geramos uma distribuição boostrap da mediana amostral:"
   ]
  },
  {
   "cell_type": "code",
   "execution_count": 22,
   "metadata": {
    "execution": {
     "iopub.execute_input": "2025-03-30T15:42:28.670975Z",
     "iopub.status.busy": "2025-03-30T15:42:28.670799Z",
     "iopub.status.idle": "2025-03-30T15:42:28.784046Z",
     "shell.execute_reply": "2025-03-30T15:42:28.783724Z"
    }
   },
   "outputs": [
    {
     "data": {
      "image/png": "[encoded data removed]",
      "text/plain": [
       "<Figure size 1000x500 with 1 Axes>"
      ]
     },
     "metadata": {},
     "output_type": "display_data"
    }
   ],
   "source": [
    "pd.DataFrame().assign(BootstrapMedians=boot_medians).plot(kind='hist', density=True, bins=np.arange(63000, 88000, 1000), ec='w', figsize=(10, 5))\n",
    "plt.scatter(population_median, 0.000004, color='blue', s=100, label='population median').set_zorder(2)\n",
    "plt.legend()\n",
    "plt.ylabel(\"Frequência\");"
   ]
  },
  {
   "cell_type": "markdown",
   "metadata": {
    "slideshow": {
     "slide_type": "fragment"
    }
   },
   "source": [
    "Com base nessa distribuição, o que podemos então afirmar em termos de percentis?"
   ]
  },
  {
   "cell_type": "markdown",
   "metadata": {
    "slideshow": {
     "slide_type": "slide"
    }
   },
   "source": [
    "### Utilizando a distribuição bootstrap da mediana amostral"
   ]
  },
  {
   "cell_type": "markdown",
   "metadata": {
    "slideshow": {
     "slide_type": "fragment"
    }
   },
   "source": [
    "- Nossa mediana amostral é igual a \\\\$76,237."
   ]
  },
  {
   "cell_type": "markdown",
   "metadata": {
    "slideshow": {
     "slide_type": "fragment"
    }
   },
   "source": [
    "- Conforme mencionamos anteriormente, acreditamos que a mediana populacional seja _próxima_ de \\\\$76,237, mas não sabemos _quão_ próxima."
   ]
  },
  {
   "cell_type": "markdown",
   "metadata": {
    "slideshow": {
     "slide_type": "fragment"
    }
   },
   "source": [
    "- Como quantificar então a incerteza sobre essa estimativa?"
   ]
  },
  {
   "cell_type": "markdown",
   "metadata": {
    "slideshow": {
     "slide_type": "fragment"
    }
   },
   "source": [
    "- 💡 **Ideia:** Encontrar um intervalo que contenha **a maior parte** (por exemplo, 95%) das medianas amostrais na distribuição bootstrap. Intervalos desse tipo são denominados de **intervalos de confiança**.\n",
    "    - Mais uma vez ressaltamos que aqui nosso principal objetivo é entender e aprender como utilizar os conceitos introduzidos – uma formalização completa do conceito de intervalo de confiança será feita em outras disciplinas mais adiante. "
   ]
  },
  {
   "cell_type": "markdown",
   "metadata": {
    "slideshow": {
     "slide_type": "slide"
    }
   },
   "source": [
    "### Definindo um intervalo de confiança"
   ]
  },
  {
   "cell_type": "markdown",
   "metadata": {
    "slideshow": {
     "slide_type": "fragment"
    }
   },
   "source": [
    "- No exemplo acima, queremos encontrar um intervalo $[x,y]$ que contenha aproximadamente 95% da área total da distribuição bootstrap. Denominamos esse intervalo de **intervalo de 95% de confiança** (IC95%).\n",
    "    - Note que um intervalo de confiança _não é único_ – mais adiante veremos como calcular diferentes intervalos para um mesmo **nível de confiança**."
   ]
  },
  {
   "cell_type": "markdown",
   "metadata": {
    "slideshow": {
     "slide_type": "fragment"
    }
   },
   "source": [
    "- Uma maneira de encontrar esse intervalo é encontrar dois pontos, $x$ e $y$, tais que:\n",
    "    - A área _à esquerda_ de $x$ na distribuição bootstrap seja aproximadamente 2.5%.\n",
    "    - A área _à direita_ de $y$ na distribuição bootstrap seja aproximadamente 2.5%."
   ]
  },
  {
   "cell_type": "markdown",
   "metadata": {
    "slideshow": {
     "slide_type": "fragment"
    }
   },
   "source": [
    "- Pela definição de percentil dada acima, temos então que $x$ e $y$ são os percentis **2.5** e **97.5**, respectivamente.\n",
    "    - Usualmente, $x$ e $y$ são respectivamente denominados **limite inferior** e **limite superior** do intervalo de confiança.  "
   ]
  },
  {
   "cell_type": "markdown",
   "metadata": {
    "slideshow": {
     "slide_type": "slide"
    }
   },
   "source": [
    "### Encontrando os limites do IC95% com np.percentile"
   ]
  },
  {
   "cell_type": "code",
   "execution_count": 23,
   "metadata": {
    "execution": {
     "iopub.execute_input": "2025-03-30T15:42:28.785802Z",
     "iopub.status.busy": "2025-03-30T15:42:28.785674Z",
     "iopub.status.idle": "2025-03-30T15:42:28.788289Z",
     "shell.execute_reply": "2025-03-30T15:42:28.788023Z"
    }
   },
   "outputs": [
    {
     "data": {
      "text/plain": [
       "array([76896. , 72945. , 73555. , ..., 74431. , 75868. , 78601.5])"
      ]
     },
     "execution_count": 23,
     "metadata": {},
     "output_type": "execute_result"
    }
   ],
   "source": [
    "boot_medians"
   ]
  },
  {
   "cell_type": "code",
   "execution_count": 24,
   "metadata": {
    "execution": {
     "iopub.execute_input": "2025-03-30T15:42:28.789643Z",
     "iopub.status.busy": "2025-03-30T15:42:28.789487Z",
     "iopub.status.idle": "2025-03-30T15:42:28.792094Z",
     "shell.execute_reply": "2025-03-30T15:42:28.791766Z"
    }
   },
   "outputs": [
    {
     "data": {
      "text/plain": [
       "68469.0"
      ]
     },
     "execution_count": 24,
     "metadata": {},
     "output_type": "execute_result"
    }
   ],
   "source": [
    "# Left endpoint.\n",
    "left = np.percentile(boot_medians, 2.5)\n",
    "left"
   ]
  },
  {
   "cell_type": "code",
   "execution_count": 25,
   "metadata": {
    "execution": {
     "iopub.execute_input": "2025-03-30T15:42:28.793447Z",
     "iopub.status.busy": "2025-03-30T15:42:28.793260Z",
     "iopub.status.idle": "2025-03-30T15:42:28.795749Z",
     "shell.execute_reply": "2025-03-30T15:42:28.795404Z"
    }
   },
   "outputs": [
    {
     "data": {
      "text/plain": [
       "81253.5"
      ]
     },
     "execution_count": 25,
     "metadata": {},
     "output_type": "execute_result"
    }
   ],
   "source": [
    "# Right endpoint.\n",
    "right = np.percentile(boot_medians, 97.5)\n",
    "right"
   ]
  },
  {
   "cell_type": "code",
   "execution_count": 26,
   "metadata": {
    "execution": {
     "iopub.execute_input": "2025-03-30T15:42:28.797089Z",
     "iopub.status.busy": "2025-03-30T15:42:28.796953Z",
     "iopub.status.idle": "2025-03-30T15:42:28.799193Z",
     "shell.execute_reply": "2025-03-30T15:42:28.798909Z"
    }
   },
   "outputs": [
    {
     "data": {
      "text/plain": [
       "[68469.0, 81253.5]"
      ]
     },
     "execution_count": 26,
     "metadata": {},
     "output_type": "execute_result"
    }
   ],
   "source": [
    "# Therefore, our interval is:\n",
    "[left, right]"
   ]
  },
  {
   "cell_type": "markdown",
   "metadata": {},
   "source": [
    "Utilizamos códigos como esse acima o **tempo todo** em Ciência de Dados!"
   ]
  },
  {
   "cell_type": "markdown",
   "metadata": {
    "slideshow": {
     "slide_type": "slide"
    }
   },
   "source": [
    "### Visualizando nosso IC95%\n",
    "- Vamos agora plotar o intervalo que acabamos de calcular no histograma anterior.\n",
    "- Lembre que, pela definição do IC95%, que 95% das medianas da distribuição bootstrap estão contidas nesse intervalo."
   ]
  },
  {
   "cell_type": "code",
   "execution_count": 27,
   "metadata": {
    "execution": {
     "iopub.execute_input": "2025-03-30T15:42:28.800679Z",
     "iopub.status.busy": "2025-03-30T15:42:28.800443Z",
     "iopub.status.idle": "2025-03-30T15:42:28.919199Z",
     "shell.execute_reply": "2025-03-30T15:42:28.918849Z"
    }
   },
   "outputs": [
    {
     "data": {
      "image/png": "[encoded data removed]",
      "text/plain": [
       "<Figure size 1000x500 with 1 Axes>"
      ]
     },
     "metadata": {},
     "output_type": "display_data"
    }
   ],
   "source": [
    "pd.DataFrame().assign(BootstrapMedians=boot_medians).plot(kind='hist', density=True, bins=np.arange(63000, 88000, 1000), ec='w', figsize=(10, 5), zorder=1)\n",
    "plt.plot([left, right], [0, 0], color='gold', linewidth=12, label='95% confidence interval', zorder=2);\n",
    "plt.scatter(population_median, 0.000004, color='blue', s=100, label='population median', zorder=3)\n",
    "plt.legend()\n",
    "plt.ylabel(\"Frequência\");"
   ]
  },
  {
   "cell_type": "markdown",
   "metadata": {},
   "source": [
    "- Nesse exemplo, note que nosso IC95% (representado pela <span style=\"color:gold\"><b>linha dourada</b></span>) contém o verdadeiro valor do parâmetro, isto é, a mediana populacional (representada pelo <span style=\"color:blue\"><b>ponto azul</b></span>).\n",
    "    - Note que _isso nem sempre acontece_, pois a amostra original pode não ser tão boa!\n",
    "    - Na prática, além de não saber o quão próxima a mediana amostral está da mediana populacional, em geral também não saberemos o quão boa a nossa amostra original realmente é.\n",
    "    - Discutiremos na próxima aula algumas maneiras de contornar esse problema."
   ]
  },
  {
   "cell_type": "markdown",
   "metadata": {},
   "source": [
    "- Finalmente, note pelo histograma acima que nesse exemplo a distribuição bootstrap não está centrada na _mediana populacional_ (de \\\\$78,136), mas sim na _mediana amostral_ (\\\\$76,237)."
   ]
  },
  {
   "cell_type": "markdown",
   "metadata": {
    "slideshow": {
     "slide_type": "slide"
    }
   },
   "source": [
    "### Teste Rápido ✅\n",
    "\n",
    "Suponha que tenhamos calculado o seguinte IC95%:"
   ]
  },
  {
   "cell_type": "code",
   "execution_count": 28,
   "metadata": {
    "execution": {
     "iopub.execute_input": "2025-03-30T15:42:28.920891Z",
     "iopub.status.busy": "2025-03-30T15:42:28.920719Z",
     "iopub.status.idle": "2025-03-30T15:42:28.923021Z",
     "shell.execute_reply": "2025-03-30T15:42:28.922736Z"
    }
   },
   "outputs": [
    {
     "name": "stdout",
     "output_type": "stream",
     "text": [
      "Interval: [68469.0, 81253.5]\n",
      "Width: 12784.5\n"
     ]
    }
   ],
   "source": [
    "print('Interval:', [left, right])\n",
    "print('Width:', right - left)"
   ]
  },
  {
   "cell_type": "markdown",
   "metadata": {},
   "source": [
    "onde `Width` acima representa a **largura** do IC, i.e. se $IC95\\% = [y, x]$, sua largura é igual a $y - x$. "
   ]
  },
  {
   "cell_type": "markdown",
   "metadata": {},
   "source": [
    "Agora, se ao invés de 95\\% de confiança tivéssemos calculado um intervalo de 80% de confiança, isto é, um IC80\\%, você acha que esse intervalo seria _mais largo_ ou _mais estreito_ do que o IC95%?\n",
    "\n",
    "- A.  Mais largo\n",
    "- B.  Mais estreito\n",
    "- C.  É impossível dizer"
   ]
  },
  {
   "cell_type": "markdown",
   "metadata": {
    "slideshow": {
     "slide_type": "slide"
    }
   },
   "source": [
    "### Para refletir\n",
    "\n",
    "Na aula anterior, aprendemos a fazer afirmativas do tipo\n",
    "\n",
    "> Acreditamos que a mediana populacional está \"próxima\" da nossa mediana amostral, \\\\$76,237."
   ]
  },
  {
   "cell_type": "markdown",
   "metadata": {
    "slideshow": {
     "slide_type": "fragment"
    }
   },
   "source": [
    "Nessa aula, aprendemos a fazer afirmativas do tipo\n",
    "\n",
    "> Podemos dizer, com \"95% de confiança\", que a mediana populacional está entre \\\\$68,469 e \\\\$81,253.50."
   ]
  },
  {
   "cell_type": "markdown",
   "metadata": {
    "slideshow": {
     "slide_type": "fragment"
    }
   },
   "source": [
    "Restam ainda, porém, algumas dúvidas fundamentais:\n",
    "\n",
    "- O que \"95% de confiança\" significa?\n",
    "- Sobre o que exatamente estamos confiantes?\n",
    "- Esse tipo de técnica é sempre aplicável?"
   ]
  },
  {
   "cell_type": "markdown",
   "metadata": {
    "slideshow": {
     "slide_type": "slide"
    }
   },
   "source": [
    "## Resumo e próxima aula"
   ]
  },
  {
   "cell_type": "markdown",
   "metadata": {
    "slideshow": {
     "slide_type": "slide"
    }
   },
   "source": [
    "### Resumo\n",
    "\n",
    "- Com base em uma amostra, queremos inferir sobre um parâmetro populacional. Porém, como podemos calcular apenas uma estimativa com essa amostra, em geral não sabemos o quão _precisa_ é essa estimativa.\n",
    "    - Para termos uma ideia do quão variável é nossa estimativa, idealmente coletaríamos mais amostras e calcularíamos nossa estatística em cada uma dessas amostras. Porém, na prática, amostrar em geral é caro, e logo usualmente temos disponível **apenas uma amostra**.\n",
    "- **Ideia principal**: Sob certas condições, a amostra é distribuída de maneira bem similar à população da qual a amostra foi coletada. Dessa forma, podemos tratar a distribuição empírica da amostra como se fosse a distribuição populacional e produzir novas amostras **reamostrando** da amostra original.\n",
    "    - Cada nova amostra produzida dessa forma gera nos permite calcular uma nova estimativa. Com base em um conjunto dessas estimativas, podemos então ter uma noção da precisão/variabilidade da nossa estimativa original.\n",
    "- O **Bootstrap** nos fornece uma maneira de gerarmos uma distribuição empírica de uma estatística, utilizando apenas uma única amostra original. Com base nessa **distribuição bootstrap**, podemos criar intervalos de $c$% confiança identificando os valores cujo intervalo contenha $c$% da distribuição entre si.\n",
    "    - Podemos assim **quantificar a incerteza** sobre nossas estimativas, e fazer afirmações do tipo \"a média populacional está entre \\\\$68,469 to \\\\$81,253.50\" ao invés de afirmar apenas que \"a média populacional é aproximadamente \\\\$76,237\"."
   ]
  },
  {
   "cell_type": "markdown",
   "metadata": {
    "slideshow": {
     "slide_type": "slide"
    }
   },
   "source": [
    "### Próxima aula\n",
    "\n",
    "- Vamos definir e explicar melhor o nível de confiança, e aprender a interpretar de maneira mais precisa os intervalos de confiança.\n",
    "- Vamos aprender a identificar estatísticas para as quais o bootstrap não funciona tão bem.\n",
    "- Vamos aprender a quantificar a variabilidade em uma distribuição."
   ]
  }
 ],
 "metadata": {
  "kernelspec": {
   "display_name": "Python 3 (ipykernel)",
   "language": "python",
   "name": "python3"
  },
  "language_info": {
   "codemirror_mode": {
    "name": "ipython",
    "version": 3
   },
   "file_extension": ".py",
   "mimetype": "text/x-python",
   "name": "python",
   "nbconvert_exporter": "python",
   "pygments_lexer": "ipython3",
   "version": "3.12.7"
  },
  "livereveal": {
   "scroll": true,
   "transition": "none"
  },
  "rise": {
   "enable_chalkboard": true
  }
 },
 "nbformat": 4,
 "nbformat_minor": 4
}
