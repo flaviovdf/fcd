{
 "cells": [
  {
   "cell_type": "markdown",
   "metadata": {},
   "source": [
    "---\n",
    "layout: page\n",
    "title: Testes de Hipóteses\n",
    "nav_order: 20\n",
    "---\n",
    "[<img src=\"https://raw.githubusercontent.com/flaviovdf/fcd/master/assets/colab_favicon_small.png\" style=\"float: right;\">](https://colab.research.google.com/github/flaviovdf/fcd/blob/master/_lessons/20-TestesDeHipoteses.ipynb)\n",
    "\n",
    "# Tópico 20 – Testes de Hipóteses\n",
    "{: .no_toc .mb-2 }\n",
    "\n",
    "Após aprendermos sobre a importância da distribuição Normal no processo de inferência para diversos tipos de problemas, voltamos nossa atenção para um tópico fundamental em Ciência de Dados: \"como testar se um conjunto de hipóteses feitas sobre os dados é adequado ou não?\". Para responder essa pergunta, introduziremos a noção de modelos estatísticos e um conjunto de métodos desenhado especificamente para verificar a utilidade desses modelos na prática, denominados de Testes de Hipóteses.\n",
    "{: .fs-6 .fw-300 }\n",
    "\n",
    "{: .no_toc .text-delta }\n",
    "Resultados Esperados \n",
    "\n",
    "1. Aprender a definir o que são modelos estatísticos, e a formular problemas práticos em Ciência de Dados como modelos.\n",
    "1. Introduzir o conceito de significância estatística, e a caracterização da \"quantidade de erro aleatório\" que estamos dispostos a permitir em situações práticas.\n",
    "1. Introduzir as noções básicas de Testes de Hipóteses, e a utilizar essa metodologia para testar a adequação de diferentes modelos estatísticos em problemas de análises de dados.\n",
    "\n",
    "{: .no_toc .text-delta }\n",
    "Material Adaptado do [DSC10 (UCSD)](https://dsc10.com/)"
   ]
  },
  {
   "cell_type": "code",
   "execution_count": 1,
   "metadata": {
    "execution": {
     "iopub.execute_input": "2025-03-30T16:24:07.250441Z",
     "iopub.status.busy": "2025-03-30T16:24:07.250282Z",
     "iopub.status.idle": "2025-03-30T16:24:07.985323Z",
     "shell.execute_reply": "2025-03-30T16:24:07.984656Z"
    }
   },
   "outputs": [],
   "source": [
    "import numpy as np\n",
    "import pandas as pd\n",
    "import matplotlib.pyplot as plt\n",
    "import scipy as scipy\n",
    "plt.style.use('ggplot')\n",
    "\n",
    "np.set_printoptions(threshold=20, precision=2, suppress=True)\n",
    "pd.set_option(\"display.max_rows\", 7)\n",
    "pd.set_option(\"display.max_columns\", 8)\n",
    "pd.set_option(\"display.precision\", 2)"
   ]
  },
  {
   "cell_type": "markdown",
   "metadata": {
    "slideshow": {
     "slide_type": "slide"
    }
   },
   "source": [
    "## Modelos Estatísticos"
   ]
  },
  {
   "cell_type": "markdown",
   "metadata": {
    "slideshow": {
     "slide_type": "slide"
    }
   },
   "source": [
    "### Modelos"
   ]
  },
  {
   "cell_type": "markdown",
   "metadata": {
    "slideshow": {
     "slide_type": "fragment"
    }
   },
   "source": [
    "- Informalmente, um **modelo estatístico** consiste de um conjunto de hipóteses sobre o qual fazemos sobre o processo que gerou nossos dados.\n",
    "- Exemplos simples de modelos são:\n",
    "    - Moedas \"justas\" têm probabilidade igual (50%) de cara e coroa.\n",
    "    - Dados \"justos\" têm probabilidade igual (1/6) para cada um dos lados.\n",
    "    - A gravidez de uma fêmea Golden Retriever pode resultar em 1 até 14 (!) filhotes, com média entre 7 e 8."
   ]
  },
  {
   "cell_type": "markdown",
   "metadata": {
    "slideshow": {
     "slide_type": "fragment"
    }
   },
   "source": [
    "- Um dos principais objetivos em Inferência Estatística é **aferir a qualidade de um modelo**.\n",
    "    - Em outras palavras, buscamos aferir o **quão bem um modelo explica a \"realidade\"** refletida nos dados.  "
   ]
  },
  {
   "cell_type": "markdown",
   "metadata": {},
   "source": [
    "- Conforme aprendemos até agora, a maioria dos problemas em Inferência pode ser resolvido através de alguma teoria (baseada em Matemática e Probabilidade) e também com técnicas de simulação."
   ]
  },
  {
   "cell_type": "markdown",
   "metadata": {},
   "source": [
    "- Em ambos os casos, vamos sempre **assumir que o nosso modelo seja verdadeiro**, e então calcular as frequências/probabilidades com as quais os padrões observados nos nossos dados ocorreriam sob esse modelo. "
   ]
  },
  {
   "cell_type": "markdown",
   "metadata": {},
   "source": [
    "- Em geral, o processo de verificar se um modelo é adequado ou não para um certo conjunto de dados é denominado de **teste de hipótese**. Definiremos essa noção mais formalmente abaixo."
   ]
  },
  {
   "cell_type": "markdown",
   "metadata": {
    "slideshow": {
     "slide_type": "slide"
    }
   },
   "source": [
    "### Exemplo: lançamento de uma moeda\n",
    "\n",
    "Suponha que você queira decidir se uma certa moeda é \"justa\", isto é, se no lançamento dessa moeda a probabilidade de uma cara é igual a probabilidade de uma coroa (isto é, 1/2 ou 50%).\n",
    "\n",
    "Para verificar isso, você lança a moeda $n = 400$ vezes, anotando os resultados obtidos."
   ]
  },
  {
   "cell_type": "code",
   "execution_count": 2,
   "metadata": {
    "execution": {
     "iopub.execute_input": "2025-03-30T16:24:07.987486Z",
     "iopub.status.busy": "2025-03-30T16:24:07.987301Z",
     "iopub.status.idle": "2025-03-30T16:24:08.334519Z",
     "shell.execute_reply": "2025-03-30T16:24:08.333967Z"
    },
    "slideshow": {
     "slide_type": "fragment"
    }
   },
   "outputs": [
    {
     "data": {
      "text/html": [
       "<div>\n",
       "<style scoped>\n",
       "    .dataframe tbody tr th:only-of-type {\n",
       "        vertical-align: middle;\n",
       "    }\n",
       "\n",
       "    .dataframe tbody tr th {\n",
       "        vertical-align: top;\n",
       "    }\n",
       "\n",
       "    .dataframe thead th {\n",
       "        text-align: right;\n",
       "    }\n",
       "</style>\n",
       "<table border=\"1\" class=\"dataframe\">\n",
       "  <thead>\n",
       "    <tr style=\"text-align: right;\">\n",
       "      <th></th>\n",
       "      <th>flip</th>\n",
       "      <th>outcome</th>\n",
       "    </tr>\n",
       "  </thead>\n",
       "  <tbody>\n",
       "    <tr>\n",
       "      <th>0</th>\n",
       "      <td>1</td>\n",
       "      <td>Tails</td>\n",
       "    </tr>\n",
       "    <tr>\n",
       "      <th>1</th>\n",
       "      <td>2</td>\n",
       "      <td>Tails</td>\n",
       "    </tr>\n",
       "    <tr>\n",
       "      <th>2</th>\n",
       "      <td>3</td>\n",
       "      <td>Tails</td>\n",
       "    </tr>\n",
       "    <tr>\n",
       "      <th>...</th>\n",
       "      <td>...</td>\n",
       "      <td>...</td>\n",
       "    </tr>\n",
       "    <tr>\n",
       "      <th>397</th>\n",
       "      <td>398</td>\n",
       "      <td>Heads</td>\n",
       "    </tr>\n",
       "    <tr>\n",
       "      <th>398</th>\n",
       "      <td>399</td>\n",
       "      <td>Heads</td>\n",
       "    </tr>\n",
       "    <tr>\n",
       "      <th>399</th>\n",
       "      <td>400</td>\n",
       "      <td>Tails</td>\n",
       "    </tr>\n",
       "  </tbody>\n",
       "</table>\n",
       "<p>400 rows × 2 columns</p>\n",
       "</div>"
      ],
      "text/plain": [
       "     flip outcome\n",
       "0       1   Tails\n",
       "1       2   Tails\n",
       "2       3   Tails\n",
       "..    ...     ...\n",
       "397   398   Heads\n",
       "398   399   Heads\n",
       "399   400   Tails\n",
       "\n",
       "[400 rows x 2 columns]"
      ]
     },
     "execution_count": 2,
     "metadata": {},
     "output_type": "execute_result"
    }
   ],
   "source": [
    "flips_400 = pd.read_csv('https://raw.githubusercontent.com/flaviovdf/fcd/master/assets/19-Hipoteses/data/flips-400.csv')\n",
    "flips_400"
   ]
  },
  {
   "cell_type": "code",
   "execution_count": 3,
   "metadata": {
    "execution": {
     "iopub.execute_input": "2025-03-30T16:24:08.360659Z",
     "iopub.status.busy": "2025-03-30T16:24:08.360031Z",
     "iopub.status.idle": "2025-03-30T16:24:08.366792Z",
     "shell.execute_reply": "2025-03-30T16:24:08.366425Z"
    }
   },
   "outputs": [
    {
     "data": {
      "text/html": [
       "<div>\n",
       "<style scoped>\n",
       "    .dataframe tbody tr th:only-of-type {\n",
       "        vertical-align: middle;\n",
       "    }\n",
       "\n",
       "    .dataframe tbody tr th {\n",
       "        vertical-align: top;\n",
       "    }\n",
       "\n",
       "    .dataframe thead th {\n",
       "        text-align: right;\n",
       "    }\n",
       "</style>\n",
       "<table border=\"1\" class=\"dataframe\">\n",
       "  <thead>\n",
       "    <tr style=\"text-align: right;\">\n",
       "      <th></th>\n",
       "      <th>flip</th>\n",
       "    </tr>\n",
       "    <tr>\n",
       "      <th>outcome</th>\n",
       "      <th></th>\n",
       "    </tr>\n",
       "  </thead>\n",
       "  <tbody>\n",
       "    <tr>\n",
       "      <th>Heads</th>\n",
       "      <td>188</td>\n",
       "    </tr>\n",
       "    <tr>\n",
       "      <th>Tails</th>\n",
       "      <td>212</td>\n",
       "    </tr>\n",
       "  </tbody>\n",
       "</table>\n",
       "</div>"
      ],
      "text/plain": [
       "         flip\n",
       "outcome      \n",
       "Heads     188\n",
       "Tails     212"
      ]
     },
     "execution_count": 3,
     "metadata": {},
     "output_type": "execute_result"
    }
   ],
   "source": [
    "flips_400.groupby('outcome').count()"
   ]
  },
  {
   "cell_type": "markdown",
   "metadata": {
    "slideshow": {
     "slide_type": "fragment"
    }
   },
   "source": [
    "- Naturalmente, surge então a seguinte pergunta: **esse resultado é consistente ou não** com o nosso \"modelo\", isto é, com a _hipótese_ de que a moeda é justa?\n",
    "    - Em outras palavras, quão _provável_ (ou improvável) seria obtermos 188 caras em 400 lançamentos de uma moeda justa?"
   ]
  },
  {
   "cell_type": "markdown",
   "metadata": {},
   "source": [
    "## Significância Estatística"
   ]
  },
  {
   "cell_type": "markdown",
   "metadata": {},
   "source": [
    "- Antes de introduzirmos o ferramental necessário para responder à pergunta acima, primeiramente vamos refletir um pouco sobre a seguinte pergunta:\n",
    "\n",
    "> Se esperamos _exatamente_ uma proporção de 50% de caras nos lançamentos da moeda do exemplo anterior, quais as proporções $p$ de caras aceitaríamos como **estatisticamente iguais** a 50%? O que nesse caso seria uma \"diferença inaceitável\" entre $p$ e 50% para decidirmos que a moeda não é justa?  "
   ]
  },
  {
   "cell_type": "markdown",
   "metadata": {},
   "source": [
    "- Para responder perguntas como essa, frequentemente utilizamos o conceito de **significância estatística**. "
   ]
  },
  {
   "cell_type": "markdown",
   "metadata": {},
   "source": [
    "- Basicamente, um resultado é considerado **estatisticamente significante** se sua ocorrência por pura chance/aleatoriedade/\"coincidência\" é considerada **baixa**.\n",
    "- Mais formalmente, um evento é considerado estatisticamente significante se sua probabilidade é **menor** do que um certo valor $\\alpha \\in (0, 1)$.\n",
    "    - Denominamos $\\alpha$ então de **nível de significância**. Um nível de significância muito comum utilizado na prática é $\\alpha = 5\\%$."
   ]
  },
  {
   "cell_type": "markdown",
   "metadata": {},
   "source": [
    "- O _complementar_ do nível de significância $\\alpha$ é o nível de confiança $\\gamma$ que vimos anteriormente, isto é, $\\alpha + \\gamma = 1$.\n",
    "    - Escolher um nível de significância de $\\alpha = 5\\%$ é então equivalente a escolher um nível de confiança de $\\gamma = 1 - \\alpha = 95\\%$."
   ]
  },
  {
   "cell_type": "markdown",
   "metadata": {},
   "source": [
    "### De volta ao exemplo da moeda\n",
    "\n",
    "- _Supondo que a moeda seja justa_, qual a probabilidade de ocorrerem entre 188 e 212 caras em $n = 400$ lançamentos?"
   ]
  },
  {
   "cell_type": "markdown",
   "metadata": {},
   "source": [
    "- Omitindo as tecnicalidades, essa probabilidade é dada por (lembre do Triângulo de Pascal!)\n",
    "\n",
    "\\begin{equation*}\n",
    "    \\sum^{212}_{k = 188} {n \\choose k} \\left(\\frac{1}{2}\\right)^k \\left(\\frac{1}{2}\\right)^{n-k} \\simeq 0.7693,\n",
    "\\end{equation*}\n",
    "\n",
    "ou 76.93%."
   ]
  },
  {
   "cell_type": "markdown",
   "metadata": {},
   "source": [
    "- No Python, podemos calcular essa probabilidade através da função de distribuição acumulada da _Distribuição Binomial_, `scipy.stats.binom.cdf`.\n",
    "    - Essa é outra distribuição que você verá nos próximos cursos!\n",
    "    - Os parâmetros dessa função são `x` $(x \\in \\mathbb{R})$, o número de experimentos `n` $(n \\in \\mathbb{N})$ e a probabilidade de sucesso de cada experimento, `p` $(0 < p < 1)$.\n",
    "    - Como toda função de distribuição acumulada, para calcular a probabilidade dos valores no intervalo $[a, b]$, fazemos $F(b) - F(a)$."
   ]
  },
  {
   "cell_type": "code",
   "execution_count": 4,
   "metadata": {
    "execution": {
     "iopub.execute_input": "2025-03-30T16:24:08.368599Z",
     "iopub.status.busy": "2025-03-30T16:24:08.368465Z",
     "iopub.status.idle": "2025-03-30T16:24:08.836754Z",
     "shell.execute_reply": "2025-03-30T16:24:08.836382Z"
    }
   },
   "outputs": [
    {
     "data": {
      "text/plain": [
       "0.7693207085127098"
      ]
     },
     "execution_count": 4,
     "metadata": {},
     "output_type": "execute_result"
    }
   ],
   "source": [
    "scipy.stats.binom.cdf(212, 400, .5) - scipy.stats.binom.cdf(188, 400, .5)"
   ]
  },
  {
   "cell_type": "markdown",
   "metadata": {},
   "source": [
    "- Dessa forma, _se a moeda for justa_, a probabilidade de obtermos um número de caras entre 188 e 212 é bem alta!\n",
    "- Analogamente, a probabilidade de obtermos um número de caras **menor** que 188 e **maior** que 212 será então igual a $1 - 0.7639 \\simeq 0.2307$"
   ]
  },
  {
   "cell_type": "code",
   "execution_count": 5,
   "metadata": {
    "execution": {
     "iopub.execute_input": "2025-03-30T16:24:08.838495Z",
     "iopub.status.busy": "2025-03-30T16:24:08.838294Z",
     "iopub.status.idle": "2025-03-30T16:24:08.841877Z",
     "shell.execute_reply": "2025-03-30T16:24:08.841517Z"
    }
   },
   "outputs": [
    {
     "data": {
      "text/plain": [
       "0.23067929148729016"
      ]
     },
     "execution_count": 5,
     "metadata": {},
     "output_type": "execute_result"
    }
   ],
   "source": [
    "1 - (scipy.stats.binom.cdf(212, 400, .5) - scipy.stats.binom.cdf(188, 400, .5))"
   ]
  },
  {
   "cell_type": "markdown",
   "metadata": {},
   "source": [
    "- O resultado acima nos diz então que, ainda que a moeda seja justa, em $n = 400$ lançamentos a probabilidade de obtermos algo em torno de 188 a 212 caras é bem razoável.\n",
    "- Em outras palavras, como $188/400 = 0.47$ e $212/400 = 0.53$, desvios de até $3\\%$ no número esperado de caras ($50\\%$) em $n = 400$ lançamentos de uma moeda ocorrem com uma probabilidade de $23.07\\%$."
   ]
  },
  {
   "cell_type": "markdown",
   "metadata": {},
   "source": [
    "- Dessa forma, uma ocorrência de 188 caras em 400 lançamentos **não é considerada significativa** a um nível $\\alpha = 5\\%$!"
   ]
  },
  {
   "cell_type": "markdown",
   "metadata": {},
   "source": [
    "- O que seria então considerado estatisticamente significante nesse problema? 🤔"
   ]
  },
  {
   "cell_type": "code",
   "execution_count": 6,
   "metadata": {
    "execution": {
     "iopub.execute_input": "2025-03-30T16:24:08.843396Z",
     "iopub.status.busy": "2025-03-30T16:24:08.843282Z",
     "iopub.status.idle": "2025-03-30T16:24:08.846300Z",
     "shell.execute_reply": "2025-03-30T16:24:08.845939Z"
    }
   },
   "outputs": [
    {
     "data": {
      "text/plain": [
       "0.05760952246249662"
      ]
     },
     "execution_count": 6,
     "metadata": {},
     "output_type": "execute_result"
    }
   ],
   "source": [
    "heads = 181\n",
    "1 - (scipy.stats.binom.cdf(400 - heads, 400, .5) - scipy.stats.binom.cdf(heads, 400, .5))"
   ]
  },
  {
   "cell_type": "code",
   "execution_count": 7,
   "metadata": {
    "execution": {
     "iopub.execute_input": "2025-03-30T16:24:08.847669Z",
     "iopub.status.busy": "2025-03-30T16:24:08.847557Z",
     "iopub.status.idle": "2025-03-30T16:24:08.850519Z",
     "shell.execute_reply": "2025-03-30T16:24:08.850160Z"
    }
   },
   "outputs": [
    {
     "data": {
      "text/plain": [
       "0.04563548140489304"
      ]
     },
     "execution_count": 7,
     "metadata": {},
     "output_type": "execute_result"
    }
   ],
   "source": [
    "heads = 180\n",
    "1 - (scipy.stats.binom.cdf(400 - heads, 400, .5) - scipy.stats.binom.cdf(heads, 400, .5))"
   ]
  },
  {
   "cell_type": "markdown",
   "metadata": {},
   "source": [
    "- Se tomarmos um nível de significância de $\\alpha = 5\\%$, observar de 181 a 219 caras (desvios de até 4.75%) ainda seria considerado \"aceitável\" (i.e. não-significante) nesse caso.\n",
    "- Precisaríamos de um resultado mais extremo (e desvios maiores, maiores ou iguais 5%) para ser considerado estatisticamente significante, como por exemplo 180 caras ou menos, ou 220 caras ou mais. "
   ]
  },
  {
   "cell_type": "markdown",
   "metadata": {},
   "source": [
    "> Para concluir nosso exemplo (e mais uma vez note que vamos voltar a esse ponto mais adiante), lembrando da complementariedade entre o nível de confiança $\\gamma$ e o nível de significância $\\alpha$, podemos obter a _mesma resposta acima_ através de um intervalo de 95% de confiança para a proporção populacional de caras em uma moeda justa, que podemos calcular através de:"
   ]
  },
  {
   "cell_type": "code",
   "execution_count": 8,
   "metadata": {
    "execution": {
     "iopub.execute_input": "2025-03-30T16:24:08.852005Z",
     "iopub.status.busy": "2025-03-30T16:24:08.851889Z",
     "iopub.status.idle": "2025-03-30T16:24:08.854867Z",
     "shell.execute_reply": "2025-03-30T16:24:08.854499Z"
    }
   },
   "outputs": [
    {
     "data": {
      "text/plain": [
       "(180.0, 220.0)"
      ]
     },
     "execution_count": 8,
     "metadata": {},
     "output_type": "execute_result"
    }
   ],
   "source": [
    "scipy.stats.binom.interval(0.95, 400, .5)"
   ]
  },
  {
   "cell_type": "markdown",
   "metadata": {
    "slideshow": {
     "slide_type": "slide"
    }
   },
   "source": [
    "## Testes de Hipóteses"
   ]
  },
  {
   "cell_type": "markdown",
   "metadata": {},
   "source": [
    "### Noções básicas"
   ]
  },
  {
   "cell_type": "markdown",
   "metadata": {},
   "source": [
    "- Podemos definir um **Teste de Hipóteses** como um procedimento em que testamos a **hipótese de que o nosso modelo esteja correto** contra a **hipótese de que o nosso modelo não esteja correto**.\n",
    "    - A primeira hipótese, isto é, de que o nosso modelo esteja correto é denominada de **hipótese nula**.\n",
    "    - A segunda hipótese, isto é, de que o nosso modelo não esteja correto é denominada de **hipótese alternativa**.\n",
    "- A **aceitação** de uma hipótese em detrimento da outra leva à **rejeição** da outra hipótese."
   ]
  },
  {
   "cell_type": "markdown",
   "metadata": {},
   "source": [
    "- **Muito importante:** Embora estejamos definindo os Testes de Hipóteses e nossos modelos em termos como \"aceitação\" e \"correto\", note que na verdade o procedimento apenas nos diz se o modelo postulado é _condizente_ com os padrões observados nos nossos dados.\n",
    "    - Dessa forma, como em geral o processo gerador dos dados é _aleatório_, podemos aceitar a hipótese de um modelo esteja correto (ou errado) por _pura aleatoriedade_, sem que na verdade o modelo seja _verdadeiramente_ correto (ou errado)!"
   ]
  },
  {
   "cell_type": "markdown",
   "metadata": {},
   "source": [
    "- Em vista da observação acima, uma outra maneira de pensarmos no nível de significância é como um **nível máximo permitido** para a influência da incerteza/aleatoriedade sobre o nosso experimento/processo gerador de dados.\n",
    "    - Equivalentemente, $\\alpha$ representa **a frequência máxima com a qual nosso modelo (ainda que esteja correto) possa ser rejeitado por um teste de hipóteses**."
   ]
  },
  {
   "cell_type": "markdown",
   "metadata": {},
   "source": [
    "> No exemplo acima, embora 400 lançamentos de uma moeda justa possam _de fato_ produzir menos de 180 caras (ou mais de 220), a _probabilidade_ com a qual isso ocorre é menor que $\\alpha$.\n",
    "> > Reiterando sobre esse ponto, _ainda que nosso modelo esteja correto_, a probabilidade desse resultado ocorrer por pura aleatoriedade é _tão baixa_ que consideramos que é mais _plausível_ que nosso modelo esteja errado! "
   ]
  },
  {
   "cell_type": "markdown",
   "metadata": {},
   "source": [
    "- Finalmente, como para cada hipótese nula fazemos um teste separado, é possível que **aceitemos várias hipóteses nulas diferentes** e, logo, **vários modelos diferentes**, para os mesmos dados.\n",
    "    - Embora existam algumas maneiras de contornar esse problema (você verá isso nos próximos cursos!), essa é uma característica **inerente** não somente aos Testes de Hipóteses, mas à Inferência Estatística como um todo.\n",
    "    - Lembre da nossa discussão anterior sobre **igualdade estatística**: com 95% de confiança, todas as proporções $p \\in (0.45, 0.55)$ são _igualmente prováveis_ (inclusive $p = 0.50$!) nesse experimento."
   ]
  },
  {
   "cell_type": "markdown",
   "metadata": {
    "slideshow": {
     "slide_type": "slide"
    }
   },
   "source": [
    "### Hipóteses nulas e alternativas"
   ]
  },
  {
   "cell_type": "markdown",
   "metadata": {
    "slideshow": {
     "slide_type": "fragment"
    }
   },
   "source": [
    "- Vamos agora formalizar as noções de hipóteses dadas acima."
   ]
  },
  {
   "cell_type": "markdown",
   "metadata": {},
   "source": [
    "- No exemplo da moeda justa, nossa hipótese nula é\n",
    "    - \"a moeda é justa\".\n",
    "- Analogamente, nossa hipótese alternativa é\n",
    "    - \"a moeda não é justa\"."
   ]
  },
  {
   "cell_type": "markdown",
   "metadata": {},
   "source": [
    "- Em um teste de hipóteses, a hipótese nula deve ser um **modelo de probabilidade bem definido** sobre o processo que gerou nossos dados.\n",
    "    - Precisamos disso para poder calcular todas as probabilidades e frequências sobre as quais estamos interessados, não só do ponto de vista _teórico/matemático_ como também do ponto de vista _prático/computacional_.\n",
    "    - Em outras palavras: precisamos definir bem um modelo para simular desse modelo!\n",
    "    - Usualmente denotamos a hipótese nula por $H_0$."
   ]
  },
  {
   "cell_type": "markdown",
   "metadata": {},
   "source": [
    "- Mais uma vez voltando ao nosso exemplo, uma possível hipótese nula aqui seria $H_0: p_0 = 0.5$, onde $p_0$ representa a probabilidade do lançamento de uma moeda resultar em cara.\n",
    "    - Tecnicamente, para que esse modelo esteja realmente bem definido definimos uma variável aleatória tomando valores no espaço amostral $\\{H, T\\}$ com probabilidades $p_0$ e $1 - p_0$, respectivamente."
   ]
  },
  {
   "cell_type": "markdown",
   "metadata": {},
   "source": [
    "- Por outro lado, a **hipótese alternativa** representa uma _visão diferente_ (e usualmente complementar, para que o **teste** esteja bem definido) do processo que gerou nossos dados.\n",
    "    - Dessa forma, a hipótese alternativa **não precisa ser específica**, uma vez que basta a hipótese nula _ser rejeitada_ para que a hipótese alternativa seja aceita.\n",
    "    - Usualmente denotamos a hipótese alternativa por $H_1$. "
   ]
  },
  {
   "cell_type": "markdown",
   "metadata": {},
   "source": [
    "- Retornando ao exemplo da moeda, uma possível hipótese alternativa seria $H_1:p_0 \\neq 0.5$.\n",
    "    - Note que essa é uma hipótese bem vaga, assim como \"a moeda não é justa\", pois _qualquer valor_ para a proporção de caras diferente de $0.5$ satisfaz a hipótese alternativa."
   ]
  },
  {
   "cell_type": "markdown",
   "metadata": {
    "slideshow": {
     "slide_type": "slide"
    }
   },
   "source": [
    "### Estatísticas de teste"
   ]
  },
  {
   "cell_type": "markdown",
   "metadata": {
    "slideshow": {
     "slide_type": "fragment"
    }
   },
   "source": [
    "- Uma vez definidas $H_0$ e $H_1$, começamos nossa inferência **supondo que a hipótese nula $H_0$ seja verdadeira**."
   ]
  },
  {
   "cell_type": "markdown",
   "metadata": {},
   "source": [
    "- **Sob $H_0$**, calcularemos então uma quantidade que denominaremos de **estatística de teste** (usualmente denotada por $T$).\n",
    "    - Como o próprio nome implica, essa será uma **estatística** (e logo calculada com base na amostra) utilizada para realizarmos nosso teste.\n",
    "    - Em essência, a estatística de teste objetiva medir a evidência _a favor_ (ou _contra_) $H_0$. "
   ]
  },
  {
   "cell_type": "markdown",
   "metadata": {},
   "source": [
    "- Se utilizarmos a teoria Estatística/matemática para conduzir nosso teste de hipótese, calculamos _uma única estatística de teste_ sob $H_0$, e essencialmente utilizamos a teoria para saber se o **valor observado** (usualmente denotado por $T_{obs}$) é _estatisticamente significante_.\n",
    "    - Por exemplo, sob o TCL, sabemos que 95% dos valores de uma distribuição Normal estão a ± 2 DPs da média. Dessa forma, se sob $H_0$ temos $\\mu = 10$ e $\\sigma/\\sqrt{n} = 1$, um valor para $T_{obs} = \\bar{X}$ menor que 8 e maior que 12 seria considerado estatisticamente significante sob $\\alpha = 5\\%$. "
   ]
  },
  {
   "cell_type": "markdown",
   "metadata": {},
   "source": [
    "- Por outro lado, se utilizarmos simulação, teremos _uma estatística de teste para cada amostra_ produzida sob $H_0$.\n",
    "    - Com um número grande de amostras, produzimos então uma aproximação para a distribuição de probabilidade da estatística de teste $T$, e verificamos se o valor observado $T_{obs}$ é estatisticamente significante nessa distribuição.\n",
    "    - A verificação de significância nesse caso consiste essencialmente em verificar à _qual percentil dessa distribuição_ corresponde o valor de $T_{obs}$."
   ]
  },
  {
   "cell_type": "markdown",
   "metadata": {
    "slideshow": {
     "slide_type": "slide"
    }
   },
   "source": [
    "### Simulando sob $H_0$"
   ]
  },
  {
   "cell_type": "markdown",
   "metadata": {},
   "source": [
    "- Voltando ao nosso exemplo anterior, podemos simular `n` lançamentos de uma moeda justa utilizando a função `np.random.binomial(n, 0.5)`.\n",
    "    - Lembre que aqui simulamos sob $H_0$, e simular sob $H_1$ seria impossível (existem infinitos não-enumeráveis valores de $p_0$ que satisfazem a definição de \"moeda injusta\")."
   ]
  },
  {
   "cell_type": "markdown",
   "metadata": {},
   "source": [
    "- Como estamos interessados na proporção de caras, nossa estatística de teste $T$ será o número de caras em cada simulação.\n",
    "    - Calculamos então $T_{obs}$ para cada amostra produzida, anotamos o valor correspondente e dessa forma construímos uma distribuição empírica para a estatística de teste $T$ sob $H_0$."
   ]
  },
  {
   "cell_type": "code",
   "execution_count": 9,
   "metadata": {
    "execution": {
     "iopub.execute_input": "2025-03-30T16:24:08.856721Z",
     "iopub.status.busy": "2025-03-30T16:24:08.856606Z",
     "iopub.status.idle": "2025-03-30T16:24:08.859313Z",
     "shell.execute_reply": "2025-03-30T16:24:08.858959Z"
    }
   },
   "outputs": [
    {
     "data": {
      "text/plain": [
       "202"
      ]
     },
     "execution_count": 9,
     "metadata": {},
     "output_type": "execute_result"
    }
   ],
   "source": [
    "# Computes a single simulated test statistic.\n",
    "np.random.binomial(400, 0.5)"
   ]
  },
  {
   "cell_type": "code",
   "execution_count": 10,
   "metadata": {
    "execution": {
     "iopub.execute_input": "2025-03-30T16:24:08.860676Z",
     "iopub.status.busy": "2025-03-30T16:24:08.860563Z",
     "iopub.status.idle": "2025-03-30T16:24:08.926316Z",
     "shell.execute_reply": "2025-03-30T16:24:08.925789Z"
    }
   },
   "outputs": [
    {
     "data": {
      "text/plain": [
       "array([193., 194., 202., ..., 201., 201., 192.])"
      ]
     },
     "execution_count": 10,
     "metadata": {},
     "output_type": "execute_result"
    }
   ],
   "source": [
    "# Computes 10,000 simulated test statistics.\n",
    "np.random.seed(42)\n",
    "\n",
    "results = np.array([])\n",
    "for i in np.arange(10000):\n",
    "    result = np.random.binomial(400, 0.5)\n",
    "    results = np.append(results, result)\n",
    "    \n",
    "results"
   ]
  },
  {
   "cell_type": "markdown",
   "metadata": {
    "slideshow": {
     "slide_type": "slide"
    }
   },
   "source": [
    "### Distribuição empírica da estatística de teste\n",
    "\n",
    "Vamos agora visualizar a distribuição empírica da estatística de teste sob $H_0$:"
   ]
  },
  {
   "cell_type": "code",
   "execution_count": 11,
   "metadata": {
    "execution": {
     "iopub.execute_input": "2025-03-30T16:24:08.928885Z",
     "iopub.status.busy": "2025-03-30T16:24:08.928610Z",
     "iopub.status.idle": "2025-03-30T16:24:09.321979Z",
     "shell.execute_reply": "2025-03-30T16:24:09.321626Z"
    }
   },
   "outputs": [
    {
     "data": {
      "image/png": "[encoded data removed]",
      "text/plain": [
       "<Figure size 1000x500 with 1 Axes>"
      ]
     },
     "metadata": {},
     "output_type": "display_data"
    }
   ],
   "source": [
    "pd.DataFrame().assign(results=results).plot(kind='hist', bins=np.arange(160, 240, 4), \n",
    "                                             density=True, ec='w', figsize=(10, 5),\n",
    "                                             title='Distribuição Empírica do Número de Caras em $n = 400$ Lançamentos de uma Moeda Justa');\n",
    "plt.axvline(188, color='black', linewidth=4, label='observed statistic (188)')\n",
    "plt.legend()\n",
    "plt.ylabel(\"Frequência\");"
   ]
  },
  {
   "cell_type": "markdown",
   "metadata": {
    "slideshow": {
     "slide_type": "fragment"
    }
   },
   "source": [
    "- Se observássemos $T_{obs} = 200$ caras, naturalmente aceitaríamos $H_0$, isto é, que nossa moeda é justa."
   ]
  },
  {
   "cell_type": "markdown",
   "metadata": {
    "slideshow": {
     "slide_type": "fragment"
    }
   },
   "source": [
    "- Analogamente, rejeitaríamos $H_0$ (isto é, concluiríamos que nossa moeda é injusta) se:\n",
    "    - observássemos \"poucas caras\".\n",
    "    - observássemos \"muitas caras\"."
   ]
  },
  {
   "cell_type": "markdown",
   "metadata": {},
   "source": [
    "- Mas como decidimos o que seriam \"poucas\" e \"muitas\" nesse contexto?"
   ]
  },
  {
   "cell_type": "markdown",
   "metadata": {},
   "source": [
    "### Valores Críticos e Regiões de Aceitação"
   ]
  },
  {
   "cell_type": "markdown",
   "metadata": {},
   "source": [
    "- Dada a nossa discussão acima sob significância estatística, seria natural **rejeitarmos $H_0$ se a probabilidade de observarmos $T_{obs}$ for muito baixa**."
   ]
  },
  {
   "cell_type": "markdown",
   "metadata": {},
   "source": [
    "- No exemplo anterior, vimos (teoricamente) que a probabilidade de que $T \\leq 180$ ou que $T \\geq 220$ é pouco menos que 5%.\n",
    "    - Dessa forma, valores **tão extremos** quanto $T \\leq 180$ ou $T \\geq 220$ são considerados **estatisticamente significantes** (ao nível de $\\alpha = 5\\%$), e logo indicativos de que $H_0$ não é verdadeira."
   ]
  },
  {
   "cell_type": "markdown",
   "metadata": {},
   "source": [
    "- Na distribuição simulada anteriormente, podemos encontrar esses valores como os percentis 2.5% e 97.5%, respectivamente."
   ]
  },
  {
   "cell_type": "code",
   "execution_count": 12,
   "metadata": {
    "execution": {
     "iopub.execute_input": "2025-03-30T16:24:09.323892Z",
     "iopub.status.busy": "2025-03-30T16:24:09.323521Z",
     "iopub.status.idle": "2025-03-30T16:24:09.326486Z",
     "shell.execute_reply": "2025-03-30T16:24:09.326194Z"
    }
   },
   "outputs": [
    {
     "data": {
      "text/plain": [
       "180.0"
      ]
     },
     "execution_count": 12,
     "metadata": {},
     "output_type": "execute_result"
    }
   ],
   "source": [
    "np.percentile(results, 2.5)"
   ]
  },
  {
   "cell_type": "code",
   "execution_count": 13,
   "metadata": {
    "execution": {
     "iopub.execute_input": "2025-03-30T16:24:09.328058Z",
     "iopub.status.busy": "2025-03-30T16:24:09.327748Z",
     "iopub.status.idle": "2025-03-30T16:24:09.330397Z",
     "shell.execute_reply": "2025-03-30T16:24:09.330113Z"
    }
   },
   "outputs": [
    {
     "data": {
      "text/plain": [
       "220.0"
      ]
     },
     "execution_count": 13,
     "metadata": {},
     "output_type": "execute_result"
    }
   ],
   "source": [
    "np.percentile(results, 97.5)"
   ]
  },
  {
   "cell_type": "markdown",
   "metadata": {},
   "source": [
    "- Ao nível de $\\alpha = 5\\%$ de significância, dizemos que $c_1 = 180$ e $c_2 = 220$ são então os **níveis críticos** (ou valores críticos) desse teste de hipóteses."
   ]
  },
  {
   "cell_type": "markdown",
   "metadata": {},
   "source": [
    "- Mais formalmente, os **níveis críticos** de um teste são valores $c_1 < c_2$ tais que **$H_0$ é rejeitada ao nível $\\alpha\\%$ de significância** caso $T_{obs} < c_1$ _ou_ $T_{obs} > c_2$.\n",
    "    - Note que formalmente sempre frisamos \"ao nível $\\alpha\\%$ de significância\", pois os níveis críticos $c_1$ e $c_2$ sempre serão funções de $\\alpha$."
   ]
  },
  {
   "cell_type": "markdown",
   "metadata": {},
   "source": [
    "- Quando simulamos a distribuição de $T$ sob $H_0$, $c_1$ e $c_2$ são simplesmente dados pelos percentis $\\alpha/2$ e $1 - \\alpha/2$ dessa distribuição, respectivamente.\n",
    "    - Analogamente, se utilizarmos alguma teoria ou aproximação (por exemplo o TCL), $c_1$ e $c_2$ serão dados pelos percentis correspondentes da distribuição correspondente (por exemplo a Normal)."
   ]
  },
  {
   "cell_type": "markdown",
   "metadata": {},
   "source": [
    "- Na nomenclatura usual de Testes de Hipóteses, o conjunto de pontos entre $c_1$ e $c_2$ definem a **Região de Aceitação** do teste.\n",
    "    - Formalmente, $RA := \\{T_{obs}: c_1 \\leq T_{obs} \\leq c_2\\}$.\n",
    "    - Como o próprio nome implica, _aceitamos $H_0$ para todos os valores_ $T_{obs} \\in RA$."
   ]
  },
  {
   "cell_type": "markdown",
   "metadata": {},
   "source": [
    "- Em contrapartida, o conjunto de pontos menores que $c_1$ e maiores que $c_2$ definem a **Região de Rejeição** (ou Região Crítica) do teste.\n",
    "    - Formalmente, $RC := \\{T_{obs}: T_{obs} < c_1 \\,\\text{ou}\\,\\,\\, T_{obs} > c_2\\}$.\n",
    "    - Como o próprio nome implica, _rejeitamos $H_0$ para todos os valores_ $T_{obs} \\in RC$."
   ]
  },
  {
   "cell_type": "markdown",
   "metadata": {},
   "source": [
    "- Finalmente, como só existem 2 resultados para um teste de hipóteses (isto é, ou aceitamos ou rejeitamos $H_0$), então $RA$ e $RC$ são complementares, isto é,\n",
    "\n",
    "\\begin{equation*}\n",
    "    T_{obs} \\in RA \\Leftrightarrow T_{obs} \\notin RC\n",
    "\\end{equation*}\n",
    "\n",
    "e vice-versa."
   ]
  },
  {
   "cell_type": "markdown",
   "metadata": {},
   "source": [
    "### Testes de Hipóteses via Intervalos de Confiança"
   ]
  },
  {
   "cell_type": "markdown",
   "metadata": {},
   "source": [
    "- Uma outra maneira de interpretar a Região de Aceitação conforme definida acima é como um conjunto de pontos em que os valores observados para uma certa estatística de teste $T$ são _estatisticamente iguais_ sob $H_0$.\n",
    "    - No nosso exemplo, todas as proporções de caras observadas entre $c_1/400 = 180/400 = 0.45$ e $c_2/400 = 220/400 = 0.55$ são _igualmente prováveis_, e consistentes (para essa amostra, de tamanho $n = 400$) com $H_0: p_0 = 0.50$.\n",
    "    - Essa interpretação é muito similar à de um Intervalo de Confiança!"
   ]
  },
  {
   "cell_type": "markdown",
   "metadata": {},
   "source": [
    "- De fato, existe uma relação natural, direta e intrínseca entre os Testes de Hipóteses e Intervalos de Confiança.\n",
    "    - Mais especificamente, lembrando que $\\gamma = 1 -\\alpha$, um IC de $\\gamma\\%$ para o parâmetro de interesse **sempre contém todos os valores hipotetizados para o parâmetro de interesse que levariam à aceitação de $H_0$!**."
   ]
  },
  {
   "cell_type": "markdown",
   "metadata": {},
   "source": [
    "Retornando ao exemplo anterior, temos $T_{obs} = 188$ em $n = 400$ lançamentos da moeda.\n",
    "\n",
    "Utilizando propriedades da distribuição Binomial, o IC95% para o _número de caras_ é dado por"
   ]
  },
  {
   "cell_type": "code",
   "execution_count": 14,
   "metadata": {
    "execution": {
     "iopub.execute_input": "2025-03-30T16:24:09.332136Z",
     "iopub.status.busy": "2025-03-30T16:24:09.331828Z",
     "iopub.status.idle": "2025-03-30T16:24:09.333653Z",
     "shell.execute_reply": "2025-03-30T16:24:09.333353Z"
    }
   },
   "outputs": [],
   "source": [
    "T_obs = 188\n",
    "n = 400\n",
    "gamma = 0.95"
   ]
  },
  {
   "cell_type": "code",
   "execution_count": 15,
   "metadata": {
    "execution": {
     "iopub.execute_input": "2025-03-30T16:24:09.335002Z",
     "iopub.status.busy": "2025-03-30T16:24:09.334794Z",
     "iopub.status.idle": "2025-03-30T16:24:09.337334Z",
     "shell.execute_reply": "2025-03-30T16:24:09.337077Z"
    }
   },
   "outputs": [
    {
     "data": {
      "text/plain": [
       "(168.0, 208.0)"
      ]
     },
     "execution_count": 15,
     "metadata": {},
     "output_type": "execute_result"
    }
   ],
   "source": [
    "scipy.stats.binom.interval(gamma, n, T_obs/n)"
   ]
  },
  {
   "cell_type": "markdown",
   "metadata": {},
   "source": [
    "Por outro lado, $T_{obs} = 188$ em $n = 400$ lançamentos se traduz em uma proporção de caras estimada igual a $p_{obs} = 0.47$."
   ]
  },
  {
   "cell_type": "code",
   "execution_count": 16,
   "metadata": {
    "execution": {
     "iopub.execute_input": "2025-03-30T16:24:09.338812Z",
     "iopub.status.busy": "2025-03-30T16:24:09.338509Z",
     "iopub.status.idle": "2025-03-30T16:24:09.341033Z",
     "shell.execute_reply": "2025-03-30T16:24:09.340736Z"
    }
   },
   "outputs": [
    {
     "data": {
      "text/plain": [
       "0.47"
      ]
     },
     "execution_count": 16,
     "metadata": {},
     "output_type": "execute_result"
    }
   ],
   "source": [
    "p_obs = T_obs/n\n",
    "p_obs"
   ]
  },
  {
   "cell_type": "markdown",
   "metadata": {},
   "source": [
    "O IC95% para a proporção de caras é dado então por"
   ]
  },
  {
   "cell_type": "code",
   "execution_count": 17,
   "metadata": {
    "execution": {
     "iopub.execute_input": "2025-03-30T16:24:09.342691Z",
     "iopub.status.busy": "2025-03-30T16:24:09.342341Z",
     "iopub.status.idle": "2025-03-30T16:24:09.345940Z",
     "shell.execute_reply": "2025-03-30T16:24:09.345557Z"
    }
   },
   "outputs": [
    {
     "data": {
      "text/plain": [
       "[0.42, 0.52]"
      ]
     },
     "execution_count": 17,
     "metadata": {},
     "output_type": "execute_result"
    }
   ],
   "source": [
    "CI = scipy.stats.binom.interval(gamma, n, p_obs)\n",
    "left = CI[0]/n\n",
    "right = CI[1]/n\n",
    "\n",
    "[left, right]"
   ]
  },
  {
   "cell_type": "markdown",
   "metadata": {},
   "source": [
    "- Concluímos dessa forma que, embora a proporção de caras observada $p_{obs} = 0.47$ não tenha sido _exatamente_ (ou _numericamente_) igual a $p_0 = 0.50$, a _proporção populacional_ de caras é estatisticamente igual a $p_0 = 0.50$ (com 95% de confiança), uma vez que esse valor está contido dentro do IC95%.\n",
    "\n",
    "Para essa amostra, **qualquer hipótese do tipo $H_0: p_0 = p^*$ para $p^* \\in [0.42, 0.52]$ seria aceita** ao nível $\\alpha = 5\\%$!"
   ]
  },
  {
   "cell_type": "markdown",
   "metadata": {},
   "source": [
    "### p-valores"
   ]
  },
  {
   "cell_type": "markdown",
   "metadata": {},
   "source": [
    "- Apesar dos critérios estabelecidos para a aceitação/rejeição de $H_0$ acima serem definidos de maneira **precisa**, as regras de rejeição são **binárias**, e logo \"rígidas\".\n",
    "    - Ou aceitamos ou rejeitamos $H_0$, _independente_ do \"quão distante\" a estatística de teste $T_{obs}$ se encontra dos pontos críticos $c_1$ e $c_2$."
   ]
  },
  {
   "cell_type": "markdown",
   "metadata": {},
   "source": [
    "- Nesse contexto, frequentemente surgem perguntas do tipo: dado que $H_0$ é rejeitada para $T_{obs}$, o quão \"extremo\" é o valor de $T_{obs}$?\n",
    "    - Em outras palavras, qual a probabilidade de obtermos de um valor de $T_{obs}$ _mais distante_ de $c_1$ (ou $c_2$)?"
   ]
  },
  {
   "cell_type": "markdown",
   "metadata": {},
   "source": [
    "- A quantificação da distância de $T_{obs}$ com relação aos níveis críticos $c_1$ e $c_2$ é dada por uma quantidade que denominamos de **p-valor**."
   ]
  },
  {
   "cell_type": "markdown",
   "metadata": {},
   "source": [
    "- Mais precisamente, um p-valor $p$ é definido como a probabilidade (sob $H_0$) da nossa estatística de teste $T$ ser menor/maior do que $T_{obs}$, **na direção em que rejeitamos $H_0$**."
   ]
  },
  {
   "cell_type": "markdown",
   "metadata": {},
   "source": [
    "- No exemplo anterior, como a distribuição de $T$ sob $H_0$ está centrada em $m = 200$ e nossa hipótese nula diz respeito ao fato da moeda ser justa, temos $c_1 = 180$, $c_2 = 220$, e:\n",
    "    - se $T_{obs} < m$, então $p$ é dado pela soma da **cauda à esquerda de $T_{obs}$** com a **cauda à direita de $2m - T_{obs}$** da distribuição de $T$ sob $H_0$.\n",
    "    - se $T_{obs} > m$, então $p$ é dado pela soma da **cauda à esquerda de $2m - T_{obs}$** com a **cauda à direita de $T_{obs}$** da distribuição de $T$ sob $H_0$."
   ]
  },
  {
   "cell_type": "markdown",
   "metadata": {},
   "source": [
    "Para calcular esse valor, basta calcularmos as frequências correspondentes na distribuição de $T$ simulada sob $H_0$:  "
   ]
  },
  {
   "cell_type": "code",
   "execution_count": 18,
   "metadata": {
    "execution": {
     "iopub.execute_input": "2025-03-30T16:24:09.347737Z",
     "iopub.status.busy": "2025-03-30T16:24:09.347569Z",
     "iopub.status.idle": "2025-03-30T16:24:09.351153Z",
     "shell.execute_reply": "2025-03-30T16:24:09.350845Z"
    }
   },
   "outputs": [
    {
     "data": {
      "text/plain": [
       "0.253"
      ]
     },
     "execution_count": 18,
     "metadata": {},
     "output_type": "execute_result"
    }
   ],
   "source": [
    "T_obs = 188\n",
    "p_lower = np.count_nonzero(results <= T_obs) / len(results)\n",
    "p_upper = np.count_nonzero(results >= 2*200 - T_obs) / len(results)\n",
    "p = p_lower + p_upper\n",
    "p"
   ]
  },
  {
   "cell_type": "markdown",
   "metadata": {},
   "source": [
    "Naturalmente, como os percentis 2.5% e 97.5% da nossa distribuição empírica para $T$ $c_1 = 180$ e $c_2 = 220$, **qualquer valor de $T_{obs}$ tal que $T_{obs} < c_1$ ou $T_{obs} > c_2$ terá um p-valor menor que $\\alpha = 5\\%$!**"
   ]
  },
  {
   "cell_type": "code",
   "execution_count": 19,
   "metadata": {
    "execution": {
     "iopub.execute_input": "2025-03-30T16:24:09.352468Z",
     "iopub.status.busy": "2025-03-30T16:24:09.352350Z",
     "iopub.status.idle": "2025-03-30T16:24:09.355156Z",
     "shell.execute_reply": "2025-03-30T16:24:09.354811Z"
    }
   },
   "outputs": [
    {
     "data": {
      "text/plain": [
       "0.0435"
      ]
     },
     "execution_count": 19,
     "metadata": {},
     "output_type": "execute_result"
    }
   ],
   "source": [
    "T_obs = 179\n",
    "p_lower = np.count_nonzero(results <= T_obs) / len(results)\n",
    "p_upper = np.count_nonzero(results >= 2*200 - T_obs) / len(results)\n",
    "p = p_lower + p_upper\n",
    "p"
   ]
  },
  {
   "cell_type": "code",
   "execution_count": 20,
   "metadata": {
    "execution": {
     "iopub.execute_input": "2025-03-30T16:24:09.356450Z",
     "iopub.status.busy": "2025-03-30T16:24:09.356334Z",
     "iopub.status.idle": "2025-03-30T16:24:09.359079Z",
     "shell.execute_reply": "2025-03-30T16:24:09.358772Z"
    }
   },
   "outputs": [
    {
     "data": {
      "text/plain": [
       "0.0435"
      ]
     },
     "execution_count": 20,
     "metadata": {},
     "output_type": "execute_result"
    }
   ],
   "source": [
    "T_obs = 221\n",
    "p_lower = np.count_nonzero(results <= 2*200 - T_obs) / len(results)\n",
    "p_upper = np.count_nonzero(results >= T_obs) / len(results)\n",
    "p = p_lower + p_upper\n",
    "p"
   ]
  },
  {
   "cell_type": "markdown",
   "metadata": {},
   "source": [
    "- O resultado acima pode ser elaborado em geral da seguinte forma: **se $T_{obs} \\in RA$, então $T_{obs} \\geq \\alpha$**.\n",
    "    - Analogamente, se $T_{obs} \\notin RA$, então $T_{obs} \\leq \\alpha$."
   ]
  },
  {
   "cell_type": "markdown",
   "metadata": {},
   "source": [
    "- Dessa forma, **podemos utilizar o p-valor diretamente para conduzir um teste de hipóteses**, pois\n",
    "    - se $p \\geq \\alpha$, então $T_{obs} \\in RA$ e aceitamos $H_0$;\n",
    "    - se $p < \\alpha$, então $T_{obs} \\notin RA$ e rejeitamos $H_0$."
   ]
  },
  {
   "cell_type": "markdown",
   "metadata": {},
   "source": [
    "Note que a possibilidade de que $p = \\alpha$ não ocorre na prática, pois $0 < p < 1$ é real (tecnicamente esse é um _evento que ocorre com probabilidade zero_ – você verá mais sobre isso em outros cursos)."
   ]
  },
  {
   "cell_type": "markdown",
   "metadata": {},
   "source": [
    "- Em vista do argumento acima, é comum denominar o p-valor de _nível de significância observado_, pois dado $T = T_{obs}$, o p-valor é igual _ao menor valor de $\\alpha$ tal que $H_0$ seja rejeitada_."
   ]
  },
  {
   "cell_type": "markdown",
   "metadata": {},
   "source": [
    "**Importante**: existe _muita_ controvérsia em torno do uso de p-valores na condução de Testes de Hipóteses, e a principal fonte de controvérsia é dada ao tentar interpretar o p-valor como uma probabilidade.\n",
    "\n",
    "Da definição de nível significância observado acima, note que embora _calculemos_ o p-valor como uma probabilidade, $p$ depende de um _valor observado_ na amostra, isto é, $T_{obs}$.\n",
    "\n",
    "> Dessa forma, o p-valor é na verdade uma **estatística**, e **não uma probabilidade**!\n",
    "\n",
    "Embora esse ponto seja bem sutil e será elaborado (repetidamente) de maneira cada vez mais adequada nos próximos cursos, é importante lembrar que, como _o processo de amostragem é aleatório_, **um valor mais/menos extremo de $T_{obs}$ não significa uma evidência mais/menos forte contra $H_0$**, pois flutuações nos valores de $T$ são _naturalmente esperadas devido à aleatoriedade_. "
   ]
  },
  {
   "cell_type": "markdown",
   "metadata": {},
   "source": [
    "- Finalmente, embora o p-valor seja muito útil para caracterizar melhor as quantidades envolvidas em um Teste de Hipóteses (e logo dar mais interpretabilidade aos resultados obtidos), **no fim das contas aceitar ou rejeitar $H_0$ é sempre uma decisão binária**."
   ]
  },
  {
   "cell_type": "markdown",
   "metadata": {},
   "source": [
    "### Conclusões de um Teste de Hipóteses"
   ]
  },
  {
   "cell_type": "markdown",
   "metadata": {},
   "source": [
    "- Com base no teste de hipótese realizado no exemplo anterior, a diferença de $p_{obs} - p_0 = -0.03$ observada no nosso processo de amostragem pode então, _ao nível de significância de $\\alpha = 5\\%$_, **ser puramente atribuída ao acaso**!\n",
    "    - Como o teste que construímos é _simétrico_, uma diferença de $p_0 - p_{obs} = 0.03$ também não seria considerada estatisticamente significante.\n",
    "\n",
    "Em geral, _qualquer valor_ de $p_{obs}$ no intervalo $RA = [0.45, 0.55]$ que fosse observado para essa amostra de tamanho $n = 400$ seria consistente com a hipótese de que a moeda é justa.\n",
    "\n",
    "Analogamente, valores de $p_{obs}$ menores que $0.45$ ou maiores que $0.55$ (ou diferenças maiores que $0.05$ em módulo) seriam considerados _estatisticamente significantes_, e logo não seriam consistentes com $H_0$ ao nível de $\\alpha = 5\\%$ de significância."
   ]
  },
  {
   "cell_type": "markdown",
   "metadata": {},
   "source": [
    "- O IC95% complementa a conclusão acima com a informação de que, para essa amostra, _qualquer valor_ $p_0$ no intervalo $[0.42, 0.52]$ seria plausível como a proporção _real_ de caras obtidas em um lançamento dessa moeda.\n",
    "    - Inclusive $p_0 = 0.50$!\n",
    "\n",
    "Podemos dizer então com 95% de confiança que a moeda é justa, uma vez que a proporção $p_0 = 0.50$ se encontra dentro do IC95%."
   ]
  },
  {
   "cell_type": "markdown",
   "metadata": {},
   "source": [
    "- Finalmente, o p-valor do teste de $p = 0.2486$ nos diz que um resultado como $T_{obs} = 188$ caras ou uma proporção de $p_{obs} = 0.47$ em $n = 400$ lançamentos de _uma moeda justa_ (isto é, sob $H_0$) não é tão atípico assim.\n",
    "\n",
    "Não podemos dizer então que esse é um resultado significante, pois a probabilidade de obtermos um resultado como esse por puro acaso é de 24.86%, o que ao nível de $\\alpha = 5\\%$ é considerada aceitável."
   ]
  },
  {
   "cell_type": "markdown",
   "metadata": {},
   "source": [
    "**Nota**: assim como podemos utilizar tanto simulação quanto teoria para aproximar a distribuição da estatística de teste, o mesmo vale para a construção dos intervalos de confiança e o cálculo dos p-valores correspondentes."
   ]
  },
  {
   "cell_type": "markdown",
   "metadata": {
    "slideshow": {
     "slide_type": "slide"
    }
   },
   "source": [
    "## Resumo e próxima aula"
   ]
  },
  {
   "cell_type": "markdown",
   "metadata": {
    "slideshow": {
     "slide_type": "slide"
    }
   },
   "source": [
    "### Resumo"
   ]
  },
  {
   "cell_type": "markdown",
   "metadata": {},
   "source": [
    "- Um modelo estatístico pode ser formulado como um conjunto de hipóteses que elaboramos sobre o processo que gerou nossos dados. "
   ]
  },
  {
   "cell_type": "markdown",
   "metadata": {},
   "source": [
    "- Para verificar a adequação de um modelo estatístico, realizamos um **Teste de Hipóteses**.\n",
    "    - A **hipótese nula** $H_0$ deve ser um modelo de probabilidade bem definido sobre o processo gerador de dados.\n",
    "    - A **hipótese alternativa** $H_1$ pode ser menos precisa, e representa o complementar de $H_0$.\n",
    "        - Dessa forma, se aceitamos/rejeitamos $H_0$, então rejeitamos/aceitamos $H_1$, e vice-versa."
   ]
  },
  {
   "cell_type": "markdown",
   "metadata": {},
   "source": [
    "- Um Teste de Hipóteses é tipicamente conduzido da seguinte maneira:\n",
    "    1. Aproximamos a distribuição de uma **estatística de teste** $T$ sob $H_0$ através de simulação e/ou teoria;\n",
    "    2. Analisamos se, nessa distribuição, a ocorrência do valor observado para a nossa estatística de teste $T_{obs}$ é _típico_ ou _atípico_, isto é, se sua ocorrência por pura chance/aleatoriedade é \"alta\" ou \"baixa\" (de acordo com algum **nível de significância** $\\alpha$ pré-definido).\n",
    "        - Quando a ocorrência de $T_{obs}$ por pura aleatoriedade é considerada _baixa_, esse evento é considerado **estatisticamente significante**, e logo rejeitamos $H_0$.\n",
    "        - Quando a ocorrência de $T_{obs}$ por pura aleatoriedade é considerada alta_, esse evento é considerado **estatisticamente insignificante**, e logo aceitamos $H_0$. "
   ]
  },
  {
   "cell_type": "markdown",
   "metadata": {},
   "source": [
    "- Existe uma relação intrínseca entre Testes de Hipóteses com nível de significância $\\alpha$ e Intervalos de Confiança com nível de confiança $\\gamma = 1- \\alpha$.\n",
    "    - Em particular, conclusões tomadas com base em ambas as técnicas **devem ser estritamente as mesmas**."
   ]
  },
  {
   "cell_type": "markdown",
   "metadata": {},
   "source": [
    "- Um **p-valor** $p$ é uma maneira de quantificar, sob $H_0$, o quão _extremo_ é o valor de $T_{obs}$, na direção contrária à suportada por $H_0$ (ou na direção em favor de $H_1$.\n",
    "    - Podemos formular nossas conclusões em um Teste de Hipóteses apenas com base nos p-valores, mas devemos tomar cuidado ao interpretá-los!"
   ]
  },
  {
   "cell_type": "markdown",
   "metadata": {
    "slideshow": {
     "slide_type": "slide"
    }
   },
   "source": [
    "### Próxima aula\n",
    "\n",
    "Veremos como definir modelos estatísticos para 2 ou mais variáveis, como realizar inferência para esses modelos e como caracterizar a associação entre conjuntos de variáveis em geral."
   ]
  }
 ],
 "metadata": {
  "kernelspec": {
   "display_name": "Python 3 (ipykernel)",
   "language": "python",
   "name": "python3"
  },
  "language_info": {
   "codemirror_mode": {
    "name": "ipython",
    "version": 3
   },
   "file_extension": ".py",
   "mimetype": "text/x-python",
   "name": "python",
   "nbconvert_exporter": "python",
   "pygments_lexer": "ipython3",
   "version": "3.12.7"
  },
  "livereveal": {
   "scroll": true,
   "transition": "none"
  },
  "rise": {
   "enable_chalkboard": true
  }
 },
 "nbformat": 4,
 "nbformat_minor": 4
}
