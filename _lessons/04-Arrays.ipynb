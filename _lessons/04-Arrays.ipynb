{
 "cells": [
  {
   "cell_type": "markdown",
   "metadata": {
    "slideshow": {
     "slide_type": "slide"
    }
   },
   "source": [
    "---\n",
    "layout: page\n",
    "title: Strings e Arrays\n",
    "nav_order: 4\n",
    "---\n",
    "[<img src=\"https://raw.githubusercontent.com/flaviovdf/fcd/master/assets/colab_favicon_small.png\" style=\"float: right;\">](https://colab.research.google.com/github/flaviovdf/fcd/blob/master/_lessons/04-Arrays.ipynb)\n",
    "\n",
    "# Tópico 4 - Strings e Arrays\n",
    "{: .no_toc .mb-2 }\n",
    "\n",
    "Vetores (Arrays) representam um conjunto básico de dados. Vamos aprender como usar os mesmos.\n",
    "{: .fs-6 .fw-300 }\n",
    "\n",
    "{: .no_toc .text-delta }\n",
    "Resultados Esperados\n",
    "\n",
    "1. Entender tipos em Python, em particular a String\n",
    "1. Saber o que é a biblioteca [numpy](https://numpy.org/)\n",
    "1. Conhecimento básico de manipulação de arrays\n",
    "\n",
    "{: .no_toc .text-delta }\n",
    "Material Adaptado do [DSC10 (UCSD)](https://dsc10.com/)"
   ]
  },
  {
   "cell_type": "markdown",
   "metadata": {
    "slideshow": {
     "slide_type": "slide"
    }
   },
   "source": [
    "### Recursos 🤝\n",
    "\n",
    "- Estamos cobrindo **muito** conteúdo muito rapidamente. Se você está sobrecarregado, saiba que estamos aqui para apoiá-lo!\n",
    "- Os monitores foram definidos. Olhem a mensagem no moodle.\n",
    "- Procurem o professor depois da aula!"
   ]
  },
  {
   "cell_type": "markdown",
   "metadata": {
    "slideshow": {
     "slide_type": "slide"
    }
   },
   "source": [
    "### Agenda\n",
    "\n",
    "- Strings\n",
    "- Listas.\n",
    "- Matrizes.\n",
    "- Intervalos."
   ]
  },
  {
   "cell_type": "markdown",
   "metadata": {
    "slideshow": {
     "slide_type": "slide"
    }
   },
   "source": [
    "## Strings ou Texto"
   ]
  },
  {
   "cell_type": "markdown",
   "metadata": {
    "slideshow": {
     "slide_type": "slide"
    }
   },
   "source": [
    "### Strings\n",
    "\n",
    "- Uma string é um trecho de texto de qualquer comprimento.\n",
    "- Em Python, as strings são colocadas entre aspas simples ou duplas."
   ]
  },
  {
   "cell_type": "code",
   "execution_count": 1,
   "metadata": {
    "execution": {
     "iopub.execute_input": "2025-03-30T15:38:29.034695Z",
     "iopub.status.busy": "2025-03-30T15:38:29.034281Z",
     "iopub.status.idle": "2025-03-30T15:38:29.041077Z",
     "shell.execute_reply": "2025-03-30T15:38:29.040046Z"
    }
   },
   "outputs": [
    {
     "data": {
      "text/plain": [
       "'woof'"
      ]
     },
     "execution_count": 1,
     "metadata": {},
     "output_type": "execute_result"
    }
   ],
   "source": [
    "'woof'"
   ]
  },
  {
   "cell_type": "code",
   "execution_count": 2,
   "metadata": {
    "execution": {
     "iopub.execute_input": "2025-03-30T15:38:29.071728Z",
     "iopub.status.busy": "2025-03-30T15:38:29.070926Z",
     "iopub.status.idle": "2025-03-30T15:38:29.074913Z",
     "shell.execute_reply": "2025-03-30T15:38:29.074521Z"
    }
   },
   "outputs": [
    {
     "data": {
      "text/plain": [
       "str"
      ]
     },
     "execution_count": 2,
     "metadata": {},
     "output_type": "execute_result"
    }
   ],
   "source": [
    "type('woof')"
   ]
  },
  {
   "cell_type": "code",
   "execution_count": 3,
   "metadata": {
    "execution": {
     "iopub.execute_input": "2025-03-30T15:38:29.076402Z",
     "iopub.status.busy": "2025-03-30T15:38:29.076262Z",
     "iopub.status.idle": "2025-03-30T15:38:29.078752Z",
     "shell.execute_reply": "2025-03-30T15:38:29.078452Z"
    },
    "scrolled": true
   },
   "outputs": [
    {
     "data": {
      "text/plain": [
       "'woof'"
      ]
     },
     "execution_count": 3,
     "metadata": {},
     "output_type": "execute_result"
    }
   ],
   "source": [
    "\"woof\""
   ]
  },
  {
   "cell_type": "code",
   "execution_count": 4,
   "metadata": {
    "execution": {
     "iopub.execute_input": "2025-03-30T15:38:29.081336Z",
     "iopub.status.busy": "2025-03-30T15:38:29.080657Z",
     "iopub.status.idle": "2025-03-30T15:38:29.084243Z",
     "shell.execute_reply": "2025-03-30T15:38:29.083666Z"
    }
   },
   "outputs": [
    {
     "data": {
      "text/plain": [
       "'1998'"
      ]
     },
     "execution_count": 4,
     "metadata": {},
     "output_type": "execute_result"
    }
   ],
   "source": [
    "# A string, not an int!\n",
    "\"1998\""
   ]
  },
  {
   "cell_type": "markdown",
   "metadata": {
    "slideshow": {
     "slide_type": "slide"
    }
   },
   "source": [
    "### Aritmética de strings\n",
    "\n",
    "Ao usar o símbolo `+` entre duas strings, a operação é chamada de \"concatenação\"."
   ]
  },
  {
   "cell_type": "code",
   "execution_count": 5,
   "metadata": {
    "execution": {
     "iopub.execute_input": "2025-03-30T15:38:29.087172Z",
     "iopub.status.busy": "2025-03-30T15:38:29.086926Z",
     "iopub.status.idle": "2025-03-30T15:38:29.089209Z",
     "shell.execute_reply": "2025-03-30T15:38:29.088860Z"
    }
   },
   "outputs": [],
   "source": [
    "s1 = 'baby'\n",
    "s2 = '🐼'"
   ]
  },
  {
   "cell_type": "code",
   "execution_count": 6,
   "metadata": {
    "execution": {
     "iopub.execute_input": "2025-03-30T15:38:29.090852Z",
     "iopub.status.busy": "2025-03-30T15:38:29.090568Z",
     "iopub.status.idle": "2025-03-30T15:38:29.093409Z",
     "shell.execute_reply": "2025-03-30T15:38:29.093075Z"
    }
   },
   "outputs": [
    {
     "data": {
      "text/plain": [
       "'baby🐼'"
      ]
     },
     "execution_count": 6,
     "metadata": {},
     "output_type": "execute_result"
    }
   ],
   "source": [
    "s1 + s2"
   ]
  },
  {
   "cell_type": "code",
   "execution_count": 7,
   "metadata": {
    "execution": {
     "iopub.execute_input": "2025-03-30T15:38:29.095167Z",
     "iopub.status.busy": "2025-03-30T15:38:29.094854Z",
     "iopub.status.idle": "2025-03-30T15:38:29.098208Z",
     "shell.execute_reply": "2025-03-30T15:38:29.097739Z"
    }
   },
   "outputs": [
    {
     "data": {
      "text/plain": [
       "'baby 🐼'"
      ]
     },
     "execution_count": 7,
     "metadata": {},
     "output_type": "execute_result"
    }
   ],
   "source": [
    "s1 + ' ' + s2"
   ]
  },
  {
   "cell_type": "code",
   "execution_count": 8,
   "metadata": {
    "execution": {
     "iopub.execute_input": "2025-03-30T15:38:29.102068Z",
     "iopub.status.busy": "2025-03-30T15:38:29.101531Z",
     "iopub.status.idle": "2025-03-30T15:38:29.105107Z",
     "shell.execute_reply": "2025-03-30T15:38:29.104764Z"
    }
   },
   "outputs": [
    {
     "data": {
      "text/plain": [
       "'🐼🐼🐼'"
      ]
     },
     "execution_count": 8,
     "metadata": {},
     "output_type": "execute_result"
    }
   ],
   "source": [
    "s2 * 3"
   ]
  },
  {
   "cell_type": "markdown",
   "metadata": {
    "slideshow": {
     "slide_type": "slide"
    }
   },
   "source": [
    "### Métodos de string\n",
    "* Strings estão associadas a certas funções chamadas **métodos de string**.\n",
    "* Acesse métodos de string com um `.` após a string (\"notação de ponto\").\n",
    "* Por exemplo, para usar o método `upper` na string `s`, escrevemos `s.upper()`.\n",
    "* Exemplos incluem `upper`, `title` e `replace`."
   ]
  },
  {
   "cell_type": "code",
   "execution_count": 9,
   "metadata": {
    "execution": {
     "iopub.execute_input": "2025-03-30T15:38:29.106606Z",
     "iopub.status.busy": "2025-03-30T15:38:29.106478Z",
     "iopub.status.idle": "2025-03-30T15:38:29.108298Z",
     "shell.execute_reply": "2025-03-30T15:38:29.108027Z"
    }
   },
   "outputs": [],
   "source": [
    "my_cool_string = 'data science is super cool!'"
   ]
  },
  {
   "cell_type": "code",
   "execution_count": 10,
   "metadata": {
    "execution": {
     "iopub.execute_input": "2025-03-30T15:38:29.109770Z",
     "iopub.status.busy": "2025-03-30T15:38:29.109610Z",
     "iopub.status.idle": "2025-03-30T15:38:29.112119Z",
     "shell.execute_reply": "2025-03-30T15:38:29.111757Z"
    }
   },
   "outputs": [
    {
     "data": {
      "text/plain": [
       "'Data Science Is Super Cool!'"
      ]
     },
     "execution_count": 10,
     "metadata": {},
     "output_type": "execute_result"
    }
   ],
   "source": [
    "my_cool_string.title()"
   ]
  },
  {
   "cell_type": "code",
   "execution_count": 11,
   "metadata": {
    "execution": {
     "iopub.execute_input": "2025-03-30T15:38:29.113835Z",
     "iopub.status.busy": "2025-03-30T15:38:29.113485Z",
     "iopub.status.idle": "2025-03-30T15:38:29.116874Z",
     "shell.execute_reply": "2025-03-30T15:38:29.116188Z"
    }
   },
   "outputs": [
    {
     "data": {
      "text/plain": [
       "'DATA SCIENCE IS SUPER COOL!'"
      ]
     },
     "execution_count": 11,
     "metadata": {},
     "output_type": "execute_result"
    }
   ],
   "source": [
    "my_cool_string.upper()"
   ]
  },
  {
   "cell_type": "code",
   "execution_count": 12,
   "metadata": {
    "execution": {
     "iopub.execute_input": "2025-03-30T15:38:29.119715Z",
     "iopub.status.busy": "2025-03-30T15:38:29.119191Z",
     "iopub.status.idle": "2025-03-30T15:38:29.122465Z",
     "shell.execute_reply": "2025-03-30T15:38:29.122027Z"
    }
   },
   "outputs": [
    {
     "data": {
      "text/plain": [
       "'data science is 💯💯💯!'"
      ]
     },
     "execution_count": 12,
     "metadata": {},
     "output_type": "execute_result"
    }
   ],
   "source": [
    "my_cool_string.replace('super cool', '💯' * 3)"
   ]
  },
  {
   "cell_type": "code",
   "execution_count": 13,
   "metadata": {
    "execution": {
     "iopub.execute_input": "2025-03-30T15:38:29.124211Z",
     "iopub.status.busy": "2025-03-30T15:38:29.123863Z",
     "iopub.status.idle": "2025-03-30T15:38:29.126633Z",
     "shell.execute_reply": "2025-03-30T15:38:29.126280Z"
    }
   },
   "outputs": [
    {
     "data": {
      "text/plain": [
       "27"
      ]
     },
     "execution_count": 13,
     "metadata": {},
     "output_type": "execute_result"
    }
   ],
   "source": [
    "# len is not a method, since it doesn't use dot notation\n",
    "len(my_cool_string)"
   ]
  },
  {
   "cell_type": "markdown",
   "metadata": {
    "slideshow": {
     "slide_type": "slide"
    }
   },
   "source": [
    "### Caracteres especiais em strings\n",
    "\n",
    "Aspas simples e aspas duplas geralmente são intercambiáveis, exceto quando a própria string contém aspas simples ou duplas."
   ]
  },
  {
   "cell_type": "code",
   "execution_count": 14,
   "metadata": {
    "execution": {
     "iopub.execute_input": "2025-03-30T15:38:29.128200Z",
     "iopub.status.busy": "2025-03-30T15:38:29.128073Z",
     "iopub.status.idle": "2025-03-30T15:38:29.129942Z",
     "shell.execute_reply": "2025-03-30T15:38:29.129602Z"
    },
    "tags": [
     "raises-exception"
    ]
   },
   "outputs": [],
   "source": [
    "# a linha abaixo gera um erro, descomente e teste\n",
    "# 'my string's full of apostrophes!'"
   ]
  },
  {
   "cell_type": "code",
   "execution_count": 15,
   "metadata": {
    "execution": {
     "iopub.execute_input": "2025-03-30T15:38:29.131537Z",
     "iopub.status.busy": "2025-03-30T15:38:29.131266Z",
     "iopub.status.idle": "2025-03-30T15:38:29.135293Z",
     "shell.execute_reply": "2025-03-30T15:38:29.134637Z"
    }
   },
   "outputs": [
    {
     "data": {
      "text/plain": [
       "\"my string's full of apostrophes!\""
      ]
     },
     "execution_count": 15,
     "metadata": {},
     "output_type": "execute_result"
    }
   ],
   "source": [
    "\"my string's full of apostrophes!\""
   ]
  },
  {
   "cell_type": "code",
   "execution_count": 16,
   "metadata": {
    "execution": {
     "iopub.execute_input": "2025-03-30T15:38:29.137219Z",
     "iopub.status.busy": "2025-03-30T15:38:29.136972Z",
     "iopub.status.idle": "2025-03-30T15:38:29.139966Z",
     "shell.execute_reply": "2025-03-30T15:38:29.139584Z"
    }
   },
   "outputs": [
    {
     "data": {
      "text/plain": [
       "'my string\\'s \"full\" of apostrophes!'"
      ]
     },
     "execution_count": 16,
     "metadata": {},
     "output_type": "execute_result"
    }
   ],
   "source": [
    "# escape the apostrophe with a backslash!\n",
    "'my string\\'s \"full\" of apostrophes!'"
   ]
  },
  {
   "cell_type": "code",
   "execution_count": 17,
   "metadata": {
    "execution": {
     "iopub.execute_input": "2025-03-30T15:38:29.141739Z",
     "iopub.status.busy": "2025-03-30T15:38:29.141430Z",
     "iopub.status.idle": "2025-03-30T15:38:29.144036Z",
     "shell.execute_reply": "2025-03-30T15:38:29.143680Z"
    }
   },
   "outputs": [
    {
     "name": "stdout",
     "output_type": "stream",
     "text": [
      "my string's \"full\" of apostrophes!\n"
     ]
    }
   ],
   "source": [
    "print('my string\\'s \"full\" of apostrophes!')"
   ]
  },
  {
   "cell_type": "markdown",
   "metadata": {
    "slideshow": {
     "slide_type": "slide"
    }
   },
   "source": [
    "### Além: `print`\n",
    "- Por padrão, os notebooks Jupyter exibem o valor \"bruto\" da expressão da última linha de uma célula.\n",
    "- A função `print` exibe o valor em texto legível quando é avaliado."
   ]
  },
  {
   "cell_type": "code",
   "execution_count": 18,
   "metadata": {
    "execution": {
     "iopub.execute_input": "2025-03-30T15:38:29.145801Z",
     "iopub.status.busy": "2025-03-30T15:38:29.145519Z",
     "iopub.status.idle": "2025-03-30T15:38:29.148147Z",
     "shell.execute_reply": "2025-03-30T15:38:29.147696Z"
    }
   },
   "outputs": [
    {
     "data": {
      "text/plain": [
       "23"
      ]
     },
     "execution_count": 18,
     "metadata": {},
     "output_type": "execute_result"
    }
   ],
   "source": [
    "12 # 12 won't be displayed, since Python only shows the value of the last expression\n",
    "23"
   ]
  },
  {
   "cell_type": "code",
   "execution_count": 19,
   "metadata": {
    "execution": {
     "iopub.execute_input": "2025-03-30T15:38:29.149800Z",
     "iopub.status.busy": "2025-03-30T15:38:29.149614Z",
     "iopub.status.idle": "2025-03-30T15:38:29.152425Z",
     "shell.execute_reply": "2025-03-30T15:38:29.152045Z"
    }
   },
   "outputs": [
    {
     "name": "stdout",
     "output_type": "stream",
     "text": [
      "12\n",
      "23\n"
     ]
    }
   ],
   "source": [
    "# Note, there is no Out[number] to the left! That only appears when displaying a non-printed value.\n",
    "# But both 12 and 23 are displayed.\n",
    "print(12)\n",
    "print(23)"
   ]
  },
  {
   "cell_type": "code",
   "execution_count": 20,
   "metadata": {
    "execution": {
     "iopub.execute_input": "2025-03-30T15:38:29.153909Z",
     "iopub.status.busy": "2025-03-30T15:38:29.153771Z",
     "iopub.status.idle": "2025-03-30T15:38:29.156375Z",
     "shell.execute_reply": "2025-03-30T15:38:29.155964Z"
    }
   },
   "outputs": [
    {
     "data": {
      "text/plain": [
       "'here is a string with two lines.\\nhere is the second line'"
      ]
     },
     "execution_count": 20,
     "metadata": {},
     "output_type": "execute_result"
    }
   ],
   "source": [
    "# '\\n' inserts a new line\n",
    "my_newline_str = 'here is a string with two lines.\\nhere is the second line'  \n",
    "my_newline_str"
   ]
  },
  {
   "cell_type": "code",
   "execution_count": 21,
   "metadata": {
    "execution": {
     "iopub.execute_input": "2025-03-30T15:38:29.158313Z",
     "iopub.status.busy": "2025-03-30T15:38:29.157945Z",
     "iopub.status.idle": "2025-03-30T15:38:29.160105Z",
     "shell.execute_reply": "2025-03-30T15:38:29.159801Z"
    }
   },
   "outputs": [
    {
     "name": "stdout",
     "output_type": "stream",
     "text": [
      "here is a string with two lines.\n",
      "here is the second line\n"
     ]
    }
   ],
   "source": [
    "# The quotes disappeared and the newline is rendered!\n",
    "print(my_newline_str)  "
   ]
  },
  {
   "cell_type": "markdown",
   "metadata": {
    "slideshow": {
     "slide_type": "slide"
    }
   },
   "source": [
    "### Conversão de tipo de e para strings\n",
    "* Qualquer valor pode ser convertido em uma string usando ```str```.\n",
    "* Algumas strings podem ser convertidas para ```int``` e ```float```."
   ]
  },
  {
   "cell_type": "code",
   "execution_count": 22,
   "metadata": {
    "execution": {
     "iopub.execute_input": "2025-03-30T15:38:29.161417Z",
     "iopub.status.busy": "2025-03-30T15:38:29.161308Z",
     "iopub.status.idle": "2025-03-30T15:38:29.163707Z",
     "shell.execute_reply": "2025-03-30T15:38:29.163300Z"
    }
   },
   "outputs": [
    {
     "data": {
      "text/plain": [
       "'3'"
      ]
     },
     "execution_count": 22,
     "metadata": {},
     "output_type": "execute_result"
    }
   ],
   "source": [
    "str(3)"
   ]
  },
  {
   "cell_type": "code",
   "execution_count": 23,
   "metadata": {
    "execution": {
     "iopub.execute_input": "2025-03-30T15:38:29.164922Z",
     "iopub.status.busy": "2025-03-30T15:38:29.164820Z",
     "iopub.status.idle": "2025-03-30T15:38:29.167840Z",
     "shell.execute_reply": "2025-03-30T15:38:29.167247Z"
    }
   },
   "outputs": [
    {
     "data": {
      "text/plain": [
       "3.0"
      ]
     },
     "execution_count": 23,
     "metadata": {},
     "output_type": "execute_result"
    }
   ],
   "source": [
    "float('3')"
   ]
  },
  {
   "cell_type": "code",
   "execution_count": 24,
   "metadata": {
    "execution": {
     "iopub.execute_input": "2025-03-30T15:38:29.169469Z",
     "iopub.status.busy": "2025-03-30T15:38:29.169203Z",
     "iopub.status.idle": "2025-03-30T15:38:29.171807Z",
     "shell.execute_reply": "2025-03-30T15:38:29.171499Z"
    }
   },
   "outputs": [
    {
     "data": {
      "text/plain": [
       "4"
      ]
     },
     "execution_count": 24,
     "metadata": {},
     "output_type": "execute_result"
    }
   ],
   "source": [
    "int('4')"
   ]
  },
  {
   "cell_type": "code",
   "execution_count": 25,
   "metadata": {
    "execution": {
     "iopub.execute_input": "2025-03-30T15:38:29.173181Z",
     "iopub.status.busy": "2025-03-30T15:38:29.172971Z",
     "iopub.status.idle": "2025-03-30T15:38:29.269371Z",
     "shell.execute_reply": "2025-03-30T15:38:29.268869Z"
    },
    "scrolled": false,
    "tags": [
     "raises-exception"
    ]
   },
   "outputs": [
    {
     "ename": "ValueError",
     "evalue": "invalid literal for int() with base 10: 'baby panda'",
     "output_type": "error",
     "traceback": [
      "\u001b[0;31m---------------------------------------------------------------------------\u001b[0m",
      "\u001b[0;31mValueError\u001b[0m                                Traceback (most recent call last)",
      "Cell \u001b[0;32mIn[25], line 1\u001b[0m\n\u001b[0;32m----> 1\u001b[0m \u001b[38;5;28;43mint\u001b[39;49m\u001b[43m(\u001b[49m\u001b[38;5;124;43m'\u001b[39;49m\u001b[38;5;124;43mbaby panda\u001b[39;49m\u001b[38;5;124;43m'\u001b[39;49m\u001b[43m)\u001b[49m\n",
      "\u001b[0;31mValueError\u001b[0m: invalid literal for int() with base 10: 'baby panda'"
     ]
    }
   ],
   "source": [
    "int('baby panda')"
   ]
  },
  {
   "cell_type": "markdown",
   "metadata": {
    "slideshow": {
     "slide_type": "slide"
    }
   },
   "source": [
    "### Verificação de conceito ✅\n",
    "\n",
    "Suponha que você executou as seguintes instruções:\n",
    "\n",
    "```py\n",
    "x = 3\n",
    "y = '4'\n",
    "z = '5.6'\n",
    "```\n",
    "\n",
    "Escolha a expressão que será avaliada **sem** erro.\n",
    "\n",
    "R. `x + y`\n",
    "\n",
    "B. `x + int(y + z)`\n",
    "\n",
    "C.`str(x) + int(y)`\n",
    "\n",
    "D. `str (x) + z`\n",
    "\n",
    "E. Todos eles têm erros"
   ]
  },
  {
   "cell_type": "markdown",
   "metadata": {
    "slideshow": {
     "slide_type": "slide"
    }
   },
   "source": [
    "## Listas"
   ]
  },
  {
   "cell_type": "markdown",
   "metadata": {
    "slideshow": {
     "slide_type": "slide"
    }
   },
   "source": [
    "### Motivação\n",
    "\n",
    "Como armazenaríamos as temperaturas de cada um dos primeiros 6 dias do mês de setembro?\n",
    "\n",
    "Nossa melhor solução agora é criar uma variável separada para cada dia."
   ]
  },
  {
   "cell_type": "code",
   "execution_count": 26,
   "metadata": {
    "execution": {
     "iopub.execute_input": "2025-03-30T15:38:29.271086Z",
     "iopub.status.busy": "2025-03-30T15:38:29.270958Z",
     "iopub.status.idle": "2025-03-30T15:38:29.273118Z",
     "shell.execute_reply": "2025-03-30T15:38:29.272791Z"
    },
    "slideshow": {
     "slide_type": "fragment"
    }
   },
   "outputs": [],
   "source": [
    "temperature_on_sept_01 = 84\n",
    "temperature_on_sept_02 = 78\n",
    "temperature_on_sept_03 = 81\n",
    "temperature_on_sept_04 = 75\n",
    "temperature_on_sept_05 = 79\n",
    "temperature_on_sept_06 = 75"
   ]
  },
  {
   "cell_type": "markdown",
   "metadata": {
    "slideshow": {
     "slide_type": "fragment"
    }
   },
   "source": [
    "Isso _tecnicamente_ nos permite fazer coisas como calcular a temperatura média durante os primeiros 6 dias:"
   ]
  },
  {
   "cell_type": "markdown",
   "metadata": {
    "slideshow": {
     "slide_type": "-"
    }
   },
   "source": [
    "```\n",
    "avg_temperature = 1/6 * (\n",
    "    temperature_on_sept_01\n",
    "    + temperature_on_sept_02\n",
    "    + temperature_on_sept_03\n",
    "    + ...)\n",
    "```"
   ]
  },
  {
   "cell_type": "markdown",
   "metadata": {},
   "source": [
    "Imagine os dados de um mês inteiro ou os dados de um ano inteiro. Parece que precisamos de uma solução melhor.\n"
   ]
  },
  {
   "cell_type": "markdown",
   "metadata": {
    "slideshow": {
     "slide_type": "slide"
    }
   },
   "source": [
    "### Listas em Python\n",
    "\n",
    "Em Python, uma lista é usada para armazenar vários valores em um único valor/variável. Para criar uma nova lista do zero, usamos `[`colchetes`]`.\n"
   ]
  },
  {
   "cell_type": "code",
   "execution_count": 27,
   "metadata": {
    "execution": {
     "iopub.execute_input": "2025-03-30T15:38:29.274698Z",
     "iopub.status.busy": "2025-03-30T15:38:29.274481Z",
     "iopub.status.idle": "2025-03-30T15:38:29.276421Z",
     "shell.execute_reply": "2025-03-30T15:38:29.276119Z"
    }
   },
   "outputs": [],
   "source": [
    "temperature_list = [84, 78, 81, 75, 79, 75]"
   ]
  },
  {
   "cell_type": "code",
   "execution_count": 28,
   "metadata": {
    "execution": {
     "iopub.execute_input": "2025-03-30T15:38:29.277663Z",
     "iopub.status.busy": "2025-03-30T15:38:29.277559Z",
     "iopub.status.idle": "2025-03-30T15:38:29.280100Z",
     "shell.execute_reply": "2025-03-30T15:38:29.279764Z"
    }
   },
   "outputs": [
    {
     "data": {
      "text/plain": [
       "6"
      ]
     },
     "execution_count": 28,
     "metadata": {},
     "output_type": "execute_result"
    }
   ],
   "source": [
    "len(temperature_list)"
   ]
  },
  {
   "cell_type": "markdown",
   "metadata": {
    "slideshow": {
     "slide_type": "fragment"
    }
   },
   "source": [
    "Observe que os elementos de uma lista não precisam ser únicos!"
   ]
  },
  {
   "cell_type": "markdown",
   "metadata": {
    "slideshow": {
     "slide_type": "slide"
    }
   },
   "source": [
    "### As listas facilitam o trabalho com sequências!\n",
    "\n",
    "Para encontrar a temperatura média, basta dividir a **soma das temperaturas** pelo **número de temperaturas registradas**:"
   ]
  },
  {
   "cell_type": "code",
   "execution_count": 29,
   "metadata": {
    "execution": {
     "iopub.execute_input": "2025-03-30T15:38:29.281463Z",
     "iopub.status.busy": "2025-03-30T15:38:29.281364Z",
     "iopub.status.idle": "2025-03-30T15:38:29.284281Z",
     "shell.execute_reply": "2025-03-30T15:38:29.283706Z"
    }
   },
   "outputs": [
    {
     "data": {
      "text/plain": [
       "[84, 78, 81, 75, 79, 75]"
      ]
     },
     "execution_count": 29,
     "metadata": {},
     "output_type": "execute_result"
    }
   ],
   "source": [
    "temperature_list"
   ]
  },
  {
   "cell_type": "code",
   "execution_count": 30,
   "metadata": {
    "execution": {
     "iopub.execute_input": "2025-03-30T15:38:29.286011Z",
     "iopub.status.busy": "2025-03-30T15:38:29.285895Z",
     "iopub.status.idle": "2025-03-30T15:38:29.288273Z",
     "shell.execute_reply": "2025-03-30T15:38:29.288010Z"
    }
   },
   "outputs": [
    {
     "data": {
      "text/plain": [
       "78.66666666666667"
      ]
     },
     "execution_count": 30,
     "metadata": {},
     "output_type": "execute_result"
    }
   ],
   "source": [
    "sum(temperature_list) / len(temperature_list)"
   ]
  },
  {
   "cell_type": "markdown",
   "metadata": {
    "slideshow": {
     "slide_type": "slide"
    }
   },
   "source": [
    "### Tipos\n",
    "\n",
    "O `tipo` de uma lista é... `lista`."
   ]
  },
  {
   "cell_type": "code",
   "execution_count": 31,
   "metadata": {
    "execution": {
     "iopub.execute_input": "2025-03-30T15:38:29.289545Z",
     "iopub.status.busy": "2025-03-30T15:38:29.289437Z",
     "iopub.status.idle": "2025-03-30T15:38:29.291577Z",
     "shell.execute_reply": "2025-03-30T15:38:29.291325Z"
    }
   },
   "outputs": [
    {
     "data": {
      "text/plain": [
       "[84, 78, 81, 75, 79, 75]"
      ]
     },
     "execution_count": 31,
     "metadata": {},
     "output_type": "execute_result"
    }
   ],
   "source": [
    "temperature_list"
   ]
  },
  {
   "cell_type": "code",
   "execution_count": 32,
   "metadata": {
    "execution": {
     "iopub.execute_input": "2025-03-30T15:38:29.292784Z",
     "iopub.status.busy": "2025-03-30T15:38:29.292678Z",
     "iopub.status.idle": "2025-03-30T15:38:29.294803Z",
     "shell.execute_reply": "2025-03-30T15:38:29.294552Z"
    }
   },
   "outputs": [
    {
     "data": {
      "text/plain": [
       "list"
      ]
     },
     "execution_count": 32,
     "metadata": {},
     "output_type": "execute_result"
    }
   ],
   "source": [
    "type(temperature_list)"
   ]
  },
  {
   "cell_type": "markdown",
   "metadata": {
    "slideshow": {
     "slide_type": "fragment"
    }
   },
   "source": [
    "Dentro de uma lista, você pode armazenar elementos de diferentes tipos."
   ]
  },
  {
   "cell_type": "code",
   "execution_count": 33,
   "metadata": {
    "execution": {
     "iopub.execute_input": "2025-03-30T15:38:29.295959Z",
     "iopub.status.busy": "2025-03-30T15:38:29.295860Z",
     "iopub.status.idle": "2025-03-30T15:38:29.298153Z",
     "shell.execute_reply": "2025-03-30T15:38:29.297856Z"
    }
   },
   "outputs": [
    {
     "data": {
      "text/plain": [
       "[-2, 2.5, 'ucsd', [1, 3]]"
      ]
     },
     "execution_count": 33,
     "metadata": {},
     "output_type": "execute_result"
    }
   ],
   "source": [
    "mixed_list = [-2, 2.5, 'ucsd', [1, 3]]\n",
    "mixed_list"
   ]
  },
  {
   "cell_type": "markdown",
   "metadata": {
    "slideshow": {
     "slide_type": "slide"
    }
   },
   "source": [
    "### Há um problema...\n",
    "\n",
    "- As listas são **muito lentas**.\n",
    "- Isso não é grande coisa quando não há muitas entradas, mas é um grande problema quando há milhões ou bilhões de entradas."
   ]
  },
  {
   "cell_type": "markdown",
   "metadata": {
    "slideshow": {
     "slide_type": "slide"
    }
   },
   "source": [
    "## Matrizes"
   ]
  },
  {
   "cell_type": "markdown",
   "metadata": {
    "slideshow": {
     "slide_type": "slide"
    }
   },
   "source": [
    "### NumPy\n",
    "\n",
    "<center>\n",
    "<img src='https://raw.githubusercontent.com/flaviovdf/fcd/master/assets/04-Arrays/numpy.png' width=400>\n",
    "</center>\n",
    "\n",
    "- NumPy (pronuncia-se \"num pie\") é uma biblioteca (módulo) Python que fornece suporte para **arrays** e operações neles.\n",
    "\n",
    "- A biblioteca `babypandas`, sobre a qual você aprenderá no próximo tópico, anda de mãos dadas com o NumPy.\n",
    "- NumPy é muito usado no mundo real.\n",
    "\n",
    "- Para usar `numpy`, precisamos importá-lo. Geralmente é importado como `np` (mas não precisa ser!)"
   ]
  },
  {
   "cell_type": "code",
   "execution_count": 34,
   "metadata": {
    "execution": {
     "iopub.execute_input": "2025-03-30T15:38:29.299465Z",
     "iopub.status.busy": "2025-03-30T15:38:29.299327Z",
     "iopub.status.idle": "2025-03-30T15:38:29.365010Z",
     "shell.execute_reply": "2025-03-30T15:38:29.364353Z"
    }
   },
   "outputs": [],
   "source": [
    "import numpy as np"
   ]
  },
  {
   "cell_type": "markdown",
   "metadata": {
    "slideshow": {
     "slide_type": "slide"
    }
   },
   "source": [
    "### Matrizes\n",
    "\n",
    "Pense nos arrays NumPy (apenas \"arrays\" de agora em diante) como listas sofisticadas e mais rápidas.\n",
    "\n",
    "<center><img src=\"https://raw.githubusercontent.com/flaviovdf/fcd/master/assets/04-Arrays/squid.png\" width=30%></center>\n",
    "\n",
    "Para criar um array, passamos uma lista como entrada para a função `np.array`."
   ]
  },
  {
   "cell_type": "code",
   "execution_count": 35,
   "metadata": {
    "execution": {
     "iopub.execute_input": "2025-03-30T15:38:29.374232Z",
     "iopub.status.busy": "2025-03-30T15:38:29.373586Z",
     "iopub.status.idle": "2025-03-30T15:38:29.377793Z",
     "shell.execute_reply": "2025-03-30T15:38:29.377385Z"
    }
   },
   "outputs": [
    {
     "data": {
      "text/plain": [
       "array([4, 9, 1, 2])"
      ]
     },
     "execution_count": 35,
     "metadata": {},
     "output_type": "execute_result"
    }
   ],
   "source": [
    "np.array([4, 9, 1, 2])"
   ]
  },
  {
   "cell_type": "markdown",
   "metadata": {
    "slideshow": {
     "slide_type": "fragment"
    }
   },
   "source": [
    "<center>\n",
    "<img src='https://raw.githubusercontent.com/flaviovdf/fcd/master/assets/04-Arrays/brackets.png' width=50%>\n",
    "</center>"
   ]
  },
  {
   "cell_type": "code",
   "execution_count": 36,
   "metadata": {
    "execution": {
     "iopub.execute_input": "2025-03-30T15:38:29.380162Z",
     "iopub.status.busy": "2025-03-30T15:38:29.379656Z",
     "iopub.status.idle": "2025-03-30T15:38:29.386335Z",
     "shell.execute_reply": "2025-03-30T15:38:29.385914Z"
    }
   },
   "outputs": [
    {
     "data": {
      "text/plain": [
       "array([84, 78, 81, 75, 79, 75])"
      ]
     },
     "execution_count": 36,
     "metadata": {},
     "output_type": "execute_result"
    }
   ],
   "source": [
    "temperature_array = np.array([84, 78, 81, 75, 79, 75])\n",
    "temperature_array"
   ]
  },
  {
   "cell_type": "code",
   "execution_count": 37,
   "metadata": {
    "execution": {
     "iopub.execute_input": "2025-03-30T15:38:29.388417Z",
     "iopub.status.busy": "2025-03-30T15:38:29.388140Z",
     "iopub.status.idle": "2025-03-30T15:38:29.391583Z",
     "shell.execute_reply": "2025-03-30T15:38:29.391207Z"
    }
   },
   "outputs": [
    {
     "data": {
      "text/plain": [
       "[84, 78, 81, 75, 79, 75]"
      ]
     },
     "execution_count": 37,
     "metadata": {},
     "output_type": "execute_result"
    }
   ],
   "source": [
    "temperature_list"
   ]
  },
  {
   "cell_type": "code",
   "execution_count": 38,
   "metadata": {
    "execution": {
     "iopub.execute_input": "2025-03-30T15:38:29.393717Z",
     "iopub.status.busy": "2025-03-30T15:38:29.393283Z",
     "iopub.status.idle": "2025-03-30T15:38:29.396843Z",
     "shell.execute_reply": "2025-03-30T15:38:29.396398Z"
    }
   },
   "outputs": [
    {
     "data": {
      "text/plain": [
       "array([84, 78, 81, 75, 79, 75])"
      ]
     },
     "execution_count": 38,
     "metadata": {},
     "output_type": "execute_result"
    }
   ],
   "source": [
    "# No square brackets, because temperature_list is already a list!\n",
    "np.array(temperature_list)"
   ]
  },
  {
   "cell_type": "markdown",
   "metadata": {
    "slideshow": {
     "slide_type": "slide"
    }
   },
   "source": [
    "### Posições\n",
    "\n",
    "Quando as pessoas ficam em fila, cada pessoa tem uma posição.\n",
    "\n",
    "<center><img src=\"https://raw.githubusercontent.com/flaviovdf/fcd/master/assets/04-Arrays/position.png\" width=50%></center>\n",
    "\n",
    "Da mesma forma, cada elemento de um array (e lista) possui uma posição."
   ]
  },
  {
   "cell_type": "markdown",
   "metadata": {
    "slideshow": {
     "slide_type": "slide"
    }
   },
   "source": [
    "### Acessando elementos por posição\n",
    "\n",
    "- Python, como a maioria das linguagens de programação, é \"indexado em 0\".\n",
    "- Isso significa que a posição do primeiro elemento em uma matriz é 0, não 1.\n",
    "- Um motivo: a posição de um elemento representa o número de elementos à sua frente.\n",
    "- Para acessar o elemento do array `arr_name` na posição `pos`, usamos a sintaxe `arr_name[pos]`."
   ]
  },
  {
   "cell_type": "code",
   "execution_count": 39,
   "metadata": {
    "execution": {
     "iopub.execute_input": "2025-03-30T15:38:29.399644Z",
     "iopub.status.busy": "2025-03-30T15:38:29.398820Z",
     "iopub.status.idle": "2025-03-30T15:38:29.403380Z",
     "shell.execute_reply": "2025-03-30T15:38:29.403003Z"
    },
    "slideshow": {
     "slide_type": "-"
    }
   },
   "outputs": [
    {
     "data": {
      "text/plain": [
       "array([84, 78, 81, 75, 79, 75])"
      ]
     },
     "execution_count": 39,
     "metadata": {},
     "output_type": "execute_result"
    }
   ],
   "source": [
    "temperature_array"
   ]
  },
  {
   "cell_type": "code",
   "execution_count": 40,
   "metadata": {
    "execution": {
     "iopub.execute_input": "2025-03-30T15:38:29.404895Z",
     "iopub.status.busy": "2025-03-30T15:38:29.404769Z",
     "iopub.status.idle": "2025-03-30T15:38:29.407287Z",
     "shell.execute_reply": "2025-03-30T15:38:29.406984Z"
    }
   },
   "outputs": [
    {
     "data": {
      "text/plain": [
       "84"
      ]
     },
     "execution_count": 40,
     "metadata": {},
     "output_type": "execute_result"
    }
   ],
   "source": [
    "temperature_array[0]"
   ]
  },
  {
   "cell_type": "code",
   "execution_count": 41,
   "metadata": {
    "execution": {
     "iopub.execute_input": "2025-03-30T15:38:29.408688Z",
     "iopub.status.busy": "2025-03-30T15:38:29.408572Z",
     "iopub.status.idle": "2025-03-30T15:38:29.410963Z",
     "shell.execute_reply": "2025-03-30T15:38:29.410660Z"
    }
   },
   "outputs": [
    {
     "data": {
      "text/plain": [
       "78"
      ]
     },
     "execution_count": 41,
     "metadata": {},
     "output_type": "execute_result"
    }
   ],
   "source": [
    "temperature_array[1]"
   ]
  },
  {
   "cell_type": "code",
   "execution_count": 42,
   "metadata": {
    "execution": {
     "iopub.execute_input": "2025-03-30T15:38:29.412411Z",
     "iopub.status.busy": "2025-03-30T15:38:29.412288Z",
     "iopub.status.idle": "2025-03-30T15:38:29.414578Z",
     "shell.execute_reply": "2025-03-30T15:38:29.414270Z"
    }
   },
   "outputs": [
    {
     "data": {
      "text/plain": [
       "75"
      ]
     },
     "execution_count": 42,
     "metadata": {},
     "output_type": "execute_result"
    }
   ],
   "source": [
    "temperature_array[3]"
   ]
  },
  {
   "cell_type": "code",
   "execution_count": 43,
   "metadata": {
    "execution": {
     "iopub.execute_input": "2025-03-30T15:38:29.416032Z",
     "iopub.status.busy": "2025-03-30T15:38:29.415888Z",
     "iopub.status.idle": "2025-03-30T15:38:29.419129Z",
     "shell.execute_reply": "2025-03-30T15:38:29.418763Z"
    }
   },
   "outputs": [
    {
     "data": {
      "text/plain": [
       "75"
      ]
     },
     "execution_count": 43,
     "metadata": {},
     "output_type": "execute_result"
    }
   ],
   "source": [
    "# Access last element\n",
    "temperature_array[5]"
   ]
  },
  {
   "cell_type": "code",
   "execution_count": 44,
   "metadata": {
    "execution": {
     "iopub.execute_input": "2025-03-30T15:38:29.420505Z",
     "iopub.status.busy": "2025-03-30T15:38:29.420384Z",
     "iopub.status.idle": "2025-03-30T15:38:29.430951Z",
     "shell.execute_reply": "2025-03-30T15:38:29.430665Z"
    },
    "tags": [
     "raises-exception"
    ]
   },
   "outputs": [
    {
     "ename": "IndexError",
     "evalue": "index 6 is out of bounds for axis 0 with size 6",
     "output_type": "error",
     "traceback": [
      "\u001b[0;31m---------------------------------------------------------------------------\u001b[0m",
      "\u001b[0;31mIndexError\u001b[0m                                Traceback (most recent call last)",
      "Cell \u001b[0;32mIn[44], line 1\u001b[0m\n\u001b[0;32m----> 1\u001b[0m \u001b[43mtemperature_array\u001b[49m\u001b[43m[\u001b[49m\u001b[38;5;241;43m6\u001b[39;49m\u001b[43m]\u001b[49m\n",
      "\u001b[0;31mIndexError\u001b[0m: index 6 is out of bounds for axis 0 with size 6"
     ]
    }
   ],
   "source": [
    "temperature_array[6]"
   ]
  },
  {
   "cell_type": "code",
   "execution_count": 45,
   "metadata": {
    "execution": {
     "iopub.execute_input": "2025-03-30T15:38:29.432524Z",
     "iopub.status.busy": "2025-03-30T15:38:29.432385Z",
     "iopub.status.idle": "2025-03-30T15:38:29.435795Z",
     "shell.execute_reply": "2025-03-30T15:38:29.435199Z"
    }
   },
   "outputs": [
    {
     "data": {
      "text/plain": [
       "75"
      ]
     },
     "execution_count": 45,
     "metadata": {},
     "output_type": "execute_result"
    }
   ],
   "source": [
    "# If a position is negative, count from the end!\n",
    "temperature_array[-1]"
   ]
  },
  {
   "cell_type": "markdown",
   "metadata": {
    "slideshow": {
     "slide_type": "slide"
    }
   },
   "source": [
    "### Tipos\n",
    "\n",
    "Anteriormente nesta palestra, vimos que as listas podem armazenar elementos de vários tipos."
   ]
  },
  {
   "cell_type": "code",
   "execution_count": 46,
   "metadata": {
    "execution": {
     "iopub.execute_input": "2025-03-30T15:38:29.437273Z",
     "iopub.status.busy": "2025-03-30T15:38:29.437162Z",
     "iopub.status.idle": "2025-03-30T15:38:29.439687Z",
     "shell.execute_reply": "2025-03-30T15:38:29.439417Z"
    }
   },
   "outputs": [
    {
     "data": {
      "text/plain": [
       "['uc', 'sd', 1961, 3.14]"
      ]
     },
     "execution_count": 46,
     "metadata": {},
     "output_type": "execute_result"
    }
   ],
   "source": [
    "nums_and_strings_lst = ['uc', 'sd', 1961, 3.14]\n",
    "nums_and_strings_lst"
   ]
  },
  {
   "cell_type": "markdown",
   "metadata": {
    "slideshow": {
     "slide_type": "fragment"
    }
   },
   "source": [
    "**Isso não é verdade para arrays – todos os elementos de um array devem ser do mesmo tipo.**"
   ]
  },
  {
   "cell_type": "code",
   "execution_count": 47,
   "metadata": {
    "execution": {
     "iopub.execute_input": "2025-03-30T15:38:29.440915Z",
     "iopub.status.busy": "2025-03-30T15:38:29.440804Z",
     "iopub.status.idle": "2025-03-30T15:38:29.443230Z",
     "shell.execute_reply": "2025-03-30T15:38:29.442926Z"
    }
   },
   "outputs": [
    {
     "data": {
      "text/plain": [
       "array(['uc', 'sd', '1961', '3.14'], dtype='<U32')"
      ]
     },
     "execution_count": 47,
     "metadata": {},
     "output_type": "execute_result"
    }
   ],
   "source": [
    "# All elements are converted to strings!\n",
    "np.array(nums_and_strings_lst)"
   ]
  },
  {
   "cell_type": "markdown",
   "metadata": {
    "slideshow": {
     "slide_type": "slide"
    }
   },
   "source": [
    "### Aritmética de números de array\n",
    "\n",
    "As matrizes facilitam a execução da mesma operação em todos os elementos. Este comportamento é formalmente conhecido como \"transmissão\"."
   ]
  },
  {
   "cell_type": "code",
   "execution_count": 48,
   "metadata": {
    "execution": {
     "iopub.execute_input": "2025-03-30T15:38:29.444598Z",
     "iopub.status.busy": "2025-03-30T15:38:29.444491Z",
     "iopub.status.idle": "2025-03-30T15:38:29.446718Z",
     "shell.execute_reply": "2025-03-30T15:38:29.446461Z"
    }
   },
   "outputs": [
    {
     "data": {
      "text/plain": [
       "array([84, 78, 81, 75, 79, 75])"
      ]
     },
     "execution_count": 48,
     "metadata": {},
     "output_type": "execute_result"
    }
   ],
   "source": [
    "temperature_array"
   ]
  },
  {
   "cell_type": "code",
   "execution_count": 49,
   "metadata": {
    "execution": {
     "iopub.execute_input": "2025-03-30T15:38:29.448012Z",
     "iopub.status.busy": "2025-03-30T15:38:29.447907Z",
     "iopub.status.idle": "2025-03-30T15:38:29.450617Z",
     "shell.execute_reply": "2025-03-30T15:38:29.450055Z"
    }
   },
   "outputs": [
    {
     "data": {
      "text/plain": [
       "array([87, 81, 84, 78, 82, 78])"
      ]
     },
     "execution_count": 49,
     "metadata": {},
     "output_type": "execute_result"
    }
   ],
   "source": [
    "# Increase all temperatures by 3 degrees\n",
    "temperature_array + 3"
   ]
  },
  {
   "cell_type": "code",
   "execution_count": 50,
   "metadata": {
    "execution": {
     "iopub.execute_input": "2025-03-30T15:38:29.452242Z",
     "iopub.status.busy": "2025-03-30T15:38:29.452105Z",
     "iopub.status.idle": "2025-03-30T15:38:29.454660Z",
     "shell.execute_reply": "2025-03-30T15:38:29.454389Z"
    }
   },
   "outputs": [
    {
     "data": {
      "text/plain": [
       "array([42. , 39. , 40.5, 37.5, 39.5, 37.5])"
      ]
     },
     "execution_count": 50,
     "metadata": {},
     "output_type": "execute_result"
    }
   ],
   "source": [
    "# Halve all temperatures\n",
    "temperature_array / 2"
   ]
  },
  {
   "cell_type": "code",
   "execution_count": 51,
   "metadata": {
    "execution": {
     "iopub.execute_input": "2025-03-30T15:38:29.455892Z",
     "iopub.status.busy": "2025-03-30T15:38:29.455780Z",
     "iopub.status.idle": "2025-03-30T15:38:29.458168Z",
     "shell.execute_reply": "2025-03-30T15:38:29.457889Z"
    }
   },
   "outputs": [
    {
     "data": {
      "text/plain": [
       "array([28.88888889, 25.55555556, 27.22222222, 23.88888889, 26.11111111,\n",
       "       23.88888889])"
      ]
     },
     "execution_count": 51,
     "metadata": {},
     "output_type": "execute_result"
    }
   ],
   "source": [
    "# Convert all temperatures to Celsius\n",
    "(5 / 9) * (temperature_array - 32)"
   ]
  },
  {
   "cell_type": "markdown",
   "metadata": {
    "slideshow": {
     "slide_type": "fragment"
    }
   },
   "source": [
    "**Nota:** Em nenhuma das células acima modificamos `temperature_array`! Cada uma dessas expressões criou um novo array."
   ]
  },
  {
   "cell_type": "code",
   "execution_count": 52,
   "metadata": {
    "execution": {
     "iopub.execute_input": "2025-03-30T15:38:29.459449Z",
     "iopub.status.busy": "2025-03-30T15:38:29.459339Z",
     "iopub.status.idle": "2025-03-30T15:38:29.461532Z",
     "shell.execute_reply": "2025-03-30T15:38:29.461256Z"
    }
   },
   "outputs": [
    {
     "data": {
      "text/plain": [
       "array([84, 78, 81, 75, 79, 75])"
      ]
     },
     "execution_count": 52,
     "metadata": {},
     "output_type": "execute_result"
    }
   ],
   "source": [
    "temperature_array"
   ]
  },
  {
   "cell_type": "markdown",
   "metadata": {},
   "source": [
    "Para realmente alterar `temperature_array`, precisamos reatribuí-lo a um novo array."
   ]
  },
  {
   "cell_type": "code",
   "execution_count": 53,
   "metadata": {
    "execution": {
     "iopub.execute_input": "2025-03-30T15:38:29.462743Z",
     "iopub.status.busy": "2025-03-30T15:38:29.462634Z",
     "iopub.status.idle": "2025-03-30T15:38:29.464423Z",
     "shell.execute_reply": "2025-03-30T15:38:29.464107Z"
    }
   },
   "outputs": [],
   "source": [
    "temperature_array = (5 / 9) * (temperature_array - 32)"
   ]
  },
  {
   "cell_type": "code",
   "execution_count": 54,
   "metadata": {
    "execution": {
     "iopub.execute_input": "2025-03-30T15:38:29.465712Z",
     "iopub.status.busy": "2025-03-30T15:38:29.465601Z",
     "iopub.status.idle": "2025-03-30T15:38:29.468721Z",
     "shell.execute_reply": "2025-03-30T15:38:29.468340Z"
    }
   },
   "outputs": [
    {
     "data": {
      "text/plain": [
       "array([28.88888889, 25.55555556, 27.22222222, 23.88888889, 26.11111111,\n",
       "       23.88888889])"
      ]
     },
     "execution_count": 54,
     "metadata": {},
     "output_type": "execute_result"
    }
   ],
   "source": [
    "# Now in Celsius!\n",
    "temperature_array"
   ]
  },
  {
   "cell_type": "markdown",
   "metadata": {
    "slideshow": {
     "slide_type": "slide"
    }
   },
   "source": [
    "### Aritmética elemento a elemento\n",
    "\n",
    "- Podemos aplicar operações aritméticas a múltiplos arrays, desde que tenham o mesmo comprimento.\n",
    "- O resultado é calculado **por elemento**, o que significa que a operação aritmética é aplicada a um par de elementos de cada array por vez.\n",
    "- Por exemplo, `a + b` é um array cujo primeiro elemento é a soma do primeiro elemento de `a` e do primeiro elemento de `b`."
   ]
  },
  {
   "cell_type": "code",
   "execution_count": 55,
   "metadata": {
    "execution": {
     "iopub.execute_input": "2025-03-30T15:38:29.470128Z",
     "iopub.status.busy": "2025-03-30T15:38:29.470010Z",
     "iopub.status.idle": "2025-03-30T15:38:29.471930Z",
     "shell.execute_reply": "2025-03-30T15:38:29.471657Z"
    }
   },
   "outputs": [],
   "source": [
    "a = np.array([1, 2, 3])\n",
    "b = np.array([-4, 5, 9])"
   ]
  },
  {
   "cell_type": "code",
   "execution_count": 56,
   "metadata": {
    "execution": {
     "iopub.execute_input": "2025-03-30T15:38:29.473104Z",
     "iopub.status.busy": "2025-03-30T15:38:29.472991Z",
     "iopub.status.idle": "2025-03-30T15:38:29.475313Z",
     "shell.execute_reply": "2025-03-30T15:38:29.475046Z"
    }
   },
   "outputs": [
    {
     "data": {
      "text/plain": [
       "array([-3,  7, 12])"
      ]
     },
     "execution_count": 56,
     "metadata": {},
     "output_type": "execute_result"
    }
   ],
   "source": [
    "a + b"
   ]
  },
  {
   "cell_type": "code",
   "execution_count": 57,
   "metadata": {
    "execution": {
     "iopub.execute_input": "2025-03-30T15:38:29.476640Z",
     "iopub.status.busy": "2025-03-30T15:38:29.476536Z",
     "iopub.status.idle": "2025-03-30T15:38:29.478927Z",
     "shell.execute_reply": "2025-03-30T15:38:29.478658Z"
    }
   },
   "outputs": [
    {
     "data": {
      "text/plain": [
       "array([-0.25      ,  0.4       ,  0.33333333])"
      ]
     },
     "execution_count": 57,
     "metadata": {},
     "output_type": "execute_result"
    }
   ],
   "source": [
    "a / b"
   ]
  },
  {
   "cell_type": "code",
   "execution_count": 58,
   "metadata": {
    "execution": {
     "iopub.execute_input": "2025-03-30T15:38:29.480073Z",
     "iopub.status.busy": "2025-03-30T15:38:29.479967Z",
     "iopub.status.idle": "2025-03-30T15:38:29.482324Z",
     "shell.execute_reply": "2025-03-30T15:38:29.482018Z"
    }
   },
   "outputs": [
    {
     "data": {
      "text/plain": [
       "array([17, 29, 90])"
      ]
     },
     "execution_count": 58,
     "metadata": {},
     "output_type": "execute_result"
    }
   ],
   "source": [
    "a ** 2 + b ** 2"
   ]
  },
  {
   "cell_type": "markdown",
   "metadata": {
    "slideshow": {
     "slide_type": "slide"
    }
   },
   "source": [
    "### Exemplo: visualizações do TikTok 🎬\n",
    "\n",
    "Baby Panda fez uma série de cinco vídeos no TikTok chamada \"Um dia na vida de um mascote da ciência de dados\". O número de visualizações que eles receberam nesses vídeos é armazenado na matriz `views` abaixo."
   ]
  },
  {
   "cell_type": "code",
   "execution_count": 59,
   "metadata": {
    "execution": {
     "iopub.execute_input": "2025-03-30T15:38:29.484651Z",
     "iopub.status.busy": "2025-03-30T15:38:29.484257Z",
     "iopub.status.idle": "2025-03-30T15:38:29.486510Z",
     "shell.execute_reply": "2025-03-30T15:38:29.486190Z"
    }
   },
   "outputs": [],
   "source": [
    "views = np.array([158, 352, 195, 1423916, 46])"
   ]
  },
  {
   "cell_type": "markdown",
   "metadata": {},
   "source": [
    "Algumas perguntas:"
   ]
  },
  {
   "cell_type": "markdown",
   "metadata": {
    "slideshow": {
     "slide_type": "fragment"
    }
   },
   "source": [
    "Qual foi a contagem média de visualizações?"
   ]
  },
  {
   "cell_type": "code",
   "execution_count": 60,
   "metadata": {
    "execution": {
     "iopub.execute_input": "2025-03-30T15:38:29.487927Z",
     "iopub.status.busy": "2025-03-30T15:38:29.487809Z",
     "iopub.status.idle": "2025-03-30T15:38:29.490222Z",
     "shell.execute_reply": "2025-03-30T15:38:29.489905Z"
    }
   },
   "outputs": [
    {
     "data": {
      "text/plain": [
       "array([    158,     352,     195, 1423916,      46])"
      ]
     },
     "execution_count": 60,
     "metadata": {},
     "output_type": "execute_result"
    }
   ],
   "source": [
    "views"
   ]
  },
  {
   "cell_type": "code",
   "execution_count": 61,
   "metadata": {
    "execution": {
     "iopub.execute_input": "2025-03-30T15:38:29.491563Z",
     "iopub.status.busy": "2025-03-30T15:38:29.491450Z",
     "iopub.status.idle": "2025-03-30T15:38:29.493859Z",
     "shell.execute_reply": "2025-03-30T15:38:29.493546Z"
    }
   },
   "outputs": [
    {
     "data": {
      "text/plain": [
       "284933.4"
      ]
     },
     "execution_count": 61,
     "metadata": {},
     "output_type": "execute_result"
    }
   ],
   "source": [
    "sum(views) / len(views)"
   ]
  },
  {
   "cell_type": "code",
   "execution_count": 62,
   "metadata": {
    "execution": {
     "iopub.execute_input": "2025-03-30T15:38:29.495179Z",
     "iopub.status.busy": "2025-03-30T15:38:29.495065Z",
     "iopub.status.idle": "2025-03-30T15:38:29.497376Z",
     "shell.execute_reply": "2025-03-30T15:38:29.497059Z"
    }
   },
   "outputs": [
    {
     "data": {
      "text/plain": [
       "284933.4"
      ]
     },
     "execution_count": 62,
     "metadata": {},
     "output_type": "execute_result"
    }
   ],
   "source": [
    "# The mean method exists for arrays (but not for lists)\n",
    "views.mean()"
   ]
  },
  {
   "cell_type": "markdown",
   "metadata": {
    "slideshow": {
     "slide_type": "fragment"
    }
   },
   "source": [
    "Quantas visualizações seus vídeos mais e menos populares receberam?"
   ]
  },
  {
   "cell_type": "code",
   "execution_count": 63,
   "metadata": {
    "execution": {
     "iopub.execute_input": "2025-03-30T15:38:29.498776Z",
     "iopub.status.busy": "2025-03-30T15:38:29.498663Z",
     "iopub.status.idle": "2025-03-30T15:38:29.502407Z",
     "shell.execute_reply": "2025-03-30T15:38:29.501805Z"
    }
   },
   "outputs": [
    {
     "data": {
      "text/plain": [
       "array([    158,     352,     195, 1423916,      46])"
      ]
     },
     "execution_count": 63,
     "metadata": {},
     "output_type": "execute_result"
    }
   ],
   "source": [
    "views"
   ]
  },
  {
   "cell_type": "code",
   "execution_count": 64,
   "metadata": {
    "execution": {
     "iopub.execute_input": "2025-03-30T15:38:29.504057Z",
     "iopub.status.busy": "2025-03-30T15:38:29.503896Z",
     "iopub.status.idle": "2025-03-30T15:38:29.506646Z",
     "shell.execute_reply": "2025-03-30T15:38:29.506339Z"
    }
   },
   "outputs": [
    {
     "data": {
      "text/plain": [
       "1423916"
      ]
     },
     "execution_count": 64,
     "metadata": {},
     "output_type": "execute_result"
    }
   ],
   "source": [
    "views.max()"
   ]
  },
  {
   "cell_type": "code",
   "execution_count": 65,
   "metadata": {
    "execution": {
     "iopub.execute_input": "2025-03-30T15:38:29.508001Z",
     "iopub.status.busy": "2025-03-30T15:38:29.507795Z",
     "iopub.status.idle": "2025-03-30T15:38:29.510432Z",
     "shell.execute_reply": "2025-03-30T15:38:29.510135Z"
    }
   },
   "outputs": [
    {
     "data": {
      "text/plain": [
       "46"
      ]
     },
     "execution_count": 65,
     "metadata": {},
     "output_type": "execute_result"
    }
   ],
   "source": [
    "views.min()"
   ]
  },
  {
   "cell_type": "markdown",
   "metadata": {
    "slideshow": {
     "slide_type": "fragment"
    }
   },
   "source": [
    "Quantas visualizações **acima da média** cada um dos vídeos recebeu? Quantas visualizações acima da média o vídeo mais visto recebeu?"
   ]
  },
  {
   "cell_type": "code",
   "execution_count": 66,
   "metadata": {
    "execution": {
     "iopub.execute_input": "2025-03-30T15:38:29.511849Z",
     "iopub.status.busy": "2025-03-30T15:38:29.511666Z",
     "iopub.status.idle": "2025-03-30T15:38:29.514142Z",
     "shell.execute_reply": "2025-03-30T15:38:29.513821Z"
    }
   },
   "outputs": [
    {
     "data": {
      "text/plain": [
       "array([    158,     352,     195, 1423916,      46])"
      ]
     },
     "execution_count": 66,
     "metadata": {},
     "output_type": "execute_result"
    }
   ],
   "source": [
    "views"
   ]
  },
  {
   "cell_type": "code",
   "execution_count": 67,
   "metadata": {
    "execution": {
     "iopub.execute_input": "2025-03-30T15:38:29.515448Z",
     "iopub.status.busy": "2025-03-30T15:38:29.515274Z",
     "iopub.status.idle": "2025-03-30T15:38:29.519061Z",
     "shell.execute_reply": "2025-03-30T15:38:29.518568Z"
    }
   },
   "outputs": [
    {
     "data": {
      "text/plain": [
       "array([-284775.4, -284581.4, -284738.4, 1138982.6, -284887.4])"
      ]
     },
     "execution_count": 67,
     "metadata": {},
     "output_type": "execute_result"
    }
   ],
   "source": [
    "views - views.mean()"
   ]
  },
  {
   "cell_type": "code",
   "execution_count": 68,
   "metadata": {
    "execution": {
     "iopub.execute_input": "2025-03-30T15:38:29.520411Z",
     "iopub.status.busy": "2025-03-30T15:38:29.520284Z",
     "iopub.status.idle": "2025-03-30T15:38:29.523037Z",
     "shell.execute_reply": "2025-03-30T15:38:29.522738Z"
    }
   },
   "outputs": [
    {
     "data": {
      "text/plain": [
       "1138982.6"
      ]
     },
     "execution_count": 68,
     "metadata": {},
     "output_type": "execute_result"
    }
   ],
   "source": [
    "(views - views.mean()).max()"
   ]
  },
  {
   "cell_type": "markdown",
   "metadata": {
    "slideshow": {
     "slide_type": "fragment"
    }
   },
   "source": [
    "Foi [estimated](https://www.ngpf.org/blog/question-of-the-day/question-of-the-day-how-much-can-a-creator-on-tiktok-make-if-their-video-receives-1-million-views/) que o TikTok paga aos seus criadores \\\\$0,03 por 1000 visualizações. Se isso for verdade, quantos dólares o Bebê Panda ganhou com seu vídeo mais visto? 💸"
   ]
  },
  {
   "cell_type": "code",
   "execution_count": 69,
   "metadata": {
    "execution": {
     "iopub.execute_input": "2025-03-30T15:38:29.524231Z",
     "iopub.status.busy": "2025-03-30T15:38:29.524122Z",
     "iopub.status.idle": "2025-03-30T15:38:29.526509Z",
     "shell.execute_reply": "2025-03-30T15:38:29.526209Z"
    }
   },
   "outputs": [
    {
     "data": {
      "text/plain": [
       "array([    158,     352,     195, 1423916,      46])"
      ]
     },
     "execution_count": 69,
     "metadata": {},
     "output_type": "execute_result"
    }
   ],
   "source": [
    "views"
   ]
  },
  {
   "cell_type": "code",
   "execution_count": 70,
   "metadata": {
    "execution": {
     "iopub.execute_input": "2025-03-30T15:38:29.527969Z",
     "iopub.status.busy": "2025-03-30T15:38:29.527757Z",
     "iopub.status.idle": "2025-03-30T15:38:29.530037Z",
     "shell.execute_reply": "2025-03-30T15:38:29.529765Z"
    }
   },
   "outputs": [
    {
     "data": {
      "text/plain": [
       "42.717479999999995"
      ]
     },
     "execution_count": 70,
     "metadata": {},
     "output_type": "execute_result"
    }
   ],
   "source": [
    "views.max() * 0.03 / 1000"
   ]
  },
  {
   "cell_type": "markdown",
   "metadata": {
    "slideshow": {
     "slide_type": "slide"
    }
   },
   "source": [
    "## Gamas"
   ]
  },
  {
   "cell_type": "markdown",
   "metadata": {
    "slideshow": {
     "slide_type": "slide"
    }
   },
   "source": [
    "### Motivação\n",
    "\n",
    "Muitas vezes precisamos criar arrays como este:"
   ]
  },
  {
   "cell_type": "code",
   "execution_count": 71,
   "metadata": {
    "execution": {
     "iopub.execute_input": "2025-03-30T15:38:29.531431Z",
     "iopub.status.busy": "2025-03-30T15:38:29.531229Z",
     "iopub.status.idle": "2025-03-30T15:38:29.533510Z",
     "shell.execute_reply": "2025-03-30T15:38:29.533032Z"
    }
   },
   "outputs": [],
   "source": [
    "days_in_september = np.array([\n",
    "    1, 2, 3, 4, 5, 6, 7, 8, 9, 10, 11, 12, \n",
    "    13, 14, 15, 16, 17, 18, 19, 20, 21, 22, \n",
    "    23, 24, 25, 26, 27, 28, 29, 30\n",
    "])"
   ]
  },
  {
   "cell_type": "markdown",
   "metadata": {
    "slideshow": {
     "slide_type": "fragment"
    }
   },
   "source": [
    "Precisa haver uma maneira mais fácil de fazer isso!"
   ]
  },
  {
   "cell_type": "markdown",
   "metadata": {
    "slideshow": {
     "slide_type": "slide"
    }
   },
   "source": [
    "### Intervalos\n",
    "* Um **intervalo** é uma matriz de números espaçados uniformemente. Criamos intervalos usando `np.arange`.\n",
    "* A maneira mais geral de criar um intervalo é `np.arange(start, end, step)`. Isso retorna uma matriz tal que:\n",
    "- O primeiro número é `start`. **Por padrão, `iniciar` é 0.**\n",
    "- Todos os números subsequentes são espaçados por `step`, até (mas excluindo) `end`. **Por padrão, `step` é 1.**"
   ]
  },
  {
   "cell_type": "code",
   "execution_count": 72,
   "metadata": {
    "execution": {
     "iopub.execute_input": "2025-03-30T15:38:29.535698Z",
     "iopub.status.busy": "2025-03-30T15:38:29.535562Z",
     "iopub.status.idle": "2025-03-30T15:38:29.538071Z",
     "shell.execute_reply": "2025-03-30T15:38:29.537804Z"
    }
   },
   "outputs": [
    {
     "data": {
      "text/plain": [
       "array([0, 1, 2, 3, 4, 5, 6, 7])"
      ]
     },
     "execution_count": 72,
     "metadata": {},
     "output_type": "execute_result"
    }
   ],
   "source": [
    "# Start at 0, end before 8, step by 1\n",
    "# This will be our most common use-case!\n",
    "np.arange(8)"
   ]
  },
  {
   "cell_type": "code",
   "execution_count": 73,
   "metadata": {
    "execution": {
     "iopub.execute_input": "2025-03-30T15:38:29.539263Z",
     "iopub.status.busy": "2025-03-30T15:38:29.539153Z",
     "iopub.status.idle": "2025-03-30T15:38:29.541483Z",
     "shell.execute_reply": "2025-03-30T15:38:29.541224Z"
    }
   },
   "outputs": [
    {
     "data": {
      "text/plain": [
       "array([5, 6, 7, 8, 9])"
      ]
     },
     "execution_count": 73,
     "metadata": {},
     "output_type": "execute_result"
    }
   ],
   "source": [
    "# Start at 5, end before 10, step by 1\n",
    "np.arange(5, 10)"
   ]
  },
  {
   "cell_type": "code",
   "execution_count": 74,
   "metadata": {
    "execution": {
     "iopub.execute_input": "2025-03-30T15:38:29.542718Z",
     "iopub.status.busy": "2025-03-30T15:38:29.542612Z",
     "iopub.status.idle": "2025-03-30T15:38:29.544921Z",
     "shell.execute_reply": "2025-03-30T15:38:29.544663Z"
    }
   },
   "outputs": [
    {
     "data": {
      "text/plain": [
       "array([ 3,  8, 13, 18, 23, 28])"
      ]
     },
     "execution_count": 74,
     "metadata": {},
     "output_type": "execute_result"
    }
   ],
   "source": [
    "# Start at 3, end before 32, step by 5\n",
    "np.arange(3, 32, 5)"
   ]
  },
  {
   "cell_type": "code",
   "execution_count": 75,
   "metadata": {
    "execution": {
     "iopub.execute_input": "2025-03-30T15:38:29.546102Z",
     "iopub.status.busy": "2025-03-30T15:38:29.545997Z",
     "iopub.status.idle": "2025-03-30T15:38:29.548368Z",
     "shell.execute_reply": "2025-03-30T15:38:29.548084Z"
    }
   },
   "outputs": [
    {
     "data": {
      "text/plain": [
       "array([-3. , -2.5, -2. , -1.5, -1. , -0.5,  0. ,  0.5,  1. ,  1.5])"
      ]
     },
     "execution_count": 75,
     "metadata": {},
     "output_type": "execute_result"
    }
   ],
   "source": [
    "# Steps can be fractional!\n",
    "np.arange(-3, 2, 0.5)"
   ]
  },
  {
   "cell_type": "code",
   "execution_count": 76,
   "metadata": {
    "execution": {
     "iopub.execute_input": "2025-03-30T15:38:29.549642Z",
     "iopub.status.busy": "2025-03-30T15:38:29.549501Z",
     "iopub.status.idle": "2025-03-30T15:38:29.552470Z",
     "shell.execute_reply": "2025-03-30T15:38:29.552188Z"
    }
   },
   "outputs": [
    {
     "data": {
      "text/plain": [
       "array([ 1, -2, -5, -8])"
      ]
     },
     "execution_count": 76,
     "metadata": {},
     "output_type": "execute_result"
    }
   ],
   "source": [
    "# If step is negative, we count backwards.\n",
    "np.arange(1, -10, -3)"
   ]
  },
  {
   "cell_type": "markdown",
   "metadata": {
    "slideshow": {
     "slide_type": "slide"
    }
   },
   "source": [
    "### Atividade\n",
    "\n",
    "🎉 Parabéns! 🎉 Você ganhou na loteria 💰. Veja como funciona o seu pagamento: no primeiro dia de setembro, você receberá 0,01. A cada dia seguinte, seu salário dobra, então no segundo dia você recebe 0,02, no terceiro dia você recebe 0,04, no quarto dia você recebe 0,08 e assim por diante.\n",
    "\n",
    "Setembro tem 30 dias.\n",
    "\n",
    "Escreva uma **expressão de uma linha** que use os números `2` e `30`, junto com a função `np.arange` e o método `.sum()`, que calcula o valor total **em dólares** você será pago em setembro."
   ]
  },
  {
   "cell_type": "code",
   "execution_count": 77,
   "metadata": {
    "execution": {
     "iopub.execute_input": "2025-03-30T15:38:29.553793Z",
     "iopub.status.busy": "2025-03-30T15:38:29.553673Z",
     "iopub.status.idle": "2025-03-30T15:38:29.555953Z",
     "shell.execute_reply": "2025-03-30T15:38:29.555684Z"
    }
   },
   "outputs": [
    {
     "data": {
      "text/plain": [
       "Ellipsis"
      ]
     },
     "execution_count": 77,
     "metadata": {},
     "output_type": "execute_result"
    }
   ],
   "source": [
    "..."
   ]
  },
  {
   "cell_type": "markdown",
   "metadata": {
    "slideshow": {
     "slide_type": "slide"
    }
   },
   "source": [
    "## Resumo, da próxima vez"
   ]
  },
  {
   "cell_type": "markdown",
   "metadata": {
    "slideshow": {
     "slide_type": "slide"
    }
   },
   "source": [
    "### Resumo\n",
    "\n",
    "- Strings são usadas para armazenar texto. Coloque-os entre aspas simples ou duplas.\n",
    "- Listas e arrays são usados ​​para armazenar **sequências**.\n",
    "- Matrizes são mais rápidas e convenientes para operações numéricas.\n",
    "- Você pode executar facilmente operações numéricas em todos os elementos de um array e realizar operações em vários arrays.\n",
    "- Os intervalos são matrizes de números igualmente espaçados.\n",
    "- Lembre-se de consultar os recursos desde o início da palestra!"
   ]
  },
  {
   "cell_type": "markdown",
   "metadata": {
    "slideshow": {
     "slide_type": "slide"
    }
   },
   "source": [
    "### Próxima vez\n",
    "\n",
    "Aprenderemos como usar Python para trabalhar com dados tabulares do mundo real."
   ]
  }
 ],
 "metadata": {
  "kernelspec": {
   "display_name": "Python 3 (ipykernel)",
   "language": "python",
   "name": "python3"
  },
  "language_info": {
   "codemirror_mode": {
    "name": "ipython",
    "version": 3
   },
   "file_extension": ".py",
   "mimetype": "text/x-python",
   "name": "python",
   "nbconvert_exporter": "python",
   "pygments_lexer": "ipython3",
   "version": "3.12.7"
  },
  "livereveal": {
   "scroll": true,
   "transition": "none"
  },
  "rise": {
   "enable_chalkboard": true
  }
 },
 "nbformat": 4,
 "nbformat_minor": 2
}
