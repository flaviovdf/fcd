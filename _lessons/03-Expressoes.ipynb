{
 "cells": [
  {
   "cell_type": "markdown",
   "metadata": {
    "slideshow": {
     "slide_type": "slide"
    }
   },
   "source": [
    "---\n",
    "layout: page\n",
    "title: Expressões\n",
    "nav_order: 3\n",
    "---\n",
    "[<img src=\"https://raw.githubusercontent.com/flaviovdf/fcd/master/assets/colab_favicon_small.png\" style=\"float: right;\">](https://colab.research.google.com/github/flaviovdf/fcd/blob/master/_lessons/03-Expressoes.ipynb)\n",
    "\n",
    "# Tópico 3 - Expressões\n",
    "{: .no_toc .mb-2 }\n",
    "\n",
    "Primeiros passos em Python.\n",
    "{: .fs-6 .fw-300 }\n",
    "\n",
    "{: .no_toc .text-delta }\n",
    "Resultados Esperados\n",
    "\n",
    "1. Saber o que é um notebook e um arquivo `.py`\n",
    "1. Saber realizar matemática simples em python\n",
    "1. Entender as ferramentas base da ciência de dados\n",
    "\n",
    "{: .no_toc .text-delta }\n",
    "Material Adaptado do [DSC10 (UCSD)](https://dsc10.com/)"
   ]
  },
  {
   "cell_type": "code",
   "execution_count": 1,
   "metadata": {
    "execution": {
     "iopub.execute_input": "2025-03-30T15:38:24.408667Z",
     "iopub.status.busy": "2025-03-30T15:38:24.408374Z",
     "iopub.status.idle": "2025-03-30T15:38:24.411228Z",
     "shell.execute_reply": "2025-03-30T15:38:24.410911Z"
    },
    "slideshow": {
     "slide_type": "skip"
    }
   },
   "outputs": [],
   "source": [
    "# Ignore este código, porém execute o mesmo\n",
    "\n",
    "from IPython.display import IFrame\n",
    "def show_nested_eval():\n",
    "    src = 'https://docs.google.com/presentation/d/e/2PACX-1vQpW0NzwT3LjZsIIDAgtSMRM1cl41Gp_Lf8k9GT-gm5sGAIynw4rsgiEFbIybClD6QtxarKaVKLbR9U/embed?start=false&loop=false&delayms=60000\" frameborder=\"0\" width=\"960\" height=\"569\" allowfullscreen=\"true\" mozallowfullscreen=\"true\" webkitallowfullscreen=\"true\"'\n",
    "    width = 960\n",
    "    height = 569\n",
    "    return IFrame(src, width, height)"
   ]
  },
  {
   "cell_type": "markdown",
   "metadata": {
    "slideshow": {
     "slide_type": "slide"
    }
   },
   "source": [
    "### Agenda\n",
    "\n",
    "- O que é código? O que são notebooks Jupyter?\n",
    "- Expressões.\n",
    "- Variáveis.\n",
    "- Expressões de chamada.\n",
    "- Tipos de dados.\n",
    "\n",
    "Muita programação – acompanhe no notebook clicando no link do Collab acima!"
   ]
  },
  {
   "cell_type": "markdown",
   "metadata": {
    "slideshow": {
     "slide_type": "slide"
    }
   },
   "source": [
    "## O que é código? O que são notebooks Jupyter? 💻"
   ]
  },
  {
   "cell_type": "markdown",
   "metadata": {
    "slideshow": {
     "slide_type": "slide"
    }
   },
   "source": [
    "### O que é código?\n",
    "\n",
    "- As instruções para computadores são escritas em **linguagens de programação** e são chamadas de **código**.\n",
    "- “Programas de computador” nada mais são do que **receitas**: escrevemos programas que dizem ao computador exatamente o que fazer, e ele faz exatamente isso – nada mais e nada menos."
   ]
  },
  {
   "cell_type": "markdown",
   "metadata": {
    "slideshow": {
     "slide_type": "slide"
    }
   },
   "source": [
    "### Por que Python?\n",
    "\n",
    "<center>\n",
    "<img src='https://raw.githubusercontent.com/flaviovdf/fcd/master/assets/03-Expressoes/images/languages.jpg' width=400>\n",
    "</center>\n",
    "\n",
    "- Popular.\n",
    "- Variedade de usos.\n",
    "- Desenvolvimento web.\n",
    "- Ciência de dados e aprendizado de máquina.\n",
    "- Não é realmente usado para desenvolvimento de aplicativos.\n",
    "- Fácil de mergulhar!"
   ]
  },
  {
   "cell_type": "markdown",
   "metadata": {
    "slideshow": {
     "slide_type": "slide"
    }
   },
   "source": [
    "### Notebooks Jupyter 📓\n",
    "\n",
    "- Frequentemente, mas não nesta classe, o código é escrito em um editor de texto e depois executado em uma interface de linha de comando.\n",
    "\n",
    "<center>\n",
    "<img src='https://raw.githubusercontent.com/flaviovdf/fcd/master/assets/03-Expressoes/images/terminal.png' width=800>\n",
    "</center>\n",
    "\n",
    "- **Jupyter Notebooks** nos permite escrever e executar código em um único documento. Eles também nos permitem incorporar texto e código. **Usaremos Jupyter Notebooks durante todo o trimestre**."
   ]
  },
  {
   "cell_type": "markdown",
   "metadata": {
    "slideshow": {
     "slide_type": "slide"
    }
   },
   "source": [
    "## Expressões"
   ]
  },
  {
   "cell_type": "markdown",
   "metadata": {
    "slideshow": {
     "slide_type": "slide"
    }
   },
   "source": [
    "### Python como calculadora\n",
    "\n",
    "- Uma **expressão** é uma combinação de valores, operadores e funções que **avalia** algum **valor**."
   ]
  },
  {
   "cell_type": "markdown",
   "metadata": {
    "slideshow": {
     "slide_type": "fragment"
    }
   },
   "source": [
    "- Por enquanto, vamos pensar no Python como uma calculadora – ele pega expressões e as avalia."
   ]
  },
  {
   "cell_type": "markdown",
   "metadata": {
    "slideshow": {
     "slide_type": "fragment"
    }
   },
   "source": [
    "- Inseriremos nossas expressões em **células de código**. Para executar uma célula de código:\n",
    "- **Pressione `shift` + `enter` (ou `shift` + `return`) no teclado (de preferência)**, ou\n",
    "- Pressione o botão \"▶ Executar\" na barra de ferramentas."
   ]
  },
  {
   "cell_type": "code",
   "execution_count": 2,
   "metadata": {
    "execution": {
     "iopub.execute_input": "2025-03-30T15:38:24.413163Z",
     "iopub.status.busy": "2025-03-30T15:38:24.412995Z",
     "iopub.status.idle": "2025-03-30T15:38:24.418288Z",
     "shell.execute_reply": "2025-03-30T15:38:24.418000Z"
    },
    "slideshow": {
     "slide_type": "fragment"
    }
   },
   "outputs": [
    {
     "data": {
      "text/plain": [
       "17"
      ]
     },
     "execution_count": 2,
     "metadata": {},
     "output_type": "execute_result"
    }
   ],
   "source": [
    "17"
   ]
  },
  {
   "cell_type": "code",
   "execution_count": 3,
   "metadata": {
    "execution": {
     "iopub.execute_input": "2025-03-30T15:38:24.443477Z",
     "iopub.status.busy": "2025-03-30T15:38:24.443313Z",
     "iopub.status.idle": "2025-03-30T15:38:24.446534Z",
     "shell.execute_reply": "2025-03-30T15:38:24.446208Z"
    }
   },
   "outputs": [
    {
     "data": {
      "text/plain": [
       "2.14"
      ]
     },
     "execution_count": 3,
     "metadata": {},
     "output_type": "execute_result"
    }
   ],
   "source": [
    "-1 + 3.14"
   ]
  },
  {
   "cell_type": "code",
   "execution_count": 4,
   "metadata": {
    "execution": {
     "iopub.execute_input": "2025-03-30T15:38:24.448021Z",
     "iopub.status.busy": "2025-03-30T15:38:24.447897Z",
     "iopub.status.idle": "2025-03-30T15:38:24.450311Z",
     "shell.execute_reply": "2025-03-30T15:38:24.450044Z"
    }
   },
   "outputs": [
    {
     "data": {
      "text/plain": [
       "8"
      ]
     },
     "execution_count": 4,
     "metadata": {},
     "output_type": "execute_result"
    }
   ],
   "source": [
    "2 ** 3"
   ]
  },
  {
   "cell_type": "code",
   "execution_count": 5,
   "metadata": {
    "execution": {
     "iopub.execute_input": "2025-03-30T15:38:24.451533Z",
     "iopub.status.busy": "2025-03-30T15:38:24.451424Z",
     "iopub.status.idle": "2025-03-30T15:38:24.453681Z",
     "shell.execute_reply": "2025-03-30T15:38:24.453430Z"
    }
   },
   "outputs": [
    {
     "data": {
      "text/plain": [
       "1.5"
      ]
     },
     "execution_count": 5,
     "metadata": {},
     "output_type": "execute_result"
    }
   ],
   "source": [
    "(17 - 14) / 2"
   ]
  },
  {
   "cell_type": "code",
   "execution_count": 6,
   "metadata": {
    "execution": {
     "iopub.execute_input": "2025-03-30T15:38:24.454854Z",
     "iopub.status.busy": "2025-03-30T15:38:24.454745Z",
     "iopub.status.idle": "2025-03-30T15:38:24.456929Z",
     "shell.execute_reply": "2025-03-30T15:38:24.456682Z"
    },
    "scrolled": true
   },
   "outputs": [
    {
     "data": {
      "text/plain": [
       "5"
      ]
     },
     "execution_count": 6,
     "metadata": {},
     "output_type": "execute_result"
    }
   ],
   "source": [
    "# Only one value is displayed. Why?\n",
    "3 * 4\n",
    "5"
   ]
  },
  {
   "cell_type": "markdown",
   "metadata": {
    "slideshow": {
     "slide_type": "slide"
    }
   },
   "source": [
    "### Operaçoes aritimeticas\n",
    "\n",
    "| Operação | Operador | Exemplo | Valor |\n",
    "| --- | --- | --- | --- |\n",
    "| Adição | `+` | `2 + 3` | `5` |\n",
    "| Subtração | `-` | `2 - 3` | `-1` |\n",
    "| Multiplicação | `*` | `2 * 3` | `6` |\n",
    "| Divisão | `/` | `7/3` | `2.66667` |\n",
    "| Restante | `%` | `7% 3` | `1` |\n",
    "| Exponenciação | `**` | `2 ** 0,5` | `1.41421` |"
   ]
  },
  {
   "cell_type": "markdown",
   "metadata": {
    "slideshow": {
     "slide_type": "slide"
    }
   },
   "source": [
    "### Python usa a ordem típica de operações – PEMDAS (BEDMAS? 🛏️)"
   ]
  },
  {
   "cell_type": "code",
   "execution_count": 7,
   "metadata": {
    "execution": {
     "iopub.execute_input": "2025-03-30T15:38:24.458276Z",
     "iopub.status.busy": "2025-03-30T15:38:24.458047Z",
     "iopub.status.idle": "2025-03-30T15:38:24.460418Z",
     "shell.execute_reply": "2025-03-30T15:38:24.460062Z"
    }
   },
   "outputs": [
    {
     "data": {
      "text/plain": [
       "12"
      ]
     },
     "execution_count": 7,
     "metadata": {},
     "output_type": "execute_result"
    }
   ],
   "source": [
    "3 * 2 ** 2"
   ]
  },
  {
   "cell_type": "code",
   "execution_count": 8,
   "metadata": {
    "execution": {
     "iopub.execute_input": "2025-03-30T15:38:24.461969Z",
     "iopub.status.busy": "2025-03-30T15:38:24.461832Z",
     "iopub.status.idle": "2025-03-30T15:38:24.464452Z",
     "shell.execute_reply": "2025-03-30T15:38:24.464154Z"
    }
   },
   "outputs": [
    {
     "data": {
      "text/plain": [
       "36"
      ]
     },
     "execution_count": 8,
     "metadata": {},
     "output_type": "execute_result"
    }
   ],
   "source": [
    "(3 * 2) ** 2"
   ]
  },
  {
   "cell_type": "markdown",
   "metadata": {
    "slideshow": {
     "slide_type": "slide"
    }
   },
   "source": [
    "### Atividade\n",
    "\n",
    "Na célula abaixo, substitua as reticências por uma expressão equivalente a\n",
    "\n",
    "$$(19 + 6 \\cdot 3) - 15 \\cdot \\left(\\sqrt{100} \\cdot \\frac{1}{30}\\right) \\cdot \\frac{3}{5} + \\frac{4 ^2}{2^3} + \\left( 6 - \\frac{2}{3} \\right) \\cdot 12 $$\n",
    "\n",
    "Tente usar parênteses somente quando necessário."
   ]
  },
  {
   "cell_type": "code",
   "execution_count": 9,
   "metadata": {
    "execution": {
     "iopub.execute_input": "2025-03-30T15:38:24.467553Z",
     "iopub.status.busy": "2025-03-30T15:38:24.467418Z",
     "iopub.status.idle": "2025-03-30T15:38:24.469990Z",
     "shell.execute_reply": "2025-03-30T15:38:24.469608Z"
    }
   },
   "outputs": [
    {
     "data": {
      "text/plain": [
       "Ellipsis"
      ]
     },
     "execution_count": 9,
     "metadata": {},
     "output_type": "execute_result"
    }
   ],
   "source": [
    "..."
   ]
  },
  {
   "cell_type": "markdown",
   "metadata": {
    "slideshow": {
     "slide_type": "slide"
    }
   },
   "source": [
    "## Variáveis"
   ]
  },
  {
   "cell_type": "markdown",
   "metadata": {
    "slideshow": {
     "slide_type": "slide"
    }
   },
   "source": [
    "### Motivação\n",
    "\n",
    "Abaixo, calculamos o número de segundos em um ano."
   ]
  },
  {
   "cell_type": "code",
   "execution_count": 10,
   "metadata": {
    "execution": {
     "iopub.execute_input": "2025-03-30T15:38:24.471861Z",
     "iopub.status.busy": "2025-03-30T15:38:24.471529Z",
     "iopub.status.idle": "2025-03-30T15:38:24.473973Z",
     "shell.execute_reply": "2025-03-30T15:38:24.473677Z"
    }
   },
   "outputs": [
    {
     "data": {
      "text/plain": [
       "31536000"
      ]
     },
     "execution_count": 10,
     "metadata": {},
     "output_type": "execute_result"
    }
   ],
   "source": [
    "60 * 60 * 24 * 365"
   ]
  },
  {
   "cell_type": "markdown",
   "metadata": {
    "slideshow": {
     "slide_type": "fragment"
    }
   },
   "source": [
    "Se quisermos utilizar o valor acima mais tarde no nosso bloco de notas para determinar, digamos, o número de segundos em 12 anos, teremos de copiar e colar a expressão. **Isso é inconveniente e propenso a introduzir erros.**"
   ]
  },
  {
   "cell_type": "code",
   "execution_count": 11,
   "metadata": {
    "execution": {
     "iopub.execute_input": "2025-03-30T15:38:24.475294Z",
     "iopub.status.busy": "2025-03-30T15:38:24.475180Z",
     "iopub.status.idle": "2025-03-30T15:38:24.477897Z",
     "shell.execute_reply": "2025-03-30T15:38:24.477305Z"
    }
   },
   "outputs": [
    {
     "data": {
      "text/plain": [
       "378432000"
      ]
     },
     "execution_count": 11,
     "metadata": {},
     "output_type": "execute_result"
    }
   ],
   "source": [
    "60 * 60 * 24 * 365 * 12"
   ]
  },
  {
   "cell_type": "markdown",
   "metadata": {
    "slideshow": {
     "slide_type": "fragment"
    }
   },
   "source": [
    "Seria ótimo se pudéssemos **armazenar** o valor inicial e consultá-lo mais tarde!"
   ]
  },
  {
   "cell_type": "markdown",
   "metadata": {
    "slideshow": {
     "slide_type": "slide"
    }
   },
   "source": [
    "### Variáveis ​​e instruções de atribuição\n",
    "\n",
    "- Uma **variável** é um local para armazenar um valor para que possa ser consultado posteriormente em nosso código. Para definir uma variável, usamos uma **instrução de atribuição**.\n",
    "\n",
    "$$ \\overbrace{\\texttt{minhavariável}}^{\\text{nome}} = \\overbrace{\\texttt{2 + 3}}^{\\text{qualquer expressão}} $$"
   ]
  },
  {
   "cell_type": "markdown",
   "metadata": {
    "slideshow": {
     "slide_type": "fragment"
    }
   },
   "source": [
    "- Uma instrução de atribuição altera o significado do **nome** à esquerda do símbolo `=`."
   ]
  },
  {
   "cell_type": "markdown",
   "metadata": {
    "slideshow": {
     "slide_type": "fragment"
    }
   },
   "source": [
    "- A expressão do lado direito do símbolo `=` é avaliada antes de ser atribuída ao nome do lado esquerdo.\n",
    "* por exemplo. `myvariable` está vinculado a `5` (valor) e não a `2 + 3` (expressão)."
   ]
  },
  {
   "cell_type": "markdown",
   "metadata": {
    "slideshow": {
     "slide_type": "slide"
    }
   },
   "source": [
    "Observe que antes de usá-lo em uma instrução de atribuição, `more_than_1` não tem significado."
   ]
  },
  {
   "cell_type": "code",
   "execution_count": 12,
   "metadata": {
    "execution": {
     "iopub.execute_input": "2025-03-30T15:38:24.480062Z",
     "iopub.status.busy": "2025-03-30T15:38:24.479773Z",
     "iopub.status.idle": "2025-03-30T15:38:24.481745Z",
     "shell.execute_reply": "2025-03-30T15:38:24.481300Z"
    },
    "scrolled": true
   },
   "outputs": [],
   "source": [
    "# Descomente e execute\n",
    "# more_than_1"
   ]
  },
  {
   "cell_type": "markdown",
   "metadata": {
    "slideshow": {
     "slide_type": "fragment"
    }
   },
   "source": [
    "Depois de usá-lo em uma instrução de atribuição, podemos perguntar ao Python seu valor."
   ]
  },
  {
   "cell_type": "code",
   "execution_count": 13,
   "metadata": {
    "execution": {
     "iopub.execute_input": "2025-03-30T15:38:24.483661Z",
     "iopub.status.busy": "2025-03-30T15:38:24.483297Z",
     "iopub.status.idle": "2025-03-30T15:38:24.485529Z",
     "shell.execute_reply": "2025-03-30T15:38:24.485180Z"
    }
   },
   "outputs": [],
   "source": [
    "# Note that an assignment statement doesn't output anything!\n",
    "more_than_1 = 15 - 5"
   ]
  },
  {
   "cell_type": "code",
   "execution_count": 14,
   "metadata": {
    "execution": {
     "iopub.execute_input": "2025-03-30T15:38:24.487294Z",
     "iopub.status.busy": "2025-03-30T15:38:24.486938Z",
     "iopub.status.idle": "2025-03-30T15:38:24.489591Z",
     "shell.execute_reply": "2025-03-30T15:38:24.489304Z"
    }
   },
   "outputs": [
    {
     "data": {
      "text/plain": [
       "10"
      ]
     },
     "execution_count": 14,
     "metadata": {},
     "output_type": "execute_result"
    }
   ],
   "source": [
    "more_than_1"
   ]
  },
  {
   "cell_type": "markdown",
   "metadata": {
    "slideshow": {
     "slide_type": "fragment"
    }
   },
   "source": [
    "Sempre que usamos `more_than_1` em uma expressão, `10` é substituído por `10`."
   ]
  },
  {
   "cell_type": "code",
   "execution_count": 15,
   "metadata": {
    "execution": {
     "iopub.execute_input": "2025-03-30T15:38:24.491016Z",
     "iopub.status.busy": "2025-03-30T15:38:24.490900Z",
     "iopub.status.idle": "2025-03-30T15:38:24.493432Z",
     "shell.execute_reply": "2025-03-30T15:38:24.492960Z"
    }
   },
   "outputs": [
    {
     "data": {
      "text/plain": [
       "20"
      ]
     },
     "execution_count": 15,
     "metadata": {},
     "output_type": "execute_result"
    }
   ],
   "source": [
    "more_than_1 * 2"
   ]
  },
  {
   "cell_type": "markdown",
   "metadata": {
    "slideshow": {
     "slide_type": "fragment"
    }
   },
   "source": [
    "Observe que a expressão acima **não alterou** o valor de `more_than_1`, porque **não reatribuímos `more_than_1`**!"
   ]
  },
  {
   "cell_type": "code",
   "execution_count": 16,
   "metadata": {
    "execution": {
     "iopub.execute_input": "2025-03-30T15:38:24.495297Z",
     "iopub.status.busy": "2025-03-30T15:38:24.495173Z",
     "iopub.status.idle": "2025-03-30T15:38:24.497584Z",
     "shell.execute_reply": "2025-03-30T15:38:24.497299Z"
    }
   },
   "outputs": [
    {
     "data": {
      "text/plain": [
       "10"
      ]
     },
     "execution_count": 16,
     "metadata": {},
     "output_type": "execute_result"
    }
   ],
   "source": [
    "more_than_1"
   ]
  },
  {
   "cell_type": "markdown",
   "metadata": {
    "slideshow": {
     "slide_type": "slide"
    }
   },
   "source": [
    "### Nomeando variáveis\n",
    "\n",
    "- Geralmente, dê nomes úteis às suas variáveis ​​para que você saiba a que elas se referem.\n",
    "- Os nomes das variáveis ​​podem conter caracteres maiúsculos e minúsculos, dígitos de 0 a 9 e sublinhados.\n",
    "- Eles não podem começar com um número.\n",
    "- Eles diferenciam maiúsculas de minúsculas!"
   ]
  },
  {
   "cell_type": "markdown",
   "metadata": {
    "slideshow": {
     "slide_type": "fragment"
    }
   },
   "source": [
    "As instruções de atribuição a seguir são **válidas**, mas usam nomes de variáveis ​​**ruins** 😕."
   ]
  },
  {
   "cell_type": "code",
   "execution_count": 17,
   "metadata": {
    "execution": {
     "iopub.execute_input": "2025-03-30T15:38:24.499027Z",
     "iopub.status.busy": "2025-03-30T15:38:24.498885Z",
     "iopub.status.idle": "2025-03-30T15:38:24.500869Z",
     "shell.execute_reply": "2025-03-30T15:38:24.500501Z"
    }
   },
   "outputs": [],
   "source": [
    "six = 15"
   ]
  },
  {
   "cell_type": "code",
   "execution_count": 18,
   "metadata": {
    "execution": {
     "iopub.execute_input": "2025-03-30T15:38:24.502158Z",
     "iopub.status.busy": "2025-03-30T15:38:24.502027Z",
     "iopub.status.idle": "2025-03-30T15:38:24.504006Z",
     "shell.execute_reply": "2025-03-30T15:38:24.503705Z"
    }
   },
   "outputs": [],
   "source": [
    "i_45love_chocolate_9999 = 60 * 60 * 24 * 365"
   ]
  },
  {
   "cell_type": "markdown",
   "metadata": {
    "slideshow": {
     "slide_type": "fragment"
    }
   },
   "source": [
    "As instruções de atribuição a seguir são **válidas** e usam nomes de variáveis ​​**bons** ✅."
   ]
  },
  {
   "cell_type": "code",
   "execution_count": 19,
   "metadata": {
    "execution": {
     "iopub.execute_input": "2025-03-30T15:38:24.505382Z",
     "iopub.status.busy": "2025-03-30T15:38:24.505275Z",
     "iopub.status.idle": "2025-03-30T15:38:24.507082Z",
     "shell.execute_reply": "2025-03-30T15:38:24.506781Z"
    },
    "tags": [
     "raises-exception"
    ]
   },
   "outputs": [],
   "source": [
    "seconds_per_hour = 60 * 60\n",
    "hours_per_year = 24 * 365\n",
    "seconds_per_year = seconds_per_hour * hours_per_year"
   ]
  },
  {
   "cell_type": "markdown",
   "metadata": {
    "slideshow": {
     "slide_type": "fragment"
    }
   },
   "source": [
    "As seguintes \"declarações de atribuição\" são **inválidas ❌**."
   ]
  },
  {
   "cell_type": "code",
   "execution_count": 20,
   "metadata": {
    "execution": {
     "iopub.execute_input": "2025-03-30T15:38:24.508317Z",
     "iopub.status.busy": "2025-03-30T15:38:24.508200Z",
     "iopub.status.idle": "2025-03-30T15:38:24.510013Z",
     "shell.execute_reply": "2025-03-30T15:38:24.509617Z"
    }
   },
   "outputs": [],
   "source": [
    "# Descomente e execute\n",
    "# 6 = 15"
   ]
  },
  {
   "cell_type": "code",
   "execution_count": 21,
   "metadata": {
    "execution": {
     "iopub.execute_input": "2025-03-30T15:38:24.511696Z",
     "iopub.status.busy": "2025-03-30T15:38:24.511548Z",
     "iopub.status.idle": "2025-03-30T15:38:24.513466Z",
     "shell.execute_reply": "2025-03-30T15:38:24.513130Z"
    }
   },
   "outputs": [],
   "source": [
    "# Descomente e execute\n",
    "# 3 = 2 + 1"
   ]
  },
  {
   "cell_type": "markdown",
   "metadata": {
    "slideshow": {
     "slide_type": "slide"
    }
   },
   "source": [
    "### Declarações de atribuição não são equações matemáticas!\n",
    "\n",
    "- Ao contrário da matemática, onde $x = 3$ significa a mesma coisa que $3 = x$, as instruções de atribuição **não** são \"simétricas\".\n",
    "- Uma instrução de atribuição atribui (ou \"liga\") o nome à esquerda de `=` ao valor à direita de `=`, nada mais."
   ]
  },
  {
   "cell_type": "code",
   "execution_count": 22,
   "metadata": {
    "execution": {
     "iopub.execute_input": "2025-03-30T15:38:24.514904Z",
     "iopub.status.busy": "2025-03-30T15:38:24.514782Z",
     "iopub.status.idle": "2025-03-30T15:38:24.517581Z",
     "shell.execute_reply": "2025-03-30T15:38:24.517238Z"
    }
   },
   "outputs": [
    {
     "data": {
      "text/plain": [
       "3"
      ]
     },
     "execution_count": 22,
     "metadata": {},
     "output_type": "execute_result"
    }
   ],
   "source": [
    "x = 3\n",
    "x"
   ]
  },
  {
   "cell_type": "code",
   "execution_count": 23,
   "metadata": {
    "execution": {
     "iopub.execute_input": "2025-03-30T15:38:24.519301Z",
     "iopub.status.busy": "2025-03-30T15:38:24.518864Z",
     "iopub.status.idle": "2025-03-30T15:38:24.520921Z",
     "shell.execute_reply": "2025-03-30T15:38:24.520597Z"
    }
   },
   "outputs": [],
   "source": [
    "# Descomente e execute\n",
    "# 4 = x"
   ]
  },
  {
   "cell_type": "markdown",
   "metadata": {
    "slideshow": {
     "slide_type": "slide"
    }
   },
   "source": [
    "### O valor de uma variável é definido no momento da atribuição"
   ]
  },
  {
   "cell_type": "code",
   "execution_count": 24,
   "metadata": {
    "execution": {
     "iopub.execute_input": "2025-03-30T15:38:24.522308Z",
     "iopub.status.busy": "2025-03-30T15:38:24.522188Z",
     "iopub.status.idle": "2025-03-30T15:38:24.524088Z",
     "shell.execute_reply": "2025-03-30T15:38:24.523784Z"
    }
   },
   "outputs": [],
   "source": [
    "uc = 2\n",
    "sd = 3 + uc"
   ]
  },
  {
   "cell_type": "markdown",
   "metadata": {
    "slideshow": {
     "slide_type": "fragment"
    }
   },
   "source": [
    "As declarações de atribuição não são **promessas** – o valor de uma variável pode mudar!"
   ]
  },
  {
   "cell_type": "code",
   "execution_count": 25,
   "metadata": {
    "execution": {
     "iopub.execute_input": "2025-03-30T15:38:24.525465Z",
     "iopub.status.busy": "2025-03-30T15:38:24.525195Z",
     "iopub.status.idle": "2025-03-30T15:38:24.526994Z",
     "shell.execute_reply": "2025-03-30T15:38:24.526654Z"
    }
   },
   "outputs": [],
   "source": [
    "uc = 7"
   ]
  },
  {
   "cell_type": "markdown",
   "metadata": {
    "slideshow": {
     "slide_type": "fragment"
    }
   },
   "source": [
    "Observe que mesmo depois de alterar `uc`, não alteramos `sd`, então ainda é o mesmo de antes."
   ]
  },
  {
   "cell_type": "code",
   "execution_count": 26,
   "metadata": {
    "execution": {
     "iopub.execute_input": "2025-03-30T15:38:24.528579Z",
     "iopub.status.busy": "2025-03-30T15:38:24.528445Z",
     "iopub.status.idle": "2025-03-30T15:38:24.531121Z",
     "shell.execute_reply": "2025-03-30T15:38:24.530805Z"
    }
   },
   "outputs": [
    {
     "data": {
      "text/plain": [
       "5"
      ]
     },
     "execution_count": 26,
     "metadata": {},
     "output_type": "execute_result"
    }
   ],
   "source": [
    "sd"
   ]
  },
  {
   "cell_type": "markdown",
   "metadata": {
    "slideshow": {
     "slide_type": "slide"
    }
   },
   "source": [
    "### Uma analogia útil\n",
    "\n",
    "<center>\n",
    "<img src='https://raw.githubusercontent.com/flaviovdf/fcd/master/assets/03-Expressoes/images/box.png' width=600>\n",
    "</center>\n",
    "\n",
    "- Uma metáfora comum é que as variáveis ​​são como caixas ou contêineres ([source](https://www.tomasbeuzen.com/python-programming-for-data-science/chapters/chapter1-basics.html)).\n",
    "- Outra analogia: uma declaração de atribuição é como colocar um adesivo em um valor."
   ]
  },
  {
   "cell_type": "markdown",
   "metadata": {
    "slideshow": {
     "slide_type": "slide"
    }
   },
   "source": [
    "### Verificação de conceito ✅\n",
    "\n",
    "Suponha que você executou as três linhas de código a seguir:\n",
    "\n",
    "```py\n",
    "side_length = 5\n",
    "area = side_length ** 2\n",
    "side_length = side_length + 2\n",
    "```\n",
    "\n",
    "Quais são os valores de `side_length` e `area` após a execução?\n",
    "\n",
    "A. `comprimento_lateral = 5`, `área = 25`\n",
    "\n",
    "B. `comprimento_lateral = 5`, `área = 49`\n",
    "\n",
    "C. `comprimento_lateral = 7`, `área = 25`\n",
    "\n",
    "D. `comprimento_lateral = 7`, `área = 49`\n",
    "\n",
    "E. Nenhuma das opções acima"
   ]
  },
  {
   "cell_type": "markdown",
   "metadata": {
    "slideshow": {
     "slide_type": "slide"
    }
   },
   "source": [
    "## Expressões de chamada 📞"
   ]
  },
  {
   "cell_type": "markdown",
   "metadata": {
    "slideshow": {
     "slide_type": "slide"
    }
   },
   "source": [
    "### Funções algébricas\n",
    "\n",
    "- Em matemática, as funções recebem alguma entrada e retornam alguma saída.\n",
    "\n",
    "$$f(x, y) = 2x^2 + 3xy - 1$$\n",
    "\n",
    "- Podemos determinar a saída de uma função mesmo se passarmos coisas complicadas.\n",
    "\n",
    "$$f\\left(\\frac{1+2}{3+4}, (-1)^{15}\\right)$$"
   ]
  },
  {
   "cell_type": "markdown",
   "metadata": {
    "slideshow": {
     "slide_type": "slide"
    }
   },
   "source": [
    "### Expressões de chamada\n",
    "\n",
    "* **Expressões de chamada** em Python invocam funções – elas dizem a uma função para \"executar sua receita\".\n",
    "* As funções em Python funcionam da mesma forma que as funções em matemática.\n",
    "* As entradas para funções são chamadas de **argumentos**."
   ]
  },
  {
   "cell_type": "code",
   "execution_count": 27,
   "metadata": {
    "execution": {
     "iopub.execute_input": "2025-03-30T15:38:24.532719Z",
     "iopub.status.busy": "2025-03-30T15:38:24.532600Z",
     "iopub.status.idle": "2025-03-30T15:38:24.535163Z",
     "shell.execute_reply": "2025-03-30T15:38:24.534814Z"
    }
   },
   "outputs": [
    {
     "data": {
      "text/plain": [
       "12"
      ]
     },
     "execution_count": 27,
     "metadata": {},
     "output_type": "execute_result"
    }
   ],
   "source": [
    "abs(-12)"
   ]
  },
  {
   "cell_type": "markdown",
   "metadata": {
    "slideshow": {
     "slide_type": "slide"
    }
   },
   "source": [
    "### Algumas funções podem receber um número variável de argumentos"
   ]
  },
  {
   "cell_type": "code",
   "execution_count": 28,
   "metadata": {
    "execution": {
     "iopub.execute_input": "2025-03-30T15:38:24.536774Z",
     "iopub.status.busy": "2025-03-30T15:38:24.536481Z",
     "iopub.status.idle": "2025-03-30T15:38:24.538945Z",
     "shell.execute_reply": "2025-03-30T15:38:24.538616Z"
    }
   },
   "outputs": [
    {
     "data": {
      "text/plain": [
       "3"
      ]
     },
     "execution_count": 28,
     "metadata": {},
     "output_type": "execute_result"
    }
   ],
   "source": [
    "max(3, -4)"
   ]
  },
  {
   "cell_type": "code",
   "execution_count": 29,
   "metadata": {
    "execution": {
     "iopub.execute_input": "2025-03-30T15:38:24.540301Z",
     "iopub.status.busy": "2025-03-30T15:38:24.540187Z",
     "iopub.status.idle": "2025-03-30T15:38:24.542549Z",
     "shell.execute_reply": "2025-03-30T15:38:24.542246Z"
    }
   },
   "outputs": [
    {
     "data": {
      "text/plain": [
       "10"
      ]
     },
     "execution_count": 29,
     "metadata": {},
     "output_type": "execute_result"
    }
   ],
   "source": [
    "max(2, -3, -6, 10, -4)"
   ]
  },
  {
   "cell_type": "code",
   "execution_count": 30,
   "metadata": {
    "execution": {
     "iopub.execute_input": "2025-03-30T15:38:24.544325Z",
     "iopub.status.busy": "2025-03-30T15:38:24.543947Z",
     "iopub.status.idle": "2025-03-30T15:38:24.546623Z",
     "shell.execute_reply": "2025-03-30T15:38:24.546304Z"
    }
   },
   "outputs": [
    {
     "data": {
      "text/plain": [
       "9"
      ]
     },
     "execution_count": 30,
     "metadata": {},
     "output_type": "execute_result"
    }
   ],
   "source": [
    "# Only two arguments!\n",
    "max(4 + 5, 5 - 4)"
   ]
  },
  {
   "cell_type": "markdown",
   "metadata": {
    "slideshow": {
     "slide_type": "slide"
    }
   },
   "source": [
    "### Use ```?``` depois de uma função para ver a documentação de uma função\n",
    "Ou use a função `help`, por ex. `ajuda(máx.)`."
   ]
  },
  {
   "cell_type": "code",
   "execution_count": 31,
   "metadata": {
    "execution": {
     "iopub.execute_input": "2025-03-30T15:38:24.548069Z",
     "iopub.status.busy": "2025-03-30T15:38:24.547954Z",
     "iopub.status.idle": "2025-03-30T15:38:24.550806Z",
     "shell.execute_reply": "2025-03-30T15:38:24.550378Z"
    }
   },
   "outputs": [],
   "source": [
    "max?"
   ]
  },
  {
   "cell_type": "markdown",
   "metadata": {
    "slideshow": {
     "slide_type": "slide"
    }
   },
   "source": [
    "### Exemplo: `round`"
   ]
  },
  {
   "cell_type": "code",
   "execution_count": 32,
   "metadata": {
    "execution": {
     "iopub.execute_input": "2025-03-30T15:38:24.552795Z",
     "iopub.status.busy": "2025-03-30T15:38:24.552631Z",
     "iopub.status.idle": "2025-03-30T15:38:24.555137Z",
     "shell.execute_reply": "2025-03-30T15:38:24.554827Z"
    }
   },
   "outputs": [
    {
     "data": {
      "text/plain": [
       "1"
      ]
     },
     "execution_count": 32,
     "metadata": {},
     "output_type": "execute_result"
    }
   ],
   "source": [
    "my_number = 1.22\n",
    "round(my_number)"
   ]
  },
  {
   "cell_type": "code",
   "execution_count": 33,
   "metadata": {
    "execution": {
     "iopub.execute_input": "2025-03-30T15:38:24.556774Z",
     "iopub.status.busy": "2025-03-30T15:38:24.556638Z",
     "iopub.status.idle": "2025-03-30T15:38:24.584890Z",
     "shell.execute_reply": "2025-03-30T15:38:24.584445Z"
    }
   },
   "outputs": [],
   "source": [
    "round?"
   ]
  },
  {
   "cell_type": "code",
   "execution_count": 34,
   "metadata": {
    "execution": {
     "iopub.execute_input": "2025-03-30T15:38:24.586453Z",
     "iopub.status.busy": "2025-03-30T15:38:24.586332Z",
     "iopub.status.idle": "2025-03-30T15:38:24.588766Z",
     "shell.execute_reply": "2025-03-30T15:38:24.588483Z"
    }
   },
   "outputs": [
    {
     "data": {
      "text/plain": [
       "1.222"
      ]
     },
     "execution_count": 34,
     "metadata": {},
     "output_type": "execute_result"
    }
   ],
   "source": [
    "round(1.22222, 3)"
   ]
  },
  {
   "cell_type": "markdown",
   "metadata": {
    "slideshow": {
     "slide_type": "slide"
    }
   },
   "source": [
    "### Avaliação aninhada\n",
    "\n",
    "Podemos **aninhar** muitas chamadas de função para avaliar expressões sofisticadas."
   ]
  },
  {
   "cell_type": "code",
   "execution_count": 35,
   "metadata": {
    "execution": {
     "iopub.execute_input": "2025-03-30T15:38:24.590198Z",
     "iopub.status.busy": "2025-03-30T15:38:24.590078Z",
     "iopub.status.idle": "2025-03-30T15:38:24.592661Z",
     "shell.execute_reply": "2025-03-30T15:38:24.592329Z"
    }
   },
   "outputs": [
    {
     "data": {
      "text/plain": [
       "1"
      ]
     },
     "execution_count": 35,
     "metadata": {},
     "output_type": "execute_result"
    }
   ],
   "source": [
    "min(abs(max(-1, -2, -3, min(4, -2))), max(5, 100))"
   ]
  },
  {
   "cell_type": "markdown",
   "metadata": {
    "slideshow": {
     "slide_type": "fragment"
    }
   },
   "source": [
    "...como isso funcionou?"
   ]
  },
  {
   "cell_type": "code",
   "execution_count": 36,
   "metadata": {
    "execution": {
     "iopub.execute_input": "2025-03-30T15:38:24.594523Z",
     "iopub.status.busy": "2025-03-30T15:38:24.594391Z",
     "iopub.status.idle": "2025-03-30T15:38:24.597053Z",
     "shell.execute_reply": "2025-03-30T15:38:24.596665Z"
    },
    "scrolled": false,
    "slideshow": {
     "slide_type": "fragment"
    }
   },
   "outputs": [
    {
     "data": {
      "text/html": [
       "\n",
       "        <iframe\n",
       "            width=\"960\"\n",
       "            height=\"569\"\n",
       "            src=\"https://docs.google.com/presentation/d/e/2PACX-1vQpW0NzwT3LjZsIIDAgtSMRM1cl41Gp_Lf8k9GT-gm5sGAIynw4rsgiEFbIybClD6QtxarKaVKLbR9U/embed?start=false&loop=false&delayms=60000\" frameborder=\"0\" width=\"960\" height=\"569\" allowfullscreen=\"true\" mozallowfullscreen=\"true\" webkitallowfullscreen=\"true\"\"\n",
       "            frameborder=\"0\"\n",
       "            allowfullscreen\n",
       "            \n",
       "        ></iframe>\n",
       "        "
      ],
      "text/plain": [
       "<IPython.lib.display.IFrame at 0x7f06a430ae10>"
      ]
     },
     "execution_count": 36,
     "metadata": {},
     "output_type": "execute_result"
    }
   ],
   "source": [
    "show_nested_eval()"
   ]
  },
  {
   "cell_type": "markdown",
   "metadata": {
    "slideshow": {
     "slide_type": "slide"
    }
   },
   "source": [
    "### Importar instruções\n",
    "- Python não tem tudo que precisamos integrado.\n",
    "- Para obter funcionalidades adicionais, importamos **módulos** por meio de **instruções de importação**.\n",
    "- **Módulos** podem ser considerados coleções de funções e valores Python.\n",
    "- Chame essas funções usando a sintaxe `module.function()`, chamada \"notação de ponto\"."
   ]
  },
  {
   "cell_type": "markdown",
   "metadata": {
    "slideshow": {
     "slide_type": "slide"
    }
   },
   "source": [
    "### Exemplo: `import math`\n",
    "\n",
    "`sqrt`, `log`, `pow`, etc."
   ]
  },
  {
   "cell_type": "code",
   "execution_count": 37,
   "metadata": {
    "execution": {
     "iopub.execute_input": "2025-03-30T15:38:24.598498Z",
     "iopub.status.busy": "2025-03-30T15:38:24.598337Z",
     "iopub.status.idle": "2025-03-30T15:38:24.600332Z",
     "shell.execute_reply": "2025-03-30T15:38:24.599968Z"
    }
   },
   "outputs": [],
   "source": [
    "import math"
   ]
  },
  {
   "cell_type": "code",
   "execution_count": 38,
   "metadata": {
    "execution": {
     "iopub.execute_input": "2025-03-30T15:38:24.601579Z",
     "iopub.status.busy": "2025-03-30T15:38:24.601468Z",
     "iopub.status.idle": "2025-03-30T15:38:24.604131Z",
     "shell.execute_reply": "2025-03-30T15:38:24.603768Z"
    }
   },
   "outputs": [
    {
     "data": {
      "text/plain": [
       "3.0"
      ]
     },
     "execution_count": 38,
     "metadata": {},
     "output_type": "execute_result"
    }
   ],
   "source": [
    "math.sqrt(9)"
   ]
  },
  {
   "cell_type": "code",
   "execution_count": 39,
   "metadata": {
    "execution": {
     "iopub.execute_input": "2025-03-30T15:38:24.605425Z",
     "iopub.status.busy": "2025-03-30T15:38:24.605320Z",
     "iopub.status.idle": "2025-03-30T15:38:24.607803Z",
     "shell.execute_reply": "2025-03-30T15:38:24.607466Z"
    }
   },
   "outputs": [
    {
     "data": {
      "text/plain": [
       "9.0"
      ]
     },
     "execution_count": 39,
     "metadata": {},
     "output_type": "execute_result"
    }
   ],
   "source": [
    "math.pow(3, 2)"
   ]
  },
  {
   "cell_type": "code",
   "execution_count": 40,
   "metadata": {
    "execution": {
     "iopub.execute_input": "2025-03-30T15:38:24.609231Z",
     "iopub.status.busy": "2025-03-30T15:38:24.609095Z",
     "iopub.status.idle": "2025-03-30T15:38:24.611290Z",
     "shell.execute_reply": "2025-03-30T15:38:24.610863Z"
    }
   },
   "outputs": [],
   "source": [
    "# What base is log?\n",
    "math.log?"
   ]
  },
  {
   "cell_type": "markdown",
   "metadata": {
    "slideshow": {
     "slide_type": "fragment"
    }
   },
   "source": [
    "Ele também possui constantes integradas!"
   ]
  },
  {
   "cell_type": "code",
   "execution_count": 41,
   "metadata": {
    "execution": {
     "iopub.execute_input": "2025-03-30T15:38:24.613336Z",
     "iopub.status.busy": "2025-03-30T15:38:24.613036Z",
     "iopub.status.idle": "2025-03-30T15:38:24.615595Z",
     "shell.execute_reply": "2025-03-30T15:38:24.615264Z"
    }
   },
   "outputs": [
    {
     "data": {
      "text/plain": [
       "3.141592653589793"
      ]
     },
     "execution_count": 41,
     "metadata": {},
     "output_type": "execute_result"
    }
   ],
   "source": [
    "math.pi"
   ]
  },
  {
   "cell_type": "markdown",
   "metadata": {
    "slideshow": {
     "slide_type": "slide"
    }
   },
   "source": [
    "### Verificação de conceito ✅\n",
    "\n",
    "Suponha que você executou as seguintes instruções:\n",
    "\n",
    "```py\n",
    "x = 3\n",
    "y = -2\n",
    "```\n",
    "\n",
    "Qual desses exemplos resulta em um erro?\n",
    "\n",
    "A. `abs(x, y)`\n",
    "\n",
    "B. `math.pow(x, abs(y))`\n",
    "\n",
    "C. `round(x, max (abs (y ** 2)))`\n",
    "\n",
    "D. `math.pow(x, math.pow(y, x))`\n",
    "\n",
    "E. Mais de um dos itens acima"
   ]
  },
  {
   "cell_type": "code",
   "execution_count": null,
   "metadata": {
    "slideshow": {
     "slide_type": "-"
    }
   },
   "outputs": [],
   "source": []
  },
  {
   "cell_type": "markdown",
   "metadata": {
    "slideshow": {
     "slide_type": "slide"
    }
   },
   "source": [
    "## Tipos de dados"
   ]
  },
  {
   "cell_type": "markdown",
   "metadata": {
    "slideshow": {
     "slide_type": "slide"
    }
   },
   "source": [
    "### Qual é a diferença? 🧐"
   ]
  },
  {
   "cell_type": "code",
   "execution_count": 42,
   "metadata": {
    "execution": {
     "iopub.execute_input": "2025-03-30T15:38:24.617010Z",
     "iopub.status.busy": "2025-03-30T15:38:24.616898Z",
     "iopub.status.idle": "2025-03-30T15:38:24.619486Z",
     "shell.execute_reply": "2025-03-30T15:38:24.619138Z"
    }
   },
   "outputs": [
    {
     "data": {
      "text/plain": [
       "2.0"
      ]
     },
     "execution_count": 42,
     "metadata": {},
     "output_type": "execute_result"
    }
   ],
   "source": [
    "4 / 2"
   ]
  },
  {
   "cell_type": "code",
   "execution_count": 43,
   "metadata": {
    "execution": {
     "iopub.execute_input": "2025-03-30T15:38:24.620867Z",
     "iopub.status.busy": "2025-03-30T15:38:24.620743Z",
     "iopub.status.idle": "2025-03-30T15:38:24.623036Z",
     "shell.execute_reply": "2025-03-30T15:38:24.622747Z"
    }
   },
   "outputs": [
    {
     "data": {
      "text/plain": [
       "2"
      ]
     },
     "execution_count": 43,
     "metadata": {},
     "output_type": "execute_result"
    }
   ],
   "source": [
    "5 - 3"
   ]
  },
  {
   "cell_type": "markdown",
   "metadata": {
    "slideshow": {
     "slide_type": "fragment"
    }
   },
   "source": [
    "Para nós, `2.0` e `2` são o mesmo número, $2$. Mas para Python, isso parece ser diferente!"
   ]
  },
  {
   "cell_type": "markdown",
   "metadata": {
    "slideshow": {
     "slide_type": "slide"
    }
   },
   "source": [
    "### Tipos de dados\n",
    "- Todo valor em Python tem um **tipo**.\n",
    "- Use a função `type` para verificar o tipo de um valor.\n",
    "- É importante entender como diferentes tipos funcionam com diferentes operações, pois os resultados podem nem sempre ser os que esperamos."
   ]
  },
  {
   "cell_type": "markdown",
   "metadata": {
    "slideshow": {
     "slide_type": "slide"
    }
   },
   "source": [
    "### Dois tipos de dados numéricos: ```int``` e ```float```\n",
    "- ```int``` : Um número inteiro de qualquer tamanho.\n",
    "- ```float```: Um número com ponto decimal."
   ]
  },
  {
   "cell_type": "markdown",
   "metadata": {
    "slideshow": {
     "slide_type": "slide"
    }
   },
   "source": [
    "### ```int```\n",
    "- Se você usar essas operações entre `int`s (`+`, `-`, `*`, `**`), o resultado será outro `int`.\n",
    "- `int`s têm precisão arbitrária em Python, o que significa que seus cálculos serão sempre exatos."
   ]
  },
  {
   "cell_type": "code",
   "execution_count": 44,
   "metadata": {
    "execution": {
     "iopub.execute_input": "2025-03-30T15:38:24.624361Z",
     "iopub.status.busy": "2025-03-30T15:38:24.624262Z",
     "iopub.status.idle": "2025-03-30T15:38:24.626576Z",
     "shell.execute_reply": "2025-03-30T15:38:24.626257Z"
    }
   },
   "outputs": [
    {
     "data": {
      "text/plain": [
       "8"
      ]
     },
     "execution_count": 44,
     "metadata": {},
     "output_type": "execute_result"
    }
   ],
   "source": [
    "3 + 5"
   ]
  },
  {
   "cell_type": "code",
   "execution_count": 45,
   "metadata": {
    "execution": {
     "iopub.execute_input": "2025-03-30T15:38:24.628895Z",
     "iopub.status.busy": "2025-03-30T15:38:24.628595Z",
     "iopub.status.idle": "2025-03-30T15:38:24.631135Z",
     "shell.execute_reply": "2025-03-30T15:38:24.630822Z"
    }
   },
   "outputs": [
    {
     "data": {
      "text/plain": [
       "int"
      ]
     },
     "execution_count": 45,
     "metadata": {},
     "output_type": "execute_result"
    }
   ],
   "source": [
    "type(3 + 5)"
   ]
  },
  {
   "cell_type": "code",
   "execution_count": 46,
   "metadata": {
    "execution": {
     "iopub.execute_input": "2025-03-30T15:38:24.632414Z",
     "iopub.status.busy": "2025-03-30T15:38:24.632302Z",
     "iopub.status.idle": "2025-03-30T15:38:24.634818Z",
     "shell.execute_reply": "2025-03-30T15:38:24.634516Z"
    }
   },
   "outputs": [
    {
     "data": {
      "text/plain": [
       "2037035976334486086268445688409378161051468393665936250636140449354381299763336706183397376"
      ]
     },
     "execution_count": 46,
     "metadata": {},
     "output_type": "execute_result"
    }
   ],
   "source": [
    "2 ** 300"
   ]
  },
  {
   "cell_type": "code",
   "execution_count": 47,
   "metadata": {
    "execution": {
     "iopub.execute_input": "2025-03-30T15:38:24.636366Z",
     "iopub.status.busy": "2025-03-30T15:38:24.636245Z",
     "iopub.status.idle": "2025-03-30T15:38:24.638937Z",
     "shell.execute_reply": "2025-03-30T15:38:24.638603Z"
    },
    "scrolled": true
   },
   "outputs": [
    {
     "data": {
      "text/plain": [
       "1230231922161117176931558813276752514640713895736833715766118029160058800614672948775360067838593459582429649254051804908512884180898236823585082482065348331234959350355845017413023320111360666922624728239756880416434478315693675013413090757208690376793296658810662941824493488451726505303712916005346747908623702673480919353936813105736620402352744776903840477883651100322409301983488363802930540482487909763484098253940728685132044408863734754271212592471778643949486688511721051561970432780747454823776808464180697103083861812184348565522740195796682622205511845512080552010310050255801589349645928001133745474220715013683413907542779063759833876101354235184245096670042160720629411581502371248008430447184842098610320580417992206662247328722122088513643683907670360209162653670641130936997002170500675501374723998766005827579300723253474890612250135171889174899079911291512399773872178519018229989376"
      ]
     },
     "execution_count": 47,
     "metadata": {},
     "output_type": "execute_result"
    }
   ],
   "source": [
    "2 ** 3000"
   ]
  },
  {
   "cell_type": "markdown",
   "metadata": {
    "slideshow": {
     "slide_type": "slide"
    }
   },
   "source": [
    "### ```float```\n",
    "* Um `float` é especificado usando um ponto **decimal**.\n",
    "* Um `float` pode ser impresso usando notação científica."
   ]
  },
  {
   "cell_type": "code",
   "execution_count": 48,
   "metadata": {
    "execution": {
     "iopub.execute_input": "2025-03-30T15:38:24.640485Z",
     "iopub.status.busy": "2025-03-30T15:38:24.640326Z",
     "iopub.status.idle": "2025-03-30T15:38:24.643045Z",
     "shell.execute_reply": "2025-03-30T15:38:24.642749Z"
    }
   },
   "outputs": [
    {
     "data": {
      "text/plain": [
       "5.2"
      ]
     },
     "execution_count": 48,
     "metadata": {},
     "output_type": "execute_result"
    }
   ],
   "source": [
    "2.0 + 3.2"
   ]
  },
  {
   "cell_type": "code",
   "execution_count": 49,
   "metadata": {
    "execution": {
     "iopub.execute_input": "2025-03-30T15:38:24.645179Z",
     "iopub.status.busy": "2025-03-30T15:38:24.644896Z",
     "iopub.status.idle": "2025-03-30T15:38:24.648222Z",
     "shell.execute_reply": "2025-03-30T15:38:24.647807Z"
    }
   },
   "outputs": [
    {
     "data": {
      "text/plain": [
       "float"
      ]
     },
     "execution_count": 49,
     "metadata": {},
     "output_type": "execute_result"
    }
   ],
   "source": [
    "type(2.0 + 3.2)"
   ]
  },
  {
   "cell_type": "code",
   "execution_count": 50,
   "metadata": {
    "execution": {
     "iopub.execute_input": "2025-03-30T15:38:24.650188Z",
     "iopub.status.busy": "2025-03-30T15:38:24.649633Z",
     "iopub.status.idle": "2025-03-30T15:38:24.652676Z",
     "shell.execute_reply": "2025-03-30T15:38:24.652336Z"
    }
   },
   "outputs": [
    {
     "data": {
      "text/plain": [
       "2.037035976334486e+90"
      ]
     },
     "execution_count": 50,
     "metadata": {},
     "output_type": "execute_result"
    }
   ],
   "source": [
    "2.0 ** 300"
   ]
  },
  {
   "cell_type": "markdown",
   "metadata": {
    "slideshow": {
     "slide_type": "slide"
    }
   },
   "source": [
    "### As armadilhas do ```float```\n",
    "* `float`s têm tamanho limitado (mas o limite é enorme).\n",
    "* `float`s têm precisão limitada de 15-16 casas decimais.\n",
    "* Depois da aritmética, as últimas casas decimais podem estar erradas de maneiras inesperadas (precisão limitada!)."
   ]
  },
  {
   "cell_type": "code",
   "execution_count": 51,
   "metadata": {
    "execution": {
     "iopub.execute_input": "2025-03-30T15:38:24.654579Z",
     "iopub.status.busy": "2025-03-30T15:38:24.654409Z",
     "iopub.status.idle": "2025-03-30T15:38:24.657250Z",
     "shell.execute_reply": "2025-03-30T15:38:24.656917Z"
    },
    "slideshow": {
     "slide_type": "-"
    }
   },
   "outputs": [
    {
     "data": {
      "text/plain": [
       "1.2"
      ]
     },
     "execution_count": 51,
     "metadata": {},
     "output_type": "execute_result"
    }
   ],
   "source": [
    "1 + 0.2"
   ]
  },
  {
   "cell_type": "code",
   "execution_count": 52,
   "metadata": {
    "execution": {
     "iopub.execute_input": "2025-03-30T15:38:24.658659Z",
     "iopub.status.busy": "2025-03-30T15:38:24.658546Z",
     "iopub.status.idle": "2025-03-30T15:38:24.661836Z",
     "shell.execute_reply": "2025-03-30T15:38:24.660995Z"
    },
    "tags": [
     "raises-exception"
    ]
   },
   "outputs": [
    {
     "data": {
      "text/plain": [
       "1.2000000000000002"
      ]
     },
     "execution_count": 52,
     "metadata": {},
     "output_type": "execute_result"
    }
   ],
   "source": [
    "1 + 0.1 + 0.1"
   ]
  },
  {
   "cell_type": "code",
   "execution_count": 53,
   "metadata": {
    "execution": {
     "iopub.execute_input": "2025-03-30T15:38:24.663314Z",
     "iopub.status.busy": "2025-03-30T15:38:24.663198Z",
     "iopub.status.idle": "2025-03-30T15:38:24.665228Z",
     "shell.execute_reply": "2025-03-30T15:38:24.664856Z"
    }
   },
   "outputs": [],
   "source": [
    "# Descomente e execute\n",
    "# 2.0 ** 3000"
   ]
  },
  {
   "cell_type": "markdown",
   "metadata": {
    "slideshow": {
     "slide_type": "slide"
    }
   },
   "source": [
    "### Coerção de tipo entre ```int``` e ```float```\n",
    "- Por padrão, Python muda um `int` para um `float` em uma expressão mista envolvendo ambos os tipos.\n",
    "- Observe que a divisão de dois `int`s retorna automaticamente um valor `float`.\n",
    "- Um valor pode ser explicitamente **coagido** (ou seja, convertido) usando as funções ```int``` e ```float```."
   ]
  },
  {
   "cell_type": "code",
   "execution_count": 54,
   "metadata": {
    "execution": {
     "iopub.execute_input": "2025-03-30T15:38:24.666682Z",
     "iopub.status.busy": "2025-03-30T15:38:24.666533Z",
     "iopub.status.idle": "2025-03-30T15:38:24.669954Z",
     "shell.execute_reply": "2025-03-30T15:38:24.669637Z"
    },
    "slideshow": {
     "slide_type": "-"
    }
   },
   "outputs": [
    {
     "data": {
      "text/plain": [
       "5.0"
      ]
     },
     "execution_count": 54,
     "metadata": {},
     "output_type": "execute_result"
    }
   ],
   "source": [
    "2.0 + 3"
   ]
  },
  {
   "cell_type": "code",
   "execution_count": 55,
   "metadata": {
    "execution": {
     "iopub.execute_input": "2025-03-30T15:38:24.671245Z",
     "iopub.status.busy": "2025-03-30T15:38:24.671130Z",
     "iopub.status.idle": "2025-03-30T15:38:24.673463Z",
     "shell.execute_reply": "2025-03-30T15:38:24.673166Z"
    }
   },
   "outputs": [
    {
     "data": {
      "text/plain": [
       "2.0"
      ]
     },
     "execution_count": 55,
     "metadata": {},
     "output_type": "execute_result"
    }
   ],
   "source": [
    "2 / 1"
   ]
  },
  {
   "cell_type": "code",
   "execution_count": 56,
   "metadata": {
    "execution": {
     "iopub.execute_input": "2025-03-30T15:38:24.674657Z",
     "iopub.status.busy": "2025-03-30T15:38:24.674547Z",
     "iopub.status.idle": "2025-03-30T15:38:24.676823Z",
     "shell.execute_reply": "2025-03-30T15:38:24.676471Z"
    }
   },
   "outputs": [
    {
     "data": {
      "text/plain": [
       "2"
      ]
     },
     "execution_count": 56,
     "metadata": {},
     "output_type": "execute_result"
    }
   ],
   "source": [
    "# Want an integer back\n",
    "int(2 / 1)"
   ]
  },
  {
   "cell_type": "code",
   "execution_count": 57,
   "metadata": {
    "execution": {
     "iopub.execute_input": "2025-03-30T15:38:24.678375Z",
     "iopub.status.busy": "2025-03-30T15:38:24.678212Z",
     "iopub.status.idle": "2025-03-30T15:38:24.680635Z",
     "shell.execute_reply": "2025-03-30T15:38:24.680365Z"
    }
   },
   "outputs": [
    {
     "data": {
      "text/plain": [
       "3"
      ]
     },
     "execution_count": 57,
     "metadata": {},
     "output_type": "execute_result"
    }
   ],
   "source": [
    "# int chops off the decimal point, effectively rounding DOWN\n",
    "int(3.9)"
   ]
  },
  {
   "cell_type": "markdown",
   "metadata": {
    "slideshow": {
     "slide_type": "slide"
    }
   },
   "source": [
    "### À parte: modelo de memória Jupyter\n",
    "\n",
    "<center><img src='https://raw.githubusercontent.com/flaviovdf/fcd/master/assets/03-Expressoes/images/elephant.png' width=20%></center>\n",
    "\n",
    "Nosso caderno **ainda** lembra todas as variáveis ​​que definimos anteriormente na aula."
   ]
  },
  {
   "cell_type": "code",
   "execution_count": 58,
   "metadata": {
    "execution": {
     "iopub.execute_input": "2025-03-30T15:38:24.682294Z",
     "iopub.status.busy": "2025-03-30T15:38:24.682165Z",
     "iopub.status.idle": "2025-03-30T15:38:24.684861Z",
     "shell.execute_reply": "2025-03-30T15:38:24.684517Z"
    }
   },
   "outputs": [
    {
     "data": {
      "text/plain": [
       "10"
      ]
     },
     "execution_count": 58,
     "metadata": {},
     "output_type": "execute_result"
    }
   ],
   "source": [
    "more_than_1"
   ]
  },
  {
   "cell_type": "markdown",
   "metadata": {
    "slideshow": {
     "slide_type": "fragment"
    }
   },
   "source": [
    "- No entanto, se você voltar ao seu notebook depois de algumas horas, ele normalmente “esquecerá” todas as variáveis ​​que conhecia.\n",
    "- Quando isso acontecer, você precisará executar novamente as células do seu notebook."
   ]
  },
  {
   "cell_type": "markdown",
   "metadata": {
    "slideshow": {
     "slide_type": "slide"
    }
   },
   "source": [
    "## Resumo, da próxima vez"
   ]
  },
  {
   "cell_type": "markdown",
   "metadata": {
    "slideshow": {
     "slide_type": "slide"
    }
   },
   "source": [
    "### Resumo\n",
    "\n",
    "- Expressões são avaliadas como valores. Python exibirá o valor da última expressão em uma célula por padrão.\n",
    "- Python conhece todos os operadores matemáticos padrão e segue PEMDAS.\n",
    "- As instruções de atribuição nos permitem vincular valores a variáveis.\n",
    "- Podemos chamar funções em Python da mesma forma que chamamos funções em matemática.\n",
    "- Python conhece algumas funções por padrão, e as instruções de importação nos permitem trazer funcionalidades adicionais dos módulos.\n",
    "- Todos os valores em Python possuem um tipo de dados.\n",
    "- `int`s e `float`s são números.\n",
    "- `int`s são inteiros, enquanto `float`s contêm pontos decimais."
   ]
  },
  {
   "cell_type": "markdown",
   "metadata": {
    "slideshow": {
     "slide_type": "slide"
    }
   },
   "source": [
    "### Próxima vez\n",
    "\n",
    "- Aprenderemos sobre strings, um tipo de dados em Python projetado para armazenar texto.\n",
    "- Também aprenderemos como armazenar sequências, ou muitas informações, em uma única variável.\n",
    "\n",
    "**Observação:** Apresentaremos alguns códigos em laboratórios e trabalhos de casa também. Nem tudo estará em palestra. **Você aprenderá fazendo!**"
   ]
  }
 ],
 "metadata": {
  "kernelspec": {
   "display_name": "Python 3 (ipykernel)",
   "language": "python",
   "name": "python3"
  },
  "language_info": {
   "codemirror_mode": {
    "name": "ipython",
    "version": 3
   },
   "file_extension": ".py",
   "mimetype": "text/x-python",
   "name": "python",
   "nbconvert_exporter": "python",
   "pygments_lexer": "ipython3",
   "version": "3.12.7"
  },
  "livereveal": {
   "scroll": true,
   "transition": "none"
  },
  "rise": {
   "enable_chalkboard": true
  }
 },
 "nbformat": 4,
 "nbformat_minor": 2
}
