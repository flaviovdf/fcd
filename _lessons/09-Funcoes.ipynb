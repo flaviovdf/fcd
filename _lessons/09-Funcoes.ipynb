{
 "cells": [
  {
   "cell_type": "markdown",
   "metadata": {},
   "source": [
    "---\n",
    "layout: page\n",
    "title: Funções\n",
    "nav_order: 9\n",
    "---\n",
    "[<img src=\"https://raw.githubusercontent.com/flaviovdf/fcd/master/assets/colab_favicon_small.png\" style=\"float: right;\">](https://colab.research.google.com/github/flaviovdf/fcd/blob/master/_lessons/09-Funcoes.ipynb)\n",
    "\n",
    "# Tópico 9 – Funções e Apply\n",
    "{: .no_toc .mb-2 }\n",
    "\n",
    "Vamos aprender sobre funções Python e como aplicar as mesmas em `DataFrame`.\n",
    "{: .fs-6 .fw-300 }\n",
    "\n",
    "{: .no_toc .text-delta }\n",
    "Resultados Esperados\n",
    "\n",
    "1. Entender como definir funções `def`\n",
    "1. Entender como aplicar funções em `DataFrame`s (`apply`)\n",
    "\n",
    "{: .no_toc .text-delta }\n",
    "Material Adaptado do [DSC10 (UCSD)](https://dsc10.com/)"
   ]
  },
  {
   "cell_type": "code",
   "execution_count": 1,
   "metadata": {
    "execution": {
     "iopub.execute_input": "2025-03-30T15:39:02.867101Z",
     "iopub.status.busy": "2025-03-30T15:39:02.866793Z",
     "iopub.status.idle": "2025-03-30T15:39:03.312043Z",
     "shell.execute_reply": "2025-03-30T15:39:03.311494Z"
    },
    "slideshow": {
     "slide_type": "skip"
    }
   },
   "outputs": [],
   "source": [
    "import pandas as pd\n",
    "import matplotlib.pyplot as plt\n",
    "import numpy as np\n",
    "plt.style.use('ggplot')"
   ]
  },
  {
   "cell_type": "markdown",
   "metadata": {
    "slideshow": {
     "slide_type": "slide"
    }
   },
   "source": [
    "### Agenda\n",
    "\n",
    "- Funções.\n",
    "- Aplicando funções a DataFrames.\n",
    "- Exemplo: Nomes de alunos."
   ]
  },
  {
   "cell_type": "markdown",
   "metadata": {
    "slideshow": {
     "slide_type": "slide"
    }
   },
   "source": [
    "## Funções"
   ]
  },
  {
   "cell_type": "markdown",
   "metadata": {
    "slideshow": {
     "slide_type": "slide"
    }
   },
   "source": [
    "### Definindo funções\n",
    "* Aprendemos bastante como fazer em Python:\n",
    "* Manipular arrays, séries e DataFrames.\n",
    "* Execute operações em strings.\n",
    "* Crie visualizações.\n",
    "* Mas até agora, estamos restritos ao uso de funções existentes (por exemplo, `max`, `np.sqrt`, `len`) e métodos (por exemplo, `.groupby`, `.assign`, `.plot`)."
   ]
  },
  {
   "cell_type": "markdown",
   "metadata": {
    "slideshow": {
     "slide_type": "slide"
    }
   },
   "source": [
    "### Motivação\n",
    "\n",
    "Suponha que você dirija até um restaurante 🥘 em Ouro Preto, localizado a exatamente 100 quilômetros de distância.\n",
    "\n",
    "- Nos primeiros 80 quilômetros, você dirige a 80 quilômetros por hora.\n",
    "- Nos últimos 20 quilômetros, você dirige a 60 quilômetros por hora."
   ]
  },
  {
   "cell_type": "markdown",
   "metadata": {
    "slideshow": {
     "slide_type": "fragment"
    }
   },
   "source": [
    "- **Pergunta:** Qual é a sua **velocidade média** durante a viagem?"
   ]
  },
  {
   "cell_type": "markdown",
   "metadata": {
    "slideshow": {
     "slide_type": "fragment"
    }
   },
   "source": [
    "- 🚨 A resposta não é 70 quilômetros por hora! Você precisa usar o fato de que $\\text{velocidade} = \\frac{\\text{distancia}}{\\text{tempo}}$."
   ]
  },
  {
   "cell_type": "markdown",
   "metadata": {
    "slideshow": {
     "slide_type": "slide"
    }
   },
   "source": [
    "$$\\text{velocidade média} = \\frac{\\text{distância}}{\\text{tempo}} = \\frac{80 + 20}{\\text{tempo}_1 + \\text{tempo}_2} \\text { km por hora}$$"
   ]
  },
  {
   "cell_type": "markdown",
   "metadata": {
    "slideshow": {
     "slide_type": "fragment"
    }
   },
   "source": [
    "No segmento 1, quando você dirigiu 80 quilômetros a 80 quilômetros por hora, você dirigiu por $\\frac{80}{80}$ horas:\n",
    "\n",
    "$$\\text{velocidade}_1 = \\frac{\\text{distância}_1}{\\text{tempo}_1}$$"
   ]
  },
  {
   "cell_type": "markdown",
   "metadata": {
    "slideshow": {
     "slide_type": "fragment"
    }
   },
   "source": [
    "$$80 \\text{ km por hora} = \\frac{80 \\text{ km}}{\\text{time}_1} \\implies \\text{time}_1 = \\frac{80}{80} \\text{ horas} = 1$$"
   ]
  },
  {
   "cell_type": "markdown",
   "metadata": {
    "slideshow": {
     "slide_type": "fragment"
    }
   },
   "source": [
    "Da mesma forma, no segmento 2, quando você dirigiu 20 quilômetros a 60 quilômetros por hora, você dirigiu por $\\text{time}_2 = \\frac{20}{60} \\text{ horas} = \\frac{1}{3} horas$."
   ]
  },
  {
   "cell_type": "markdown",
   "metadata": {
    "slideshow": {
     "slide_type": "fragment"
    }
   },
   "source": [
    "Então,\n",
    "\n",
    "$$\\text{velocidade média} = \\frac{80 + 20}{\\frac{1}{1} + \\frac{1}{3}} \\text{ km por hora} $$"
   ]
  },
  {
   "cell_type": "markdown",
   "metadata": {
    "slideshow": {
     "slide_type": "fragment"
    }
   },
   "source": [
    "$$\\begin{align*}\\text{velocidade média} &= 100 \\cdot \\frac{1}{\\frac{1}{1} + \\frac{1}{3}} \\text{ km por hora} \\\\ &= 100 \\frac{1}{\\frac{3 + 1}{3}} \\\\ &= 100 \\frac{3}{4} \\\\ &= 75 \\text{ km por hora}\\end{align*} $$"
   ]
  },
  {
   "cell_type": "markdown",
   "metadata": {
    "slideshow": {
     "slide_type": "slide"
    }
   },
   "source": [
    "### Exemplo: média harmônica\n",
    "\n",
    "A **média harmônica** ($\\text{HM}$) de dois números positivos, $a$ e $b$, é definida como\n",
    "\n",
    "$$\\text{HM} = \\frac{2}{\\frac{1}{a} + \\frac{1}{b}}$$\n",
    "\n",
    "Geralmente é usado para encontrar a média de múltiplas **taxas**."
   ]
  },
  {
   "cell_type": "markdown",
   "metadata": {
    "slideshow": {
     "slide_type": "fragment"
    }
   },
   "source": [
    "Encontrar a média harmônica de 80 e 60 não é difícil:"
   ]
  },
  {
   "cell_type": "code",
   "execution_count": 2,
   "metadata": {
    "execution": {
     "iopub.execute_input": "2025-03-30T15:39:03.314423Z",
     "iopub.status.busy": "2025-03-30T15:39:03.314248Z",
     "iopub.status.idle": "2025-03-30T15:39:03.318327Z",
     "shell.execute_reply": "2025-03-30T15:39:03.317996Z"
    }
   },
   "outputs": [
    {
     "data": {
      "text/plain": [
       "1.5"
      ]
     },
     "execution_count": 2,
     "metadata": {},
     "output_type": "execute_result"
    }
   ],
   "source": [
    "2 / (1 / 1 + 1 / 3)"
   ]
  },
  {
   "cell_type": "markdown",
   "metadata": {},
   "source": [
    "Mas e se quisermos determinar a média harmónica de 80 e 70? 80 e 90? 20 e 40? **Isso exigiria muito copiar e colar, o que é propenso a erros.**"
   ]
  },
  {
   "cell_type": "markdown",
   "metadata": {
    "slideshow": {
     "slide_type": "slide"
    }
   },
   "source": [
    "Acontece que podemos **definir** nossa própria função de \"média harmônica\" **apenas uma vez e reutilizá-la várias vezes."
   ]
  },
  {
   "cell_type": "code",
   "execution_count": 3,
   "metadata": {
    "execution": {
     "iopub.execute_input": "2025-03-30T15:39:03.341498Z",
     "iopub.status.busy": "2025-03-30T15:39:03.341220Z",
     "iopub.status.idle": "2025-03-30T15:39:03.343885Z",
     "shell.execute_reply": "2025-03-30T15:39:03.343568Z"
    }
   },
   "outputs": [],
   "source": [
    "def harmonic_mean(a, b):\n",
    "    return 2 / (1 / a + 1 / b)"
   ]
  },
  {
   "cell_type": "code",
   "execution_count": 4,
   "metadata": {
    "execution": {
     "iopub.execute_input": "2025-03-30T15:39:03.345478Z",
     "iopub.status.busy": "2025-03-30T15:39:03.345285Z",
     "iopub.status.idle": "2025-03-30T15:39:03.348315Z",
     "shell.execute_reply": "2025-03-30T15:39:03.347991Z"
    },
    "scrolled": true
   },
   "outputs": [
    {
     "data": {
      "text/plain": [
       "1.5"
      ]
     },
     "execution_count": 4,
     "metadata": {},
     "output_type": "execute_result"
    }
   ],
   "source": [
    "harmonic_mean(1, 3)"
   ]
  },
  {
   "cell_type": "code",
   "execution_count": 5,
   "metadata": {
    "execution": {
     "iopub.execute_input": "2025-03-30T15:39:03.349837Z",
     "iopub.status.busy": "2025-03-30T15:39:03.349677Z",
     "iopub.status.idle": "2025-03-30T15:39:03.352341Z",
     "shell.execute_reply": "2025-03-30T15:39:03.352033Z"
    }
   },
   "outputs": [
    {
     "data": {
      "text/plain": [
       "1.6666666666666667"
      ]
     },
     "execution_count": 5,
     "metadata": {},
     "output_type": "execute_result"
    }
   ],
   "source": [
    "harmonic_mean(1, 5)"
   ]
  },
  {
   "cell_type": "markdown",
   "metadata": {
    "slideshow": {
     "slide_type": "fragment"
    }
   },
   "source": [
    "Observe que só tivemos que especificar como calcular a média harmônica uma vez!"
   ]
  },
  {
   "cell_type": "markdown",
   "metadata": {
    "slideshow": {
     "slide_type": "slide"
    }
   },
   "source": [
    "### Funções\n",
    "\n",
    "Funções são uma forma de dividir nosso código em pequenas subpartes para evitar que escrevamos código repetitivo. Cada vez que **definirmos** nossa própria função em Python, usaremos o seguinte padrão."
   ]
  },
  {
   "cell_type": "code",
   "execution_count": 6,
   "metadata": {
    "execution": {
     "iopub.execute_input": "2025-03-30T15:39:03.353698Z",
     "iopub.status.busy": "2025-03-30T15:39:03.353589Z",
     "iopub.status.idle": "2025-03-30T15:39:03.356620Z",
     "shell.execute_reply": "2025-03-30T15:39:03.356214Z"
    }
   },
   "outputs": [
    {
     "data": {
      "text/html": [
       "\n",
       "        <iframe\n",
       "            width=\"960\"\n",
       "            height=\"569\"\n",
       "            src=\"https://docs.google.com/presentation/d/e/2PACX-1vRKMMwGtrQOeLefj31fCtmbNOaJuKY32eBz1VwHi_5ui0AGYV3MoCjPUtQ_4SB1f9x4Iu6gbH0vFvmB/embed?start=false&loop=false&delayms=60000\"\n",
       "            frameborder=\"0\"\n",
       "            allowfullscreen\n",
       "            \n",
       "        ></iframe>\n",
       "        "
      ],
      "text/plain": [
       "<IPython.lib.display.IFrame at 0x7f2e2efcbd70>"
      ]
     },
     "metadata": {},
     "output_type": "display_data"
    }
   ],
   "source": [
    "from IPython.display import display, IFrame\n",
    "def show_def():\n",
    "    src = \"https://docs.google.com/presentation/d/e/2PACX-1vRKMMwGtrQOeLefj31fCtmbNOaJuKY32eBz1VwHi_5ui0AGYV3MoCjPUtQ_4SB1f9x4Iu6gbH0vFvmB/embed?start=false&loop=false&delayms=60000\"\n",
    "    width = 960 \n",
    "    height = 569\n",
    "    display(IFrame(src, width, height))\n",
    "show_def()"
   ]
  },
  {
   "cell_type": "markdown",
   "metadata": {
    "slideshow": {
     "slide_type": "slide"
    }
   },
   "source": [
    "### Funções são \"receitas\"\n",
    "\n",
    "- As funções recebem entradas, conhecidas como **argumentos**, fazem algo e produzem algumas saídas.\n",
    "- A beleza das funções é que **você não precisa saber como elas são implementadas para usá-las!**\n",
    "- Esta é a premissa da ideia de **abstração** na ciência da computação – você ouvirá muito sobre isso no DSC 20."
   ]
  },
  {
   "cell_type": "code",
   "execution_count": 7,
   "metadata": {
    "execution": {
     "iopub.execute_input": "2025-03-30T15:39:03.358593Z",
     "iopub.status.busy": "2025-03-30T15:39:03.358355Z",
     "iopub.status.idle": "2025-03-30T15:39:03.361454Z",
     "shell.execute_reply": "2025-03-30T15:39:03.361135Z"
    }
   },
   "outputs": [
    {
     "data": {
      "text/plain": [
       "1.0"
      ]
     },
     "execution_count": 7,
     "metadata": {},
     "output_type": "execute_result"
    }
   ],
   "source": [
    "harmonic_mean(1, 1)"
   ]
  },
  {
   "cell_type": "code",
   "execution_count": 8,
   "metadata": {
    "execution": {
     "iopub.execute_input": "2025-03-30T15:39:03.362706Z",
     "iopub.status.busy": "2025-03-30T15:39:03.362595Z",
     "iopub.status.idle": "2025-03-30T15:39:03.365081Z",
     "shell.execute_reply": "2025-03-30T15:39:03.364749Z"
    }
   },
   "outputs": [
    {
     "data": {
      "text/plain": [
       "1.5"
      ]
     },
     "execution_count": 8,
     "metadata": {},
     "output_type": "execute_result"
    }
   ],
   "source": [
    "harmonic_mean(1, 3)"
   ]
  },
  {
   "cell_type": "code",
   "execution_count": 9,
   "metadata": {
    "execution": {
     "iopub.execute_input": "2025-03-30T15:39:03.366408Z",
     "iopub.status.busy": "2025-03-30T15:39:03.366296Z",
     "iopub.status.idle": "2025-03-30T15:39:03.368797Z",
     "shell.execute_reply": "2025-03-30T15:39:03.368480Z"
    }
   },
   "outputs": [
    {
     "data": {
      "text/plain": [
       "1.3333333333333333"
      ]
     },
     "execution_count": 9,
     "metadata": {},
     "output_type": "execute_result"
    }
   ],
   "source": [
    "harmonic_mean(1, 2)"
   ]
  },
  {
   "cell_type": "markdown",
   "metadata": {
    "slideshow": {
     "slide_type": "slide"
    }
   },
   "source": [
    "### Parâmetros e argumentos\n",
    "\n",
    "`triple` tem um **parâmetro**, `x`."
   ]
  },
  {
   "cell_type": "code",
   "execution_count": 10,
   "metadata": {
    "execution": {
     "iopub.execute_input": "2025-03-30T15:39:03.370099Z",
     "iopub.status.busy": "2025-03-30T15:39:03.369993Z",
     "iopub.status.idle": "2025-03-30T15:39:03.371893Z",
     "shell.execute_reply": "2025-03-30T15:39:03.371560Z"
    }
   },
   "outputs": [],
   "source": [
    "def triple(x):\n",
    "    return x * 3"
   ]
  },
  {
   "cell_type": "markdown",
   "metadata": {},
   "source": [
    "Quando chamamos `triple` com o **argumento** 5, você pode fingir que há uma primeira linha invisível no corpo de `triple` que diz `x = 5`."
   ]
  },
  {
   "cell_type": "code",
   "execution_count": 11,
   "metadata": {
    "execution": {
     "iopub.execute_input": "2025-03-30T15:39:03.373239Z",
     "iopub.status.busy": "2025-03-30T15:39:03.373119Z",
     "iopub.status.idle": "2025-03-30T15:39:03.375504Z",
     "shell.execute_reply": "2025-03-30T15:39:03.375217Z"
    }
   },
   "outputs": [
    {
     "data": {
      "text/plain": [
       "15"
      ]
     },
     "execution_count": 11,
     "metadata": {},
     "output_type": "execute_result"
    }
   ],
   "source": [
    "triple(5)"
   ]
  },
  {
   "cell_type": "markdown",
   "metadata": {
    "slideshow": {
     "slide_type": "fragment"
    }
   },
   "source": [
    "Observe que os argumentos podem ser de qualquer tipo!"
   ]
  },
  {
   "cell_type": "code",
   "execution_count": 12,
   "metadata": {
    "execution": {
     "iopub.execute_input": "2025-03-30T15:39:03.376822Z",
     "iopub.status.busy": "2025-03-30T15:39:03.376688Z",
     "iopub.status.idle": "2025-03-30T15:39:03.378874Z",
     "shell.execute_reply": "2025-03-30T15:39:03.378579Z"
    }
   },
   "outputs": [
    {
     "data": {
      "text/plain": [
       "'tritontritontriton'"
      ]
     },
     "execution_count": 12,
     "metadata": {},
     "output_type": "execute_result"
    }
   ],
   "source": [
    "triple('triton')"
   ]
  },
  {
   "cell_type": "markdown",
   "metadata": {
    "slideshow": {
     "slide_type": "slide"
    }
   },
   "source": [
    "### Funções podem receber 0 ou mais argumentos\n",
    "\n",
    "As funções podem ter qualquer número de argumentos. Até agora, criamos uma função que leva dois argumentos – `harmonic_mean` – e uma função que leva um argumento – `triple`."
   ]
  },
  {
   "cell_type": "markdown",
   "metadata": {
    "slideshow": {
     "slide_type": "fragment"
    }
   },
   "source": [
    "`saudação` não aceita argumentos!"
   ]
  },
  {
   "cell_type": "code",
   "execution_count": 13,
   "metadata": {
    "execution": {
     "iopub.execute_input": "2025-03-30T15:39:03.380160Z",
     "iopub.status.busy": "2025-03-30T15:39:03.380053Z",
     "iopub.status.idle": "2025-03-30T15:39:03.381795Z",
     "shell.execute_reply": "2025-03-30T15:39:03.381518Z"
    },
    "slideshow": {
     "slide_type": "-"
    }
   },
   "outputs": [],
   "source": [
    "def greeting():\n",
    "    return 'Hi! 👋'"
   ]
  },
  {
   "cell_type": "code",
   "execution_count": 14,
   "metadata": {
    "execution": {
     "iopub.execute_input": "2025-03-30T15:39:03.382994Z",
     "iopub.status.busy": "2025-03-30T15:39:03.382868Z",
     "iopub.status.idle": "2025-03-30T15:39:03.385124Z",
     "shell.execute_reply": "2025-03-30T15:39:03.384849Z"
    }
   },
   "outputs": [
    {
     "data": {
      "text/plain": [
       "'Hi! 👋'"
      ]
     },
     "execution_count": 14,
     "metadata": {},
     "output_type": "execute_result"
    }
   ],
   "source": [
    "greeting()"
   ]
  },
  {
   "cell_type": "markdown",
   "metadata": {
    "slideshow": {
     "slide_type": "slide"
    }
   },
   "source": [
    "### As funções não são executadas até que você as chame!\n",
    "\n",
    "O corpo de uma função não é executado até que você use (**call**) a função.\n",
    "\n",
    "Aqui, podemos definir `where_is_the_error` sem ver uma mensagem de erro."
   ]
  },
  {
   "cell_type": "code",
   "execution_count": 15,
   "metadata": {
    "execution": {
     "iopub.execute_input": "2025-03-30T15:39:03.386354Z",
     "iopub.status.busy": "2025-03-30T15:39:03.386242Z",
     "iopub.status.idle": "2025-03-30T15:39:03.388164Z",
     "shell.execute_reply": "2025-03-30T15:39:03.387866Z"
    }
   },
   "outputs": [],
   "source": [
    "def where_is_the_error(something):\n",
    "    '''You can describe your function within triple quotes. For example, this function \n",
    "    illustrates that errors don't occur until functions are executed (called).'''\n",
    "    return (1 / 0) + something"
   ]
  },
  {
   "cell_type": "markdown",
   "metadata": {},
   "source": [
    "Somente quando **chamamos** `where_is_the_error` que o Python nos dá uma mensagem de erro."
   ]
  },
  {
   "cell_type": "code",
   "execution_count": 16,
   "metadata": {
    "execution": {
     "iopub.execute_input": "2025-03-30T15:39:03.389465Z",
     "iopub.status.busy": "2025-03-30T15:39:03.389359Z",
     "iopub.status.idle": "2025-03-30T15:39:03.501861Z",
     "shell.execute_reply": "2025-03-30T15:39:03.501508Z"
    },
    "tags": [
     "raises-exception"
    ]
   },
   "outputs": [
    {
     "ename": "ZeroDivisionError",
     "evalue": "division by zero",
     "output_type": "error",
     "traceback": [
      "\u001b[0;31m---------------------------------------------------------------------------\u001b[0m",
      "\u001b[0;31mZeroDivisionError\u001b[0m                         Traceback (most recent call last)",
      "Cell \u001b[0;32mIn[16], line 1\u001b[0m\n\u001b[0;32m----> 1\u001b[0m \u001b[43mwhere_is_the_error\u001b[49m\u001b[43m(\u001b[49m\u001b[38;5;241;43m5\u001b[39;49m\u001b[43m)\u001b[49m\n",
      "Cell \u001b[0;32mIn[15], line 4\u001b[0m, in \u001b[0;36mwhere_is_the_error\u001b[0;34m(something)\u001b[0m\n\u001b[1;32m      1\u001b[0m \u001b[38;5;28;01mdef\u001b[39;00m \u001b[38;5;21mwhere_is_the_error\u001b[39m(something):\n\u001b[1;32m      2\u001b[0m \u001b[38;5;250m    \u001b[39m\u001b[38;5;124;03m'''You can describe your function within triple quotes. For example, this function \u001b[39;00m\n\u001b[1;32m      3\u001b[0m \u001b[38;5;124;03m    illustrates that errors don't occur until functions are executed (called).'''\u001b[39;00m\n\u001b[0;32m----> 4\u001b[0m     \u001b[38;5;28;01mreturn\u001b[39;00m (\u001b[38;5;241;43m1\u001b[39;49m\u001b[43m \u001b[49m\u001b[38;5;241;43m/\u001b[39;49m\u001b[43m \u001b[49m\u001b[38;5;241;43m0\u001b[39;49m) \u001b[38;5;241m+\u001b[39m something\n",
      "\u001b[0;31mZeroDivisionError\u001b[0m: division by zero"
     ]
    }
   ],
   "source": [
    "where_is_the_error(5)"
   ]
  },
  {
   "cell_type": "markdown",
   "metadata": {
    "slideshow": {
     "slide_type": "slide"
    }
   },
   "source": [
    "### Exemplo: `primeiro_nome`\n",
    "\n",
    "Vamos criar uma função chamada `first_name` que recebe o nome completo de alguém e retorna seu primeiro nome. Um exemplo de comportamento é mostrado abaixo.\n",
    "```py\n",
    ">>> first_name('Flavio Figueiredo')\n",
    "'Flavio'\n",
    "```\n",
    "*Dica*: Use o método string `.split`."
   ]
  },
  {
   "cell_type": "markdown",
   "metadata": {
    "slideshow": {
     "slide_type": "fragment"
    }
   },
   "source": [
    "Estratégia geral para escrever funções:\n",
    "1. Primeiro, tente fazer com que o comportamento funcione em um único exemplo.\n",
    "2. Em seguida, encapsule esse comportamento dentro de uma função."
   ]
  },
  {
   "cell_type": "code",
   "execution_count": 17,
   "metadata": {
    "execution": {
     "iopub.execute_input": "2025-03-30T15:39:03.503483Z",
     "iopub.status.busy": "2025-03-30T15:39:03.503324Z",
     "iopub.status.idle": "2025-03-30T15:39:03.505857Z",
     "shell.execute_reply": "2025-03-30T15:39:03.505522Z"
    }
   },
   "outputs": [
    {
     "data": {
      "text/plain": [
       "'Flavio'"
      ]
     },
     "execution_count": 17,
     "metadata": {},
     "output_type": "execute_result"
    }
   ],
   "source": [
    "'Flavio Figueiredo'.split(' ')[0]"
   ]
  },
  {
   "cell_type": "code",
   "execution_count": 18,
   "metadata": {
    "execution": {
     "iopub.execute_input": "2025-03-30T15:39:03.507413Z",
     "iopub.status.busy": "2025-03-30T15:39:03.507265Z",
     "iopub.status.idle": "2025-03-30T15:39:03.509355Z",
     "shell.execute_reply": "2025-03-30T15:39:03.509051Z"
    }
   },
   "outputs": [],
   "source": [
    "def first_name(full_name):\n",
    "    '''Returns the first name given a full name.'''\n",
    "    return full_name.split(' ')[0]"
   ]
  },
  {
   "cell_type": "code",
   "execution_count": 19,
   "metadata": {
    "execution": {
     "iopub.execute_input": "2025-03-30T15:39:03.510954Z",
     "iopub.status.busy": "2025-03-30T15:39:03.510837Z",
     "iopub.status.idle": "2025-03-30T15:39:03.513326Z",
     "shell.execute_reply": "2025-03-30T15:39:03.513001Z"
    }
   },
   "outputs": [
    {
     "data": {
      "text/plain": [
       "'Flavio'"
      ]
     },
     "execution_count": 19,
     "metadata": {},
     "output_type": "execute_result"
    }
   ],
   "source": [
    "first_name('Flavio Figueiredo')"
   ]
  },
  {
   "cell_type": "code",
   "execution_count": 20,
   "metadata": {
    "execution": {
     "iopub.execute_input": "2025-03-30T15:39:03.514671Z",
     "iopub.status.busy": "2025-03-30T15:39:03.514558Z",
     "iopub.status.idle": "2025-03-30T15:39:03.517013Z",
     "shell.execute_reply": "2025-03-30T15:39:03.516747Z"
    }
   },
   "outputs": [
    {
     "data": {
      "text/plain": [
       "'Mestre'"
      ]
     },
     "execution_count": 20,
     "metadata": {},
     "output_type": "execute_result"
    }
   ],
   "source": [
    "# What if there are three names?\n",
    "first_name('Mestre Flavio Figueiredo')"
   ]
  },
  {
   "cell_type": "markdown",
   "metadata": {
    "slideshow": {
     "slide_type": "slide"
    }
   },
   "source": [
    "### Retornando\n",
    "\n",
    "- A palavra-chave `return` especifica qual deve ser a saída da sua função, ou seja, como será avaliada uma chamada para a sua função.\n",
    "- A maioria das funções que escrevemos usará `return`, mas usar `return` não é obrigatório.\n",
    "- Tenha cuidado: `print` e `return` funcionam de forma diferente!"
   ]
  },
  {
   "cell_type": "code",
   "execution_count": 21,
   "metadata": {
    "execution": {
     "iopub.execute_input": "2025-03-30T15:39:03.518393Z",
     "iopub.status.busy": "2025-03-30T15:39:03.518265Z",
     "iopub.status.idle": "2025-03-30T15:39:03.520289Z",
     "shell.execute_reply": "2025-03-30T15:39:03.520008Z"
    }
   },
   "outputs": [],
   "source": [
    "def pythagorean(a, b):\n",
    "    '''Computes the hypotenuse length of a triangle with legs a and b.'''\n",
    "    c = (a ** 2 + b ** 2) ** 0.5\n",
    "    print(c)"
   ]
  },
  {
   "cell_type": "code",
   "execution_count": 22,
   "metadata": {
    "execution": {
     "iopub.execute_input": "2025-03-30T15:39:03.521612Z",
     "iopub.status.busy": "2025-03-30T15:39:03.521502Z",
     "iopub.status.idle": "2025-03-30T15:39:03.523555Z",
     "shell.execute_reply": "2025-03-30T15:39:03.523255Z"
    }
   },
   "outputs": [
    {
     "name": "stdout",
     "output_type": "stream",
     "text": [
      "5.0\n"
     ]
    }
   ],
   "source": [
    "x = pythagorean(3, 4)"
   ]
  },
  {
   "cell_type": "code",
   "execution_count": 23,
   "metadata": {
    "execution": {
     "iopub.execute_input": "2025-03-30T15:39:03.524877Z",
     "iopub.status.busy": "2025-03-30T15:39:03.524767Z",
     "iopub.status.idle": "2025-03-30T15:39:03.526566Z",
     "shell.execute_reply": "2025-03-30T15:39:03.526288Z"
    }
   },
   "outputs": [],
   "source": [
    "# No output – why?\n",
    "x"
   ]
  },
  {
   "cell_type": "code",
   "execution_count": 24,
   "metadata": {
    "execution": {
     "iopub.execute_input": "2025-03-30T15:39:03.527862Z",
     "iopub.status.busy": "2025-03-30T15:39:03.527749Z",
     "iopub.status.idle": "2025-03-30T15:39:03.535645Z",
     "shell.execute_reply": "2025-03-30T15:39:03.535363Z"
    },
    "tags": [
     "raises-exception"
    ]
   },
   "outputs": [
    {
     "ename": "TypeError",
     "evalue": "unsupported operand type(s) for +: 'NoneType' and 'int'",
     "output_type": "error",
     "traceback": [
      "\u001b[0;31m---------------------------------------------------------------------------\u001b[0m",
      "\u001b[0;31mTypeError\u001b[0m                                 Traceback (most recent call last)",
      "Cell \u001b[0;32mIn[24], line 2\u001b[0m\n\u001b[1;32m      1\u001b[0m \u001b[38;5;66;03m# Errors – why?\u001b[39;00m\n\u001b[0;32m----> 2\u001b[0m \u001b[43mx\u001b[49m\u001b[43m \u001b[49m\u001b[38;5;241;43m+\u001b[39;49m\u001b[43m \u001b[49m\u001b[38;5;241;43m10\u001b[39;49m\n",
      "\u001b[0;31mTypeError\u001b[0m: unsupported operand type(s) for +: 'NoneType' and 'int'"
     ]
    }
   ],
   "source": [
    "# Errors – why?\n",
    "x + 10"
   ]
  },
  {
   "cell_type": "code",
   "execution_count": 25,
   "metadata": {
    "execution": {
     "iopub.execute_input": "2025-03-30T15:39:03.537038Z",
     "iopub.status.busy": "2025-03-30T15:39:03.536926Z",
     "iopub.status.idle": "2025-03-30T15:39:03.538919Z",
     "shell.execute_reply": "2025-03-30T15:39:03.538613Z"
    },
    "slideshow": {
     "slide_type": "slide"
    }
   },
   "outputs": [],
   "source": [
    "def better_pythagorean(a, b):\n",
    "    '''Computes the hypotenuse length of a triangle with legs a and b, and actually returns the result.'''\n",
    "    c = (a ** 2 + b ** 2) ** 0.5\n",
    "    return c"
   ]
  },
  {
   "cell_type": "code",
   "execution_count": 26,
   "metadata": {
    "execution": {
     "iopub.execute_input": "2025-03-30T15:39:03.540340Z",
     "iopub.status.busy": "2025-03-30T15:39:03.540215Z",
     "iopub.status.idle": "2025-03-30T15:39:03.542702Z",
     "shell.execute_reply": "2025-03-30T15:39:03.542439Z"
    }
   },
   "outputs": [
    {
     "data": {
      "text/plain": [
       "5.0"
      ]
     },
     "execution_count": 26,
     "metadata": {},
     "output_type": "execute_result"
    }
   ],
   "source": [
    "x = better_pythagorean(3, 4)\n",
    "x"
   ]
  },
  {
   "cell_type": "code",
   "execution_count": 27,
   "metadata": {
    "execution": {
     "iopub.execute_input": "2025-03-30T15:39:03.544046Z",
     "iopub.status.busy": "2025-03-30T15:39:03.543935Z",
     "iopub.status.idle": "2025-03-30T15:39:03.546224Z",
     "shell.execute_reply": "2025-03-30T15:39:03.545991Z"
    }
   },
   "outputs": [
    {
     "data": {
      "text/plain": [
       "15.0"
      ]
     },
     "execution_count": 27,
     "metadata": {},
     "output_type": "execute_result"
    }
   ],
   "source": [
    "x + 10"
   ]
  },
  {
   "cell_type": "markdown",
   "metadata": {
    "slideshow": {
     "slide_type": "slide"
    }
   },
   "source": [
    "### Retornando\n",
    "Depois que uma função executa uma instrução `return`, ela para de funcionar."
   ]
  },
  {
   "cell_type": "code",
   "execution_count": 28,
   "metadata": {
    "execution": {
     "iopub.execute_input": "2025-03-30T15:39:03.547511Z",
     "iopub.status.busy": "2025-03-30T15:39:03.547399Z",
     "iopub.status.idle": "2025-03-30T15:39:03.549220Z",
     "shell.execute_reply": "2025-03-30T15:39:03.548970Z"
    }
   },
   "outputs": [],
   "source": [
    "def motivational(quote):\n",
    "    return 0\n",
    "    print(\"Uma frase motivacional:\", quote)"
   ]
  },
  {
   "cell_type": "code",
   "execution_count": 29,
   "metadata": {
    "execution": {
     "iopub.execute_input": "2025-03-30T15:39:03.550688Z",
     "iopub.status.busy": "2025-03-30T15:39:03.550444Z",
     "iopub.status.idle": "2025-03-30T15:39:03.552770Z",
     "shell.execute_reply": "2025-03-30T15:39:03.552506Z"
    }
   },
   "outputs": [
    {
     "data": {
      "text/plain": [
       "0"
      ]
     },
     "execution_count": 29,
     "metadata": {},
     "output_type": "execute_result"
    }
   ],
   "source": [
    "motivational('Caia sete vezes e se levante oito.')"
   ]
  },
  {
   "cell_type": "markdown",
   "metadata": {
    "slideshow": {
     "slide_type": "slide"
    }
   },
   "source": [
    "### Escopo 🩺\n",
    "\n",
    "Os nomes que você escolhe para os parâmetros de uma função são conhecidos apenas por essa função (conhecido como **escopo local**). O restante do seu notebook não é afetado pelos nomes dos parâmetros."
   ]
  },
  {
   "cell_type": "code",
   "execution_count": 30,
   "metadata": {
    "execution": {
     "iopub.execute_input": "2025-03-30T15:39:03.554247Z",
     "iopub.status.busy": "2025-03-30T15:39:03.554130Z",
     "iopub.status.idle": "2025-03-30T15:39:03.556025Z",
     "shell.execute_reply": "2025-03-30T15:39:03.555750Z"
    }
   },
   "outputs": [],
   "source": [
    "def what_is_awesome(s):\n",
    "    return s + ' is awesome!'"
   ]
  },
  {
   "cell_type": "code",
   "execution_count": 31,
   "metadata": {
    "execution": {
     "iopub.execute_input": "2025-03-30T15:39:03.558056Z",
     "iopub.status.busy": "2025-03-30T15:39:03.557226Z",
     "iopub.status.idle": "2025-03-30T15:39:03.560741Z",
     "shell.execute_reply": "2025-03-30T15:39:03.560431Z"
    }
   },
   "outputs": [
    {
     "data": {
      "text/plain": [
       "'data science is awesome!'"
      ]
     },
     "execution_count": 31,
     "metadata": {},
     "output_type": "execute_result"
    }
   ],
   "source": [
    "what_is_awesome('data science')"
   ]
  },
  {
   "cell_type": "code",
   "execution_count": 32,
   "metadata": {
    "execution": {
     "iopub.execute_input": "2025-03-30T15:39:03.562649Z",
     "iopub.status.busy": "2025-03-30T15:39:03.562508Z",
     "iopub.status.idle": "2025-03-30T15:39:03.564421Z",
     "shell.execute_reply": "2025-03-30T15:39:03.564100Z"
    }
   },
   "outputs": [],
   "source": [
    "# descomente para ver o erro\n",
    "# s"
   ]
  },
  {
   "cell_type": "code",
   "execution_count": 33,
   "metadata": {
    "execution": {
     "iopub.execute_input": "2025-03-30T15:39:03.565875Z",
     "iopub.status.busy": "2025-03-30T15:39:03.565715Z",
     "iopub.status.idle": "2025-03-30T15:39:03.567602Z",
     "shell.execute_reply": "2025-03-30T15:39:03.567284Z"
    }
   },
   "outputs": [],
   "source": [
    "s = 'FCD'"
   ]
  },
  {
   "cell_type": "code",
   "execution_count": 34,
   "metadata": {
    "execution": {
     "iopub.execute_input": "2025-03-30T15:39:03.569057Z",
     "iopub.status.busy": "2025-03-30T15:39:03.568900Z",
     "iopub.status.idle": "2025-03-30T15:39:03.571471Z",
     "shell.execute_reply": "2025-03-30T15:39:03.571141Z"
    }
   },
   "outputs": [
    {
     "data": {
      "text/plain": [
       "'data science is awesome!'"
      ]
     },
     "execution_count": 34,
     "metadata": {},
     "output_type": "execute_result"
    }
   ],
   "source": [
    "what_is_awesome('data science')"
   ]
  },
  {
   "cell_type": "markdown",
   "metadata": {
    "slideshow": {
     "slide_type": "slide"
    }
   },
   "source": [
    "## Aplicando funções a DataFrames"
   ]
  },
  {
   "cell_type": "markdown",
   "metadata": {
    "slideshow": {
     "slide_type": "slide"
    }
   },
   "source": [
    "### Dados dos alunos de FCD\n",
    "\n",
    "A `df` do DataFrame contém os nomes de todos os alunos matrículados em FCD."
   ]
  },
  {
   "cell_type": "code",
   "execution_count": 35,
   "metadata": {
    "execution": {
     "iopub.execute_input": "2025-03-30T15:39:03.573001Z",
     "iopub.status.busy": "2025-03-30T15:39:03.572840Z",
     "iopub.status.idle": "2025-03-30T15:39:03.574766Z",
     "shell.execute_reply": "2025-03-30T15:39:03.574474Z"
    }
   },
   "outputs": [],
   "source": [
    "nomes = 'ANNY \\\n",
    "ARTHUR \\\n",
    "ARTHUR \\\n",
    "CAIO \\\n",
    "CAROLINA \\\n",
    "CLARA \\\n",
    "DANIELLE \\\n",
    "EDUARDO \\\n",
    "EDUARDO \\\n",
    "EMANUEL \\\n",
    "ENZO \\\n",
    "FELIPE \\\n",
    "FELIPE \\\n",
    "FRANCISCO \\\n",
    "GABRIEL \\\n",
    "GABRIEL \\\n",
    "GABRIELLY \\\n",
    "GAEL \\\n",
    "GUILHERME \\\n",
    "GUILHERME \\\n",
    "GUSTAVO \\\n",
    "ISAAC \\\n",
    "JOAO \\\n",
    "JOAO \\\n",
    "KARINA \\\n",
    "LETICIA \\\n",
    "LETICIA \\\n",
    "LIVIA \\\n",
    "LORRANY \\\n",
    "LUCAS \\\n",
    "LUIS \\\n",
    "MARCO \\\n",
    "MATEUS \\\n",
    "MATEUS \\\n",
    "MATHEUS \\\n",
    "RAIZA \\\n",
    "RENATO \\\n",
    "SOPHIA \\\n",
    "THAYRELAN \\\n",
    "VICTOR'"
   ]
  },
  {
   "cell_type": "code",
   "execution_count": 36,
   "metadata": {
    "execution": {
     "iopub.execute_input": "2025-03-30T15:39:03.576081Z",
     "iopub.status.busy": "2025-03-30T15:39:03.575939Z",
     "iopub.status.idle": "2025-03-30T15:39:03.582771Z",
     "shell.execute_reply": "2025-03-30T15:39:03.582434Z"
    }
   },
   "outputs": [
    {
     "data": {
      "text/html": [
       "<div>\n",
       "<style scoped>\n",
       "    .dataframe tbody tr th:only-of-type {\n",
       "        vertical-align: middle;\n",
       "    }\n",
       "\n",
       "    .dataframe tbody tr th {\n",
       "        vertical-align: top;\n",
       "    }\n",
       "\n",
       "    .dataframe thead th {\n",
       "        text-align: right;\n",
       "    }\n",
       "</style>\n",
       "<table border=\"1\" class=\"dataframe\">\n",
       "  <thead>\n",
       "    <tr style=\"text-align: right;\">\n",
       "      <th></th>\n",
       "      <th>nome</th>\n",
       "    </tr>\n",
       "  </thead>\n",
       "  <tbody>\n",
       "    <tr>\n",
       "      <th>39</th>\n",
       "      <td>VICTOR</td>\n",
       "    </tr>\n",
       "    <tr>\n",
       "      <th>26</th>\n",
       "      <td>LETICIA</td>\n",
       "    </tr>\n",
       "    <tr>\n",
       "      <th>0</th>\n",
       "      <td>ANNY</td>\n",
       "    </tr>\n",
       "    <tr>\n",
       "      <th>3</th>\n",
       "      <td>CAIO</td>\n",
       "    </tr>\n",
       "    <tr>\n",
       "      <th>29</th>\n",
       "      <td>LUCAS</td>\n",
       "    </tr>\n",
       "    <tr>\n",
       "      <th>15</th>\n",
       "      <td>GABRIEL</td>\n",
       "    </tr>\n",
       "    <tr>\n",
       "      <th>6</th>\n",
       "      <td>DANIELLE</td>\n",
       "    </tr>\n",
       "    <tr>\n",
       "      <th>20</th>\n",
       "      <td>GUSTAVO</td>\n",
       "    </tr>\n",
       "    <tr>\n",
       "      <th>36</th>\n",
       "      <td>RENATO</td>\n",
       "    </tr>\n",
       "    <tr>\n",
       "      <th>19</th>\n",
       "      <td>GUILHERME</td>\n",
       "    </tr>\n",
       "    <tr>\n",
       "      <th>7</th>\n",
       "      <td>EDUARDO</td>\n",
       "    </tr>\n",
       "    <tr>\n",
       "      <th>35</th>\n",
       "      <td>RAIZA</td>\n",
       "    </tr>\n",
       "    <tr>\n",
       "      <th>13</th>\n",
       "      <td>FRANCISCO</td>\n",
       "    </tr>\n",
       "    <tr>\n",
       "      <th>16</th>\n",
       "      <td>GABRIELLY</td>\n",
       "    </tr>\n",
       "    <tr>\n",
       "      <th>30</th>\n",
       "      <td>LUIS</td>\n",
       "    </tr>\n",
       "    <tr>\n",
       "      <th>33</th>\n",
       "      <td>MATEUS</td>\n",
       "    </tr>\n",
       "    <tr>\n",
       "      <th>32</th>\n",
       "      <td>MATEUS</td>\n",
       "    </tr>\n",
       "    <tr>\n",
       "      <th>28</th>\n",
       "      <td>LORRANY</td>\n",
       "    </tr>\n",
       "    <tr>\n",
       "      <th>38</th>\n",
       "      <td>THAYRELAN</td>\n",
       "    </tr>\n",
       "    <tr>\n",
       "      <th>12</th>\n",
       "      <td>FELIPE</td>\n",
       "    </tr>\n",
       "    <tr>\n",
       "      <th>11</th>\n",
       "      <td>FELIPE</td>\n",
       "    </tr>\n",
       "    <tr>\n",
       "      <th>21</th>\n",
       "      <td>ISAAC</td>\n",
       "    </tr>\n",
       "    <tr>\n",
       "      <th>23</th>\n",
       "      <td>JOAO</td>\n",
       "    </tr>\n",
       "    <tr>\n",
       "      <th>2</th>\n",
       "      <td>ARTHUR</td>\n",
       "    </tr>\n",
       "    <tr>\n",
       "      <th>5</th>\n",
       "      <td>CLARA</td>\n",
       "    </tr>\n",
       "    <tr>\n",
       "      <th>9</th>\n",
       "      <td>EMANUEL</td>\n",
       "    </tr>\n",
       "    <tr>\n",
       "      <th>22</th>\n",
       "      <td>JOAO</td>\n",
       "    </tr>\n",
       "    <tr>\n",
       "      <th>27</th>\n",
       "      <td>LIVIA</td>\n",
       "    </tr>\n",
       "    <tr>\n",
       "      <th>14</th>\n",
       "      <td>GABRIEL</td>\n",
       "    </tr>\n",
       "    <tr>\n",
       "      <th>8</th>\n",
       "      <td>EDUARDO</td>\n",
       "    </tr>\n",
       "    <tr>\n",
       "      <th>24</th>\n",
       "      <td>KARINA</td>\n",
       "    </tr>\n",
       "    <tr>\n",
       "      <th>34</th>\n",
       "      <td>MATHEUS</td>\n",
       "    </tr>\n",
       "    <tr>\n",
       "      <th>37</th>\n",
       "      <td>SOPHIA</td>\n",
       "    </tr>\n",
       "    <tr>\n",
       "      <th>1</th>\n",
       "      <td>ARTHUR</td>\n",
       "    </tr>\n",
       "    <tr>\n",
       "      <th>10</th>\n",
       "      <td>ENZO</td>\n",
       "    </tr>\n",
       "    <tr>\n",
       "      <th>25</th>\n",
       "      <td>LETICIA</td>\n",
       "    </tr>\n",
       "    <tr>\n",
       "      <th>18</th>\n",
       "      <td>GUILHERME</td>\n",
       "    </tr>\n",
       "    <tr>\n",
       "      <th>31</th>\n",
       "      <td>MARCO</td>\n",
       "    </tr>\n",
       "    <tr>\n",
       "      <th>17</th>\n",
       "      <td>GAEL</td>\n",
       "    </tr>\n",
       "    <tr>\n",
       "      <th>4</th>\n",
       "      <td>CAROLINA</td>\n",
       "    </tr>\n",
       "  </tbody>\n",
       "</table>\n",
       "</div>"
      ],
      "text/plain": [
       "         nome\n",
       "39     VICTOR\n",
       "26    LETICIA\n",
       "0        ANNY\n",
       "3        CAIO\n",
       "29      LUCAS\n",
       "15    GABRIEL\n",
       "6    DANIELLE\n",
       "20    GUSTAVO\n",
       "36     RENATO\n",
       "19  GUILHERME\n",
       "7     EDUARDO\n",
       "35      RAIZA\n",
       "13  FRANCISCO\n",
       "16  GABRIELLY\n",
       "30       LUIS\n",
       "33     MATEUS\n",
       "32     MATEUS\n",
       "28    LORRANY\n",
       "38  THAYRELAN\n",
       "12     FELIPE\n",
       "11     FELIPE\n",
       "21      ISAAC\n",
       "23       JOAO\n",
       "2      ARTHUR\n",
       "5       CLARA\n",
       "9     EMANUEL\n",
       "22       JOAO\n",
       "27      LIVIA\n",
       "14    GABRIEL\n",
       "8     EDUARDO\n",
       "24     KARINA\n",
       "34    MATHEUS\n",
       "37     SOPHIA\n",
       "1      ARTHUR\n",
       "10       ENZO\n",
       "25    LETICIA\n",
       "18  GUILHERME\n",
       "31      MARCO\n",
       "17       GAEL\n",
       "4    CAROLINA"
      ]
     },
     "execution_count": 36,
     "metadata": {},
     "output_type": "execute_result"
    }
   ],
   "source": [
    "df = pd.DataFrame().assign(\n",
    "    nome=nomes.split()\n",
    ")\n",
    "df = df.sample(df.shape[0])\n",
    "df"
   ]
  },
  {
   "cell_type": "markdown",
   "metadata": {
    "slideshow": {
     "slide_type": "slide"
    }
   },
   "source": [
    "### Exemplo: qual a primeira letra mais comum entre os nomes dos discentes de FCD?"
   ]
  },
  {
   "cell_type": "markdown",
   "metadata": {
    "slideshow": {
     "slide_type": "fragment"
    }
   },
   "source": [
    "- **Problema**: Não podemos responder agora, pois não temos uma coluna com primeira letra. Se o fizéssemos, poderíamos agrupar por ele.\n",
    "\n"
   ]
  },
  {
   "cell_type": "markdown",
   "metadata": {
    "slideshow": {
     "slide_type": "fragment"
    }
   },
   "source": [
    "- **Solução**: Criar uma função."
   ]
  },
  {
   "cell_type": "markdown",
   "metadata": {
    "slideshow": {
     "slide_type": "slide"
    }
   },
   "source": [
    "### Criando uma função `primeira_letra`\n",
    "\n",
    "De alguma forma, precisamos chamar `'primeira_letra'` no `'nome'` de cada aluno."
   ]
  },
  {
   "cell_type": "code",
   "execution_count": 37,
   "metadata": {
    "execution": {
     "iopub.execute_input": "2025-03-30T15:39:03.584472Z",
     "iopub.status.busy": "2025-03-30T15:39:03.584303Z",
     "iopub.status.idle": "2025-03-30T15:39:03.586419Z",
     "shell.execute_reply": "2025-03-30T15:39:03.586078Z"
    }
   },
   "outputs": [],
   "source": [
    "def primeira_letra(nome):\n",
    "    return nome[0]"
   ]
  },
  {
   "cell_type": "code",
   "execution_count": 38,
   "metadata": {
    "execution": {
     "iopub.execute_input": "2025-03-30T15:39:03.587779Z",
     "iopub.status.busy": "2025-03-30T15:39:03.587628Z",
     "iopub.status.idle": "2025-03-30T15:39:03.590488Z",
     "shell.execute_reply": "2025-03-30T15:39:03.590136Z"
    },
    "scrolled": true
   },
   "outputs": [
    {
     "data": {
      "text/plain": [
       "'F'"
      ]
     },
     "execution_count": 38,
     "metadata": {},
     "output_type": "execute_result"
    }
   ],
   "source": [
    "primeira_letra('FLAVIO')"
   ]
  },
  {
   "cell_type": "code",
   "execution_count": 39,
   "metadata": {
    "execution": {
     "iopub.execute_input": "2025-03-30T15:39:03.591979Z",
     "iopub.status.busy": "2025-03-30T15:39:03.591855Z",
     "iopub.status.idle": "2025-03-30T15:39:03.594582Z",
     "shell.execute_reply": "2025-03-30T15:39:03.594275Z"
    }
   },
   "outputs": [
    {
     "data": {
      "text/plain": [
       "'V'"
      ]
     },
     "execution_count": 39,
     "metadata": {},
     "output_type": "execute_result"
    }
   ],
   "source": [
    "primeira_letra(df.get('nome').iloc[0])"
   ]
  },
  {
   "cell_type": "code",
   "execution_count": 40,
   "metadata": {
    "execution": {
     "iopub.execute_input": "2025-03-30T15:39:03.596016Z",
     "iopub.status.busy": "2025-03-30T15:39:03.595893Z",
     "iopub.status.idle": "2025-03-30T15:39:03.598451Z",
     "shell.execute_reply": "2025-03-30T15:39:03.598128Z"
    }
   },
   "outputs": [
    {
     "data": {
      "text/plain": [
       "'L'"
      ]
     },
     "execution_count": 40,
     "metadata": {},
     "output_type": "execute_result"
    }
   ],
   "source": [
    "primeira_letra(df.get('nome').iloc[1])"
   ]
  },
  {
   "cell_type": "markdown",
   "metadata": {},
   "source": [
    "Idealmente, existe uma solução melhor do que fazer isso centenas de vezes..."
   ]
  },
  {
   "cell_type": "markdown",
   "metadata": {
    "slideshow": {
     "slide_type": "slide"
    }
   },
   "source": [
    "### `.apply`\n",
    "\n",
    "- Para **aplicar** uma função a cada elemento da coluna `column_name` no DataFrame `df`, use\n",
    "\n",
    "<br>\n",
    "\n",
    "<center><code>df.get(column_name).apply(function_name)</code></center>"
   ]
  },
  {
   "cell_type": "markdown",
   "metadata": {
    "slideshow": {
     "slide_type": "fragment"
    }
   },
   "source": [
    "- O método `.apply` é um método de uma **Series** **não** de um DataFrame.\n",
    "- **Importante:** Usamos `.apply` em séries, **não** em DataFrames.\n",
    "- A saída de `.apply` também é uma série."
   ]
  },
  {
   "cell_type": "markdown",
   "metadata": {
    "slideshow": {
     "slide_type": "fragment"
    }
   },
   "source": [
    "- Passe _apenas o nome_ da função – não a chame!\n",
    "- Bom ✅: `.apply(primeira_letra)`.\n",
    "- Ruim ❌: `.apply(primeira_letra())`."
   ]
  },
  {
   "cell_type": "code",
   "execution_count": 41,
   "metadata": {
    "execution": {
     "iopub.execute_input": "2025-03-30T15:39:03.599955Z",
     "iopub.status.busy": "2025-03-30T15:39:03.599837Z",
     "iopub.status.idle": "2025-03-30T15:39:03.602964Z",
     "shell.execute_reply": "2025-03-30T15:39:03.602656Z"
    },
    "scrolled": true,
    "slideshow": {
     "slide_type": "fragment"
    }
   },
   "outputs": [
    {
     "data": {
      "text/plain": [
       "39    V\n",
       "26    L\n",
       "0     A\n",
       "3     C\n",
       "29    L\n",
       "15    G\n",
       "6     D\n",
       "20    G\n",
       "36    R\n",
       "19    G\n",
       "7     E\n",
       "35    R\n",
       "13    F\n",
       "16    G\n",
       "30    L\n",
       "33    M\n",
       "32    M\n",
       "28    L\n",
       "38    T\n",
       "12    F\n",
       "11    F\n",
       "21    I\n",
       "23    J\n",
       "2     A\n",
       "5     C\n",
       "9     E\n",
       "22    J\n",
       "27    L\n",
       "14    G\n",
       "8     E\n",
       "24    K\n",
       "34    M\n",
       "37    S\n",
       "1     A\n",
       "10    E\n",
       "25    L\n",
       "18    G\n",
       "31    M\n",
       "17    G\n",
       "4     C\n",
       "Name: nome, dtype: object"
      ]
     },
     "execution_count": 41,
     "metadata": {},
     "output_type": "execute_result"
    }
   ],
   "source": [
    "df.get('nome').apply(primeira_letra)"
   ]
  },
  {
   "cell_type": "markdown",
   "metadata": {
    "slideshow": {
     "slide_type": "slide"
    }
   },
   "source": [
    "### Exemplo: nomes próprios comuns"
   ]
  },
  {
   "cell_type": "code",
   "execution_count": 42,
   "metadata": {
    "execution": {
     "iopub.execute_input": "2025-03-30T15:39:03.604391Z",
     "iopub.status.busy": "2025-03-30T15:39:03.604281Z",
     "iopub.status.idle": "2025-03-30T15:39:03.609660Z",
     "shell.execute_reply": "2025-03-30T15:39:03.609311Z"
    }
   },
   "outputs": [
    {
     "data": {
      "text/html": [
       "<div>\n",
       "<style scoped>\n",
       "    .dataframe tbody tr th:only-of-type {\n",
       "        vertical-align: middle;\n",
       "    }\n",
       "\n",
       "    .dataframe tbody tr th {\n",
       "        vertical-align: top;\n",
       "    }\n",
       "\n",
       "    .dataframe thead th {\n",
       "        text-align: right;\n",
       "    }\n",
       "</style>\n",
       "<table border=\"1\" class=\"dataframe\">\n",
       "  <thead>\n",
       "    <tr style=\"text-align: right;\">\n",
       "      <th></th>\n",
       "      <th>nome</th>\n",
       "      <th>primeira</th>\n",
       "    </tr>\n",
       "  </thead>\n",
       "  <tbody>\n",
       "    <tr>\n",
       "      <th>39</th>\n",
       "      <td>VICTOR</td>\n",
       "      <td>V</td>\n",
       "    </tr>\n",
       "    <tr>\n",
       "      <th>26</th>\n",
       "      <td>LETICIA</td>\n",
       "      <td>L</td>\n",
       "    </tr>\n",
       "    <tr>\n",
       "      <th>0</th>\n",
       "      <td>ANNY</td>\n",
       "      <td>A</td>\n",
       "    </tr>\n",
       "    <tr>\n",
       "      <th>3</th>\n",
       "      <td>CAIO</td>\n",
       "      <td>C</td>\n",
       "    </tr>\n",
       "    <tr>\n",
       "      <th>29</th>\n",
       "      <td>LUCAS</td>\n",
       "      <td>L</td>\n",
       "    </tr>\n",
       "    <tr>\n",
       "      <th>15</th>\n",
       "      <td>GABRIEL</td>\n",
       "      <td>G</td>\n",
       "    </tr>\n",
       "    <tr>\n",
       "      <th>6</th>\n",
       "      <td>DANIELLE</td>\n",
       "      <td>D</td>\n",
       "    </tr>\n",
       "    <tr>\n",
       "      <th>20</th>\n",
       "      <td>GUSTAVO</td>\n",
       "      <td>G</td>\n",
       "    </tr>\n",
       "    <tr>\n",
       "      <th>36</th>\n",
       "      <td>RENATO</td>\n",
       "      <td>R</td>\n",
       "    </tr>\n",
       "    <tr>\n",
       "      <th>19</th>\n",
       "      <td>GUILHERME</td>\n",
       "      <td>G</td>\n",
       "    </tr>\n",
       "    <tr>\n",
       "      <th>7</th>\n",
       "      <td>EDUARDO</td>\n",
       "      <td>E</td>\n",
       "    </tr>\n",
       "    <tr>\n",
       "      <th>35</th>\n",
       "      <td>RAIZA</td>\n",
       "      <td>R</td>\n",
       "    </tr>\n",
       "    <tr>\n",
       "      <th>13</th>\n",
       "      <td>FRANCISCO</td>\n",
       "      <td>F</td>\n",
       "    </tr>\n",
       "    <tr>\n",
       "      <th>16</th>\n",
       "      <td>GABRIELLY</td>\n",
       "      <td>G</td>\n",
       "    </tr>\n",
       "    <tr>\n",
       "      <th>30</th>\n",
       "      <td>LUIS</td>\n",
       "      <td>L</td>\n",
       "    </tr>\n",
       "    <tr>\n",
       "      <th>33</th>\n",
       "      <td>MATEUS</td>\n",
       "      <td>M</td>\n",
       "    </tr>\n",
       "    <tr>\n",
       "      <th>32</th>\n",
       "      <td>MATEUS</td>\n",
       "      <td>M</td>\n",
       "    </tr>\n",
       "    <tr>\n",
       "      <th>28</th>\n",
       "      <td>LORRANY</td>\n",
       "      <td>L</td>\n",
       "    </tr>\n",
       "    <tr>\n",
       "      <th>38</th>\n",
       "      <td>THAYRELAN</td>\n",
       "      <td>T</td>\n",
       "    </tr>\n",
       "    <tr>\n",
       "      <th>12</th>\n",
       "      <td>FELIPE</td>\n",
       "      <td>F</td>\n",
       "    </tr>\n",
       "    <tr>\n",
       "      <th>11</th>\n",
       "      <td>FELIPE</td>\n",
       "      <td>F</td>\n",
       "    </tr>\n",
       "    <tr>\n",
       "      <th>21</th>\n",
       "      <td>ISAAC</td>\n",
       "      <td>I</td>\n",
       "    </tr>\n",
       "    <tr>\n",
       "      <th>23</th>\n",
       "      <td>JOAO</td>\n",
       "      <td>J</td>\n",
       "    </tr>\n",
       "    <tr>\n",
       "      <th>2</th>\n",
       "      <td>ARTHUR</td>\n",
       "      <td>A</td>\n",
       "    </tr>\n",
       "    <tr>\n",
       "      <th>5</th>\n",
       "      <td>CLARA</td>\n",
       "      <td>C</td>\n",
       "    </tr>\n",
       "    <tr>\n",
       "      <th>9</th>\n",
       "      <td>EMANUEL</td>\n",
       "      <td>E</td>\n",
       "    </tr>\n",
       "    <tr>\n",
       "      <th>22</th>\n",
       "      <td>JOAO</td>\n",
       "      <td>J</td>\n",
       "    </tr>\n",
       "    <tr>\n",
       "      <th>27</th>\n",
       "      <td>LIVIA</td>\n",
       "      <td>L</td>\n",
       "    </tr>\n",
       "    <tr>\n",
       "      <th>14</th>\n",
       "      <td>GABRIEL</td>\n",
       "      <td>G</td>\n",
       "    </tr>\n",
       "    <tr>\n",
       "      <th>8</th>\n",
       "      <td>EDUARDO</td>\n",
       "      <td>E</td>\n",
       "    </tr>\n",
       "    <tr>\n",
       "      <th>24</th>\n",
       "      <td>KARINA</td>\n",
       "      <td>K</td>\n",
       "    </tr>\n",
       "    <tr>\n",
       "      <th>34</th>\n",
       "      <td>MATHEUS</td>\n",
       "      <td>M</td>\n",
       "    </tr>\n",
       "    <tr>\n",
       "      <th>37</th>\n",
       "      <td>SOPHIA</td>\n",
       "      <td>S</td>\n",
       "    </tr>\n",
       "    <tr>\n",
       "      <th>1</th>\n",
       "      <td>ARTHUR</td>\n",
       "      <td>A</td>\n",
       "    </tr>\n",
       "    <tr>\n",
       "      <th>10</th>\n",
       "      <td>ENZO</td>\n",
       "      <td>E</td>\n",
       "    </tr>\n",
       "    <tr>\n",
       "      <th>25</th>\n",
       "      <td>LETICIA</td>\n",
       "      <td>L</td>\n",
       "    </tr>\n",
       "    <tr>\n",
       "      <th>18</th>\n",
       "      <td>GUILHERME</td>\n",
       "      <td>G</td>\n",
       "    </tr>\n",
       "    <tr>\n",
       "      <th>31</th>\n",
       "      <td>MARCO</td>\n",
       "      <td>M</td>\n",
       "    </tr>\n",
       "    <tr>\n",
       "      <th>17</th>\n",
       "      <td>GAEL</td>\n",
       "      <td>G</td>\n",
       "    </tr>\n",
       "    <tr>\n",
       "      <th>4</th>\n",
       "      <td>CAROLINA</td>\n",
       "      <td>C</td>\n",
       "    </tr>\n",
       "  </tbody>\n",
       "</table>\n",
       "</div>"
      ],
      "text/plain": [
       "         nome primeira\n",
       "39     VICTOR        V\n",
       "26    LETICIA        L\n",
       "0        ANNY        A\n",
       "3        CAIO        C\n",
       "29      LUCAS        L\n",
       "15    GABRIEL        G\n",
       "6    DANIELLE        D\n",
       "20    GUSTAVO        G\n",
       "36     RENATO        R\n",
       "19  GUILHERME        G\n",
       "7     EDUARDO        E\n",
       "35      RAIZA        R\n",
       "13  FRANCISCO        F\n",
       "16  GABRIELLY        G\n",
       "30       LUIS        L\n",
       "33     MATEUS        M\n",
       "32     MATEUS        M\n",
       "28    LORRANY        L\n",
       "38  THAYRELAN        T\n",
       "12     FELIPE        F\n",
       "11     FELIPE        F\n",
       "21      ISAAC        I\n",
       "23       JOAO        J\n",
       "2      ARTHUR        A\n",
       "5       CLARA        C\n",
       "9     EMANUEL        E\n",
       "22       JOAO        J\n",
       "27      LIVIA        L\n",
       "14    GABRIEL        G\n",
       "8     EDUARDO        E\n",
       "24     KARINA        K\n",
       "34    MATHEUS        M\n",
       "37     SOPHIA        S\n",
       "1      ARTHUR        A\n",
       "10       ENZO        E\n",
       "25    LETICIA        L\n",
       "18  GUILHERME        G\n",
       "31      MARCO        M\n",
       "17       GAEL        G\n",
       "4    CAROLINA        C"
      ]
     },
     "execution_count": 42,
     "metadata": {},
     "output_type": "execute_result"
    }
   ],
   "source": [
    "df = df.assign(\n",
    "    primeira=df.get('nome').apply(primeira_letra)\n",
    ")\n",
    "df"
   ]
  },
  {
   "cell_type": "code",
   "execution_count": 43,
   "metadata": {
    "execution": {
     "iopub.execute_input": "2025-03-30T15:39:03.611195Z",
     "iopub.status.busy": "2025-03-30T15:39:03.610974Z",
     "iopub.status.idle": "2025-03-30T15:39:03.614813Z",
     "shell.execute_reply": "2025-03-30T15:39:03.614444Z"
    },
    "scrolled": true
   },
   "outputs": [
    {
     "data": {
      "text/plain": [
       "primeira\n",
       "G    7\n",
       "L    6\n",
       "E    4\n",
       "M    4\n",
       "C    3\n",
       "F    3\n",
       "A    3\n",
       "J    2\n",
       "R    2\n",
       "I    1\n",
       "D    1\n",
       "K    1\n",
       "S    1\n",
       "T    1\n",
       "V    1\n",
       "dtype: int64"
      ]
     },
     "execution_count": 43,
     "metadata": {},
     "output_type": "execute_result"
    }
   ],
   "source": [
    "letra_count = (df.\n",
    "               groupby('primeira').\n",
    "               size().\n",
    "               sort_values(ascending=False)\n",
    ")\n",
    "letra_count"
   ]
  },
  {
   "cell_type": "markdown",
   "metadata": {
    "slideshow": {
     "slide_type": "slide"
    }
   },
   "source": [
    "### Atividade\n",
    "\n",
    "Abaixo:\n",
    "- Crie um **gráfico de barras** para a `primeira` e `ultima` letra de cada nome.\n",
    "- O que você consegue tirar dos dois gráficos?"
   ]
  },
  {
   "cell_type": "code",
   "execution_count": 44,
   "metadata": {
    "execution": {
     "iopub.execute_input": "2025-03-30T15:39:03.616377Z",
     "iopub.status.busy": "2025-03-30T15:39:03.616204Z",
     "iopub.status.idle": "2025-03-30T15:39:03.618673Z",
     "shell.execute_reply": "2025-03-30T15:39:03.618323Z"
    }
   },
   "outputs": [
    {
     "data": {
      "text/plain": [
       "Ellipsis"
      ]
     },
     "execution_count": 44,
     "metadata": {},
     "output_type": "execute_result"
    }
   ],
   "source": [
    "..."
   ]
  },
  {
   "cell_type": "code",
   "execution_count": 45,
   "metadata": {
    "execution": {
     "iopub.execute_input": "2025-03-30T15:39:03.620072Z",
     "iopub.status.busy": "2025-03-30T15:39:03.619956Z",
     "iopub.status.idle": "2025-03-30T15:39:03.622256Z",
     "shell.execute_reply": "2025-03-30T15:39:03.621947Z"
    }
   },
   "outputs": [
    {
     "data": {
      "text/plain": [
       "Ellipsis"
      ]
     },
     "execution_count": 45,
     "metadata": {},
     "output_type": "execute_result"
    }
   ],
   "source": [
    "..."
   ]
  },
  {
   "cell_type": "markdown",
   "metadata": {
    "slideshow": {
     "slide_type": "slide"
    }
   },
   "source": [
    "### Nota: `.apply` também funciona com funções já existentes!\n",
    "\n",
    "Por exemplo, para encontrar o comprimento de cada nome, podemos usar a função `len`:"
   ]
  },
  {
   "cell_type": "code",
   "execution_count": 46,
   "metadata": {
    "execution": {
     "iopub.execute_input": "2025-03-30T15:39:03.623759Z",
     "iopub.status.busy": "2025-03-30T15:39:03.623638Z",
     "iopub.status.idle": "2025-03-30T15:39:03.628193Z",
     "shell.execute_reply": "2025-03-30T15:39:03.627865Z"
    }
   },
   "outputs": [
    {
     "data": {
      "text/html": [
       "<div>\n",
       "<style scoped>\n",
       "    .dataframe tbody tr th:only-of-type {\n",
       "        vertical-align: middle;\n",
       "    }\n",
       "\n",
       "    .dataframe tbody tr th {\n",
       "        vertical-align: top;\n",
       "    }\n",
       "\n",
       "    .dataframe thead th {\n",
       "        text-align: right;\n",
       "    }\n",
       "</style>\n",
       "<table border=\"1\" class=\"dataframe\">\n",
       "  <thead>\n",
       "    <tr style=\"text-align: right;\">\n",
       "      <th></th>\n",
       "      <th>nome</th>\n",
       "      <th>primeira</th>\n",
       "    </tr>\n",
       "  </thead>\n",
       "  <tbody>\n",
       "    <tr>\n",
       "      <th>39</th>\n",
       "      <td>VICTOR</td>\n",
       "      <td>V</td>\n",
       "    </tr>\n",
       "    <tr>\n",
       "      <th>26</th>\n",
       "      <td>LETICIA</td>\n",
       "      <td>L</td>\n",
       "    </tr>\n",
       "    <tr>\n",
       "      <th>0</th>\n",
       "      <td>ANNY</td>\n",
       "      <td>A</td>\n",
       "    </tr>\n",
       "    <tr>\n",
       "      <th>3</th>\n",
       "      <td>CAIO</td>\n",
       "      <td>C</td>\n",
       "    </tr>\n",
       "    <tr>\n",
       "      <th>29</th>\n",
       "      <td>LUCAS</td>\n",
       "      <td>L</td>\n",
       "    </tr>\n",
       "    <tr>\n",
       "      <th>15</th>\n",
       "      <td>GABRIEL</td>\n",
       "      <td>G</td>\n",
       "    </tr>\n",
       "    <tr>\n",
       "      <th>6</th>\n",
       "      <td>DANIELLE</td>\n",
       "      <td>D</td>\n",
       "    </tr>\n",
       "    <tr>\n",
       "      <th>20</th>\n",
       "      <td>GUSTAVO</td>\n",
       "      <td>G</td>\n",
       "    </tr>\n",
       "    <tr>\n",
       "      <th>36</th>\n",
       "      <td>RENATO</td>\n",
       "      <td>R</td>\n",
       "    </tr>\n",
       "    <tr>\n",
       "      <th>19</th>\n",
       "      <td>GUILHERME</td>\n",
       "      <td>G</td>\n",
       "    </tr>\n",
       "    <tr>\n",
       "      <th>7</th>\n",
       "      <td>EDUARDO</td>\n",
       "      <td>E</td>\n",
       "    </tr>\n",
       "    <tr>\n",
       "      <th>35</th>\n",
       "      <td>RAIZA</td>\n",
       "      <td>R</td>\n",
       "    </tr>\n",
       "    <tr>\n",
       "      <th>13</th>\n",
       "      <td>FRANCISCO</td>\n",
       "      <td>F</td>\n",
       "    </tr>\n",
       "    <tr>\n",
       "      <th>16</th>\n",
       "      <td>GABRIELLY</td>\n",
       "      <td>G</td>\n",
       "    </tr>\n",
       "    <tr>\n",
       "      <th>30</th>\n",
       "      <td>LUIS</td>\n",
       "      <td>L</td>\n",
       "    </tr>\n",
       "    <tr>\n",
       "      <th>33</th>\n",
       "      <td>MATEUS</td>\n",
       "      <td>M</td>\n",
       "    </tr>\n",
       "    <tr>\n",
       "      <th>32</th>\n",
       "      <td>MATEUS</td>\n",
       "      <td>M</td>\n",
       "    </tr>\n",
       "    <tr>\n",
       "      <th>28</th>\n",
       "      <td>LORRANY</td>\n",
       "      <td>L</td>\n",
       "    </tr>\n",
       "    <tr>\n",
       "      <th>38</th>\n",
       "      <td>THAYRELAN</td>\n",
       "      <td>T</td>\n",
       "    </tr>\n",
       "    <tr>\n",
       "      <th>12</th>\n",
       "      <td>FELIPE</td>\n",
       "      <td>F</td>\n",
       "    </tr>\n",
       "    <tr>\n",
       "      <th>11</th>\n",
       "      <td>FELIPE</td>\n",
       "      <td>F</td>\n",
       "    </tr>\n",
       "    <tr>\n",
       "      <th>21</th>\n",
       "      <td>ISAAC</td>\n",
       "      <td>I</td>\n",
       "    </tr>\n",
       "    <tr>\n",
       "      <th>23</th>\n",
       "      <td>JOAO</td>\n",
       "      <td>J</td>\n",
       "    </tr>\n",
       "    <tr>\n",
       "      <th>2</th>\n",
       "      <td>ARTHUR</td>\n",
       "      <td>A</td>\n",
       "    </tr>\n",
       "    <tr>\n",
       "      <th>5</th>\n",
       "      <td>CLARA</td>\n",
       "      <td>C</td>\n",
       "    </tr>\n",
       "    <tr>\n",
       "      <th>9</th>\n",
       "      <td>EMANUEL</td>\n",
       "      <td>E</td>\n",
       "    </tr>\n",
       "    <tr>\n",
       "      <th>22</th>\n",
       "      <td>JOAO</td>\n",
       "      <td>J</td>\n",
       "    </tr>\n",
       "    <tr>\n",
       "      <th>27</th>\n",
       "      <td>LIVIA</td>\n",
       "      <td>L</td>\n",
       "    </tr>\n",
       "    <tr>\n",
       "      <th>14</th>\n",
       "      <td>GABRIEL</td>\n",
       "      <td>G</td>\n",
       "    </tr>\n",
       "    <tr>\n",
       "      <th>8</th>\n",
       "      <td>EDUARDO</td>\n",
       "      <td>E</td>\n",
       "    </tr>\n",
       "    <tr>\n",
       "      <th>24</th>\n",
       "      <td>KARINA</td>\n",
       "      <td>K</td>\n",
       "    </tr>\n",
       "    <tr>\n",
       "      <th>34</th>\n",
       "      <td>MATHEUS</td>\n",
       "      <td>M</td>\n",
       "    </tr>\n",
       "    <tr>\n",
       "      <th>37</th>\n",
       "      <td>SOPHIA</td>\n",
       "      <td>S</td>\n",
       "    </tr>\n",
       "    <tr>\n",
       "      <th>1</th>\n",
       "      <td>ARTHUR</td>\n",
       "      <td>A</td>\n",
       "    </tr>\n",
       "    <tr>\n",
       "      <th>10</th>\n",
       "      <td>ENZO</td>\n",
       "      <td>E</td>\n",
       "    </tr>\n",
       "    <tr>\n",
       "      <th>25</th>\n",
       "      <td>LETICIA</td>\n",
       "      <td>L</td>\n",
       "    </tr>\n",
       "    <tr>\n",
       "      <th>18</th>\n",
       "      <td>GUILHERME</td>\n",
       "      <td>G</td>\n",
       "    </tr>\n",
       "    <tr>\n",
       "      <th>31</th>\n",
       "      <td>MARCO</td>\n",
       "      <td>M</td>\n",
       "    </tr>\n",
       "    <tr>\n",
       "      <th>17</th>\n",
       "      <td>GAEL</td>\n",
       "      <td>G</td>\n",
       "    </tr>\n",
       "    <tr>\n",
       "      <th>4</th>\n",
       "      <td>CAROLINA</td>\n",
       "      <td>C</td>\n",
       "    </tr>\n",
       "  </tbody>\n",
       "</table>\n",
       "</div>"
      ],
      "text/plain": [
       "         nome primeira\n",
       "39     VICTOR        V\n",
       "26    LETICIA        L\n",
       "0        ANNY        A\n",
       "3        CAIO        C\n",
       "29      LUCAS        L\n",
       "15    GABRIEL        G\n",
       "6    DANIELLE        D\n",
       "20    GUSTAVO        G\n",
       "36     RENATO        R\n",
       "19  GUILHERME        G\n",
       "7     EDUARDO        E\n",
       "35      RAIZA        R\n",
       "13  FRANCISCO        F\n",
       "16  GABRIELLY        G\n",
       "30       LUIS        L\n",
       "33     MATEUS        M\n",
       "32     MATEUS        M\n",
       "28    LORRANY        L\n",
       "38  THAYRELAN        T\n",
       "12     FELIPE        F\n",
       "11     FELIPE        F\n",
       "21      ISAAC        I\n",
       "23       JOAO        J\n",
       "2      ARTHUR        A\n",
       "5       CLARA        C\n",
       "9     EMANUEL        E\n",
       "22       JOAO        J\n",
       "27      LIVIA        L\n",
       "14    GABRIEL        G\n",
       "8     EDUARDO        E\n",
       "24     KARINA        K\n",
       "34    MATHEUS        M\n",
       "37     SOPHIA        S\n",
       "1      ARTHUR        A\n",
       "10       ENZO        E\n",
       "25    LETICIA        L\n",
       "18  GUILHERME        G\n",
       "31      MARCO        M\n",
       "17       GAEL        G\n",
       "4    CAROLINA        C"
      ]
     },
     "execution_count": 46,
     "metadata": {},
     "output_type": "execute_result"
    }
   ],
   "source": [
    "df"
   ]
  },
  {
   "cell_type": "code",
   "execution_count": 47,
   "metadata": {
    "execution": {
     "iopub.execute_input": "2025-03-30T15:39:03.629588Z",
     "iopub.status.busy": "2025-03-30T15:39:03.629473Z",
     "iopub.status.idle": "2025-03-30T15:39:03.632432Z",
     "shell.execute_reply": "2025-03-30T15:39:03.632129Z"
    }
   },
   "outputs": [
    {
     "data": {
      "text/plain": [
       "39    6\n",
       "26    7\n",
       "0     4\n",
       "3     4\n",
       "29    5\n",
       "15    7\n",
       "6     8\n",
       "20    7\n",
       "36    6\n",
       "19    9\n",
       "7     7\n",
       "35    5\n",
       "13    9\n",
       "16    9\n",
       "30    4\n",
       "33    6\n",
       "32    6\n",
       "28    7\n",
       "38    9\n",
       "12    6\n",
       "11    6\n",
       "21    5\n",
       "23    4\n",
       "2     6\n",
       "5     5\n",
       "9     7\n",
       "22    4\n",
       "27    5\n",
       "14    7\n",
       "8     7\n",
       "24    6\n",
       "34    7\n",
       "37    6\n",
       "1     6\n",
       "10    4\n",
       "25    7\n",
       "18    9\n",
       "31    5\n",
       "17    4\n",
       "4     8\n",
       "Name: nome, dtype: int64"
      ]
     },
     "execution_count": 47,
     "metadata": {},
     "output_type": "execute_result"
    }
   ],
   "source": [
    "df.get('nome').apply(len)"
   ]
  },
  {
   "cell_type": "markdown",
   "metadata": {
    "slideshow": {
     "slide_type": "slide"
    }
   },
   "source": [
    "### Atividade\n",
    "\n",
    "Encontre o nome mais curto da turma que seja compartilhado por pelo menos dois alunos na mesma seção.\n",
    "\n",
    "*Dica*: Você terá que usar `.assign` e `.apply`."
   ]
  },
  {
   "cell_type": "code",
   "execution_count": 48,
   "metadata": {
    "execution": {
     "iopub.execute_input": "2025-03-30T15:39:03.633833Z",
     "iopub.status.busy": "2025-03-30T15:39:03.633718Z",
     "iopub.status.idle": "2025-03-30T15:39:03.636017Z",
     "shell.execute_reply": "2025-03-30T15:39:03.635728Z"
    }
   },
   "outputs": [
    {
     "data": {
      "text/plain": [
       "Ellipsis"
      ]
     },
     "execution_count": 48,
     "metadata": {},
     "output_type": "execute_result"
    }
   ],
   "source": [
    "..."
   ]
  },
  {
   "cell_type": "markdown",
   "metadata": {
    "slideshow": {
     "slide_type": "slide"
    }
   },
   "source": [
    "## Resumo, da próxima vez"
   ]
  },
  {
   "cell_type": "markdown",
   "metadata": {
    "slideshow": {
     "slide_type": "slide"
    }
   },
   "source": [
    "### Resumo\n",
    "\n",
    "- Funções são uma forma de dividir nosso código em pequenas subpartes para evitar que escrevamos código repetitivo.\n",
    "- O método `.apply` nos permite chamar uma função em cada elemento de uma Série, o que geralmente vem de `.get`ting uma coluna de um DataFrame."
   ]
  },
  {
   "cell_type": "markdown",
   "metadata": {
    "slideshow": {
     "slide_type": "slide"
    }
   },
   "source": [
    "### Próxima vez\n",
    "\n",
    "Manipulações mais avançadas de DataFrame!"
   ]
  }
 ],
 "metadata": {
  "kernelspec": {
   "display_name": "teaching",
   "language": "python",
   "name": "python3"
  },
  "language_info": {
   "codemirror_mode": {
    "name": "ipython",
    "version": 3
   },
   "file_extension": ".py",
   "mimetype": "text/x-python",
   "name": "python",
   "nbconvert_exporter": "python",
   "pygments_lexer": "ipython3",
   "version": "3.12.7"
  },
  "livereveal": {
   "scroll": true,
   "transition": "none"
  },
  "rise": {
   "enable_chalkboard": true
  }
 },
 "nbformat": 4,
 "nbformat_minor": 4
}
