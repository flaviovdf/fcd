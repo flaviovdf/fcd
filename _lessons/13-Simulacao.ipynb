{
 "cells": [
  {
   "cell_type": "markdown",
   "metadata": {},
   "source": [
    "---\n",
    "layout: page\n",
    "title: Simulação\n",
    "nav_order: 13\n",
    "---\n",
    "[<img src=\"https://raw.githubusercontent.com/flaviovdf/fcd/master/assets/colab_favicon_small.png\" style=\"float: right;\">](https://colab.research.google.com/github/flaviovdf/fcd/blob/master/_lessons/13-Simulacao.ipynb)\n",
    "\n",
    "# Tópico 13 – Simulação\n",
    "{: .no_toc .mb-2 }\n",
    "\n",
    "A simulação de dados é essencial na estatística não paramétrica. Vamos aprender a combinar laços em python e a biblioteca numpy para simular dados.\n",
    "{: .fs-6 .fw-300 }\n",
    "\n",
    "{: .no_toc .text-delta }\n",
    "Resultados Esperados\n",
    "\n",
    "1. Uso do `np.random`\n",
    "1. Resolvendo o problema de Monty Hall\n",
    "1. O poder de simulações como uma alternativa às soluções exatas\n",
    "\n",
    "{: .no_toc .text-delta }\n",
    "Material Adaptado do [DSC10 (UCSD)](https://dsc10.com/)"
   ]
  },
  {
   "cell_type": "code",
   "execution_count": 1,
   "metadata": {
    "execution": {
     "iopub.execute_input": "2025-03-30T15:39:33.305145Z",
     "iopub.status.busy": "2025-03-30T15:39:33.305019Z",
     "iopub.status.idle": "2025-03-30T15:39:33.755374Z",
     "shell.execute_reply": "2025-03-30T15:39:33.754995Z"
    },
    "slideshow": {
     "slide_type": "skip"
    }
   },
   "outputs": [],
   "source": [
    "import matplotlib.pyplot as plt\n",
    "import numpy as np\n",
    "import pandas as pd\n",
    "import pandas as pd\n",
    "plt.style.use('ggplot')"
   ]
  },
  {
   "cell_type": "markdown",
   "metadata": {
    "slideshow": {
     "slide_type": "slide"
    }
   },
   "source": [
    "## Simulação"
   ]
  },
  {
   "cell_type": "markdown",
   "metadata": {
    "slideshow": {
     "slide_type": "slide"
    }
   },
   "source": [
    "### Simulação\n",
    "\n",
    "- Qual é a probabilidade de obter 60 ou mais caras se jogarmos 100 moedas?"
   ]
  },
  {
   "cell_type": "markdown",
   "metadata": {
    "slideshow": {
     "slide_type": "fragment"
    }
   },
   "source": [
    "- Embora _poderíamos_ calculá-lo manualmente (e aprenderemos como fazê-lo em cursos futuros), também podemos aproximá-lo usando o computador:\n",
    "1. Descubra como fazer um experimento (ou seja, jogar 100 moedas).\n",
    "2. Execute o experimento várias vezes.\n",
    "3. Encontre a proporção de experimentos em que o número de cabeças foi 60 ou mais."
   ]
  },
  {
   "cell_type": "markdown",
   "metadata": {
    "slideshow": {
     "slide_type": "fragment"
    }
   },
   "source": [
    "- É assim que usaremos a **simulação** – para aproximar uma probabilidade por meio de cálculo.\n",
    "- As técnicas que apresentaremos na palestra de hoje aparecerão em quase todas as palestras do restante do trimestre!"
   ]
  },
  {
   "cell_type": "markdown",
   "metadata": {
    "slideshow": {
     "slide_type": "slide"
    }
   },
   "source": [
    "### Fazendo uma escolha aleatória\n",
    "\n",
    "- Para simular, precisamos de uma forma de realizar um experimento aleatório no computador (por exemplo, jogar uma moeda, lançar um dado)."
   ]
  },
  {
   "cell_type": "markdown",
   "metadata": {
    "slideshow": {
     "slide_type": "fragment"
    }
   },
   "source": [
    "- Uma função útil é `np.random.choice(options)`.\n",
    "- A entrada, `options`, é uma lista ou array para escolher.\n",
    "- A saída é um elemento aleatório em `opções`. Por padrão, todos os elementos têm a mesma probabilidade de serem escolhidos."
   ]
  },
  {
   "cell_type": "code",
   "execution_count": 2,
   "metadata": {
    "execution": {
     "iopub.execute_input": "2025-03-30T15:39:33.757643Z",
     "iopub.status.busy": "2025-03-30T15:39:33.757373Z",
     "iopub.status.idle": "2025-03-30T15:39:33.762339Z",
     "shell.execute_reply": "2025-03-30T15:39:33.761993Z"
    }
   },
   "outputs": [
    {
     "data": {
      "text/plain": [
       "'Heads'"
      ]
     },
     "execution_count": 2,
     "metadata": {},
     "output_type": "execute_result"
    }
   ],
   "source": [
    "# Simulate a fair coin flip\n",
    "np.random.choice(['Heads', 'Tails'])"
   ]
  },
  {
   "cell_type": "code",
   "execution_count": 3,
   "metadata": {
    "execution": {
     "iopub.execute_input": "2025-03-30T15:39:33.785483Z",
     "iopub.status.busy": "2025-03-30T15:39:33.785324Z",
     "iopub.status.idle": "2025-03-30T15:39:33.788066Z",
     "shell.execute_reply": "2025-03-30T15:39:33.787765Z"
    },
    "scrolled": true
   },
   "outputs": [
    {
     "data": {
      "text/plain": [
       "4"
      ]
     },
     "execution_count": 3,
     "metadata": {},
     "output_type": "execute_result"
    }
   ],
   "source": [
    "# Simulate a roll of a die\n",
    "np.random.choice(np.arange(1, 7))"
   ]
  },
  {
   "cell_type": "markdown",
   "metadata": {
    "slideshow": {
     "slide_type": "slide"
    }
   },
   "source": [
    "### Fazendo múltiplas escolhas aleatórias\n",
    "\n",
    "`np.random.choice(options, n)` retornará um array de `n` elementos selecionados aleatoriamente de `options`."
   ]
  },
  {
   "cell_type": "code",
   "execution_count": 4,
   "metadata": {
    "execution": {
     "iopub.execute_input": "2025-03-30T15:39:33.789394Z",
     "iopub.status.busy": "2025-03-30T15:39:33.789280Z",
     "iopub.status.idle": "2025-03-30T15:39:33.792492Z",
     "shell.execute_reply": "2025-03-30T15:39:33.791790Z"
    },
    "scrolled": true
   },
   "outputs": [
    {
     "data": {
      "text/plain": [
       "array(['Heads', 'Tails', 'Heads', 'Heads', 'Heads', 'Tails', 'Heads',\n",
       "       'Heads', 'Tails', 'Heads'], dtype='<U5')"
      ]
     },
     "execution_count": 4,
     "metadata": {},
     "output_type": "execute_result"
    }
   ],
   "source": [
    "# Simulate 10 fair coin flips\n",
    "np.random.choice(['Heads', 'Tails'], 10)"
   ]
  },
  {
   "cell_type": "markdown",
   "metadata": {
    "slideshow": {
     "slide_type": "slide"
    }
   },
   "source": [
    "### Com substituição vs. sem substituição\n",
    "\n",
    "- Por padrão, `np.random.choice` seleciona **com** substituição.\n",
    "- Ou seja, após fazer uma seleção, essa opção ainda estará disponível.\n",
    "- por exemplo. se toda vez que você tirar uma bola de gude de um saco, você a colocará de volta.\n",
    "- Se uma opção só puder ser selecionada uma vez, selecione **sem** substituição especificando `replace=False`.\n",
    "- por exemplo. se toda vez que você tirar uma bolinha de gude de um saco, você não a colocar de volta."
   ]
  },
  {
   "cell_type": "code",
   "execution_count": 5,
   "metadata": {
    "execution": {
     "iopub.execute_input": "2025-03-30T15:39:33.794459Z",
     "iopub.status.busy": "2025-03-30T15:39:33.794306Z",
     "iopub.status.idle": "2025-03-30T15:39:33.797443Z",
     "shell.execute_reply": "2025-03-30T15:39:33.797030Z"
    }
   },
   "outputs": [
    {
     "data": {
      "text/plain": [
       "array(['Thurgood Marshall', 'Sixth', 'Eleanor Roosevelt'], dtype='<U17')"
      ]
     },
     "execution_count": 5,
     "metadata": {},
     "output_type": "execute_result"
    }
   ],
   "source": [
    "# Choose three colleges to win free HDH swag\n",
    "colleges = ['Revelle', 'John Muir', 'Thurgood Marshall', \n",
    "            'Earl Warren', 'Eleanor Roosevelt', 'Sixth', 'Seventh']\n",
    "\n",
    "np.random.choice(colleges, 3, replace=False)"
   ]
  },
  {
   "cell_type": "markdown",
   "metadata": {
    "slideshow": {
     "slide_type": "slide"
    }
   },
   "source": [
    "## Exemplo: Qual é a probabilidade de obter 60 ou mais caras se jogarmos 100 moedas?"
   ]
  },
  {
   "cell_type": "markdown",
   "metadata": {
    "slideshow": {
     "slide_type": "slide"
    }
   },
   "source": [
    "### Lançando moedas\n",
    "\n",
    "Qual é a probabilidade de obtermos 60 ou mais caras se lançarmos 100 moedas?\n",
    "\n",
    "**Estratégia:**\n",
    "\n",
    "1. Descubra como fazer um experimento (ou seja, jogar 100 moedas).\n",
    "2. Execute o experimento várias vezes.\n",
    "3. Encontre a proporção de experimentos em que o número de cabeças foi 60 ou mais."
   ]
  },
  {
   "cell_type": "markdown",
   "metadata": {
    "slideshow": {
     "slide_type": "slide"
    }
   },
   "source": [
    "### Etapa 1: descubra como fazer um experimento\n",
    "\n",
    "- Use `np.random.choice` para lançar 100 moedas.\n",
    "- Use `np.count_nonzero` para contar o número de caras.\n",
    "- `np.count_nonzero(array)` retorna o número de entradas em `array` que são `True`.\n"
   ]
  },
  {
   "cell_type": "code",
   "execution_count": 6,
   "metadata": {
    "execution": {
     "iopub.execute_input": "2025-03-30T15:39:33.799087Z",
     "iopub.status.busy": "2025-03-30T15:39:33.798956Z",
     "iopub.status.idle": "2025-03-30T15:39:33.802021Z",
     "shell.execute_reply": "2025-03-30T15:39:33.801704Z"
    }
   },
   "outputs": [
    {
     "data": {
      "text/plain": [
       "array(['Heads', 'Heads', 'Tails', 'Tails', 'Tails', 'Heads', 'Heads',\n",
       "       'Tails', 'Tails', 'Tails', 'Tails', 'Tails', 'Heads', 'Tails',\n",
       "       'Heads', 'Tails', 'Tails', 'Heads', 'Heads', 'Heads', 'Tails',\n",
       "       'Heads', 'Tails', 'Tails', 'Tails', 'Tails', 'Tails', 'Heads',\n",
       "       'Tails', 'Heads', 'Tails', 'Tails', 'Heads', 'Tails', 'Heads',\n",
       "       'Tails', 'Tails', 'Tails', 'Heads', 'Heads', 'Tails', 'Tails',\n",
       "       'Tails', 'Tails', 'Heads', 'Tails', 'Heads', 'Heads', 'Tails',\n",
       "       'Tails', 'Heads', 'Tails', 'Tails', 'Tails', 'Tails', 'Tails',\n",
       "       'Tails', 'Heads', 'Tails', 'Heads', 'Heads', 'Heads', 'Heads',\n",
       "       'Heads', 'Tails', 'Tails', 'Heads', 'Tails', 'Heads', 'Tails',\n",
       "       'Heads', 'Tails', 'Heads', 'Heads', 'Tails', 'Tails', 'Heads',\n",
       "       'Tails', 'Heads', 'Heads', 'Heads', 'Heads', 'Tails', 'Tails',\n",
       "       'Heads', 'Heads', 'Tails', 'Tails', 'Tails', 'Tails', 'Tails',\n",
       "       'Tails', 'Tails', 'Heads', 'Tails', 'Heads', 'Tails', 'Tails',\n",
       "       'Heads', 'Heads'], dtype='<U5')"
      ]
     },
     "execution_count": 6,
     "metadata": {},
     "output_type": "execute_result"
    }
   ],
   "source": [
    "coins = np.random.choice(['Heads', 'Tails'], 100)\n",
    "coins"
   ]
  },
  {
   "cell_type": "code",
   "execution_count": 7,
   "metadata": {
    "execution": {
     "iopub.execute_input": "2025-03-30T15:39:33.803396Z",
     "iopub.status.busy": "2025-03-30T15:39:33.803273Z",
     "iopub.status.idle": "2025-03-30T15:39:33.805853Z",
     "shell.execute_reply": "2025-03-30T15:39:33.805511Z"
    }
   },
   "outputs": [
    {
     "data": {
      "text/plain": [
       "42"
      ]
     },
     "execution_count": 7,
     "metadata": {},
     "output_type": "execute_result"
    }
   ],
   "source": [
    "(coins == 'Heads').sum()"
   ]
  },
  {
   "cell_type": "code",
   "execution_count": 8,
   "metadata": {
    "execution": {
     "iopub.execute_input": "2025-03-30T15:39:33.807560Z",
     "iopub.status.busy": "2025-03-30T15:39:33.807246Z",
     "iopub.status.idle": "2025-03-30T15:39:33.811045Z",
     "shell.execute_reply": "2025-03-30T15:39:33.810745Z"
    }
   },
   "outputs": [
    {
     "data": {
      "text/plain": [
       "42"
      ]
     },
     "execution_count": 8,
     "metadata": {},
     "output_type": "execute_result"
    }
   ],
   "source": [
    "np.count_nonzero(coins == 'Heads') # counts the number of Trues in sequence"
   ]
  },
  {
   "cell_type": "markdown",
   "metadata": {
    "slideshow": {
     "slide_type": "fragment"
    }
   },
   "source": [
    "- **P:** Por que é chamado de `count_nonzero`?\n",
    "- **A:** Em Python, `True == 1` e `False == 0`, portanto, contar os elementos diferentes de zero conta o número de `True`s."
   ]
  },
  {
   "cell_type": "markdown",
   "metadata": {
    "slideshow": {
     "slide_type": "slide"
    }
   },
   "source": [
    "### À parte: Colocando o experimento em uma função\n",
    "\n",
    "É uma boa ideia fazer isso, pois facilita a execução repetida do experimento."
   ]
  },
  {
   "cell_type": "code",
   "execution_count": 9,
   "metadata": {
    "execution": {
     "iopub.execute_input": "2025-03-30T15:39:33.812605Z",
     "iopub.status.busy": "2025-03-30T15:39:33.812380Z",
     "iopub.status.idle": "2025-03-30T15:39:33.814627Z",
     "shell.execute_reply": "2025-03-30T15:39:33.814276Z"
    }
   },
   "outputs": [],
   "source": [
    "def coin_experiment():\n",
    "    coins = np.random.choice(['Heads', 'Tails'], 100)\n",
    "    return np.count_nonzero(coins == 'Heads')"
   ]
  },
  {
   "cell_type": "code",
   "execution_count": 10,
   "metadata": {
    "execution": {
     "iopub.execute_input": "2025-03-30T15:39:33.816138Z",
     "iopub.status.busy": "2025-03-30T15:39:33.815938Z",
     "iopub.status.idle": "2025-03-30T15:39:33.818630Z",
     "shell.execute_reply": "2025-03-30T15:39:33.818282Z"
    }
   },
   "outputs": [
    {
     "data": {
      "text/plain": [
       "53"
      ]
     },
     "execution_count": 10,
     "metadata": {},
     "output_type": "execute_result"
    }
   ],
   "source": [
    "coin_experiment()"
   ]
  },
  {
   "cell_type": "markdown",
   "metadata": {
    "slideshow": {
     "slide_type": "slide"
    }
   },
   "source": [
    "### Etapa 2: Repita o experimento\n",
    "\n",
    "- Como executamos o mesmo código muitas vezes? **Usando um loop `for`!**\n",
    "- Cada vez que executarmos o experimento, precisaremos armazenar os resultados em um array.\n",
    "- Para fazer isso, usaremos `np.append`!"
   ]
  },
  {
   "cell_type": "code",
   "execution_count": 11,
   "metadata": {
    "execution": {
     "iopub.execute_input": "2025-03-30T15:39:33.819951Z",
     "iopub.status.busy": "2025-03-30T15:39:33.819839Z",
     "iopub.status.idle": "2025-03-30T15:39:33.822113Z",
     "shell.execute_reply": "2025-03-30T15:39:33.821837Z"
    }
   },
   "outputs": [
    {
     "data": {
      "text/plain": [
       "array([], dtype=float64)"
      ]
     },
     "execution_count": 11,
     "metadata": {},
     "output_type": "execute_result"
    }
   ],
   "source": [
    "head_counts = np.array([])\n",
    "head_counts"
   ]
  },
  {
   "cell_type": "code",
   "execution_count": 12,
   "metadata": {
    "execution": {
     "iopub.execute_input": "2025-03-30T15:39:33.823524Z",
     "iopub.status.busy": "2025-03-30T15:39:33.823366Z",
     "iopub.status.idle": "2025-03-30T15:39:33.827397Z",
     "shell.execute_reply": "2025-03-30T15:39:33.827024Z"
    }
   },
   "outputs": [
    {
     "data": {
      "text/plain": [
       "array([15.])"
      ]
     },
     "execution_count": 12,
     "metadata": {},
     "output_type": "execute_result"
    }
   ],
   "source": [
    "head_counts = np.append(head_counts, 15)\n",
    "head_counts"
   ]
  },
  {
   "cell_type": "code",
   "execution_count": 13,
   "metadata": {
    "execution": {
     "iopub.execute_input": "2025-03-30T15:39:33.828948Z",
     "iopub.status.busy": "2025-03-30T15:39:33.828818Z",
     "iopub.status.idle": "2025-03-30T15:39:33.832002Z",
     "shell.execute_reply": "2025-03-30T15:39:33.831650Z"
    }
   },
   "outputs": [
    {
     "data": {
      "text/plain": [
       "array([15., 25.])"
      ]
     },
     "execution_count": 13,
     "metadata": {},
     "output_type": "execute_result"
    }
   ],
   "source": [
    "head_counts = np.append(head_counts, 25)\n",
    "head_counts"
   ]
  },
  {
   "cell_type": "markdown",
   "metadata": {
    "slideshow": {
     "slide_type": "slide"
    }
   },
   "source": [
    "### Etapa 2: repita o experimento"
   ]
  },
  {
   "cell_type": "code",
   "execution_count": 14,
   "metadata": {
    "execution": {
     "iopub.execute_input": "2025-03-30T15:39:33.833395Z",
     "iopub.status.busy": "2025-03-30T15:39:33.833280Z",
     "iopub.status.idle": "2025-03-30T15:39:34.014363Z",
     "shell.execute_reply": "2025-03-30T15:39:34.013930Z"
    },
    "slideshow": {
     "slide_type": "-"
    }
   },
   "outputs": [],
   "source": [
    "# Specify the number of repetitions\n",
    "repetitions = 10000\n",
    "\n",
    "# Create an empty array to store the results\n",
    "head_counts = np.array([])\n",
    "\n",
    "for i in np.arange(repetitions):\n",
    "    # For each repetition, run the experiment and add the result to head_counts\n",
    "    head_count = coin_experiment()\n",
    "    head_counts = np.append(head_counts, head_count)"
   ]
  },
  {
   "cell_type": "code",
   "execution_count": 15,
   "metadata": {
    "execution": {
     "iopub.execute_input": "2025-03-30T15:39:34.016394Z",
     "iopub.status.busy": "2025-03-30T15:39:34.015997Z",
     "iopub.status.idle": "2025-03-30T15:39:34.018696Z",
     "shell.execute_reply": "2025-03-30T15:39:34.018319Z"
    },
    "scrolled": true
   },
   "outputs": [
    {
     "data": {
      "text/plain": [
       "10000"
      ]
     },
     "execution_count": 15,
     "metadata": {},
     "output_type": "execute_result"
    }
   ],
   "source": [
    "len(head_counts)"
   ]
  },
  {
   "cell_type": "code",
   "execution_count": 16,
   "metadata": {
    "execution": {
     "iopub.execute_input": "2025-03-30T15:39:34.020127Z",
     "iopub.status.busy": "2025-03-30T15:39:34.020019Z",
     "iopub.status.idle": "2025-03-30T15:39:34.022475Z",
     "shell.execute_reply": "2025-03-30T15:39:34.022207Z"
    }
   },
   "outputs": [
    {
     "data": {
      "text/plain": [
       "array([52., 51., 52., ..., 44., 50., 43.])"
      ]
     },
     "execution_count": 16,
     "metadata": {},
     "output_type": "execute_result"
    }
   ],
   "source": [
    "head_counts"
   ]
  },
  {
   "cell_type": "markdown",
   "metadata": {
    "slideshow": {
     "slide_type": "slide"
    }
   },
   "source": [
    "### Etapa 3: Encontre a proporção de experimentos em que o número de cabeças foi 60 ou mais"
   ]
  },
  {
   "cell_type": "code",
   "execution_count": 17,
   "metadata": {
    "execution": {
     "iopub.execute_input": "2025-03-30T15:39:34.023962Z",
     "iopub.status.busy": "2025-03-30T15:39:34.023838Z",
     "iopub.status.idle": "2025-03-30T15:39:34.026357Z",
     "shell.execute_reply": "2025-03-30T15:39:34.026072Z"
    }
   },
   "outputs": [
    {
     "data": {
      "text/plain": [
       "291"
      ]
     },
     "execution_count": 17,
     "metadata": {},
     "output_type": "execute_result"
    }
   ],
   "source": [
    "# In how many experiments was the number of heads >= 60?\n",
    "at_least_60 = np.count_nonzero(head_counts >= 60)\n",
    "at_least_60"
   ]
  },
  {
   "cell_type": "code",
   "execution_count": 18,
   "metadata": {
    "execution": {
     "iopub.execute_input": "2025-03-30T15:39:34.027582Z",
     "iopub.status.busy": "2025-03-30T15:39:34.027471Z",
     "iopub.status.idle": "2025-03-30T15:39:34.029694Z",
     "shell.execute_reply": "2025-03-30T15:39:34.029441Z"
    }
   },
   "outputs": [
    {
     "data": {
      "text/plain": [
       "0.0291"
      ]
     },
     "execution_count": 18,
     "metadata": {},
     "output_type": "execute_result"
    }
   ],
   "source": [
    "# What is this as a proportion?\n",
    "at_least_60 / repetitions"
   ]
  },
  {
   "cell_type": "code",
   "execution_count": 19,
   "metadata": {
    "execution": {
     "iopub.execute_input": "2025-03-30T15:39:34.030891Z",
     "iopub.status.busy": "2025-03-30T15:39:34.030780Z",
     "iopub.status.idle": "2025-03-30T15:39:34.033253Z",
     "shell.execute_reply": "2025-03-30T15:39:34.032956Z"
    }
   },
   "outputs": [
    {
     "data": {
      "text/plain": [
       "0.0291"
      ]
     },
     "execution_count": 19,
     "metadata": {},
     "output_type": "execute_result"
    }
   ],
   "source": [
    "# Can also use np.mean()! Why?\n",
    "np.mean(head_counts >= 60)"
   ]
  },
  {
   "cell_type": "markdown",
   "metadata": {},
   "source": [
    "Isso está bem próximo da verdadeira resposta teórica!"
   ]
  },
  {
   "cell_type": "code",
   "execution_count": 20,
   "metadata": {
    "execution": {
     "iopub.execute_input": "2025-03-30T15:39:34.034749Z",
     "iopub.status.busy": "2025-03-30T15:39:34.034640Z",
     "iopub.status.idle": "2025-03-30T15:39:34.037259Z",
     "shell.execute_reply": "2025-03-30T15:39:34.036987Z"
    }
   },
   "outputs": [
    {
     "data": {
      "text/plain": [
       "0.028443966820490395"
      ]
     },
     "execution_count": 20,
     "metadata": {},
     "output_type": "execute_result"
    }
   ],
   "source": [
    "# The theoretical answer – don't worry about how or why this code works\n",
    "import math\n",
    "sum([math.comb(100, i) * (1 / 2) ** 100 for i in np.arange(60, 101)])"
   ]
  },
  {
   "cell_type": "markdown",
   "metadata": {
    "slideshow": {
     "slide_type": "slide"
    }
   },
   "source": [
    "### Visualizando a distribuição"
   ]
  },
  {
   "cell_type": "code",
   "execution_count": 21,
   "metadata": {
    "execution": {
     "iopub.execute_input": "2025-03-30T15:39:34.038507Z",
     "iopub.status.busy": "2025-03-30T15:39:34.038401Z",
     "iopub.status.idle": "2025-03-30T15:39:34.207835Z",
     "shell.execute_reply": "2025-03-30T15:39:34.207458Z"
    }
   },
   "outputs": [
    {
     "data": {
      "image/png": "[encoded data removed]",
      "text/plain": [
       "<Figure size 1000x500 with 1 Axes>"
      ]
     },
     "metadata": {},
     "output_type": "display_data"
    }
   ],
   "source": [
    "pd.DataFrame().assign(\n",
    "    Number_of_Heads=head_counts\n",
    ").plot(kind='hist', bins=np.arange(30, 70), density=True, ec='w', figsize=(10, 5));\n",
    "plt.axvline(60, color='C1');"
   ]
  },
  {
   "cell_type": "markdown",
   "metadata": {
    "slideshow": {
     "slide_type": "-"
    }
   },
   "source": [
    "- Este histograma descreve a distribuição do número de cabeças em cada experimento.\n",
    "- Agora vemos outra razão para usar histogramas de densidade.\n",
    "- Usar densidade significa que as áreas se aproximam de **probabilidades**."
   ]
  },
  {
   "cell_type": "markdown",
   "metadata": {
    "slideshow": {
     "slide_type": "slide"
    }
   },
   "source": [
    "## Exemplo: O problema de “Monty Hall”"
   ]
  },
  {
   "cell_type": "markdown",
   "metadata": {
    "slideshow": {
     "slide_type": "slide"
    }
   },
   "source": [
    "![](https://upload.wikimedia.org/wikipedia/commons/thumb/3/3f/Monty_open_door.svg/1920px-Monty_open_door.svg.png)"
   ]
  },
  {
   "cell_type": "markdown",
   "metadata": {
    "slideshow": {
     "slide_type": "slide"
    }
   },
   "source": [
    "### O problema de \"Monty Hall\"\n",
    "\n",
    "Suponha que você esteja em um game show e tenha a opção de escolher entre três portas: atrás de uma porta está um carro 🚗; atrás dos outros, cabras 🐐🐐.\n",
    "\n",
    "- Você escolhe uma porta, digamos a nº 2, e o anfitrião, **que sabe o que tem atrás das portas**, abre outra porta, digamos a nº 3, que tem uma cabra.\n",
    "\n",
    "- Ele então diz para você: “Você quer escolher a porta número 1?”\n",
    "\n",
    "- **Pergunta:** É vantajoso mudar de escolha?\n",
    "\n",
    "_(A questão foi colocada na coluna \"Ask Marilyn\" da revista Parade em 1990. É chamada de \"problema de Monty Hall\" porque Monty Hall apresentou um game show semelhante chamado \"Let's Make a Deal\".)_"
   ]
  },
  {
   "cell_type": "markdown",
   "metadata": {
    "slideshow": {
     "slide_type": "slide"
    }
   },
   "source": [
    "### Verificação de conceito ✅\n",
    "\n",
    "Você selecionou originalmente a porta nº 2. O anfitrião revela que a porta nº 3 tem uma cabra atrás dela. O que você deveria fazer?\n",
    "\n",
    "A. É melhor ficar com a porta número 2; tem chances tão altas de vencer quanto a porta número 1. Não importa se você muda ou não.\n",
    "\n",
    "B. Mude para a porta número 1; tem uma chance maior de vencer do que a porta 2."
   ]
  },
  {
   "cell_type": "markdown",
   "metadata": {
    "slideshow": {
     "slide_type": "slide"
    }
   },
   "source": [
    "### Vamos ver 🤔\n",
    "\n",
    "- Usaremos simulação para calcular:\n",
    "- A probabilidade de ganhar se mudarmos.\n",
    "- A probabilidade de ganhar se ficarmos.\n",
    "- Qualquer estratégia que tenha maior probabilidade de ganhar é melhor!"
   ]
  },
  {
   "cell_type": "markdown",
   "metadata": {
    "slideshow": {
     "slide_type": "slide"
    }
   },
   "source": [
    "### Hora de simular!\n",
    "\n",
    "Vamos **simular** o problema de Monty Hall muitas vezes para **estimar** a probabilidade de vitória se mudarmos.\n",
    "\n",
    "1. Descubra como simular um jogo de Monty Hall.\n",
    "2. Jogue o jogo várias vezes, trocando a cada vez.\n",
    "3. Conte a proporção de vitórias.\n",
    "\n",
    "Então repetiremos o processo para ficar a cada vez."
   ]
  },
  {
   "cell_type": "markdown",
   "metadata": {
    "slideshow": {
     "slide_type": "slide"
    }
   },
   "source": [
    "### Passo 1: Simule um único jogo\n",
    "\n",
    "Quando você escolhe uma porta, há três resultados igualmente prováveis:\n",
    "\n",
    "1. Carro.\n",
    "1. Cabra nº 1.\n",
    "1. Cabra #2."
   ]
  },
  {
   "cell_type": "code",
   "execution_count": 22,
   "metadata": {
    "execution": {
     "iopub.execute_input": "2025-03-30T15:39:34.209511Z",
     "iopub.status.busy": "2025-03-30T15:39:34.209375Z",
     "iopub.status.idle": "2025-03-30T15:39:34.212241Z",
     "shell.execute_reply": "2025-03-30T15:39:34.211860Z"
    }
   },
   "outputs": [
    {
     "data": {
      "text/plain": [
       "'Car'"
      ]
     },
     "execution_count": 22,
     "metadata": {},
     "output_type": "execute_result"
    }
   ],
   "source": [
    "behind_picked_door = np.random.choice(['Car', 'Goat #1', 'Goat #2'])\n",
    "behind_picked_door"
   ]
  },
  {
   "cell_type": "markdown",
   "metadata": {
    "slideshow": {
     "slide_type": "slide"
    }
   },
   "source": [
    "### Passo 1: Simule um único jogo\n",
    "\n",
    "Quando Monty abre uma porta diferente, ele sempre revela uma cabra."
   ]
  },
  {
   "cell_type": "code",
   "execution_count": 23,
   "metadata": {
    "execution": {
     "iopub.execute_input": "2025-03-30T15:39:34.213653Z",
     "iopub.status.busy": "2025-03-30T15:39:34.213542Z",
     "iopub.status.idle": "2025-03-30T15:39:34.216228Z",
     "shell.execute_reply": "2025-03-30T15:39:34.215916Z"
    }
   },
   "outputs": [
    {
     "data": {
      "text/plain": [
       "'Goat #1'"
      ]
     },
     "execution_count": 23,
     "metadata": {},
     "output_type": "execute_result"
    }
   ],
   "source": [
    "if behind_picked_door == 'Goat #1':\n",
    "    revealed = 'Goat #2'\n",
    "elif behind_picked_door == 'Goat #2':\n",
    "    revealed = 'Goat #1'\n",
    "else:\n",
    "    revealed = np.random.choice(['Goat #1', 'Goat #2'])\n",
    "\n",
    "revealed"
   ]
  },
  {
   "cell_type": "markdown",
   "metadata": {
    "slideshow": {
     "slide_type": "slide"
    }
   },
   "source": [
    "### Passo 1: Simule um único jogo"
   ]
  },
  {
   "cell_type": "markdown",
   "metadata": {},
   "source": [
    "Se você sempre trocar, acabará ganhando o prêmio que não está nem `behind_picked_door` nem `revealed`."
   ]
  },
  {
   "cell_type": "code",
   "execution_count": 24,
   "metadata": {
    "execution": {
     "iopub.execute_input": "2025-03-30T15:39:34.217458Z",
     "iopub.status.busy": "2025-03-30T15:39:34.217346Z",
     "iopub.status.idle": "2025-03-30T15:39:34.219719Z",
     "shell.execute_reply": "2025-03-30T15:39:34.219439Z"
    }
   },
   "outputs": [
    {
     "data": {
      "text/plain": [
       "'Goat #2'"
      ]
     },
     "execution_count": 24,
     "metadata": {},
     "output_type": "execute_result"
    }
   ],
   "source": [
    "for prize in ['Car', 'Goat #1', 'Goat #2']:\n",
    "    if prize != behind_picked_door and prize != revealed:\n",
    "        your_prize = prize\n",
    "\n",
    "your_prize"
   ]
  },
  {
   "cell_type": "markdown",
   "metadata": {
    "slideshow": {
     "slide_type": "slide"
    }
   },
   "source": [
    "### Passo 1: Simule um único jogo\n",
    "\n",
    "Vamos transformar isso em uma função para facilitar a repetição:"
   ]
  },
  {
   "cell_type": "code",
   "execution_count": 25,
   "metadata": {
    "execution": {
     "iopub.execute_input": "2025-03-30T15:39:34.221133Z",
     "iopub.status.busy": "2025-03-30T15:39:34.221027Z",
     "iopub.status.idle": "2025-03-30T15:39:34.223532Z",
     "shell.execute_reply": "2025-03-30T15:39:34.223152Z"
    }
   },
   "outputs": [],
   "source": [
    "def simulate_switch_strategy():\n",
    "    behind_picked_door = np.random.choice(['Car', 'Goat #1', 'Goat #2'])\n",
    "    \n",
    "    if behind_picked_door == 'Goat #1':\n",
    "        revealed = 'Goat #2'\n",
    "    elif behind_picked_door == 'Goat #2':\n",
    "        revealed = 'Goat #1'\n",
    "    else:\n",
    "        revealed = np.random.choice(['Goat #1', 'Goat #2'])\n",
    "        \n",
    "    for prize in ['Car', 'Goat #1', 'Goat #2']:\n",
    "        if prize != behind_picked_door and prize != revealed:\n",
    "            your_prize = prize\n",
    "        \n",
    "    #print(behind_picked_door, 'was behind the door.', revealed, 'was revealed by the host. Your prize was:', your_prize)\n",
    "    return your_prize"
   ]
  },
  {
   "cell_type": "code",
   "execution_count": 26,
   "metadata": {
    "execution": {
     "iopub.execute_input": "2025-03-30T15:39:34.225034Z",
     "iopub.status.busy": "2025-03-30T15:39:34.224895Z",
     "iopub.status.idle": "2025-03-30T15:39:34.227412Z",
     "shell.execute_reply": "2025-03-30T15:39:34.227094Z"
    }
   },
   "outputs": [
    {
     "data": {
      "text/plain": [
       "'Goat #1'"
      ]
     },
     "execution_count": 26,
     "metadata": {},
     "output_type": "execute_result"
    }
   ],
   "source": [
    "simulate_switch_strategy()"
   ]
  },
  {
   "cell_type": "markdown",
   "metadata": {
    "slideshow": {
     "slide_type": "slide"
    }
   },
   "source": [
    "### Etapa 2: jogue o jogo várias vezes\n",
    "\n",
    "Devemos guardar seu prêmio em cada jogo. Para fazer isso, vamos usar `np.append`:"
   ]
  },
  {
   "cell_type": "code",
   "execution_count": 27,
   "metadata": {
    "execution": {
     "iopub.execute_input": "2025-03-30T15:39:34.228821Z",
     "iopub.status.busy": "2025-03-30T15:39:34.228702Z",
     "iopub.status.idle": "2025-03-30T15:39:34.802128Z",
     "shell.execute_reply": "2025-03-30T15:39:34.801592Z"
    }
   },
   "outputs": [],
   "source": [
    "repetitions = 10000\n",
    "\n",
    "your_prizes = np.array([])\n",
    "\n",
    "for i in np.arange(repetitions):\n",
    "    your_prize = simulate_switch_strategy()\n",
    "    your_prizes = np.append(your_prizes, your_prize)"
   ]
  },
  {
   "cell_type": "code",
   "execution_count": 28,
   "metadata": {
    "execution": {
     "iopub.execute_input": "2025-03-30T15:39:34.803839Z",
     "iopub.status.busy": "2025-03-30T15:39:34.803720Z",
     "iopub.status.idle": "2025-03-30T15:39:34.806246Z",
     "shell.execute_reply": "2025-03-30T15:39:34.805946Z"
    }
   },
   "outputs": [
    {
     "data": {
      "text/plain": [
       "array(['Car', 'Car', 'Goat #2', ..., 'Goat #2', 'Goat #2', 'Car'],\n",
       "      dtype='<U32')"
      ]
     },
     "execution_count": 28,
     "metadata": {},
     "output_type": "execute_result"
    }
   ],
   "source": [
    "your_prizes"
   ]
  },
  {
   "cell_type": "markdown",
   "metadata": {
    "slideshow": {
     "slide_type": "slide"
    }
   },
   "source": [
    "### Etapa 3: contar a proporção de vitórias para esta estratégia (troca)"
   ]
  },
  {
   "cell_type": "code",
   "execution_count": 29,
   "metadata": {
    "execution": {
     "iopub.execute_input": "2025-03-30T15:39:34.807742Z",
     "iopub.status.busy": "2025-03-30T15:39:34.807616Z",
     "iopub.status.idle": "2025-03-30T15:39:34.810374Z",
     "shell.execute_reply": "2025-03-30T15:39:34.810095Z"
    }
   },
   "outputs": [
    {
     "data": {
      "text/plain": [
       "array(['Car', 'Car', 'Goat #2', ..., 'Goat #2', 'Goat #2', 'Car'],\n",
       "      dtype='<U32')"
      ]
     },
     "execution_count": 29,
     "metadata": {},
     "output_type": "execute_result"
    }
   ],
   "source": [
    "your_prizes"
   ]
  },
  {
   "cell_type": "code",
   "execution_count": 30,
   "metadata": {
    "execution": {
     "iopub.execute_input": "2025-03-30T15:39:34.811818Z",
     "iopub.status.busy": "2025-03-30T15:39:34.811682Z",
     "iopub.status.idle": "2025-03-30T15:39:34.814229Z",
     "shell.execute_reply": "2025-03-30T15:39:34.813957Z"
    }
   },
   "outputs": [
    {
     "data": {
      "text/plain": [
       "6739"
      ]
     },
     "execution_count": 30,
     "metadata": {},
     "output_type": "execute_result"
    }
   ],
   "source": [
    "np.count_nonzero(your_prizes == 'Car')"
   ]
  },
  {
   "cell_type": "code",
   "execution_count": 31,
   "metadata": {
    "execution": {
     "iopub.execute_input": "2025-03-30T15:39:34.815649Z",
     "iopub.status.busy": "2025-03-30T15:39:34.815444Z",
     "iopub.status.idle": "2025-03-30T15:39:34.817969Z",
     "shell.execute_reply": "2025-03-30T15:39:34.817677Z"
    }
   },
   "outputs": [
    {
     "data": {
      "text/plain": [
       "0.6739"
      ]
     },
     "execution_count": 31,
     "metadata": {},
     "output_type": "execute_result"
    }
   ],
   "source": [
    "np.count_nonzero(your_prizes == 'Car') / repetitions"
   ]
  },
  {
   "cell_type": "markdown",
   "metadata": {
    "slideshow": {
     "slide_type": "fragment"
    }
   },
   "source": [
    "Isso está bem próximo da verdadeira probabilidade de ganhar se você trocar, $\\frac{2}{3}$."
   ]
  },
  {
   "cell_type": "markdown",
   "metadata": {
    "slideshow": {
     "slide_type": "slide"
    }
   },
   "source": [
    "### Implementação alternativa\n",
    "\n",
    "- Analisando nossa implementação, monitoramos seu prêmio em cada jogo."
   ]
  },
  {
   "cell_type": "markdown",
   "metadata": {
    "slideshow": {
     "slide_type": "fragment"
    }
   },
   "source": [
    "- No entanto, tudo o que realmente precisávamos saber era o **número de jogos** em que você ganhou um carro."
   ]
  },
  {
   "cell_type": "markdown",
   "metadata": {
    "slideshow": {
     "slide_type": "fragment"
    }
   },
   "source": [
    "- Ideia: Mantenha um registro do número de vezes que você ganhou um carro. Ou seja, inicialize `car_count` com 0 e adicione 1 sempre que seu prêmio for um carro."
   ]
  },
  {
   "cell_type": "code",
   "execution_count": 32,
   "metadata": {
    "execution": {
     "iopub.execute_input": "2025-03-30T15:39:34.819377Z",
     "iopub.status.busy": "2025-03-30T15:39:34.819188Z",
     "iopub.status.idle": "2025-03-30T15:39:34.820891Z",
     "shell.execute_reply": "2025-03-30T15:39:34.820621Z"
    }
   },
   "outputs": [],
   "source": [
    "car_count = 0"
   ]
  },
  {
   "cell_type": "code",
   "execution_count": 33,
   "metadata": {
    "execution": {
     "iopub.execute_input": "2025-03-30T15:39:34.822088Z",
     "iopub.status.busy": "2025-03-30T15:39:34.821902Z",
     "iopub.status.idle": "2025-03-30T15:39:34.946976Z",
     "shell.execute_reply": "2025-03-30T15:39:34.946397Z"
    }
   },
   "outputs": [],
   "source": [
    "for i in np.arange(repetitions):\n",
    "    your_prize = simulate_switch_strategy()\n",
    "    if your_prize == 'Car':\n",
    "        car_count = car_count + 1"
   ]
  },
  {
   "cell_type": "code",
   "execution_count": 34,
   "metadata": {
    "execution": {
     "iopub.execute_input": "2025-03-30T15:39:34.948861Z",
     "iopub.status.busy": "2025-03-30T15:39:34.948694Z",
     "iopub.status.idle": "2025-03-30T15:39:34.951924Z",
     "shell.execute_reply": "2025-03-30T15:39:34.951399Z"
    }
   },
   "outputs": [
    {
     "data": {
      "text/plain": [
       "0.6621"
      ]
     },
     "execution_count": 34,
     "metadata": {},
     "output_type": "execute_result"
    }
   ],
   "source": [
    "car_count / repetitions"
   ]
  },
  {
   "cell_type": "markdown",
   "metadata": {
    "slideshow": {
     "slide_type": "fragment"
    }
   },
   "source": [
    "Não são necessárias matrizes! Esta estratégia nem sempre funciona; depende do objetivo da simulação."
   ]
  },
  {
   "cell_type": "markdown",
   "metadata": {},
   "source": [
    "### E se você ficar sempre com sua porta original?\n",
    "\n",
    "- Neste caso, o seu prêmio é sempre o mesmo que estava atrás da porta escolhida."
   ]
  },
  {
   "cell_type": "code",
   "execution_count": 35,
   "metadata": {
    "execution": {
     "iopub.execute_input": "2025-03-30T15:39:34.953608Z",
     "iopub.status.busy": "2025-03-30T15:39:34.953411Z",
     "iopub.status.idle": "2025-03-30T15:39:35.050090Z",
     "shell.execute_reply": "2025-03-30T15:39:35.049673Z"
    }
   },
   "outputs": [
    {
     "data": {
      "text/plain": [
       "0.3384"
      ]
     },
     "execution_count": 35,
     "metadata": {},
     "output_type": "execute_result"
    }
   ],
   "source": [
    "car_count = 0\n",
    "\n",
    "for i in np.arange(repetitions):\n",
    "    behind_picked_door = np.random.choice(['Car', 'Goat #1', 'Goat #2'])\n",
    "    your_prize = behind_picked_door\n",
    "    if your_prize == 'Car':\n",
    "        car_count = car_count + 1\n",
    "        \n",
    "car_count / repetitions"
   ]
  },
  {
   "cell_type": "markdown",
   "metadata": {
    "slideshow": {
     "slide_type": "fragment"
    }
   },
   "source": [
    "- Isso é bem próximo da verdadeira probabilidade de ganhar se você ficar, $\\frac{1}{3}$."
   ]
  },
  {
   "cell_type": "markdown",
   "metadata": {
    "slideshow": {
     "slide_type": "fragment"
    }
   },
   "source": [
    "- **Conclusão:** É melhor mudar."
   ]
  },
  {
   "cell_type": "markdown",
   "metadata": {
    "slideshow": {
     "slide_type": "fragment"
    }
   },
   "source": [
    "- **Explicação:**\n",
    "- Se você escolher originalmente uma cabra, Monty revelará a outra cabra e você ganhará o carro trocando.\n",
    "- Se você escolher originalmente um carro, você ganhará ficando.\n",
    "- Mas há 2 cabras e 1 carro, então você ganha o dobro trocando."
   ]
  },
  {
   "attachments": {},
   "cell_type": "markdown",
   "metadata": {
    "slideshow": {
     "slide_type": "slide"
    }
   },
   "source": [
    "### Coluna de Marilyn vos Savant na revista Parade\n",
    "\n",
    "![](https://parade.com/.image/ar_1:1%2Cc_fill%2Ccs_srgb%2Cfl_progressive%2Cq_auto:good%2Cw_1200/MTkwNTc4NzM1NjQ4MTU1NTE2/marilynfirstquestions.jpg)\n",
    "\n",
    "<div style=\"display: flex; margem superior: 0,5 pol; margem direita: 1 pol\">\n",
    "<div style=\"largura: 85%;\">\n",
    "<ul>\n",
    "<li>Quando um leitor fez esta pergunta, vos Savant afirmou a resposta correta: <i>switch</i>.</li>\n",
    "<li>Ela recebeu mais de 10.000 cartas em desacordo, incluindo mais de 1.000 cartas de pessoas com doutorado.</li>\n",
    "<li>Isso se tornou uma controvérsia nacional, recebendo até um <a href='https://www.nytimes.com/1991/07/21/us/behind-monty-hall-s-doors-puzzle-debate-and -answer.html'>artigo de primeira página do New York Times em 1991.</a></li>\n",
    "</ul>\n",
    "</div>\n",
    "</div>\n",
    "\n",
    "\n",
    "### Qual a intuição da resposta?\n",
    "\n",
    "1. Abaixo temos todas as três configurções iniciais (nas linhas). Em duas delas, trocar é melhor. Em uma não.\n",
    "\n",
    "![](https://upload.wikimedia.org/wikipedia/commons/thumb/4/41/Monty_Hall_Problem_-_Standard_probabilities.svg/1024px-Monty_Hall_Problem_-_Standard_probabilities.svg.png)"
   ]
  },
  {
   "cell_type": "markdown",
   "metadata": {
    "slideshow": {
     "slide_type": "slide"
    }
   },
   "source": [
    "## Resumo, da próxima vez"
   ]
  },
  {
   "cell_type": "markdown",
   "metadata": {
    "slideshow": {
     "slide_type": "slide"
    }
   },
   "source": [
    "### Simulação encontra probabilidades\n",
    "\n",
    "- Calcular probabilidades é importante, mas pode ser difícil!\n",
    "- Você aprenderá muitas fórmulas nas futuras aulas do DSC.\n",
    "- A simulação nos permite encontrar probabilidades por meio da computação em vez da matemática.\n",
    "- Muitos cenários do mundo real são complicados.\n",
    "- A simulação é muito mais fácil que a matemática em muitos destes casos."
   ]
  },
  {
   "cell_type": "markdown",
   "metadata": {
    "slideshow": {
     "slide_type": "slide"
    }
   },
   "source": [
    "### A \"receita\" da simulação\n",
    "\n",
    "Para estimar a probabilidade de um evento por meio de simulação:\n",
    "1. Crie uma função que execute o experimento uma vez.\n",
    "2. Execute essa função muitas e muitas vezes (geralmente 10.000) com um loop `for` e salve os resultados em um array com `np.append`.\n",
    "3. Calcule a proporção de vezes que o evento ocorre usando `np.count_nonzero`."
   ]
  }
 ],
 "metadata": {
  "kernelspec": {
   "display_name": "teaching",
   "language": "python",
   "name": "python3"
  },
  "language_info": {
   "codemirror_mode": {
    "name": "ipython",
    "version": 3
   },
   "file_extension": ".py",
   "mimetype": "text/x-python",
   "name": "python",
   "nbconvert_exporter": "python",
   "pygments_lexer": "ipython3",
   "version": "3.12.7"
  },
  "livereveal": {
   "scroll": true,
   "transition": "none"
  },
  "rise": {
   "enable_chalkboard": true
  }
 },
 "nbformat": 4,
 "nbformat_minor": 4
}
