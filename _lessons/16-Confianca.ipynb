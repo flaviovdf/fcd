{
 "cells": [
  {
   "cell_type": "markdown",
   "metadata": {},
   "source": [
    "---\n",
    "layout: page\n",
    "title: Confiança, Tendência Central e Dispersão\n",
    "nav_order: 16\n",
    "---\n",
    "[<img src=\"https://raw.githubusercontent.com/flaviovdf/fcd/master/assets/colab_favicon_small.png\" style=\"float: right;\">](https://colab.research.google.com/github/flaviovdf/fcd/blob/master/_lessons/16-Confianca.ipynb)\n",
    "\n",
    "# Tópico 16 – Confiança, Tendência Central e Dispersão\n",
    "{: .no_toc .mb-2 }\n",
    "\n",
    "Após aprender a quantificar a incerteza de uma estimativa através dos intervalos de confiança construídos via bootstrap, é hora de nos aprofundarmos na interpretação desses intervalos, e formalizar algumas noções da \"centralidade\" e da \"variabilidade\" dos valores de uma distribuição. Ao longo dessa aula, introduziremos também outras maneiras de quantificar a incerteza e a probabilidade de um conjunto de valores de uma distribuição através de uma construção matemática, baseada na teoria de Probabilidade.\n",
    "{: .fs-6 .fw-300 }\n",
    "\n",
    "{: .no_toc .text-delta }\n",
    "Resultados Esperados\n",
    "\n",
    "1. Aprender a interpretar intervalos de confiança.\n",
    "1. Aprender a identificar as situações onde espera-se que o bootstrap dê bons resultados (ou não).\n",
    "1. Introduzir e definir medidas de tendência central e de dispersão.\n",
    "1. Introduzir e aprender como utilizar a Desigualdade de Chebyshev para quantificar a probabilidade de que os valores de uma distribuição estejam perto (ou longe) de sua média. \n",
    "\n",
    "{: .no_toc .text-delta }\n",
    "Material Adaptado do [DSC10 (UCSD)](https://dsc10.com/)"
   ]
  },
  {
   "cell_type": "code",
   "execution_count": 1,
   "metadata": {
    "execution": {
     "iopub.execute_input": "2025-03-30T15:42:36.882590Z",
     "iopub.status.busy": "2025-03-30T15:42:36.881899Z",
     "iopub.status.idle": "2025-03-30T15:42:37.317957Z",
     "shell.execute_reply": "2025-03-30T15:42:37.317563Z"
    }
   },
   "outputs": [],
   "source": [
    "import numpy as np\n",
    "import pandas as pd\n",
    "import pandas as pd\n",
    "import matplotlib.pyplot as plt\n",
    "plt.style.use('ggplot')\n",
    "\n",
    "np.set_printoptions(threshold=20, precision=2, suppress=True)\n",
    "pd.set_option(\"display.max_rows\", 7)\n",
    "pd.set_option(\"display.max_columns\", 8)\n",
    "pd.set_option(\"display.precision\", 2)\n",
    "\n",
    "# Animations\n",
    "from IPython.display import display, IFrame, Video\n",
    "\n",
    "def show_confidence_interval_slides():\n",
    "    src=\"https://docs.google.com/presentation/d/e/2PACX-1vTaPZsueXI6fey_5cj2Y1TevkR1joBvpwaWVsZNvgBlnJSrw1EiBLHJywkFH_QNLU5Tdr6JZgDrhFxG/embed?start=false&loop=false&delayms=3000&rm=minimal\"\n",
    "    width = 940\n",
    "    height = 940\n",
    "    display(IFrame(src, width, height))"
   ]
  },
  {
   "cell_type": "markdown",
   "metadata": {
    "slideshow": {
     "slide_type": "slide"
    }
   },
   "source": [
    "## Interpretando intervalos de confiança"
   ]
  },
  {
   "cell_type": "markdown",
   "metadata": {
    "slideshow": {
     "slide_type": "slide"
    }
   },
   "source": [
    "### Recapitulando: Salários dos funcionários públicos da cidade de San Diego\n",
    "\n",
    "Vamos rodar nosso código da aula passada novamente para calcular um intervalo de 95% de confiança para o salário mediano de todos os funcionários da cidade de San Diego, tomando como base uma amostra de 500 indivíduos."
   ]
  },
  {
   "cell_type": "markdown",
   "metadata": {},
   "source": [
    "**Passo 1**: Coletar uma única amostra de 500 indivíduos da população."
   ]
  },
  {
   "cell_type": "code",
   "execution_count": 2,
   "metadata": {
    "execution": {
     "iopub.execute_input": "2025-03-30T15:42:37.320193Z",
     "iopub.status.busy": "2025-03-30T15:42:37.320026Z",
     "iopub.status.idle": "2025-03-30T15:42:37.520142Z",
     "shell.execute_reply": "2025-03-30T15:42:37.519768Z"
    }
   },
   "outputs": [
    {
     "data": {
      "text/plain": [
       "78136.0"
      ]
     },
     "execution_count": 2,
     "metadata": {},
     "output_type": "execute_result"
    }
   ],
   "source": [
    "population = pd.read_csv('https://raw.githubusercontent.com/flaviovdf/fcd/master/assets/15-Bootstrapping/data/2022_salaries.csv').get(['TotalWages'])\n",
    "population_median = population.get('TotalWages').median()\n",
    "population_median # Can't see this in real life!"
   ]
  },
  {
   "cell_type": "code",
   "execution_count": 3,
   "metadata": {
    "execution": {
     "iopub.execute_input": "2025-03-30T15:42:37.542430Z",
     "iopub.status.busy": "2025-03-30T15:42:37.542021Z",
     "iopub.status.idle": "2025-03-30T15:42:37.545966Z",
     "shell.execute_reply": "2025-03-30T15:42:37.545628Z"
    }
   },
   "outputs": [
    {
     "data": {
      "text/plain": [
       "76237.0"
      ]
     },
     "execution_count": 3,
     "metadata": {},
     "output_type": "execute_result"
    }
   ],
   "source": [
    "np.random.seed(38) # Magic to ensure that we get the same results every time this code is run.\n",
    "my_sample = population.sample(500)\n",
    "sample_median = my_sample.get('TotalWages').median()\n",
    "sample_median"
   ]
  },
  {
   "cell_type": "markdown",
   "metadata": {
    "slideshow": {
     "slide_type": "slide"
    }
   },
   "source": [
    "**Passo 2**: Bootstrap! Reamostrar um número grande de vezes da nossa amostra e, para cada reamostragem, calcular a mediana correspondente. Teremos assim uma distribuição empírica da mediana amostral."
   ]
  },
  {
   "cell_type": "code",
   "execution_count": 4,
   "metadata": {
    "execution": {
     "iopub.execute_input": "2025-03-30T15:42:37.547439Z",
     "iopub.status.busy": "2025-03-30T15:42:37.547329Z",
     "iopub.status.idle": "2025-03-30T15:42:38.207545Z",
     "shell.execute_reply": "2025-03-30T15:42:38.207005Z"
    }
   },
   "outputs": [
    {
     "data": {
      "text/plain": [
       "array([76896. , 72945. , 73555. , ..., 74431. , 75868. , 78601.5])"
      ]
     },
     "execution_count": 4,
     "metadata": {},
     "output_type": "execute_result"
    }
   ],
   "source": [
    "np.random.seed(38) # Magic to ensure that we get the same results every time this code is run.\n",
    "\n",
    "# Bootstrap the sample to get more sample medians.\n",
    "n_resamples = 5000\n",
    "boot_medians = np.array([])\n",
    "\n",
    "for i in np.arange(n_resamples):\n",
    "    resample = my_sample.sample(500, replace=True)\n",
    "    median = resample.get('TotalWages').median()\n",
    "    boot_medians = np.append(boot_medians, median)\n",
    "    \n",
    "boot_medians"
   ]
  },
  {
   "cell_type": "markdown",
   "metadata": {
    "slideshow": {
     "slide_type": "slide"
    }
   },
   "source": [
    "**Passo 3**: Tomar os percentis correspondentes à uma frequência total de aproximadamente 95% da distribuição empírica das medianas amostrais (i.e. `boot_medians`). Esse será nosso intervalo de 95% de confiança."
   ]
  },
  {
   "cell_type": "code",
   "execution_count": 5,
   "metadata": {
    "execution": {
     "iopub.execute_input": "2025-03-30T15:42:38.209123Z",
     "iopub.status.busy": "2025-03-30T15:42:38.208989Z",
     "iopub.status.idle": "2025-03-30T15:42:38.212367Z",
     "shell.execute_reply": "2025-03-30T15:42:38.212003Z"
    },
    "slideshow": {
     "slide_type": "-"
    }
   },
   "outputs": [
    {
     "data": {
      "text/plain": [
       "[68469.0, 81253.5]"
      ]
     },
     "execution_count": 5,
     "metadata": {},
     "output_type": "execute_result"
    }
   ],
   "source": [
    "left = np.percentile(boot_medians, 2.5)\n",
    "right = np.percentile(boot_medians, 97.5)\n",
    "\n",
    "# Therefore, our interval is:\n",
    "[left, right]"
   ]
  },
  {
   "cell_type": "code",
   "execution_count": 6,
   "metadata": {
    "execution": {
     "iopub.execute_input": "2025-03-30T15:42:38.213682Z",
     "iopub.status.busy": "2025-03-30T15:42:38.213566Z",
     "iopub.status.idle": "2025-03-30T15:42:38.403023Z",
     "shell.execute_reply": "2025-03-30T15:42:38.402554Z"
    }
   },
   "outputs": [
    {
     "data": {
      "image/png": "[encoded data removed]",
      "text/plain": [
       "<Figure size 1000x500 with 1 Axes>"
      ]
     },
     "metadata": {},
     "output_type": "display_data"
    }
   ],
   "source": [
    "pd.DataFrame().assign(BootstrapMedians=boot_medians).plot(kind='hist', density=True, bins=np.arange(63000, 88000, 1000), ec='w', figsize=(10, 5))\n",
    "plt.plot([left, right], [0, 0], color='gold', linewidth=12, label='95% confidence interval');\n",
    "plt.scatter(population_median, 0.000004, color='blue', s=100, label='population median').set_zorder(3)\n",
    "plt.legend()\n",
    "plt.ylabel(\"Frequência\");"
   ]
  },
  {
   "cell_type": "markdown",
   "metadata": {
    "slideshow": {
     "slide_type": "slide"
    }
   },
   "source": [
    "### Intervalos de confiança são estimativas _intervalares_ para um parâmetro"
   ]
  },
  {
   "cell_type": "markdown",
   "metadata": {
    "slideshow": {
     "slide_type": "fragment"
    }
   },
   "source": [
    "Aprendemos na aula passada que, com base nos intervalos de confiança (IC), ao invés de simplesmente afirmar\n",
    "\n",
    "> \"podemos dizer que a mediana populacional é _próxima_ da mediana amostral, \\\\$76,237\","
   ]
  },
  {
   "cell_type": "markdown",
   "metadata": {
    "slideshow": {
     "slide_type": "fragment"
    }
   },
   "source": [
    "nós podemos afirmar\n",
    "\n",
    "> \"podemos dizer, _com 95% de confiança_, que mediana populacional está entre \\\\$68,469 e \\\\$81,253.50\"."
   ]
  },
  {
   "cell_type": "markdown",
   "metadata": {
    "slideshow": {
     "slide_type": "fragment"
    }
   },
   "source": [
    "**Na aula de hoje, vamos responder as seguintes perguntas**: \"Mas afinal, o que 95% de confiança significa?\" \"Sobre o quê estamos confiantes?\" \"Esse tipo de técnica sempre funciona?\""
   ]
  },
  {
   "cell_type": "markdown",
   "metadata": {
    "slideshow": {
     "slide_type": "slide"
    }
   },
   "source": [
    "### Interpretando intervalos de confiança\n",
    "\n",
    "- Criamos um IC que contém 95% das medianas das nossas amostras bootstrap.\n",
    "- Esperamos que a mediana populacional também esteja contida nesse IC.\n",
    "- Porém, o quão seguros estamos desse fato? **Dizemos que \"podemos afirmar isso com 95% de confiança\", mas o que isso significa?**"
   ]
  },
  {
   "cell_type": "markdown",
   "metadata": {
    "slideshow": {
     "slide_type": "slide"
    }
   },
   "source": [
    "### Capturando o verdadeiro valor do parâmetro"
   ]
  },
  {
   "cell_type": "markdown",
   "metadata": {
    "slideshow": {
     "slide_type": "fragment"
    }
   },
   "source": [
    "- Considere o seguinte passo-a-passo:\n",
    "    1. Coletar uma **amostra nova** da população.\n",
    "    1. Bootstrap: reamostrar dessa amostra várias vezes, calculando a estatística de interesse (por exemplo a mediana) em cada amostra.\n",
    "    1. Construir um IC95%."
   ]
  },
  {
   "cell_type": "markdown",
   "metadata": {
    "slideshow": {
     "slide_type": "fragment"
    }
   },
   "source": [
    "- Um nível de 95% de confiança então significa que, **em aproximadamente 95% das vezes em que realizamos esse processo, o intervalo criado conterá o verdadeiro valor do parâmetro**.\n",
    "    - Em outras palavras: se pudéssemos repetir nosso experimento aleatório um número muito grande de vezes, 95% dos intervalos de confiança vão conter o verdadeiro valor do parâmetro."
   ]
  },
  {
   "cell_type": "markdown",
   "metadata": {
    "slideshow": {
     "slide_type": "fragment"
    }
   },
   "source": [
    "- Dessa forma, a confiança reside no **processo** que gera o intervalo!"
   ]
  },
  {
   "cell_type": "markdown",
   "metadata": {
    "slideshow": {
     "slide_type": "slide"
    }
   },
   "source": [
    "### Intervalos de confiança são como um jogo de argolas!\n",
    "\n",
    "O ([GIF abaixo](https://twitter.com/EpiEllie/status/1160395672706789376)) contém uma explicação intuitiva dos intervalos de confiança."
   ]
  },
  {
   "cell_type": "code",
   "execution_count": 7,
   "metadata": {
    "execution": {
     "iopub.execute_input": "2025-03-30T15:42:38.404950Z",
     "iopub.status.busy": "2025-03-30T15:42:38.404814Z",
     "iopub.status.idle": "2025-03-30T15:42:38.407841Z",
     "shell.execute_reply": "2025-03-30T15:42:38.407495Z"
    }
   },
   "outputs": [
    {
     "data": {
      "text/html": [
       "<video src=\"https://raw.githubusercontent.com/flaviovdf/fcd/master/assets/16-Confianca/data/ci-ring-toss.mp4\" controls  width=\"500\" >\n",
       "      Your browser does not support the <code>video</code> element.\n",
       "    </video>"
      ],
      "text/plain": [
       "<IPython.core.display.Video object>"
      ]
     },
     "execution_count": 7,
     "metadata": {},
     "output_type": "execute_result"
    }
   ],
   "source": [
    "Video('https://raw.githubusercontent.com/flaviovdf/fcd/master/assets/16-Confianca/data/ci-ring-toss.mp4', width=500)"
   ]
  },
  {
   "cell_type": "code",
   "execution_count": 8,
   "metadata": {
    "execution": {
     "iopub.execute_input": "2025-03-30T15:42:38.409297Z",
     "iopub.status.busy": "2025-03-30T15:42:38.408999Z",
     "iopub.status.idle": "2025-03-30T15:42:38.411880Z",
     "shell.execute_reply": "2025-03-30T15:42:38.411506Z"
    },
    "slideshow": {
     "slide_type": "slide"
    }
   },
   "outputs": [
    {
     "data": {
      "text/html": [
       "\n",
       "        <iframe\n",
       "            width=\"940\"\n",
       "            height=\"940\"\n",
       "            src=\"https://docs.google.com/presentation/d/e/2PACX-1vTaPZsueXI6fey_5cj2Y1TevkR1joBvpwaWVsZNvgBlnJSrw1EiBLHJywkFH_QNLU5Tdr6JZgDrhFxG/embed?start=false&loop=false&delayms=3000&rm=minimal\"\n",
       "            frameborder=\"0\"\n",
       "            allowfullscreen\n",
       "            \n",
       "        ></iframe>\n",
       "        "
      ],
      "text/plain": [
       "<IPython.lib.display.IFrame at 0x7f66b87d9ac0>"
      ]
     },
     "metadata": {},
     "output_type": "display_data"
    }
   ],
   "source": [
    "show_confidence_interval_slides()"
   ]
  },
  {
   "cell_type": "markdown",
   "metadata": {
    "slideshow": {
     "slide_type": "slide"
    }
   },
   "source": [
    "### Múltiplos intervalos de confiança\n",
    "\n",
    "- Repetimos o passo-a-passo descrito acima $M = 200$ vezes, obtendo $M = 200$ ICs diferentes.\n",
    "    - Fizemos isso de antemão (demorou um bom tempo) e salvamos os resultados em um arquivo.\n",
    "- Os ICs obtidos estão contidos no array `many_cis` abaixo."
   ]
  },
  {
   "cell_type": "code",
   "execution_count": 9,
   "metadata": {
    "execution": {
     "iopub.execute_input": "2025-03-30T15:42:38.413643Z",
     "iopub.status.busy": "2025-03-30T15:42:38.413311Z",
     "iopub.status.idle": "2025-03-30T15:42:38.860869Z",
     "shell.execute_reply": "2025-03-30T15:42:38.860366Z"
    }
   },
   "outputs": [
    {
     "name": "stdout",
     "output_type": "stream",
     "text": [
      "--2025-03-30 12:42:38--  https://raw.githubusercontent.com/flaviovdf/fcd/master/assets/16-Confianca/data/many_cis.npy\r\n",
      "Loaded CA certificate '/etc/ssl/certs/ca-certificates.crt'\r\n",
      "Resolving raw.githubusercontent.com (raw.githubusercontent.com)... "
     ]
    },
    {
     "name": "stdout",
     "output_type": "stream",
     "text": [
      "185.199.108.133, 185.199.111.133, 185.199.110.133, ...\r\n",
      "Connecting to raw.githubusercontent.com (raw.githubusercontent.com)|185.199.108.133|:443... connected.\r\n",
      "HTTP request sent, awaiting response... "
     ]
    },
    {
     "name": "stdout",
     "output_type": "stream",
     "text": [
      "200 OK\r\n",
      "Length: 3328 (3.2K) [application/octet-stream]\r\n",
      "Saving to: ‘many_cis.npy.1’\r\n",
      "\r\n",
      "\r",
      "many_cis.npy.1        0%[                    ]       0  --.-KB/s               \r",
      "many_cis.npy.1      100%[===================>]   3.25K  --.-KB/s    in 0s      \r\n",
      "\r\n",
      "2025-03-30 12:42:38 (79.3 MB/s) - ‘many_cis.npy.1’ saved [3328/3328]\r\n",
      "\r\n"
     ]
    }
   ],
   "source": [
    "! wget https://raw.githubusercontent.com/flaviovdf/fcd/master/assets/16-Confianca/data/many_cis.npy"
   ]
  },
  {
   "cell_type": "code",
   "execution_count": 10,
   "metadata": {
    "execution": {
     "iopub.execute_input": "2025-03-30T15:42:38.862837Z",
     "iopub.status.busy": "2025-03-30T15:42:38.862707Z",
     "iopub.status.idle": "2025-03-30T15:42:38.866295Z",
     "shell.execute_reply": "2025-03-30T15:42:38.865919Z"
    }
   },
   "outputs": [
    {
     "data": {
      "text/plain": [
       "array([[72881.5 , 85383.32],\n",
       "       [66727.19, 81871.47],\n",
       "       [65449.32, 82001.4 ],\n",
       "       ...,\n",
       "       [64915.5 , 81814.85],\n",
       "       [66702.5 , 79711.  ],\n",
       "       [67996.76, 82105.84]])"
      ]
     },
     "execution_count": 10,
     "metadata": {},
     "output_type": "execute_result"
    }
   ],
   "source": [
    "many_cis = np.load('many_cis.npy')\n",
    "many_cis"
   ]
  },
  {
   "cell_type": "markdown",
   "metadata": {
    "slideshow": {
     "slide_type": "slide"
    }
   },
   "source": [
    "Na visualização abaixo:\n",
    "- A <span style=\"color:blue\">linha azul</span> representa o parâmetro populacional. **Lembre que o parâmetro não é aleatório.**\n",
    "- Cada <span style=\"color:gold\">linha dourada</span> representa um IC diferente, obtido utilizado o passo-a-passo descrito anteriormente.\n",
    "- Note que a _maioria_ dos ICs contém o parâmetro verdadeiro, mas _não todos_!"
   ]
  },
  {
   "cell_type": "code",
   "execution_count": 11,
   "metadata": {
    "execution": {
     "iopub.execute_input": "2025-03-30T15:42:38.867729Z",
     "iopub.status.busy": "2025-03-30T15:42:38.867601Z",
     "iopub.status.idle": "2025-03-30T15:42:39.044820Z",
     "shell.execute_reply": "2025-03-30T15:42:39.044397Z"
    }
   },
   "outputs": [
    {
     "data": {
      "image/png": "[encoded data removed]",
      "text/plain": [
       "<Figure size 1000x600 with 1 Axes>"
      ]
     },
     "metadata": {},
     "output_type": "display_data"
    }
   ],
   "source": [
    "plt.figure(figsize=(10, 6))\n",
    "for i, ci in enumerate(many_cis):\n",
    "    plt.plot([ci[0], ci[1]], [i, i], color='gold', linewidth=2)\n",
    "plt.axvline(x=population_median, color='blue');"
   ]
  },
  {
   "cell_type": "markdown",
   "metadata": {
    "slideshow": {
     "slide_type": "slide"
    }
   },
   "source": [
    "### Quais ICs não contém o parâmetro populacional?"
   ]
  },
  {
   "cell_type": "code",
   "execution_count": 12,
   "metadata": {
    "execution": {
     "iopub.execute_input": "2025-03-30T15:42:39.046252Z",
     "iopub.status.busy": "2025-03-30T15:42:39.046138Z",
     "iopub.status.idle": "2025-03-30T15:42:39.133566Z",
     "shell.execute_reply": "2025-03-30T15:42:39.133231Z"
    }
   },
   "outputs": [
    {
     "data": {
      "image/png": "[encoded data removed]",
      "text/plain": [
       "<Figure size 1000x600 with 1 Axes>"
      ]
     },
     "metadata": {},
     "output_type": "display_data"
    }
   ],
   "source": [
    "plt.figure(figsize=(10, 6))\n",
    "count_outside = 0\n",
    "for i, ci in enumerate(many_cis):\n",
    "    if ci[0] > population_median or ci[1] < population_median:\n",
    "        plt.plot([ci[0], ci[1]], [i, i], color='gold', linewidth=2)\n",
    "        count_outside = count_outside + 1\n",
    "plt.axvline(x=population_median, color='blue');"
   ]
  },
  {
   "cell_type": "code",
   "execution_count": 13,
   "metadata": {
    "execution": {
     "iopub.execute_input": "2025-03-30T15:42:39.135567Z",
     "iopub.status.busy": "2025-03-30T15:42:39.135271Z",
     "iopub.status.idle": "2025-03-30T15:42:39.137815Z",
     "shell.execute_reply": "2025-03-30T15:42:39.137535Z"
    }
   },
   "outputs": [
    {
     "data": {
      "text/plain": [
       "11"
      ]
     },
     "execution_count": 13,
     "metadata": {},
     "output_type": "execute_result"
    }
   ],
   "source": [
    "count_outside"
   ]
  },
  {
   "cell_type": "markdown",
   "metadata": {
    "slideshow": {
     "slide_type": "fragment"
    }
   },
   "source": [
    "- 11 dos nossos $M = 200$ ICs não contém o verdadeiro valor do parâmetro.\n",
    "- Por outro lado, isso significa que 189/200, ou 94.5% dos ICs, contém sim o parâmetro populacional!\n",
    "    - Não coincidentemente, 94.5% é bem próximo de 95%!"
   ]
  },
  {
   "cell_type": "markdown",
   "metadata": {
    "slideshow": {
     "slide_type": "fragment"
    }
   },
   "source": [
    "- Na prática, como coletamos apenas **uma única amostra**, teremos apenas **um único IC correspondente**, e não saberemos com certeza se esse IC contém ou não o verdadeiro valor do parâmetro.\n",
    "    - Se em um certo sentido nossa amostra não for \"boa\", isto é, com uma distribuição que seja próxima da distribuição populacional, então nossa inferência será prejudicada."
   ]
  },
  {
   "cell_type": "markdown",
   "metadata": {
    "slideshow": {
     "slide_type": "slide"
    }
   },
   "source": [
    "### Escolhendo o nível de confiança"
   ]
  },
  {
   "cell_type": "markdown",
   "metadata": {
    "slideshow": {
     "slide_type": "fragment"
    }
   },
   "source": [
    "- Quando coletamos uma amostra \"ruim\" (isto é, que não tenha uma distribuição próxima da populacional), ao construírmos nosso IC é bem provável que esse IC não contenha o verdadeiro valor do parâmetro.\n",
    "    - Podemos tentar remediar essa situação escolhendo um nível de confiança mais apropriado, mas note que existe um _tradeoff_ associado à isso! "
   ]
  },
  {
   "cell_type": "markdown",
   "metadata": {
    "slideshow": {
     "slide_type": "fragment"
    }
   },
   "source": [
    "- Se, por exemplo, escolhermos um nível de confiança igual a 99%: \n",
    "    - aproxidamente apenas 1% das vezes nosso IC não conterá o verdadeiro valor do parâmetro (o que é ótimo!). Porém, ...\n",
    "    - nossos ICs serão muito largos, e logo não muito úteis na prática."
   ]
  },
  {
   "cell_type": "markdown",
   "metadata": {
    "slideshow": {
     "slide_type": "fragment"
    }
   },
   "source": [
    "- Se por outro lado escolhermos um nível de confiança igual a 80%: \n",
    "    - muitas das vezes (~20%) o IC não conterá o verdadeiro valor do parâmetro (o que não é tão bom assim). Porém, ...\n",
    "    - nossos ICs nesse caso serão bem mais curtos, e logo mais precisos."
   ]
  },
  {
   "cell_type": "markdown",
   "metadata": {},
   "source": [
    "- O _tradeoff_ principal nesse contexto é então entre **confiança e precisão**.\n",
    "    - Quanto **mais confiante** eu estou de que uma afirmativa é verdadeira, **menos preciso** essa afirmativa será, e vice-versa.\n",
    "    - Por exemplo, se eu afirmo que hoje vai começar a chover _exatamente_ às 13:14 (uma afirmativa bem precisa), em geral eu quase sempre estarei errado sobre isso (e, logo, pouco confiante).\n",
    "    - Por outro lado, se eu afirmo que vai chover _algum dia_ desse ano (uma afirmativa muito precisa), em geral eu quase sempre estarei correto sobre isso (e, logo, muito confiante).   "
   ]
  },
  {
   "cell_type": "markdown",
   "metadata": {
    "slideshow": {
     "slide_type": "fragment"
    }
   },
   "source": [
    "- Para um dado nível de confiança fixo, como então podemos fazer com que nosso IC seja mais curto (i.e. mais preciso)?\n",
    "    - Coletando uma amostra maior!\n",
    "    - Veremos adiante mais detalhes sobre a relação entre o tamanho amostral, o nível de confiança e a largura do IC. "
   ]
  },
  {
   "cell_type": "markdown",
   "metadata": {
    "slideshow": {
     "slide_type": "slide"
    }
   },
   "source": [
    "### Como _não_ interpretar intervalos de confiança\n",
    "\n",
    "Fato: intervalos de confiança podem ser complicados de interpretar corretamente."
   ]
  },
  {
   "cell_type": "code",
   "execution_count": 14,
   "metadata": {
    "execution": {
     "iopub.execute_input": "2025-03-30T15:42:39.139982Z",
     "iopub.status.busy": "2025-03-30T15:42:39.139642Z",
     "iopub.status.idle": "2025-03-30T15:42:39.143367Z",
     "shell.execute_reply": "2025-03-30T15:42:39.142946Z"
    }
   },
   "outputs": [
    {
     "name": "stdout",
     "output_type": "stream",
     "text": [
      "Nosso IC95% é dado por:\n"
     ]
    },
    {
     "data": {
      "text/plain": [
       "[68469.0, 81253.5]"
      ]
     },
     "execution_count": 14,
     "metadata": {},
     "output_type": "execute_result"
    }
   ],
   "source": [
    "# Our interval:\n",
    "print('Nosso IC95% é dado por:')\n",
    "[left, right]"
   ]
  },
  {
   "cell_type": "markdown",
   "metadata": {
    "slideshow": {
     "slide_type": "fragment"
    }
   },
   "source": [
    "**O intervalo acima contém 95% de todos os salários da população? Não!** ❌"
   ]
  },
  {
   "cell_type": "code",
   "execution_count": 15,
   "metadata": {
    "execution": {
     "iopub.execute_input": "2025-03-30T15:42:39.145551Z",
     "iopub.status.busy": "2025-03-30T15:42:39.145278Z",
     "iopub.status.idle": "2025-03-30T15:42:39.326278Z",
     "shell.execute_reply": "2025-03-30T15:42:39.325721Z"
    }
   },
   "outputs": [
    {
     "data": {
      "image/png": "[encoded data removed]",
      "text/plain": [
       "<Figure size 1000x500 with 1 Axes>"
      ]
     },
     "metadata": {},
     "output_type": "display_data"
    }
   ],
   "source": [
    "population.plot(kind='hist', y='TotalWages', density=True, ec='w', figsize=(10, 5))\n",
    "plt.plot([left, right], [0, 0], color='gold', linewidth=12, label='95% confidence interval');\n",
    "plt.legend()\n",
    "plt.ylabel(\"Frequência\");"
   ]
  },
  {
   "cell_type": "markdown",
   "metadata": {
    "slideshow": {
     "slide_type": "fragment"
    }
   },
   "source": [
    "Por outro lado, o IC95% _contém sim_ 95% de todos os salários medianos obtidos pelo bootstrap."
   ]
  },
  {
   "cell_type": "markdown",
   "metadata": {},
   "source": [
    "> Em outras palavras, o IC95% contém 95% de todos os valores da _distribuição bootstrap_ (mas não da população)."
   ]
  },
  {
   "cell_type": "code",
   "execution_count": 16,
   "metadata": {
    "execution": {
     "iopub.execute_input": "2025-03-30T15:42:39.327820Z",
     "iopub.status.busy": "2025-03-30T15:42:39.327703Z",
     "iopub.status.idle": "2025-03-30T15:42:39.460042Z",
     "shell.execute_reply": "2025-03-30T15:42:39.459479Z"
    }
   },
   "outputs": [
    {
     "data": {
      "image/png": "[encoded data removed]",
      "text/plain": [
       "<Figure size 1000x500 with 1 Axes>"
      ]
     },
     "metadata": {},
     "output_type": "display_data"
    }
   ],
   "source": [
    "pd.DataFrame().assign(BootstrapMedians=boot_medians).plot(kind='hist', density=True, bins=np.arange(63000, 88000, 1000), ec='w', figsize=(10, 5))\n",
    "plt.plot([left, right], [0, 0], color='gold', linewidth=12, label='95% confidence interval');\n",
    "plt.legend()\n",
    "plt.ylabel(\"Frequência\");"
   ]
  },
  {
   "cell_type": "code",
   "execution_count": 17,
   "metadata": {
    "execution": {
     "iopub.execute_input": "2025-03-30T15:42:39.461756Z",
     "iopub.status.busy": "2025-03-30T15:42:39.461562Z",
     "iopub.status.idle": "2025-03-30T15:42:39.464918Z",
     "shell.execute_reply": "2025-03-30T15:42:39.464561Z"
    },
    "slideshow": {
     "slide_type": "slide"
    }
   },
   "outputs": [
    {
     "name": "stdout",
     "output_type": "stream",
     "text": [
      "Nosso IC95%:\n"
     ]
    },
    {
     "data": {
      "text/plain": [
       "[68469.0, 81253.5]"
      ]
     },
     "execution_count": 17,
     "metadata": {},
     "output_type": "execute_result"
    }
   ],
   "source": [
    "# Our interval:\n",
    "print('Nosso IC95%:')\n",
    "[left, right]"
   ]
  },
  {
   "cell_type": "markdown",
   "metadata": {
    "slideshow": {
     "slide_type": "fragment"
    }
   },
   "source": [
    "**Então com 95% de probabilidade esse intervalo contém o parâmetro populacional? Também não!** ❌"
   ]
  },
  {
   "cell_type": "markdown",
   "metadata": {
    "slideshow": {
     "slide_type": "fragment"
    }
   },
   "source": [
    "E porque não?\n",
    "- O parâmetro populacional é fixo, i.e. **não-aleatório**(embora desconhecido).\n",
    "    - O intervalo obtido também é não-aleatório (embora o processo que o produza seja).\n",
    "    - Para um dado intervalo, ou o parâmetro populacional está no intervalo ou não está. Logo, também não há aleatoriedade quanto a esse ponto.\n",
    "- Lembre que o nível de confiança (nesse caso 95%) está relacionado ao quão preciso estamos sendo ao construirmos o intervalo.\n",
    "    - Dessa forma, todo o processo de criar o IC (amostragem, bootstrapping e finalmente produzir o intervalo) produz um IC que contém o verdadeiro valor do parâmetro em aproximadamente 95% dos casos."
   ]
  },
  {
   "cell_type": "markdown",
   "metadata": {
    "slideshow": {
     "slide_type": "slide"
    }
   },
   "source": [
    "## \"Armadilhas\" do bootstrap"
   ]
  },
  {
   "cell_type": "markdown",
   "metadata": {
    "slideshow": {
     "slide_type": "slide"
    }
   },
   "source": [
    "### Regras de bolso"
   ]
  },
  {
   "cell_type": "markdown",
   "metadata": {
    "slideshow": {
     "slide_type": "fragment"
    }
   },
   "source": [
    "- Bootstrap é uma técnica bem poderosa! Nós apenas precisamos coletar uma única amostra para obter uma distribuição aproximada para a mediana amostral."
   ]
  },
  {
   "cell_type": "markdown",
   "metadata": {
    "slideshow": {
     "slide_type": "fragment"
    }
   },
   "source": [
    "- Porém, essa técnica tem suas limitações:\n",
    "    - O bootstrap não é muito bom para estatísticas mais \"sensíveis\" a valores extremos (como por exemplo o máximo, ou o mínimo).\n",
    "         - Essa técnica funciona melhor para estatísticas que são mais \"robustas\" (a _outliers_).\n",
    "    - O boostrap fornece bons resultados apenas se a amostra é \"suficientemente próxima\" da população.\n",
    "        - Se nossa amostra original **não for representativa da população**, as amostras bootstrap também não serão representativas da população."
   ]
  },
  {
   "cell_type": "markdown",
   "metadata": {
    "slideshow": {
     "slide_type": "slide"
    }
   },
   "source": [
    "### Exemplo: Estimando o máximo de uma quantidade populacional\n",
    "\n",
    "- Suponha que, ao invés da mediana, estejamos agora interessados no _máximo_ dos salários de todos os funcionários públicos da cidade de San Diego (nossa população).\n",
    "- Nossa amostra coletada continua a mesma que tínhamos anteriormente, `my_sample`.\n",
    "- Nossa estimativa será igual ao máximo dos salários amostrais (i.e. o maior salário contido na amostra). Esse máximo é uma estatística."
   ]
  },
  {
   "cell_type": "markdown",
   "metadata": {},
   "source": [
    "- Para obter uma distribuição empírica do máximo, fazemos então o seguinte bootstrap:"
   ]
  },
  {
   "cell_type": "code",
   "execution_count": 18,
   "metadata": {
    "execution": {
     "iopub.execute_input": "2025-03-30T15:42:39.466769Z",
     "iopub.status.busy": "2025-03-30T15:42:39.466634Z",
     "iopub.status.idle": "2025-03-30T15:42:39.905864Z",
     "shell.execute_reply": "2025-03-30T15:42:39.905401Z"
    }
   },
   "outputs": [],
   "source": [
    "n_resamples = 5000\n",
    "boot_maxes = np.array([])\n",
    "\n",
    "for i in range(n_resamples):\n",
    "    resample = my_sample.sample(500, replace=True)\n",
    "    boot_max = resample.get('TotalWages').max()\n",
    "    boot_maxes = np.append(boot_maxes, boot_max)"
   ]
  },
  {
   "cell_type": "code",
   "execution_count": 19,
   "metadata": {
    "execution": {
     "iopub.execute_input": "2025-03-30T15:42:39.908614Z",
     "iopub.status.busy": "2025-03-30T15:42:39.908171Z",
     "iopub.status.idle": "2025-03-30T15:42:39.911372Z",
     "shell.execute_reply": "2025-03-30T15:42:39.910990Z"
    }
   },
   "outputs": [
    {
     "data": {
      "text/plain": [
       "array([339416., 347755., 347755., ..., 257627., 339416., 339416.])"
      ]
     },
     "execution_count": 19,
     "metadata": {},
     "output_type": "execute_result"
    }
   ],
   "source": [
    "boot_maxes"
   ]
  },
  {
   "cell_type": "markdown",
   "metadata": {
    "slideshow": {
     "slide_type": "slide"
    }
   },
   "source": [
    "### Visualizando os resultados\n",
    "\n",
    "Como aqui temos acesso à população, podemos encontrar o máximo populacional direto (sem bootstrap), apenas para comparação."
   ]
  },
  {
   "cell_type": "code",
   "execution_count": 20,
   "metadata": {
    "execution": {
     "iopub.execute_input": "2025-03-30T15:42:39.913559Z",
     "iopub.status.busy": "2025-03-30T15:42:39.913160Z",
     "iopub.status.idle": "2025-03-30T15:42:39.916256Z",
     "shell.execute_reply": "2025-03-30T15:42:39.915903Z"
    }
   },
   "outputs": [
    {
     "data": {
      "text/plain": [
       "384909"
      ]
     },
     "execution_count": 20,
     "metadata": {},
     "output_type": "execute_result"
    }
   ],
   "source": [
    "population_max = population.get('TotalWages').max()\n",
    "population_max"
   ]
  },
  {
   "cell_type": "markdown",
   "metadata": {
    "slideshow": {
     "slide_type": "fragment"
    }
   },
   "source": [
    "Então, será que o máximo populacional se encontra na parte com \"mais massa\" da distribuição bootstrap?"
   ]
  },
  {
   "cell_type": "code",
   "execution_count": 21,
   "metadata": {
    "execution": {
     "iopub.execute_input": "2025-03-30T15:42:39.917685Z",
     "iopub.status.busy": "2025-03-30T15:42:39.917569Z",
     "iopub.status.idle": "2025-03-30T15:42:40.054962Z",
     "shell.execute_reply": "2025-03-30T15:42:40.054498Z"
    }
   },
   "outputs": [
    {
     "data": {
      "image/png": "[encoded data removed]",
      "text/plain": [
       "<Figure size 1000x500 with 1 Axes>"
      ]
     },
     "metadata": {},
     "output_type": "display_data"
    }
   ],
   "source": [
    "pd.DataFrame().assign(BootstrapMax=boot_maxes).plot(kind='hist', \n",
    "                                                     density=True, \n",
    "                                                     bins=10,\n",
    "                                                     ec='w',\n",
    "                                                     figsize=(10, 5))\n",
    "plt.scatter(population_max, 0.0000008, color='blue', s=100, label='population max')\n",
    "plt.legend();"
   ]
  },
  {
   "cell_type": "markdown",
   "metadata": {
    "slideshow": {
     "slide_type": "fragment"
    }
   },
   "source": [
    "Na verdade não! A distribuição bootstrap (e os ICs que podemos construir através dela) não captura muito bem o máximo populacional, representado no histograma acima pelo <span style=\"color:blue\"><b>ponto azul</b></span> igual a \\$384,909.\n",
    "\n",
    "> E porque não?! 🤔"
   ]
  },
  {
   "cell_type": "code",
   "execution_count": 22,
   "metadata": {
    "execution": {
     "iopub.execute_input": "2025-03-30T15:42:40.056668Z",
     "iopub.status.busy": "2025-03-30T15:42:40.056515Z",
     "iopub.status.idle": "2025-03-30T15:42:40.060147Z",
     "shell.execute_reply": "2025-03-30T15:42:40.059756Z"
    }
   },
   "outputs": [
    {
     "data": {
      "text/plain": [
       "347755"
      ]
     },
     "execution_count": 22,
     "metadata": {},
     "output_type": "execute_result"
    }
   ],
   "source": [
    "my_sample.get('TotalWages').max()"
   ]
  },
  {
   "cell_type": "markdown",
   "metadata": {
    "slideshow": {
     "slide_type": "fragment"
    }
   },
   "source": [
    "- O maior valor na nossa amostra original é de \\\\$347,755. Logo, o maior valor na nossa amostra bootstrap será no máximo igual a \\\\$347,755."
   ]
  },
  {
   "cell_type": "markdown",
   "metadata": {
    "slideshow": {
     "slide_type": "fragment"
    }
   },
   "source": [
    "- Em geral, o bootstrap funciona melhor para medidas de tendência central ou dispersão (como a média, mediana, desvio padrão, etc.) do que para medidas que são mais sensíveis a outliers, como os extremos (máximo e mínimo)."
   ]
  },
  {
   "cell_type": "markdown",
   "metadata": {
    "slideshow": {
     "slide_type": "slide"
    }
   },
   "source": [
    "## Medidas de tendência central e dispersão"
   ]
  },
  {
   "cell_type": "markdown",
   "metadata": {
    "slideshow": {
     "slide_type": "slide"
    }
   },
   "source": [
    "### Reflexões e questionamentos"
   ]
  },
  {
   "cell_type": "markdown",
   "metadata": {
    "slideshow": {
     "slide_type": "fragment"
    }
   },
   "source": [
    "- Se soubermos a média e o desvio padrão de uma distribuição (mas nada mais que isso), o que podemos dizer sobre a forma dessa distribuição?"
   ]
  },
  {
   "cell_type": "markdown",
   "metadata": {
    "slideshow": {
     "slide_type": "fragment"
    }
   },
   "source": [
    "- O que é a distribuição Normal, e qual a relação dessa distribuição com algumas das outras distribuições que já vimos até agora?"
   ]
  },
  {
   "cell_type": "markdown",
   "metadata": {
    "slideshow": {
     "slide_type": "fragment"
    }
   },
   "source": [
    "- Vamos tentar responder essas perguntas ao longo dessa e das próximas aulas."
   ]
  },
  {
   "cell_type": "markdown",
   "metadata": {
    "slideshow": {
     "slide_type": "fragment"
    }
   },
   "source": [
    "- Começaremos com algumas maneiras de medirmos a tendência central e dispersão de uma distribuição."
   ]
  },
  {
   "cell_type": "markdown",
   "metadata": {
    "slideshow": {
     "slide_type": "slide"
    }
   },
   "source": [
    "### Tendência central"
   ]
  },
  {
   "cell_type": "markdown",
   "metadata": {
    "slideshow": {
     "slide_type": "fragment"
    }
   },
   "source": [
    "- Uma medida de **tendência central** descreve _onde_ (ou seja, ao redor de qual valor) uma distribuição está centralizada.\n",
    "    - A tendência central de uma distribuição é algumas vezes também denominada de _parâmetro de locação_ dessa distribuição.\n",
    "    - A intuição por trás dessa nomenclatura vem do fato de que as distribuições em geral têm padrões de variabilidade _em torno_ das medidas de tendência central, o que é equivalente a dizer que uma distribuição está _localizada_ em torno do seu centro."
   ]
  },
  {
   "cell_type": "markdown",
   "metadata": {
    "slideshow": {
     "slide_type": "fragment"
    }
   },
   "source": [
    "- Até agora, já vimos duas medidas de tendência central: a **média** e a **mediana**."
   ]
  },
  {
   "cell_type": "markdown",
   "metadata": {
    "slideshow": {
     "slide_type": "slide"
    }
   },
   "source": [
    "### Teste rápido ✅\n",
    "\n",
    "Considere os seguintes histogramas, correspondentes a duas distribuições diferentes:\n",
    "\n",
    "<center>\n",
    "    <table><tr>\n",
    "        <td> <center><img src=\"https://raw.githubusercontent.com/flaviovdf/fcd/master/assets/16-Confianca/data/hist.jpg\" width=70%></center>  </td>\n",
    "        <td> <center><img src=\"https://raw.githubusercontent.com/flaviovdf/fcd/master/assets/16-Confianca/data/hist2.jpg\" width=70%></center> </td>\n",
    "    </tr></table>\n",
    "</center>\n",
    "\n",
    "As médias dessas distribuições são iguais ou diferentes? E suas medianas?\n",
    "\n",
    "- A. Ambas são iguais.\n",
    "- B. As médias são diferentes, mas as medianas são iguais.\n",
    "- C. As médias são iguais, mas as medianas são diferentes.\n",
    "- D. Ambas são diferentes."
   ]
  },
  {
   "cell_type": "markdown",
   "metadata": {
    "slideshow": {
     "slide_type": "slide"
    }
   },
   "source": [
    "### Exemplo: Atrasos de vôos ✈️"
   ]
  },
  {
   "cell_type": "code",
   "execution_count": 23,
   "metadata": {
    "execution": {
     "iopub.execute_input": "2025-03-30T15:42:40.062319Z",
     "iopub.status.busy": "2025-03-30T15:42:40.062065Z",
     "iopub.status.idle": "2025-03-30T15:42:40.612738Z",
     "shell.execute_reply": "2025-03-30T15:42:40.612276Z"
    }
   },
   "outputs": [
    {
     "data": {
      "image/png": "[encoded data removed]",
      "text/plain": [
       "<Figure size 1000x500 with 1 Axes>"
      ]
     },
     "metadata": {},
     "output_type": "display_data"
    }
   ],
   "source": [
    "delays = pd.read_csv('https://raw.githubusercontent.com/flaviovdf/fcd/master/assets/16-Confianca/data/united_summer2015.csv')\n",
    "delays.plot(kind='hist', y='Delay', bins=np.arange(-20.5, 210, 5), density=True, ec='w', figsize=(10, 5))\n",
    "plt.title('Atrasos de Vôos')\n",
    "plt.xlabel('Atrasos (em minutos)')\n",
    "plt.ylabel(\"Frequência\");"
   ]
  },
  {
   "cell_type": "markdown",
   "metadata": {},
   "source": [
    "**Pergunta**: Qual é maior nesta distribuição – a média ou a mediana?"
   ]
  },
  {
   "cell_type": "code",
   "execution_count": 24,
   "metadata": {
    "execution": {
     "iopub.execute_input": "2025-03-30T15:42:40.614630Z",
     "iopub.status.busy": "2025-03-30T15:42:40.614492Z",
     "iopub.status.idle": "2025-03-30T15:42:40.617350Z",
     "shell.execute_reply": "2025-03-30T15:42:40.617030Z"
    },
    "slideshow": {
     "slide_type": "slide"
    }
   },
   "outputs": [
    {
     "data": {
      "text/plain": [
       "16.658155515370705"
      ]
     },
     "execution_count": 24,
     "metadata": {},
     "output_type": "execute_result"
    }
   ],
   "source": [
    "delays.get('Delay').mean()"
   ]
  },
  {
   "cell_type": "code",
   "execution_count": 25,
   "metadata": {
    "execution": {
     "iopub.execute_input": "2025-03-30T15:42:40.618801Z",
     "iopub.status.busy": "2025-03-30T15:42:40.618683Z",
     "iopub.status.idle": "2025-03-30T15:42:40.621729Z",
     "shell.execute_reply": "2025-03-30T15:42:40.621425Z"
    }
   },
   "outputs": [
    {
     "data": {
      "text/plain": [
       "2.0"
      ]
     },
     "execution_count": 25,
     "metadata": {},
     "output_type": "execute_result"
    }
   ],
   "source": [
    "delays.get('Delay').median()"
   ]
  },
  {
   "cell_type": "code",
   "execution_count": 26,
   "metadata": {
    "execution": {
     "iopub.execute_input": "2025-03-30T15:42:40.623185Z",
     "iopub.status.busy": "2025-03-30T15:42:40.622998Z",
     "iopub.status.idle": "2025-03-30T15:42:40.790618Z",
     "shell.execute_reply": "2025-03-30T15:42:40.790067Z"
    },
    "slideshow": {
     "slide_type": "slide"
    }
   },
   "outputs": [
    {
     "data": {
      "image/png": "[encoded data removed]",
      "text/plain": [
       "<Figure size 1000x500 with 1 Axes>"
      ]
     },
     "metadata": {},
     "output_type": "display_data"
    }
   ],
   "source": [
    "delays.plot(kind='hist', y='Delay', bins=np.arange(-20.5, 210, 5), density=True, ec='w', alpha=0.65, figsize=(10, 5))\n",
    "plt.plot([delays.get('Delay').mean(), delays.get('Delay').mean()], [0, 1], color='green', label='Mean', linewidth=2)\n",
    "plt.scatter([delays.get('Delay').mean()], [-0.0017], color='green', marker='^', s=250)\n",
    "plt.plot([delays.get('Delay').median(), delays.get('Delay').median()], [0, 1], color='purple', label='Median', linewidth=2)\n",
    "plt.title('Atrasos de Vôos')\n",
    "plt.xlabel('Atrasos (em minutos)')\n",
    "plt.ylim(-0.005, 0.065)\n",
    "plt.legend()\n",
    "plt.ylabel(\"Frequência\");"
   ]
  },
  {
   "cell_type": "markdown",
   "metadata": {
    "slideshow": {
     "slide_type": "slide"
    }
   },
   "source": [
    "## Média"
   ]
  },
  {
   "cell_type": "markdown",
   "metadata": {
    "slideshow": {
     "slide_type": "fragment"
    }
   },
   "source": [
    "- **Definição**: Soma de todos os elementos da amostra, divido pelo tamanho amostral $n$.\n",
    "    - É comum denotarmos a média _populacional_ por $\\mu$ e a média _amostral_ por $\\bar{X}$.\n",
    "    - Denotando nosso conjunto de observações por $\\mathbf{X} := (X_1, \\ldots, X_n)$, definimos então $\\bar{X} := \\sum^n_{i=1} X_i$.  "
   ]
  },
  {
   "cell_type": "markdown",
   "metadata": {},
   "source": [
    "- Visualmente, a média amostral pode ser pensada como o \"ponto de equilíbrio\" do histograma acima.\n",
    "    - A soma das diferenças entre cada ponto e a média é sempre igual a 0.\n",
    "    - Uma analogia é pensar na média amostral como o ponto de apoio de uma gangorra."
   ]
  },
  {
   "cell_type": "markdown",
   "metadata": {},
   "source": [
    "## Mediana"
   ]
  },
  {
   "cell_type": "markdown",
   "metadata": {
    "slideshow": {
     "slide_type": "fragment"
    }
   },
   "source": [
    "- **Definição**: Ponto que divide a amostra ao meio.\n",
    "    - Metade da área do histograma está à direita da mediana, e a outra metade à esquerda.\n",
    "    - Usualmente denotamos a mediana populacional por $m(\\mathbf{X})$, e a mediana amostral por $\\hat{m}(\\mathbf{X})$."
   ]
  },
  {
   "cell_type": "markdown",
   "metadata": {},
   "source": [
    "- A mediana é o percentil 50 de uma distribuição de probabilidades."
   ]
  },
  {
   "cell_type": "markdown",
   "metadata": {
    "slideshow": {
     "slide_type": "fragment"
    }
   },
   "source": [
    "- Se uma distribuição é **simétrica** em torno de um valor, então esse valor coincide com ambas média e mediana."
   ]
  },
  {
   "cell_type": "markdown",
   "metadata": {
    "slideshow": {
     "slide_type": "fragment"
    }
   },
   "source": [
    "- Se uma distribuição é **assimétrica** (_à direita_ ou _à esquerda_), então a média será diferente da mediana (respectivamente, à direita ou à esquerda, de acordo com a direção da assimetria)."
   ]
  },
  {
   "cell_type": "markdown",
   "metadata": {
    "slideshow": {
     "slide_type": "fragment"
    }
   },
   "source": [
    "- **Propriedade importante**: A mediana é mais **robusta** (menos **sensível**) a **_outliers_/valores extremos**."
   ]
  },
  {
   "cell_type": "markdown",
   "metadata": {
    "slideshow": {
     "slide_type": "slide"
    }
   },
   "source": [
    "## Desvio Padrão"
   ]
  },
  {
   "cell_type": "markdown",
   "metadata": {
    "slideshow": {
     "slide_type": "slide"
    }
   },
   "source": [
    "### Como caracterizar a \"largura\" de uma distribuição? "
   ]
  },
  {
   "cell_type": "markdown",
   "metadata": {
    "slideshow": {
     "slide_type": "fragment"
    }
   },
   "source": [
    "- Uma ideia natural seria tomarmos o maior valor e subtrair pelo menor valor encontrado na distribuição.\n",
    "    - Essa medida é conhecida como a **amplitude** (_range_, em inglês) da distribuição.\n",
    "    - Apesar de intuitiva, a amplitude não nos diz muito sobre a _forma_ da distribuição.\n",
    "        - Além disso, a amplitude (populacional) de muitas distribuições que utilizaremos na prática é infinita, ou não é bem definida (por exemplo se nossa variável aleatória toma valores no conjunto dos números reais)."
   ]
  },
  {
   "cell_type": "markdown",
   "metadata": {
    "slideshow": {
     "slide_type": "fragment"
    }
   },
   "source": [
    "- Uma outra possibilidade seria utilizarmos o _desvio padrão_ da distribuição.\n",
    "    - O desvio padrão é uma medida do quanto, _em média_, as observações _estão distantes da média_."
   ]
  },
  {
   "cell_type": "markdown",
   "metadata": {
    "slideshow": {
     "slide_type": "slide"
    }
   },
   "source": [
    "### Desvios em torno da média"
   ]
  },
  {
   "cell_type": "markdown",
   "metadata": {},
   "source": [
    "- Para medir o quão distante cada observação está da média, simplesmente tomamos a diferença entre aquela observação e a média.\n",
    "    -   Essa quantidade é conhecida como _desvio em torno da média_.\n",
    "    -   Formalmente, se $X_i$ é a $i$-ésima observação da nossa amostra $\\mathbf{X}$, definimos o _desvio de $X_i$ em torno da média amostral $\\bar{X}$_ por $X_i - \\bar{X}$, para $i = 1, \\ldots, n$."
   ]
  },
  {
   "cell_type": "markdown",
   "metadata": {},
   "source": [
    "Considere então o seguinte exemplo:"
   ]
  },
  {
   "cell_type": "code",
   "execution_count": 27,
   "metadata": {
    "execution": {
     "iopub.execute_input": "2025-03-30T15:42:40.792513Z",
     "iopub.status.busy": "2025-03-30T15:42:40.792387Z",
     "iopub.status.idle": "2025-03-30T15:42:40.795204Z",
     "shell.execute_reply": "2025-03-30T15:42:40.794892Z"
    }
   },
   "outputs": [
    {
     "data": {
      "text/plain": [
       "4.25"
      ]
     },
     "execution_count": 27,
     "metadata": {},
     "output_type": "execute_result"
    }
   ],
   "source": [
    "data = np.array([2, 3, 3, 9])\n",
    "np.mean(data)"
   ]
  },
  {
   "cell_type": "code",
   "execution_count": 28,
   "metadata": {
    "execution": {
     "iopub.execute_input": "2025-03-30T15:42:40.796656Z",
     "iopub.status.busy": "2025-03-30T15:42:40.796541Z",
     "iopub.status.idle": "2025-03-30T15:42:40.799046Z",
     "shell.execute_reply": "2025-03-30T15:42:40.798775Z"
    },
    "slideshow": {
     "slide_type": "-"
    }
   },
   "outputs": [
    {
     "data": {
      "text/plain": [
       "array([-2.25, -1.25, -1.25,  4.75])"
      ]
     },
     "execution_count": 28,
     "metadata": {},
     "output_type": "execute_result"
    }
   ],
   "source": [
    "deviations = data - np.mean(data)\n",
    "deviations"
   ]
  },
  {
   "cell_type": "markdown",
   "metadata": {
    "slideshow": {
     "slide_type": "fragment"
    }
   },
   "source": [
    "Cada entrada em `deviations` mede o desvio do elemento correspondente em `data` em torno da média (4.25)."
   ]
  },
  {
   "cell_type": "markdown",
   "metadata": {},
   "source": [
    "E qual é o desvio médio, nesse caso?"
   ]
  },
  {
   "cell_type": "code",
   "execution_count": 29,
   "metadata": {
    "execution": {
     "iopub.execute_input": "2025-03-30T15:42:40.800497Z",
     "iopub.status.busy": "2025-03-30T15:42:40.800383Z",
     "iopub.status.idle": "2025-03-30T15:42:40.802750Z",
     "shell.execute_reply": "2025-03-30T15:42:40.802468Z"
    }
   },
   "outputs": [
    {
     "data": {
      "text/plain": [
       "0.0"
      ]
     },
     "execution_count": 29,
     "metadata": {},
     "output_type": "execute_result"
    }
   ],
   "source": [
    "np.mean(deviations)"
   ]
  },
  {
   "cell_type": "markdown",
   "metadata": {
    "slideshow": {
     "slide_type": "fragment"
    }
   },
   "source": [
    "- **Fato**: a média dos desvios em torno da média é _sempre igual a 0_, independente da distribuição ser amostral ou populacional.\n",
    "    - Uma consequência disso é que o desvio médio em torno da média acaba não sendo então uma medida útil da dispersão de uma distribuição."
   ]
  },
  {
   "cell_type": "markdown",
   "metadata": {
    "slideshow": {
     "slide_type": "slide"
    }
   },
   "source": [
    "### Desvios em torno da média, **ao quadrado**"
   ]
  },
  {
   "cell_type": "markdown",
   "metadata": {},
   "source": [
    "Vamos agora tomar o quadrado dos desvios em torno da média:"
   ]
  },
  {
   "cell_type": "code",
   "execution_count": 30,
   "metadata": {
    "execution": {
     "iopub.execute_input": "2025-03-30T15:42:40.804112Z",
     "iopub.status.busy": "2025-03-30T15:42:40.804000Z",
     "iopub.status.idle": "2025-03-30T15:42:40.806327Z",
     "shell.execute_reply": "2025-03-30T15:42:40.806082Z"
    },
    "scrolled": true,
    "slideshow": {
     "slide_type": "-"
    }
   },
   "outputs": [
    {
     "data": {
      "text/plain": [
       "array([ 5.06,  1.56,  1.56, 22.56])"
      ]
     },
     "execution_count": 30,
     "metadata": {},
     "output_type": "execute_result"
    }
   ],
   "source": [
    "# Square all the deviations:\n",
    "deviations ** 2"
   ]
  },
  {
   "cell_type": "markdown",
   "metadata": {},
   "source": [
    "e então tomar a média dos desvios ao quadrado:"
   ]
  },
  {
   "cell_type": "code",
   "execution_count": 31,
   "metadata": {
    "execution": {
     "iopub.execute_input": "2025-03-30T15:42:40.807698Z",
     "iopub.status.busy": "2025-03-30T15:42:40.807573Z",
     "iopub.status.idle": "2025-03-30T15:42:40.810175Z",
     "shell.execute_reply": "2025-03-30T15:42:40.809823Z"
    }
   },
   "outputs": [
    {
     "data": {
      "text/plain": [
       "7.6875"
      ]
     },
     "execution_count": 31,
     "metadata": {},
     "output_type": "execute_result"
    }
   ],
   "source": [
    "variance = np.mean(deviations ** 2)\n",
    "variance"
   ]
  },
  {
   "cell_type": "markdown",
   "metadata": {
    "slideshow": {
     "slide_type": "fragment"
    }
   },
   "source": [
    "A quantidade calculada acima, isto é, a _média dos desvios quadrados em torno da média_, é conhecido como **variância**."
   ]
  },
  {
   "cell_type": "markdown",
   "metadata": {
    "slideshow": {
     "slide_type": "slide"
    }
   },
   "source": [
    "### Raiz quadrada da soma dos quadrados?\n",
    "\n",
    "- Apesar da variância ser uma medida muito útil de dispersão, em geral ela possui um problema de interpretação: a _unidade_ na qual a variância é expressa não é igual à de cada $X_i$, mas sim de $X_i^2$!   \n",
    "- Por exemplo, se nossos dados estão em $\\text{USD}$ ou $\\text{BRL}$ (dólares ou reais), a variância estará expressa em $\\text{USD}^2$ ou $\\text{BRL}^2$.\n",
    "- Para contornar esse problema de interpretabilidade, tomamos então a _raiz quadrada_ da variância, e o resultado é conhecido como **desvio padrão**."
   ]
  },
  {
   "cell_type": "code",
   "execution_count": 32,
   "metadata": {
    "execution": {
     "iopub.execute_input": "2025-03-30T15:42:40.811454Z",
     "iopub.status.busy": "2025-03-30T15:42:40.811344Z",
     "iopub.status.idle": "2025-03-30T15:42:40.813603Z",
     "shell.execute_reply": "2025-03-30T15:42:40.813327Z"
    },
    "scrolled": true
   },
   "outputs": [
    {
     "data": {
      "text/plain": [
       "2.7726341266023544"
      ]
     },
     "execution_count": 32,
     "metadata": {},
     "output_type": "execute_result"
    }
   ],
   "source": [
    "# Standard deviation (SD) is the square root of the variance.\n",
    "sd = variance ** 0.5\n",
    "sd"
   ]
  },
  {
   "cell_type": "markdown",
   "metadata": {
    "slideshow": {
     "slide_type": "slide"
    }
   },
   "source": [
    "### Desvio padrão"
   ]
  },
  {
   "cell_type": "markdown",
   "metadata": {},
   "source": [
    "- **Definição**: Raiz da média dos desvios (em torno da média) ao quadrado.\n",
    "    - Usualmente denotamos a variância populacional por $\\sigma^2$, o desvio padrão (DP) populacional por $\\sigma$, e os análogos amostrais por $S$ e $S^2$, respectivamente.\n",
    "\n",
    "Formalmente,\n",
    "\n",
    "$$\\begin{align*}\n",
    "    S^2 &:= \\frac{\\sum^n_{i=1} (X_i - \\bar{X})^2}{n}, & S &= \\sqrt{S^2} = \\sqrt{\\frac{\\sum^n_{i=1} (X_i - \\bar{X})^2}{n}}.\n",
    "\\end{align*}$$"
   ]
  },
  {
   "cell_type": "markdown",
   "metadata": {
    "slideshow": {
     "slide_type": "fragment"
    }
   },
   "source": [
    "- O DP (que também é representado pela sigla em inglês, SD, de _standard deviation_) mede o _quão distantes_ os valores em uma distribuição estão de sua média.\n",
    "    - Equivalentemente, o DP mede o quão _dispersos_ são os valores de uma distribuição (em torno de sua média).  \n",
    "    - Dessa forma, quanto maior o DP, mais dispersos serão os dados."
   ]
  },
  {
   "cell_type": "markdown",
   "metadata": {
    "slideshow": {
     "slide_type": "fragment"
    }
   },
   "source": [
    "- Lembre que, crucialmente, o desvio padrão é expresso nas mesmas unidades de $\\mathbf{X}$."
   ]
  },
  {
   "cell_type": "markdown",
   "metadata": {
    "slideshow": {
     "slide_type": "fragment"
    }
   },
   "source": [
    "- A biblioteca `numpy` tem uma função, `np.std`, que calcula o desvio padrão de um conjunto de dados."
   ]
  },
  {
   "cell_type": "code",
   "execution_count": 33,
   "metadata": {
    "execution": {
     "iopub.execute_input": "2025-03-30T15:42:40.814846Z",
     "iopub.status.busy": "2025-03-30T15:42:40.814742Z",
     "iopub.status.idle": "2025-03-30T15:42:40.817155Z",
     "shell.execute_reply": "2025-03-30T15:42:40.816877Z"
    }
   },
   "outputs": [
    {
     "data": {
      "text/plain": [
       "2.7726341266023544"
      ]
     },
     "execution_count": 33,
     "metadata": {},
     "output_type": "execute_result"
    }
   ],
   "source": [
    "# Note that this evaluates to the same number we found on the previous cell.\n",
    "np.std(data)"
   ]
  },
  {
   "cell_type": "markdown",
   "metadata": {
    "slideshow": {
     "slide_type": "slide"
    }
   },
   "source": [
    "### E como podemos utilizar o desvio padrão na prática?\n",
    "\n",
    "Na prática, a grande maioria dos valores de uma distribuição estão \"a alguns DPs da média\", isto é, no intervalo $\\bar{X} \\pm k \\cdot \\sigma$, onde $k \\in \\mathbb{N}$."
   ]
  },
  {
   "cell_type": "markdown",
   "metadata": {
    "slideshow": {
     "slide_type": "fragment"
    }
   },
   "source": [
    "Vamos agora formalizar um pouco essa intuição."
   ]
  },
  {
   "cell_type": "markdown",
   "metadata": {
    "slideshow": {
     "slide_type": "slide"
    }
   },
   "source": [
    "### Desigualdade de Chebyshev\n",
    "\n",
    "**Fato**: Para **\"qualquer\"** distribuição de probabilidade, a probabilidade dos valores estarem entre \"média ± $k$ DPs\" (ou a $k$ DPs da média) é sempre maior ou igual a\n",
    "\n",
    "$$1 - \\frac{1}{k^2}\n",
    "$$"
   ]
  },
  {
   "cell_type": "markdown",
   "metadata": {},
   "source": [
    "Esse fato decorre da **Desigualdade de Chebyshev**, uma ferramenta bem importante no estudo de Probabilidade."
   ]
  },
  {
   "cell_type": "markdown",
   "metadata": {},
   "source": [
    "A tabela a seguir contém as probabilidades correspondentes para alguns valores de $k$:"
   ]
  },
  {
   "cell_type": "markdown",
   "metadata": {
    "slideshow": {
     "slide_type": "fragment"
    }
   },
   "source": [
    "| $k$ | Intervalo | Probabilidade |\n",
    "| ----- | ----- | ----- |\n",
    "|$k = 1$| $\\bar{X} \\pm 1 \\cdot \\sigma$| $\\geq 1 - \\frac{1}{1} =  0%$|\n",
    "|$k = 2$| $\\bar{X} \\pm 2 \\cdot \\sigma$| $\\geq 1 - \\frac{1}{4} = 75%$|\n",
    "|$k = 3$| $\\bar{X} \\pm 3 \\cdot \\sigma$| $\\geq 1 - \\frac{1}{9} \\simeq 88.88%$|\n",
    "|$k = 4$| $\\bar{X} \\pm 4 \\cdot \\sigma$| $\\geq 1 - \\frac{1}{16} = 93.75%$|\n",
    "|$k = 5$| $\\bar{X} \\pm 5 \\cdot \\sigma$| $\\geq 1 - \\frac{1}{25} = 96%$|"
   ]
  },
  {
   "cell_type": "markdown",
   "metadata": {
    "slideshow": {
     "slide_type": "slide"
    }
   },
   "source": [
    "### Atrasos de vôos (mais uma vez)"
   ]
  },
  {
   "cell_type": "code",
   "execution_count": 34,
   "metadata": {
    "execution": {
     "iopub.execute_input": "2025-03-30T15:42:40.818501Z",
     "iopub.status.busy": "2025-03-30T15:42:40.818391Z",
     "iopub.status.idle": "2025-03-30T15:42:40.945414Z",
     "shell.execute_reply": "2025-03-30T15:42:40.944862Z"
    }
   },
   "outputs": [
    {
     "data": {
      "image/png": "[encoded data removed]",
      "text/plain": [
       "<Figure size 1000x500 with 1 Axes>"
      ]
     },
     "metadata": {},
     "output_type": "display_data"
    }
   ],
   "source": [
    "delays.plot(kind='hist', y='Delay', bins=np.arange(-20.5, 210, 5), density=True, ec='w', figsize=(10, 5), title='Atrasos de Vôos')\n",
    "plt.xlabel('Atraso (em minutos)')\n",
    "plt.ylabel(\"Frequência\");"
   ]
  },
  {
   "cell_type": "code",
   "execution_count": 35,
   "metadata": {
    "execution": {
     "iopub.execute_input": "2025-03-30T15:42:40.947022Z",
     "iopub.status.busy": "2025-03-30T15:42:40.946886Z",
     "iopub.status.idle": "2025-03-30T15:42:40.949739Z",
     "shell.execute_reply": "2025-03-30T15:42:40.949439Z"
    }
   },
   "outputs": [
    {
     "data": {
      "text/plain": [
       "16.658155515370705"
      ]
     },
     "execution_count": 35,
     "metadata": {},
     "output_type": "execute_result"
    }
   ],
   "source": [
    "delay_mean = delays.get('Delay').mean()\n",
    "delay_mean"
   ]
  },
  {
   "cell_type": "code",
   "execution_count": 36,
   "metadata": {
    "execution": {
     "iopub.execute_input": "2025-03-30T15:42:40.951055Z",
     "iopub.status.busy": "2025-03-30T15:42:40.950944Z",
     "iopub.status.idle": "2025-03-30T15:42:40.953646Z",
     "shell.execute_reply": "2025-03-30T15:42:40.953365Z"
    }
   },
   "outputs": [
    {
     "data": {
      "text/plain": [
       "39.480199851609314"
      ]
     },
     "execution_count": 36,
     "metadata": {},
     "output_type": "execute_result"
    }
   ],
   "source": [
    "delay_std = np.std(delays.get('Delay')) # There is no .std() method in babypandas!\n",
    "delay_std"
   ]
  },
  {
   "cell_type": "markdown",
   "metadata": {
    "slideshow": {
     "slide_type": "slide"
    }
   },
   "source": [
    "### Média e desvio padrão\n",
    "\n",
    "A Desigualdade de Chebyshev nos diz que"
   ]
  },
  {
   "cell_type": "markdown",
   "metadata": {
    "slideshow": {
     "slide_type": "fragment"
    }
   },
   "source": [
    "- **Pelo menos** 75% dos atrasos de vôos estão no seguinte intervalo:"
   ]
  },
  {
   "cell_type": "code",
   "execution_count": 37,
   "metadata": {
    "execution": {
     "iopub.execute_input": "2025-03-30T15:42:40.955148Z",
     "iopub.status.busy": "2025-03-30T15:42:40.954858Z",
     "iopub.status.idle": "2025-03-30T15:42:40.957185Z",
     "shell.execute_reply": "2025-03-30T15:42:40.956909Z"
    }
   },
   "outputs": [
    {
     "data": {
      "text/plain": [
       "(-62.30224418784792, 95.61855521858934)"
      ]
     },
     "execution_count": 37,
     "metadata": {},
     "output_type": "execute_result"
    }
   ],
   "source": [
    "delay_mean - 2 * delay_std, delay_mean + 2 * delay_std"
   ]
  },
  {
   "cell_type": "markdown",
   "metadata": {
    "slideshow": {
     "slide_type": "fragment"
    }
   },
   "source": [
    "- **Pelo menos** 88.88% dos atrasos estão no seguinte intervalo:"
   ]
  },
  {
   "cell_type": "code",
   "execution_count": 38,
   "metadata": {
    "execution": {
     "iopub.execute_input": "2025-03-30T15:42:40.958636Z",
     "iopub.status.busy": "2025-03-30T15:42:40.958360Z",
     "iopub.status.idle": "2025-03-30T15:42:40.960827Z",
     "shell.execute_reply": "2025-03-30T15:42:40.960542Z"
    }
   },
   "outputs": [
    {
     "data": {
      "text/plain": [
       "(-101.78244403945723, 135.09875507019865)"
      ]
     },
     "execution_count": 38,
     "metadata": {},
     "output_type": "execute_result"
    }
   ],
   "source": [
    "delay_mean - 3 * delay_std, delay_mean + 3 * delay_std"
   ]
  },
  {
   "cell_type": "markdown",
   "metadata": {
    "slideshow": {
     "slide_type": "fragment"
    }
   },
   "source": [
    "Vamos visualizar esses intervalos:"
   ]
  },
  {
   "cell_type": "code",
   "execution_count": 39,
   "metadata": {
    "execution": {
     "iopub.execute_input": "2025-03-30T15:42:40.962200Z",
     "iopub.status.busy": "2025-03-30T15:42:40.962085Z",
     "iopub.status.idle": "2025-03-30T15:42:41.130963Z",
     "shell.execute_reply": "2025-03-30T15:42:41.130510Z"
    },
    "slideshow": {
     "slide_type": "-"
    }
   },
   "outputs": [
    {
     "data": {
      "image/png": "[encoded data removed]",
      "text/plain": [
       "<Figure size 1000x500 with 1 Axes>"
      ]
     },
     "metadata": {},
     "output_type": "display_data"
    }
   ],
   "source": [
    "delays.plot(kind='hist', y='Delay', bins=np.arange(-20.5, 210, 5), density=True, alpha=0.65, ec='w', figsize=(10, 5), title='Atrasos de Vôos')\n",
    "plt.axvline(delay_mean - 2 * delay_std, color='maroon', label='± 2 SD')\n",
    "plt.axvline(delay_mean + 2 * delay_std, color='maroon')\n",
    "\n",
    "plt.axvline(delay_mean + 3 * delay_std, color='blue',  label='± 3 SD')\n",
    "plt.axvline(delay_mean - 3 * delay_std, color='blue')\n",
    "\n",
    "plt.axvline(delay_mean, color='green', label='Mean')\n",
    "plt.scatter([delay_mean], [-0.0017], color='green', marker='^', s=250)\n",
    "plt.ylim(-0.0038, 0.06)\n",
    "plt.legend()\n",
    "plt.ylabel(\"Frequência\");"
   ]
  },
  {
   "cell_type": "markdown",
   "metadata": {
    "slideshow": {
     "slide_type": "slide"
    }
   },
   "source": [
    "### A Desigualdade de Chebyshev nos fornece apenas _limites inferiores_!\n",
    "\n",
    "Lembre que a Desigualdade de Chebyshev nos diz que, **pelo menos** $1 - \\frac{1}{k^2}$ dos valores de uma distribuição estão a até $k$ DPs da média.\n",
    "\n",
    "No caso dos atrasos de vôos, a Desigualdade de Chebyshev nos diz então que **pelo menos** 75% dos atrasos estão dentro do seguinte intervalo:"
   ]
  },
  {
   "cell_type": "code",
   "execution_count": 40,
   "metadata": {
    "execution": {
     "iopub.execute_input": "2025-03-30T15:42:41.132558Z",
     "iopub.status.busy": "2025-03-30T15:42:41.132439Z",
     "iopub.status.idle": "2025-03-30T15:42:41.135125Z",
     "shell.execute_reply": "2025-03-30T15:42:41.134825Z"
    }
   },
   "outputs": [
    {
     "data": {
      "text/plain": [
       "(-62.30224418784792, 95.61855521858934)"
      ]
     },
     "execution_count": 40,
     "metadata": {},
     "output_type": "execute_result"
    }
   ],
   "source": [
    "delay_mean - 2 * delay_std, delay_mean + 2 * delay_std"
   ]
  },
  {
   "cell_type": "markdown",
   "metadata": {
    "slideshow": {
     "slide_type": "fragment"
    }
   },
   "source": [
    "Na verdade, porém, a proporção de atrasos de vôos contida nesse intervalo é muito maior:"
   ]
  },
  {
   "cell_type": "code",
   "execution_count": 41,
   "metadata": {
    "execution": {
     "iopub.execute_input": "2025-03-30T15:42:41.136503Z",
     "iopub.status.busy": "2025-03-30T15:42:41.136394Z",
     "iopub.status.idle": "2025-03-30T15:42:41.139997Z",
     "shell.execute_reply": "2025-03-30T15:42:41.139716Z"
    }
   },
   "outputs": [
    {
     "data": {
      "text/plain": [
       "0.9560940325497288"
      ]
     },
     "execution_count": 41,
     "metadata": {},
     "output_type": "execute_result"
    }
   ],
   "source": [
    "within_2_sds = delays[(delays.get('Delay') >= delay_mean - 2 * delay_std) & \n",
    "                      (delays.get('Delay') <= delay_mean + 2 * delay_std)]\n",
    "\n",
    "within_2_sds.shape[0] / delays.shape[0]"
   ]
  },
  {
   "cell_type": "markdown",
   "metadata": {
    "slideshow": {
     "slide_type": "fragment"
    }
   },
   "source": [
    "Quando sabemos mais sobre o comportamento (ou a forma) de uma distribuição, podemos fazer afirmativas mais precisas que a Desigualdade de Chebyshev em termos da probabilidade dos valores que estão a $k$ DPs da média."
   ]
  },
  {
   "cell_type": "markdown",
   "metadata": {
    "slideshow": {
     "slide_type": "slide"
    }
   },
   "source": [
    "### Desafio\n",
    "\n",
    "Considere que, para um certo conjunto de dados, a Desigualdade de Chebyshev nos permita dizer que pelo menos $\\frac{8}{9}$ das observações estão contidas no intervalo entre $-20$ e $40$. Qual é o desvio padrão desse conjunto de dados?"
   ]
  },
  {
   "cell_type": "markdown",
   "metadata": {
    "slideshow": {
     "slide_type": ""
    }
   },
   "source": [
    "\n",
    "<details><summary>✅ Clique aqui para ver a resposta <b>depois</b> de tentar por conta própria.</summary>\n",
    "\n",
    "- A Desigualdade de Chebyshev nos diz que pelo menos $1 - \\frac{1}{k^2}$ dos valores estão a $k$ desvios padrão da média.\n",
    "- Encontramos primeiro o valor de $k$, resolvendo a equação $1 - \\frac{1}{k^2} = \\frac{8}{9}$, resultando em $k = 3$.\n",
    "- Dessa forma, o valor de $-20$ está a $3$ DPs abaixo da média, e o valor de $40$ está a $3$ DPs acima da média.\n",
    "- O ponto médio entre $-20$ e $40$ é igual a $10$, então a média é igual a $\\bar{X} = 10$.\n",
    "- Como $k = 3$ DPs estão entre $10$ and $40$ (ou entre $-20$ e $10$), então $1$ DP é igual a $\\sigma = \\frac{30}{3} = 10$.\n",
    "</details>"
   ]
  },
  {
   "cell_type": "markdown",
   "metadata": {
    "slideshow": {
     "slide_type": "slide"
    }
   },
   "source": [
    "## Resumo e próxima aula"
   ]
  },
  {
   "cell_type": "markdown",
   "metadata": {
    "slideshow": {
     "slide_type": "slide"
    }
   },
   "source": [
    "### Resumo: Bootstrap e intervalos de confiança\n",
    "\n",
    "- O boostrap nos fornece uma maneira de construir uma distribuição empírica de uma estatística com base em uma única amostra. Com a distribuição bootstrap, podemos criar intervalos de $\\gamma\\%$ de confiança tomando como limite inferior e superior percentis que contenham $\\gamma\\%$ da distribuição bootstrap.\n",
    "- Um IC construído dessa maneira nos permite quantificar a incerteza sobre a nossa estimativa do parâmetro populacional.\n",
    "    - Dessa forma, ao invés de reportar apenas uma estimativa pontual para o parâmetro de interesse, podemos reportar um conjunto de estimativas.\n",
    "- **Intervalos de confiança precisam ser interpretados com cuidado.** A \"confiança\" reside no processo que gera os intervalos, e não em um IC em particular.\n",
    "- O bootstrap funciona bem para estatísticas que não são tão sensíveis à pequenas variações na amostra (tais como a média e a mediana, mas não para máximos e mínimos)."
   ]
  },
  {
   "cell_type": "markdown",
   "metadata": {
    "slideshow": {
     "slide_type": "slide"
    }
   },
   "source": [
    "### Resumo: Tendência central, dispersão e a Desigualdade de Chebyshev\n",
    "\n",
    "- A média e a mediana são medidas de tendência central.\n",
    "- A variância e o desvio padrão (DP) são medidas de dispersão.\n",
    "    - O DP é igual a raiz quadrada da variância.\n",
    "    - Em linhas gerais, o desvio padrão mede, em média, o quão distantes da média os valores de uma distribuição estão.\n",
    "- A Desigualdade de Chebyshev diz que, em qualquer distribuição, a probabilidade dos valores que estão a $k$ DPs da média é pelo menos igual a $1 - \\frac{1}{k^2}$.\n",
    "    - Dependendo da distribuição, a verdadeira probabilidade dos valores que estão a $k$ DPs da média pode ser _maior_ que $1 - \\frac{1}{k^2}$, mas nunca _menor_."
   ]
  },
  {
   "cell_type": "markdown",
   "metadata": {
    "slideshow": {
     "slide_type": "slide"
    }
   },
   "source": [
    "### Próxima aula\n",
    "\n",
    "O que é a distribuição \"Normal\", e qual é a relação dessa distribuição com algumas das distribuições que já vimos até agora?"
   ]
  }
 ],
 "metadata": {
  "celltoolbar": "Slideshow",
  "kernelspec": {
   "display_name": "Python 3 (ipykernel)",
   "language": "python",
   "name": "python3"
  },
  "language_info": {
   "codemirror_mode": {
    "name": "ipython",
    "version": 3
   },
   "file_extension": ".py",
   "mimetype": "text/x-python",
   "name": "python",
   "nbconvert_exporter": "python",
   "pygments_lexer": "ipython3",
   "version": "3.12.7"
  },
  "livereveal": {
   "scroll": true,
   "transition": "none"
  },
  "rise": {
   "enable_chalkboard": true
  }
 },
 "nbformat": 4,
 "nbformat_minor": 4
}
