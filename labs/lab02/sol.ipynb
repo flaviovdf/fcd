{
  "cells": [
    {
      "cell_type": "markdown",
      "metadata": {
        "id": "view-in-github",
        "colab_type": "text"
      },
      "source": [
        "<a href=\"https://colab.research.google.com/github/flaviovdf/fcd/blob/main/labs/lab02/sol.ipynb\" target=\"_parent\"><img src=\"https://colab.research.google.com/assets/colab-badge.svg\" alt=\"Open In Colab\"/></a>"
      ]
    },
    {
      "cell_type": "markdown",
      "metadata": {
        "id": "L5Mc_-g6apUI"
      },
      "source": [
        "# Laboratório 2: Visualizações de Dados e Funções Python\n",
        "\n",
        "Bem-vindo ao Laboratório 2! Esta semana você praticará alguns métodos DataFrame (especialmente `groupby`), criará visualizações de dados e aprenderá como escrever suas próprias funções em Python. Criar funções pode ser uma novidade para você, mas não se preocupe, esta tarefa irá guiá-lo nesse processo! Você deve concluir todo este laboratório e enviá-lo ao **Moodle** até às **23h59** da data de vencimento.\n",
        "\n",
        "Os tópicos deste laboratório são abordados em [BPD 6](https://notes.dsc10.com/01-getting_started/functions-defining.html), [11](https://notes.dsc10.com/02-data_sets/groupby.html), [12](https://notes.dsc10.com/02-data_sets/apply.html) nas notas de `babypandas` e no [Chapter 7](https://inferentialthinking.com/chapters/07/Visualization.html) do livro texto.\n",
        "\n",
        "\n",
        "**Não use loops for em nenhuma pergunta deste laboratório.** Se você não sabe o que é um loop for, não se preocupe: ainda não abordamos isso. Mas se você sabe o que eles são e está se perguntando por que não é correto usá-los, é porque os loops em Python são lentos e os loops em arrays e DataFrames geralmente devem ser evitados.\n",
        "\n",
        "Primeiro, configure os testes e importações executando a célula abaixo."
      ]
    },
    {
      "cell_type": "code",
      "source": [
        "# Descomente para executar no Colab\n",
        "# ! pip install babypandas --quiet"
      ],
      "metadata": {
        "id": "KmPbfvl3auR4"
      },
      "execution_count": null,
      "outputs": []
    },
    {
      "cell_type": "code",
      "execution_count": null,
      "metadata": {
        "id": "EjDQdGmFapUL"
      },
      "outputs": [],
      "source": [
        "import numpy as np\n",
        "import pandas as pd\n",
        "\n",
        "# Aqui configuramos a biblioteca de visualização de dados.\n",
        "import matplotlib.pyplot as plt\n",
        "plt.style.use('ggplot')\n",
        "plt.rcParams['figure.figsize'] = (10, 6)"
      ]
    },
    {
      "cell_type": "markdown",
      "metadata": {
        "id": "dsdjskgEapUM"
      },
      "source": [
        "## 1. Aplicativos da Google Play Store 📲"
      ]
    },
    {
      "cell_type": "markdown",
      "metadata": {
        "id": "Fz2ffKsmapUM"
      },
      "source": [
        "Neste problema, praticaremos manipulações de DataFrame e visualizações de dados, enquanto exploramos o [Google Play Store Apps Dataset](https://www.kaggle.com/lava18/google-play-store-apps), extraído da Google Play Store."
      ]
    },
    {
      "cell_type": "code",
      "execution_count": null,
      "metadata": {
        "id": "ZUDpEUhxapUN"
      },
      "outputs": [],
      "source": [
        "# Run this cell to load in the dataset\n",
        "apps = pd.read_csv('https://raw.githubusercontent.com/dsc-courses/dsc10-2023-wi/main/labs/lab02/data/googleplaystore.csv')\n",
        "apps"
      ]
    },
    {
      "cell_type": "markdown",
      "metadata": {
        "id": "bmVEClSZapUN"
      },
      "source": [
        "Cada linha no DataFrame corresponde a um aplicativo. Aqui estão as descrições de algumas das colunas.\n",
        "- `'Category'`: Categoria à qual o aplicativo pertence.\n",
        "- `'Rating'`: Avaliação geral do usuário do aplicativo em 5 (no momento da recuperação de dados).\n",
        "- `'Reviews'`: Número de avaliações de usuários sobre o aplicativo (no momento da recuperação dos dados).\n",
        "- `'Installs'`: ​​Número de downloads/instalações do usuário para o aplicativo (no momento da recuperação dos dados).\n",
        "- `'Content Rating'`: Público-alvo do aplicativo, como \"Todos\" ou \"Adolescentes\".\n",
        "\n",
        "⚠️ Observe que `'Rating'` e `'Content Rating'` significam coisas diferentes. Não os confunda!"
      ]
    },
    {
      "cell_type": "markdown",
      "metadata": {
        "id": "gfSeQF57apUN"
      },
      "source": [
        "Observe que não definimos o índice do DataFrame, embora pareça que o nome do aplicativo seria um bom candidato. Mas os nomes dos aplicativos não são exclusivos! Podemos verificar isso com a ajuda do método Series `.unique()`. Quando chamado em uma Série, este método retorna um array de todos os valores distintos da Série, sem duplicatas.\n",
        "\n",
        "Vemos acima que o DataFrame possui 10.825 linhas. Isso significa que existem 10.825 aplicativos no conjunto de dados. Mas vamos calcular quantos nomes de aplicativos exclusivos existem:"
      ]
    },
    {
      "cell_type": "code",
      "execution_count": null,
      "metadata": {
        "id": "GlhATg3eapUO"
      },
      "outputs": [],
      "source": [
        "len(apps.get('App').unique())"
      ]
    },
    {
      "cell_type": "markdown",
      "metadata": {
        "id": "O9h6auPoapUO"
      },
      "source": [
        "Como $9644 <10825$, deve haver duplicatas!\n",
        "\n",
        "Como existem duplicatas, o nome do aplicativo não é um bom rótulo de linha. Na verdade, não existe um bom rótulo de linha neste caso. Em situações como essa, deixaremos o índice como está."
      ]
    },
    {
      "cell_type": "markdown",
      "metadata": {
        "deletable": false,
        "editable": false,
        "id": "OuWTvQ2GapUO"
      },
      "source": [
        "**Pergunta 1.1.** Você pode pensar que, em uma escala de 1 a 5, um aplicativo intermediário típico deveria ter uma classificação de cerca de 3.\n",
        "Faça um histograma da coluna `'Rating'` para ver se é esse o caso."
      ]
    },
    {
      "cell_type": "code",
      "execution_count": null,
      "metadata": {
        "scrolled": true,
        "id": "zIpAl59SapUO"
      },
      "outputs": [],
      "source": [
        "# Crie o histograma aqui.\n",
        "..."
      ]
    },
    {
      "cell_type": "markdown",
      "metadata": {
        "id": "Bkuj9nfTapUO"
      },
      "source": [
        "Certamente parece haver muitos aplicativos excelentes por aí! Seria interessante ver se os aplicativos com classificações mais altas também têm mais avaliações.\n",
        "\n",
        "**Pergunta 1.2.** Que tipo de gráfico você gostaria de criar para ajudar a determinar se os aplicativos com classificação mais alta também têm mais avaliações? Atribua 1, 2, 3 ou 4 ao nome `plot_type` abaixo.\n",
        "\n",
        "1. gráfico de dispersão\n",
        "2. gráfico de linha\n",
        "3. gráfico de barras\n",
        "4. histograma"
      ]
    },
    {
      "cell_type": "code",
      "execution_count": null,
      "metadata": {
        "id": "y0Tgjv0BapUP"
      },
      "outputs": [],
      "source": [
        "plot_type = ..."
      ]
    },
    {
      "cell_type": "markdown",
      "metadata": {
        "deletable": false,
        "editable": false,
        "id": "C_v3AWm3apUP"
      },
      "source": [
        "**Pergunta 1.3.** Agora crie o gráfico identificado acima para ajudá-lo a determinar se os aplicativos com classificação mais alta também têm mais avaliações.\n",
        "\n",
        "<!--\n",
        "COMEÇAR PERGUNTA\n",
        "nome: q1_3\n",
        "-->"
      ]
    },
    {
      "cell_type": "code",
      "execution_count": null,
      "metadata": {
        "id": "-0Yk0ywtapUP"
      },
      "outputs": [],
      "source": [
        "# Crie seu plot aqui.\n",
        "..."
      ]
    },
    {
      "cell_type": "markdown",
      "metadata": {
        "id": "Ylg7ZYC2apUP"
      },
      "source": [
        "**Pergunta 1.4.** Qual das seguintes afirmações podemos concluir, com base nestes dados? Atribua 1, 2, 3 ou 4 ao nome `plot_conclusion` abaixo.\n",
        "\n",
        "1. Os aplicativos com classificações mais altas tornam-se mais populares e, como mais pessoas estão usando esses aplicativos, mais avaliações são fornecidas.\n",
        "2. Os aplicativos com mais avaliações tornam-se mais populares e, como mais pessoas estão usando esses aplicativos, são atribuídas classificações mais altas.\n",
        "3. 1 e 2.\n",
        "4. Nem 1 nem 2."
      ]
    },
    {
      "cell_type": "code",
      "execution_count": null,
      "metadata": {
        "id": "vh1c0SUAapUP"
      },
      "outputs": [],
      "source": [
        "plot_conclusion = ..."
      ]
    },
    {
      "cell_type": "markdown",
      "metadata": {
        "id": "hP07EC_eapUP"
      },
      "source": [
        "**Pergunta 1.5.** Atribua o nome `by_content` a um DataFrame que conte o número de aplicativos por `'Content Rating'`, indexados por `'Content Rating'`.\n",
        "\n",
        "*Dica*: Para manter apenas certas colunas em um DataFrame, chame `.get` com uma lista de nomes de colunas que você deseja manter."
      ]
    },
    {
      "cell_type": "code",
      "execution_count": null,
      "metadata": {
        "scrolled": true,
        "id": "yXnYq2VbapUQ"
      },
      "outputs": [],
      "source": [
        "by_content = ...\n",
        "by_content"
      ]
    },
    {
      "cell_type": "markdown",
      "metadata": {
        "id": "YLTeEUz0apUQ"
      },
      "source": [
        "**Pergunta 1.6.** Crie um DataFrame chamado `install_stats` que possui uma única coluna, `'Installs'`, que contém o número médio de `'Installs'` para cada tipo de classificação de conteúdo. Não há problema se as respostas forem exibidas em notação científica."
      ]
    },
    {
      "cell_type": "code",
      "execution_count": null,
      "metadata": {
        "id": "qNFWEShfapUQ"
      },
      "outputs": [],
      "source": [
        "install_stats = ...\n",
        "install_stats"
      ]
    },
    {
      "cell_type": "markdown",
      "metadata": {
        "id": "mFsuV3C8apUQ"
      },
      "source": [
        "**Pergunta 1.7.** Crie um DataFrame chamado `top_communication_apps_by_content_rating` que contenha, para cada `'Content Rating'` único, o número de aplicativos que atendem a ambas as condições:\n",
        "\n",
        "- `'Category'` é `'COMMUNICATION'`.\n",
        "- `'Rating'` está entre 4 e 5 (inclusive).\n",
        "\n",
        "A estrutura de `top_communication_apps_by_content_rating` deve ser a seguinte:\n",
        "\n",
        "- Deve ter apenas uma coluna, `'Top_Comm_Apps'`.\n",
        "- Deve ser ordenado por `'Top_Comm_Apps'` em ordem decrescente.\n",
        "\n",
        "*Dica:* Você pode fazer isso como quiser, mas uma maneira de proceder é:\n",
        "\n",
        "1. Criar um único DataFrame que contenha apenas as linhas que correspondam às condições especificadas\n",
        "2. Chamar a função `groupby` no DataFrame obtido anteriormente.\n",
        "3. Ordenar o DataFrame da etapa 2, além de usar as funções `assign` e `drop` para renomear a coluna `'App'` para `'Top_Comm_Apps'`."
      ]
    },
    {
      "cell_type": "code",
      "execution_count": null,
      "metadata": {
        "id": "rFTt_qnPapUQ"
      },
      "outputs": [],
      "source": [
        "top_communication_apps_by_content_rating = ...\n",
        "top_communication_apps_by_content_rating"
      ]
    },
    {
      "cell_type": "markdown",
      "metadata": {
        "id": "RdL0DmXXapUR"
      },
      "source": [
        "**Pergunta 1.8.** Suponha que um bom aplicativo seja aquele com pelo menos um milhão de instalações e uma classificação de pelo menos 4,0. Crie uma variável chamada `best_category` contendo o nome da categoria com o maior número de aplicativos bons.\n",
        "\n",
        "_Nota:_ Sua resposta deve ser gerada usando código – não codificando uma string! (Em outras palavras, não escreva `best_category = \"DATING\"` se você acha que essa é a melhor categoria)."
      ]
    },
    {
      "cell_type": "code",
      "execution_count": null,
      "metadata": {
        "id": "D_t-3NljapUR"
      },
      "outputs": [],
      "source": [
        "best_category = ...\n",
        "best_category"
      ]
    },
    {
      "cell_type": "markdown",
      "metadata": {
        "id": "4t2rYquTapUR"
      },
      "source": [
        "**Pergunta 1.9.** Faça um gráfico de barras da classificação média por categoria em que as barras são classificadas da menor para a maior. Seu resultado deve ficar assim:\n",
        "\n",
        "<img src=\"https://raw.githubusercontent.com/dsc-courses/dsc10-2023-wi/main/labs/lab02/data/barchart.jpg\" width=60%/>\n"
      ]
    },
    {
      "cell_type": "code",
      "execution_count": null,
      "metadata": {
        "id": "RHPDMjmXapUR"
      },
      "outputs": [],
      "source": [
        "# Crie seu gráfico de barras verticais aqui.\n",
        "..."
      ]
    },
    {
      "cell_type": "markdown",
      "metadata": {
        "id": "-M9kdEkIi9Sn"
      },
      "source": [
        "## 2. Renda dos CEOs 💼\n",
        "\n",
        "No restante deste laboratório, veremos a remuneração de 2015 dos Diretores Executivos (CEOs) das 100 maiores empresas da Califórnia. Os dados foram compilados para uma análise do [Los Angeles Times ](http://spreadsheets.latimes.com/california-ceo-compensation/) e, em última análise, vieram [daqui](http://spreadsheets.latimes.com/california-ceo-compensation/), exigido pela Comissão de Valores Mobiliários dos EUA, de todas as empresas de capital aberto. Duas das empresas em nosso conjunto de dados têm dois CEOs, portanto há 102 CEOs no conjunto de dados.\n",
        "\n",
        "Copiamos os dados da página do LA Times para um arquivo chamado `raw_compensation.csv`. A página observa que todos os valores em dólares estão em milhões de dólares."
      ]
    },
    {
      "cell_type": "code",
      "execution_count": null,
      "metadata": {
        "id": "GPNNu-Sgi9Sn"
      },
      "outputs": [],
      "source": [
        "raw_compensation = pd.read_csv('https://raw.githubusercontent.com/dsc-courses/dsc10-2023-wi/main/labs/lab02/data/raw_compensation.csv').set_index('Rank')\n",
        "raw_compensation"
      ]
    },
    {
      "cell_type": "markdown",
      "metadata": {
        "id": "hbmP6gK_i9Sn"
      },
      "source": [
        "Queremos calcular a média dos salários dos CEOs. Tente executar a célula abaixo. 🚨 Quando terminar, não se esqueça de comentar."
      ]
    },
    {
      "cell_type": "code",
      "execution_count": null,
      "metadata": {
        "tags": [
          "raises-exception"
        ],
        "id": "-PvBDeVzi9So"
      },
      "outputs": [],
      "source": [
        "# Após rodar essa célula e observar o erro, comente-a para que o erro não se repita ao executar o notebook todo!\n",
        "\n",
        "raw_compensation.get(\"Total Pay\").mean()"
      ]
    },
    {
      "cell_type": "markdown",
      "metadata": {
        "id": "z3yC8Lf1i9So"
      },
      "source": [
        "Você deverá ver um erro. Vamos examinar por que esse erro ocorreu observando os valores na coluna `'Total Pay'`.\n",
        "\n",
        "**Pergunta 2.1.** Use a função `type` para definir `total_pay_type` como o tipo do primeiro item da coluna `'Total Pay'`."
      ]
    },
    {
      "cell_type": "code",
      "execution_count": null,
      "metadata": {
        "id": "6xaXqqw_i9So"
      },
      "outputs": [],
      "source": [
        "total_pay_type = ...\n",
        "total_pay_type"
      ]
    },
    {
      "cell_type": "markdown",
      "metadata": {
        "id": "78S0wIVzi9Sp"
      },
      "source": [
        "**Pergunta 2.2.** Você deve ter descoberto que os valores na coluna `'Total Pay'` são strings (texto). Não faz sentido calcular a média dos valores do texto, então precisamos convertê-los em números se quisermos fazer isso. Extraia o primeiro valor na coluna `'Total Pay'`. É o salário de 2015 de Mark Hurd, um dos dois CEOs da Oracle em 2015, em *milhões* de dólares. Chame-o de `mark_hurd_pay_string`."
      ]
    },
    {
      "cell_type": "code",
      "execution_count": null,
      "metadata": {
        "id": "Yc8yNbY_i9Sp"
      },
      "outputs": [],
      "source": [
        "mark_hurd_pay_string = ...\n",
        "mark_hurd_pay_string"
      ]
    },
    {
      "cell_type": "markdown",
      "metadata": {
        "id": "EzkLdEVPi9Sq"
      },
      "source": [
        "**Pergunta 2.3.** Usando código, converta `mark_hurd_pay_string` em um número de *dólares* e armazene o resultado na variável `mark_hurd_pay`, que deve ser um float.\n",
        "- O método string `strip` será útil para remover o cifrão; remove um caractere especificado do início ou final de uma string. Por exemplo, o valor de `\"100%\".strip(\"%\")` é a string `\"100\"`.\n",
        "- Você também precisará da função `float`, que converte uma string que se parece com um número em um número real.\n",
        "- Por último, lembre-se que a resposta deve ser em dólares, e não em milhões de dólares."
      ]
    },
    {
      "cell_type": "code",
      "execution_count": null,
      "metadata": {
        "id": "0DWDp38Mi9Sr"
      },
      "outputs": [],
      "source": [
        "mark_hurd_pay = ...\n",
        "mark_hurd_pay"
      ]
    },
    {
      "cell_type": "markdown",
      "metadata": {
        "id": "KHaAXEUSi9Sr"
      },
      "source": [
        "Para calcular o salário médio, precisamos fazer isso para cada CEO. Mas parece que isso envolveria copiar esse código 102 vezes... Não, obrigado! 🙅\n",
        "\n",
        "É aqui que entram as funções. Suponha que em vez de `mark_hurd_pay_string`, tivéssemos uma variável chamada `some_pay_string`, formatada da mesma forma que `mark_hurd_pay_string`, com um cifrão seguido por um valor. Agora que fizemos isso para `mark_hurd_pay_string`, poderíamos usar essencialmente o mesmo código em `some_pay_string` para extrair o pagamento como um número de dólares. Você só precisa alterar `mark_hurd_pay_string` em seu código para `some_pay_string`.\n",
        "\n",
        "**Pergunta 2.4.** Dentro da função abaixo, digite a palavra `return` (que deve ficar verde), depois copie a expressão que você usou para calcular `mark_hurd_pay`, mas substitua o `mark_hurd_pay_string` específico pelo genérico `some_pay_string` ."
      ]
    },
    {
      "cell_type": "code",
      "execution_count": null,
      "metadata": {
        "for_assignment_type": "student",
        "id": "lhCXRG10i9Sr"
      },
      "outputs": [],
      "source": [
        "def convert_pay_string_to_number(some_pay_string):\n",
        "    \"\"\"Converte uma string como '$100' (em milhões) para um número em dólares.\"\"\"\n",
        "    # Depois da palavra return, coloque seu código que converte some_pay_string para um número.\n",
        "    ..."
      ]
    },
    {
      "cell_type": "markdown",
      "metadata": {
        "id": "pDEoiD5di9Sr"
      },
      "source": [
        "Aqui, definimos uma nova função, dando um nome à expressão que converte strings `'Total Pay'` em valores numéricos. Esta função pode converter qualquer string com o formato correto (como \"$100\") em um número que representa milhões de dólares. Posteriormente neste laboratório, veremos o resultado: podemos chamar (usar) essa função em cada string de pagamento no conjunto de dados de uma só vez."
      ]
    },
    {
      "cell_type": "markdown",
      "metadata": {
        "id": "VKuXNzrdi9Sr"
      },
      "source": [
        "Podemos chamar nossa função da mesma forma que chamamos as funções \"built-in\" que vimos. Ela leva um argumento, uma string, e retorna um número."
      ]
    },
    {
      "cell_type": "code",
      "execution_count": null,
      "metadata": {
        "id": "b-2xbmlDi9Ss"
      },
      "outputs": [],
      "source": [
        "convert_pay_string_to_number('$42')"
      ]
    },
    {
      "cell_type": "code",
      "execution_count": null,
      "metadata": {
        "id": "g2_lr6j7i9Ss"
      },
      "outputs": [],
      "source": [
        "convert_pay_string_to_number(mark_hurd_pay_string)"
      ]
    },
    {
      "cell_type": "code",
      "execution_count": null,
      "metadata": {
        "id": "1rVFDdCui9Ss"
      },
      "outputs": [],
      "source": [
        "# Também podemos computar o pagamento de Safra Catzs da mesma forma:\n",
        "convert_pay_string_to_number(raw_compensation.get('Total Pay').iloc[1])"
      ]
    },
    {
      "cell_type": "markdown",
      "metadata": {
        "id": "O8tUeYE-i9Ss"
      },
      "source": [
        "O que ganhamos? Bem, sem a função, teríamos que copiar aquele material `float(some_pay_string.strip(\"$\")) * 1000000` **cada vez** que quiséssemos converter uma string de pagamento. Agora chamamos apenas uma função cujo nome diz exatamente o que está fazendo.\n",
        "\n",
        "Em breve, veremos como aplicar esta função a cada string de pagamento com uma única expressão. Primeiro, vamos aprender mais algumas funções."
      ]
    },
    {
      "cell_type": "markdown",
      "metadata": {
        "id": "N-3bBABbi9Ss"
      },
      "source": [
        "## 3. Definindo Funções ➗\n",
        "\n",
        "Vamos escrever uma função muito simples que converte uma proporção em uma porcentagem multiplicando-a por 100. Por exemplo, o valor de `to_percentage(0.5)` deve ser o número 50. (Sem sinal de porcentagem).\n",
        "\n",
        "Uma definição de função possui algumas partes.\n",
        "\n",
        "#### `def`\n",
        "Sempre começa com `def` (abreviação de **def**ine):\n",
        "\n",
        "    def\n",
        "\n",
        "#### Nome\n",
        "Em seguida vem o nome da função. Vamos chamar nossa função de `to_percentage`.\n",
        "\n",
        "    def to_percentage\n",
        "\n",
        "#### Assinatura\n",
        "\n",
        "Em seguida vem algo chamado *assinatura* da função. Isso informa ao Python quantos *argumentos* sua função deve ter e quais nomes você usará para se referir a esses argumentos no código da função. `to_percentage` deve receber um argumento, e chamaremos esse argumento de `proporção`, pois deve ser uma proporção.\n",
        "\n",
        "    def to_percentage(proportion)\n",
        "\n",
        "Colocamos dois pontos após a assinatura para informar ao Python que acabou.\n",
        "\n",
        "    def to_percentage(proportion):\n",
        "\n",
        "##### Documentação\n",
        "Funções podem fazer coisas complicadas, então **você deve escrever uma explicação do que sua função faz**. Para funções pequenas, isso é menos importante, mas é um bom hábito aprender desde o início. Convencionalmente, as funções Python são documentadas escrevendo uma string entre aspas triplas:\n",
        "\n",
        "    def to_percentage(proportion):\n",
        "    \"\"\"Converte uma proporção em porcentagem.\"\"\"\n",
        "\n",
        "\n",
        "##### Corpo\n",
        "Agora começamos a escrever o código que é executado quando a função é chamada. Isso é chamado de *corpo* da função. Podemos escrever qualquer coisa que escreveríamos em qualquer outro lugar. Primeiro, vamos dar um nome ao número pelo qual multiplicamos uma proporção para obter uma porcentagem.\n",
        "\n",
        "    def to_percentage(proportion):\n",
        "    \"\"\"Converte uma proporção em porcentagem.\"\"\"\n",
        "    fator = 100\n",
        "\n",
        "##### `return`\n",
        "A instrução especial `return` no corpo de uma função diz ao Python para tornar o valor da chamada de função igual ao que vem logo após `return`. A instrução return também *termina a função* e uma vez chamada *nenhuma linha no corpo após será executada*. Então, queremos que o valor de `to_percentage(0.5)` seja a proporção 0.5 vezes o fator 100, então escrevemos:\n",
        "\n",
        "    def to_percentage(proportion):\n",
        "    \"\"\"Converte uma proporção em porcentagem.\"\"\"\n",
        "    fator = 100\n",
        "    return proportion * fator"
      ]
    },
    {
      "cell_type": "markdown",
      "metadata": {
        "id": "EwH3HbLii9Ss"
      },
      "source": [
        "**Questão 3.1.** Defina a função `to_percentage` na célula abaixo. Chame sua função para converter a proporção `0.2` em uma porcentagem. Nomeie essa porcentagem como `vinte_percent`."
      ]
    },
    {
      "cell_type": "code",
      "execution_count": null,
      "metadata": {
        "for_assignment_type": "student",
        "id": "VwhCIti1i9Ss"
      },
      "outputs": [],
      "source": [
        "def to_percentage(proportion):\n",
        "    \"\"\" Converte uma proporção para porcentagem \"\"\"\n",
        "    ..."
      ]
    },
    {
      "cell_type": "code",
      "execution_count": null,
      "metadata": {
        "id": "voFl03jki9St"
      },
      "outputs": [],
      "source": [
        "twenty_percent = ...\n",
        "twenty_percent"
      ]
    },
    {
      "cell_type": "markdown",
      "metadata": {
        "id": "uUayO4lZi9St"
      },
      "source": [
        "Assim como as funções integradas, você pode passar nomes de variáveis ​​como argumentos para sua função.\n",
        "\n",
        "**Pergunta 3.2.** Use `to_percentage` novamente para converter a proporção chamada `a_proportion` (definida abaixo) em uma porcentagem chamada `a_percentage`.\n",
        "\n",
        "*Nota:* Você não precisa definir `to_percentage` novamente! Assim como outras coisas nomeadas, as funções permanecem depois que você as define."
      ]
    },
    {
      "cell_type": "code",
      "execution_count": null,
      "metadata": {
        "id": "f9TLbPTti9St"
      },
      "outputs": [],
      "source": [
        "a_proportion = 2**(0.5) / 2"
      ]
    },
    {
      "cell_type": "code",
      "execution_count": null,
      "metadata": {
        "id": "S2A5la6Ci9St"
      },
      "outputs": [],
      "source": [
        "a_percentage = ...\n",
        "a_percentage"
      ]
    },
    {
      "cell_type": "markdown",
      "metadata": {
        "id": "F6PMmkmri9St"
      },
      "source": [
        "Aqui está um fato importante sobre funções: os nomes de variáveis ​​atribuídos dentro do corpo de uma função só são acessíveis dentro do corpo dessa função. Assim que a função retornar, esses nomes desaparecerão. Portanto, mesmo que você tenha definido `factor = 100` dentro de `to_percentage` acima e depois chamado `to_percentage`, o nome da variável `factor` não tem significado fora do corpo de `to_percentage`.\n",
        "\n",
        "Para mostrar o que queremos dizer, execute a célula a seguir. **Isso causa um erro intencionalmente**. 🚨 Quando terminar, comente-a."
      ]
    },
    {
      "cell_type": "code",
      "execution_count": null,
      "metadata": {
        "tags": [
          "raises-exception"
        ],
        "id": "2gBbrrb3i9St"
      },
      "outputs": [],
      "source": [
        "# Você deve ver um erro ao rodar isso.\n",
        "#(Caso não veja, você deve ter definido a variável 'factor' em algum lugar acima)\n",
        "\n",
        "factor"
      ]
    },
    {
      "cell_type": "markdown",
      "metadata": {
        "id": "yQ5DVDpfi9Su"
      },
      "source": [
        "Se quiséssemos, poderíamos definir uma nova variável com o nome `factor` fora da definição de `to_percentage`, e ela poderia ter qualquer valor que quiséssemos."
      ]
    },
    {
      "cell_type": "markdown",
      "metadata": {
        "id": "XXzrBM6ai9Su"
      },
      "source": [
        "Como vimos com as funções integradas, as funções também podem receber strings (ou arrays, ou DataFrames) como argumentos e também podem retornar essas coisas.\n",
        "\n",
        "**Questão 3.3.** Defina uma função chamada `disemvowel`. Deve receber uma única string como argumento. (Você pode chamar esse argumento como quiser.) Ele deve retornar uma cópia dessa string, mas com todos os caracteres que são vogais removidos. Você pode assumir que `disemvowel` só será chamado em strings minúsculas, o que significa que você só precisa se livrar das vogais minúsculas\n",
        ". (Em inglês, as vogais são os caracteres \"a\", \"e\", \"i\", \"o\" e \"u\".)\n",
        "\n",
        "*Dica:* Para remover todos os \"a\"s de uma string, você pode usar `that_string.replace(\"a\", \"\")`. E você pode chamar `replace` várias vezes."
      ]
    },
    {
      "cell_type": "code",
      "execution_count": null,
      "metadata": {
        "id": "heDPGcafi9Su"
      },
      "outputs": [],
      "source": [
        "def disemvowel(a_string):\n",
        "    ...\n",
        "\n",
        "# Um exemplo de chamada da sua função. (Muitas vezes é útil rodar uma chamada de exemplo de tempos em tempos,\n",
        "#conforme você vai escrevendo sua função, para saber como ela está se comportando.)\n",
        "\n",
        "disemvowel(\"voce pode ler isso sem vogais?\")"
      ]
    },
    {
      "cell_type": "markdown",
      "metadata": {
        "id": "i6-_wRL9i9Su"
      },
      "source": [
        "##### Chamadas em chamadas em chamadas\n",
        "Assim como você escreve uma série de linhas para construir um cálculo complexo, é útil definir uma série de pequenas funções que se complementam. Como você pode escrever qualquer código dentro do corpo de uma função, você pode chamar outras funções que escreveu.\n",
        "\n",
        "Se uma função é como uma receita, definir uma função em termos de outras funções é como ter uma receita de bolo 🍰 dizendo para você seguir outra receita para fazer a cobertura e outra para fazer o recheio. Isso torna a receita do bolo mais curta e clara e evita um monte de receitas de glacê duplicadas. É a base da programação produtiva.\n",
        "\n",
        "Por exemplo, suponha que você queira contar o número de caracteres *que não são vogais* em um trecho de texto. Uma maneira de fazer isso é remover todas as vogais e contar o tamanho da string restante.\n",
        "\n",
        "**Questão 3.4.** Escreva uma função chamada `num_non_vowels`. Deve receber uma string como argumento e retornar um número. O número deve ser o número de caracteres na sequência do argumento que não são vogais. Novamente, você pode assumir que `num_non_vowels` só será chamado em strings minúsculas.\n",
        "\n",
        "*Dica:* A função `len` pega uma string como argumento e retorna o número de caracteres nela."
      ]
    },
    {
      "cell_type": "code",
      "execution_count": null,
      "metadata": {
        "id": "dUIKbfO7i9Su"
      },
      "outputs": [],
      "source": [
        "def num_non_vowels(a_string):\n",
        "    \"\"\"Retorna o número de caracteres que não são vogais em uma string.\"\"\"\n",
        "    ..."
      ]
    },
    {
      "cell_type": "markdown",
      "metadata": {
        "id": "JH-siRAgi9Su"
      },
      "source": [
        "As funções também podem encapsular código que *faz coisas* em vez de apenas calcular valores. Por exemplo, se você chamar `print` dentro de uma função e depois, ao chamar essa função, algo será impresso.\n",
        "\n",
        "O conjunto de dados `movies_by_year` nas notas do curso contém informações sobre as vendas de filmes nos últimos anos. Suponha que você queira exibir o ano com o quinto maior total de vendas brutas de filmes, impresso de forma legível. Você pode fazer isso:"
      ]
    },
    {
      "cell_type": "code",
      "execution_count": null,
      "metadata": {
        "id": "lSeYcoW0i9Su"
      },
      "outputs": [],
      "source": [
        "movies_by_year = pd.read_csv(\"https://raw.githubusercontent.com/dsc-courses/dsc10-2023-wi/main/labs/lab02/data/movies_by_year.csv\").set_index('Year')\n",
        "rank = 5\n",
        "fifth_from_top_movie_year = movies_by_year.sort_values(by='Total Gross', ascending=False).index[rank-1]\n",
        "\n",
        "print(\"Ano de número\", rank, \"com o maior número de vendas brutas foi\", fifth_from_top_movie_year)"
      ]
    },
    {
      "cell_type": "markdown",
      "metadata": {
        "id": "gURLRnfpi9Sv"
      },
      "source": [
        "Depois de escrever isso, você percebe que também queria imprimir o 2º e o 3º anos mais altos. Em vez de copiar seu código, você decide colocá-lo em uma função. Como a classificação varia, você faz disso um argumento para sua função.\n",
        "\n",
        "**Pergunta 3.5.** Escreva uma função chamada `print_kth_top_movie_year`. Deve levar um único argumento, a classificação do ano (como 2, 3 ou 5 nos exemplos acima). Deve imprimir uma mensagem como a acima. Não deveria ter uma instrução `return`, porque queremos que a função seja impressa, não retorne."
      ]
    },
    {
      "cell_type": "code",
      "execution_count": null,
      "metadata": {
        "for_assignment_type": "student",
        "id": "rnllwBypi9Sv"
      },
      "outputs": [],
      "source": [
        "def print_kth_top_movie_year(k):\n",
        "    ..."
      ]
    },
    {
      "cell_type": "code",
      "execution_count": null,
      "metadata": {
        "id": "J16OQXHxi9Sv"
      },
      "outputs": [],
      "source": [
        "# Exemplos de chamadas para sua função\n",
        "print_kth_top_movie_year(2)\n",
        "print_kth_top_movie_year(3)"
      ]
    },
    {
      "cell_type": "markdown",
      "metadata": {
        "id": "M_LbmVswi9Sv"
      },
      "source": [
        "## 4. Aplicando Funções 🩹\n",
        "\n",
        "Definir uma função é como dar um nome a um valor com `=`. Na verdade, uma função é um valor exatamente como o número 1 ou a string `\"hey\"`!\n",
        "\n",
        "Por exemplo, podemos criar um novo nome para a função integrada `max` se quisermos:"
      ]
    },
    {
      "cell_type": "code",
      "execution_count": null,
      "metadata": {
        "id": "RzBqLf00i9Sv"
      },
      "outputs": [],
      "source": [
        "the_largest_of = max\n",
        "the_largest_of(2, 6)"
      ]
    },
    {
      "cell_type": "markdown",
      "metadata": {
        "id": "2EIfgKnti9Sv"
      },
      "source": [
        "O antigo nome de `max` ainda existe:"
      ]
    },
    {
      "cell_type": "code",
      "execution_count": null,
      "metadata": {
        "id": "kovYwPqni9Sv"
      },
      "outputs": [],
      "source": [
        "max(2, 6)"
      ]
    },
    {
      "cell_type": "markdown",
      "metadata": {
        "id": "w4W1t-mwi9Sv"
      },
      "source": [
        "Tente apenas escrever `max` ou `the_largest_of` (ou o nome de qualquer outra função) em uma célula e execute essa célula. Python imprimirá uma descrição (muito breve) da função."
      ]
    },
    {
      "cell_type": "code",
      "execution_count": null,
      "metadata": {
        "id": "nGgj1Vxni9Sv"
      },
      "outputs": [],
      "source": [
        "max"
      ]
    },
    {
      "cell_type": "markdown",
      "metadata": {
        "id": "hkmxvl17i9Sv"
      },
      "source": [
        "Por que isso é útil? Como as funções são apenas valores, é possível passá-las como argumentos para outras funções. Aqui está um exemplo simples, mas não tão prático: podemos fazer um array de funções."
      ]
    },
    {
      "cell_type": "code",
      "execution_count": null,
      "metadata": {
        "id": "wz3XsZ72i9Sv"
      },
      "outputs": [],
      "source": [
        "np.array([max, np.average, type])"
      ]
    },
    {
      "cell_type": "markdown",
      "metadata": {
        "id": "SSVtirgNi9Sw"
      },
      "source": [
        "**Pergunta 4.1.** Faça um array contendo quaisquer outras 3 funções que você tenha visto. Chame-o de `some_functions`."
      ]
    },
    {
      "cell_type": "code",
      "execution_count": null,
      "metadata": {
        "id": "E_HWZEiSi9Sw"
      },
      "outputs": [],
      "source": [
        "some_functions = ...\n",
        "some_functions"
      ]
    },
    {
      "cell_type": "markdown",
      "metadata": {
        "id": "gZvUsuqIi9Sw"
      },
      "source": [
        "Trabalhar com funções como valores pode levar a códigos de aparência engraçada. Por exemplo, veja se você consegue descobrir como esta linha de código funciona:"
      ]
    },
    {
      "cell_type": "code",
      "execution_count": null,
      "metadata": {
        "id": "XI_4CrPqi9Sw"
      },
      "outputs": [],
      "source": [
        "np.array([max, np.average, type])[0](4, -2, 7)"
      ]
    },
    {
      "cell_type": "markdown",
      "metadata": {
        "id": "E1eU45aii9Sw"
      },
      "source": [
        "Aqui está um exemplo mais simples que é realmente útil: o método Series `apply`.\n",
        "`apply` chama uma função muitas vezes, uma vez em *cada* elemento de uma Série, que normalmente vem de uma coluna de um DataFrame. Ele produz uma série de resultados, que podemos querer adicionar a um DataFrame.\n",
        "\n",
        "Aqui está um exemplo. Lembre-se que a coluna `'Total Pay'` do DataFrame `raw_compensation` continha strings:"
      ]
    },
    {
      "cell_type": "code",
      "execution_count": null,
      "metadata": {
        "id": "JxpPhlWhi9Sw"
      },
      "outputs": [],
      "source": [
        "raw_compensation.get(\"Total Pay\")"
      ]
    },
    {
      "cell_type": "markdown",
      "metadata": {
        "id": "-EsOKJayi9Sw"
      },
      "source": [
        "Escrevemos uma função, `convert_pay_string_to_number`, que converte uma dessas strings em um número.\n",
        "Aqui usamos `apply` para converter o pagamento de cada CEO em um número, usando a função que você definiu:"
      ]
    },
    {
      "cell_type": "markdown",
      "metadata": {
        "id": "xIbOjKimi9Sw"
      },
      "source": [
        "Aqui está uma ilustração do que isso fez:\n",
        "\n",
        "<img src=\"https://raw.githubusercontent.com/dsc-courses/dsc10-2023-wi/main/labs/lab02/data/apply.png\" width=700/>\n",
        "\n",
        "Observe que não escrevemos algo como `convert_pay_string_to_number()` ou `convert_pay_string_to_number(\"Total Pay\")`. A função de `apply` é chamar a função que atribuímos a ele, então, em vez de chamarmos nós mesmos `convert_pay_string_to_number`, apenas escrevemos seu nome como um argumento para `apply`.\n",
        "\n",
        "**Questão 4.2.** Usando `apply`, faça um DataFrame que seja uma cópia de `raw_compensation` com mais uma coluna chamada `'Total_Pay_Dollars'`. Deve ser o resultado da aplicação de `convert_pay_string_to_number` à coluna `'Total Pay'`, como fizemos acima. Chame o novo DataFrame de `compensation`."
      ]
    },
    {
      "cell_type": "code",
      "execution_count": null,
      "metadata": {
        "id": "9CVnQnUJi9Sw"
      },
      "outputs": [],
      "source": [
        "compensation = ...\n",
        "compensation"
      ]
    },
    {
      "cell_type": "markdown",
      "metadata": {
        "id": "ufLMgxkUi9Sw"
      },
      "source": [
        "Agora que temos o pagamento em números, podemos realizar operações aritméticas (e, como resultado, calcular resumos numéricos) sobre os valores dos salários.\n",
        "\n",
        "**Pergunta 4.3.** Calcule o salário total médio dos CEOs no conjunto de dados."
      ]
    },
    {
      "cell_type": "code",
      "execution_count": null,
      "metadata": {
        "id": "HfNlakwKi9Sx"
      },
      "outputs": [],
      "source": [
        "average_total_pay = ...\n",
        "average_total_pay"
      ]
    },
    {
      "cell_type": "markdown",
      "metadata": {
        "id": "U2_MiOFwi9Sx"
      },
      "source": [
        "**Pergunta 4.4.** As empresas pagam os executivos de diversas maneiras: diretamente em dinheiro; concedendo ações ou outro “capital” da empresa; ou com benefícios acessórios (como jatos particulares ✈️). Calcule a proporção do salário de cada CEO que era em dinheiro. (Sua resposta deve ser uma série.)"
      ]
    },
    {
      "cell_type": "code",
      "execution_count": null,
      "metadata": {
        "scrolled": true,
        "id": "fM6YYuPIi9Sx"
      },
      "outputs": [],
      "source": [
        "cash_proportion = ...\n",
        "cash_proportion"
      ]
    },
    {
      "cell_type": "markdown",
      "metadata": {
        "id": "HzKzS898i9Sx"
      },
      "source": [
        "Observe atentamente o resultado. A última linha tem um valor estranho, `NaN`. `NaN` significa \"não é um número\".\n",
        "\n",
        "<img width=500 src=\"https://raw.githubusercontent.com/dsc-courses/dsc10-2023-wi/main/labs/lab02/data/nan.png\"/>"
      ]
    },
    {
      "cell_type": "markdown",
      "metadata": {
        "id": "BXUQBRrhi9Sx"
      },
      "source": [
        "Vejamos as últimas linhas do DataFrame:"
      ]
    },
    {
      "cell_type": "code",
      "execution_count": null,
      "metadata": {
        "scrolled": true,
        "id": "u9HFLnHzi9Sx"
      },
      "outputs": [],
      "source": [
        "compensation.take(np.arange(-5, 0))"
      ]
    },
    {
      "cell_type": "markdown",
      "metadata": {
        "id": "Y8gYcr-qi9Sx"
      },
      "source": [
        "Notou algo estranho?\n",
        "\n",
        "**Pergunta 4.5.** Por que obtivemos o `NaN`? Atribua 1, 2, 3 ou 4 ao nome `apply_part5` abaixo.\n",
        "1. A proporção seria 0. Python só pode calcular números diferentes de zero.\n",
        "2. A `'Proporção entre o salário do CEO e o salário médio do trabalhador da indústria'` é arredondado para 0, o que o Python não sabe como lidar.\n",
        "3. O cálculo é dividido por 0, portanto o resultado não é um número."
      ]
    },
    {
      "cell_type": "code",
      "execution_count": null,
      "metadata": {
        "id": "X06b-SaBi9Sy"
      },
      "outputs": [],
      "source": [
        "apply_part5 = ..."
      ]
    },
    {
      "cell_type": "markdown",
      "metadata": {
        "id": "RnH5t9xri9Sy"
      },
      "source": [
        "Muitos dados reais são confusos. Pode conter zeros, valores vazios ou `NaN`'s (não-um-número) que precisamos observar ao realizar cálculos!"
      ]
    },
    {
      "cell_type": "markdown",
      "metadata": {
        "id": "thWJzdHOi9Sy"
      },
      "source": [
        "Tudo bem, de volta aos nossos CEOs. Confira a coluna `'% Change'` em `compensation`. Mostra o aumento percentual na remuneração do CEO em relação ao ano anterior. Para CEOs sem nenhum ano anterior registrado, em vez disso diz `'(No previous year)'`. Os valores nesta coluna são *strings*, não números, portanto, assim como a coluna `'Total Pay'`, ela não pode ser usada sem um pouco de trabalho extra.\n",
        "\n",
        "Dado o seu salário atual e o aumento percentual em relação ao ano anterior, você pode calcular o salário do ano anterior. O salário deste ano e o salário do ano passado estão relacionados pela fórmula:\n",
        "\n",
        "$$\\text{salário deste ano} = \\text{salário do ano passado} \\cdot \\left(1+\\dfrac{\\text{aumento percentual}}{100}\\right)$$\n",
        "\n",
        "Por exemplo, se você ganhou \\$600 no ano passado e seu salário aumentou 50\\%, então\n",
        "\n",
        "$$\\begin{align}\n",
        "\\text{pagamento deste ano} &= \\text{600} \\cdot \\left(1+\\dfrac{\\text{50}}{100}\\right)\\\\\n",
        "&= \\text{600} \\cdot (1.5) \\\\\n",
        "&= 900\n",
        "\\end{align}$$\n",
        "\n",
        "Como sabemos como o salário deste ano e o salário do ano passado estão matematicamente relacionados, podemos resolver esta equação para o salário do ano passado para fornecer uma fórmula para o salário do ano anterior se conhecermos o salário do ano atual e o aumento percentual do ano anterior para o ano atual. Fazendo um pouco de álgebra, encontramos:\n",
        "\n",
        "$$\\text{salário do ano passado} = \\dfrac{\\text{salário deste ano}}{\\left(1+\\dfrac{\\text{aumento percentual}}{100}\\right)}$$\n",
        "\n",
        "**Pergunta 4.6.** Crie um novo DataFrame chamado `with_previous_compensation`. Deve ser uma cópia de `compensation`, mas com os CEOs `'(No previous year)'` filtrados, e com uma coluna extra chamada `'Previous_Total_Pay'`. Essa coluna deve conter o salário de cada CEO em 2014.\n",
        "\n",
        "*Dica 1:* Esta pergunta envolve vários passos, mas cada um envolve algo que você já aprendeu a fazer. Dê um passo de cada vez, usando quantas linhas forem necessárias. Você pode imprimir seus resultados após cada etapa para ter certeza de que está no caminho certo.\n",
        "\n",
        "*Dica 2:* Você precisará definir uma função para converter strings de porcentagem, como `'-15%'`, em números. Você pode fazer isso logo acima do outro código.\n",
        "\n",
        "*Dica 3:* Se você vir um erro dizendo `unsupported operand type(s) for +: 'int' and 'Series'`, tente mudar a ordem de sua operação. Em vez de escrever algo como `1 + series`, escreva `series + 1`."
      ]
    },
    {
      "cell_type": "code",
      "execution_count": null,
      "metadata": {
        "for_assignment_type": "student",
        "id": "X7DRVpAIi9Sy"
      },
      "outputs": [],
      "source": [
        "# Você pode escrever códigos de passos intermediários aqui!\n",
        "with_previous_compensation = ...\n",
        "with_previous_compensation"
      ]
    },
    {
      "cell_type": "markdown",
      "metadata": {
        "id": "6SRQJZgNi9Sy"
      },
      "source": [
        "**Pergunta 4.7.** Qual foi o salário médio desses CEOs em 2014?"
      ]
    },
    {
      "cell_type": "code",
      "execution_count": null,
      "metadata": {
        "id": "EtgBxQ59i9Sy"
      },
      "outputs": [],
      "source": [
        "average_pay_2014 = ...\n",
        "average_pay_2014"
      ]
    },
    {
      "cell_type": "markdown",
      "metadata": {
        "id": "qHTZFBfPi9Sy"
      },
      "source": [
        "## 5. Distribuição de Riqueza 💰\n",
        "Anteriormente, calculamos a remuneração média entre os CEOs em nosso conjunto de dados de 102 CEOs. No entanto, a média não nos diz tudo sobre os montantes pagos aos CEO. Talvez apenas alguns CEOs ganhem a maior parte do dinheiro, mesmo entre estes 102.\n",
        "\n",
        "Podemos usar um *histograma de densidade* para exibir mais informações sobre um conjunto de números. [Aqui está um exemplo](https://dsc10.com/resources/lectures/lec07/lec07.html#Plotting-a-density-histogram) do código que usamos para criar histogramas.\n",
        "\n",
        "**Questão 5.1.** Faça um histograma de densidade da remuneração dos CEOs em `compensation`."
      ]
    },
    {
      "cell_type": "code",
      "execution_count": null,
      "metadata": {
        "id": "_pyc1rwOi9Sz"
      },
      "outputs": [],
      "source": [
        "# Coloque seu código aqui\n",
        "..."
      ]
    },
    {
      "cell_type": "markdown",
      "metadata": {
        "id": "sp4kR_Cvi9Sz"
      },
      "source": [
        "**Pergunta 5.2.** Olhando para o histograma, quantos CEOs ganharam mais de \\$30 milhões? Faça um bom palpite. (Responda à pergunta preenchendo sua resposta manualmente. Você terá que fazer um pouco de aritmética; sinta-se à vontade para usar Python como calculadora.)"
      ]
    },
    {
      "cell_type": "code",
      "execution_count": null,
      "metadata": {
        "id": "xUX0KdfLi9Sz"
      },
      "outputs": [],
      "source": [
        "num_ceos_more_than_30_million = ..."
      ]
    },
    {
      "cell_type": "markdown",
      "metadata": {
        "id": "HiSndxvzi9Sz"
      },
      "source": [
        "**Pergunta 5.3.** Responda a mesma pergunta com código. Ou seja, encontre o número de CEOs com um salário total superior a \\$30 milhões usando código e atribua o resultado ao nome `num_ceos_more_than_30_million_code`."
      ]
    },
    {
      "cell_type": "code",
      "execution_count": null,
      "metadata": {
        "id": "7gOB8eMgi9Sz"
      },
      "outputs": [],
      "source": [
        "num_ceos_more_than_30_million_code = ...\n",
        "num_ceos_more_than_30_million_code"
      ]
    },
    {
      "cell_type": "markdown",
      "metadata": {
        "id": "RHFBSEkKi9Sz"
      },
      "source": [
        "Execute a próxima célula se quiser ver a que distância você estava."
      ]
    },
    {
      "cell_type": "code",
      "execution_count": null,
      "metadata": {
        "id": "gBHbxd0Ji9Sz"
      },
      "outputs": [],
      "source": [
        "percent_diff = abs(num_ceos_more_than_30_million - num_ceos_more_than_30_million_code) / num_ceos_more_than_30_million_code\n",
        "print(f\"Seu chute estava {percent_diff * 100}% errado!\")"
      ]
    },
    {
      "cell_type": "markdown",
      "metadata": {
        "id": "t1k1UpEti9Sz"
      },
      "source": [
        "# Linha de chegada 🏁\n",
        "\n",
        "Parabéns! Você concluiu o Laboratório 2.\n",
        "\n",
        "Para enviar sua tarefa:\n",
        "\n",
        "1. Selecione `Kernel -> Reiniciar e executar tudo` para garantir que você executou todas as células, incluindo as células de teste.\n",
        "2. Leia o caderno para ter certeza de que está tudo bem e que suas respostas foram computadas.\n",
        "3. Baixe seu notebook usando `Arquivo -> Baixar como -> Notebook (.ipynb)` e, em seguida, carregue seu notebook para o Moodle."
      ]
    }
  ],
  "metadata": {
    "anaconda-cloud": {},
    "kernelspec": {
      "display_name": "Python 3 (ipykernel)",
      "language": "python",
      "name": "python3"
    },
    "language_info": {
      "codemirror_mode": {
        "name": "ipython",
        "version": 3
      },
      "file_extension": ".py",
      "mimetype": "text/x-python",
      "name": "python",
      "nbconvert_exporter": "python",
      "pygments_lexer": "ipython3",
      "version": "3.9.12"
    },
    "toc": {
      "base_numbering": 1,
      "nav_menu": {},
      "number_sections": true,
      "sideBar": true,
      "skip_h1_title": false,
      "title_cell": "Table of Contents",
      "title_sidebar": "Contents",
      "toc_cell": false,
      "toc_position": {},
      "toc_section_display": true,
      "toc_window_display": false
    },
    "colab": {
      "provenance": [],
      "include_colab_link": true
    }
  },
  "nbformat": 4,
  "nbformat_minor": 0
}