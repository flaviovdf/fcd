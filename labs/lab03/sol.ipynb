{
  "cells": [
    {
      "cell_type": "markdown",
      "metadata": {
        "id": "DAfFIV-FVWzR"
      },
      "source": [
        "# Laboratório 3: DataFrames, Fluxo de Controle e Probabilidade\n",
        "\n",
        "\n",
        "\n",
        "Bem-vindo ao Laboratório 3! Esta semana, abordaremos mais técnicas de manipulação de DataFrame, condicionais e iteração, e apresentaremos o conceito de aleatoriedade. Você deve concluir todo este laboratório e enviá-lo ao **Moodle** até às **23h59** da data de vencimento.\n",
        "\n",
        "Consulte as seguintes leituras:\n",
        "- Agrupamento com subgrupos (ver [BPD 11.4](https://notes.dsc10.com/02-data_sets/groupby.html#subgroups))\n",
        "- Mesclando DataFrames (veja [BPD 13](https://notes.dsc10.com/02-data_sets/merging.html))\n",
        "- Declarações condicionais (ver [CIT 9.1](https://inferentialthinking.com/chapters/09/1/Conditional_Statements.html))\n",
        "- Iteração (ver [CIT 9.2](https://inferentialthinking.com/chapters/09/2/Iteration.html))\n",
        "- Probabilidade (ver [CIT 9.5](https://inferentialthinking.com/chapters/09/5/Finding_Probabilities.html))\n",
        "\n",
        "Primeiro, configure os testes e importações executando as células abaixo."
      ]
    },
    {
      "cell_type": "code",
      "source": [
        "## Descomente para executar no Colab\n",
        "#!pip install babypandas --quiet"
      ],
      "metadata": {
        "id": "_Ad8lF8YWXAp"
      },
      "execution_count": null,
      "outputs": []
    },
    {
      "cell_type": "code",
      "execution_count": null,
      "metadata": {
        "id": "8rn6DE11VWzT"
      },
      "outputs": [],
      "source": [
        "import numpy as np\n",
        "import pandas as pd\n",
        "\n",
        "# Aqui configuramos a biblioteca de visualização de dados.\n",
        "import matplotlib\n",
        "import matplotlib.pyplot as plt\n",
        "plt.style.use('ggplot')"
      ]
    },
    {
      "cell_type": "markdown",
      "metadata": {
        "id": "jo4y0-7IVWzT"
      },
      "source": [
        "# 1. Parques Nacionais da Califórnia 🏞️ 🐻\n",
        "\n",
        "Nesta questão, daremos uma olhada mais de perto nos métodos DataFrame `merge` e `groupby`.\n",
        "\n",
        "Estaremos trabalhando com dois conjuntos de dados, `california_parks.csv` (armazenado como `parks`) e `california_parks_species.csv` (armazenado como `species`), que fornecem informações sobre os Parques Nacionais da Califórnia e as espécies de plantas e animais encontrados lá , respectivamente. Estes são um subconjunto de um dataset maior, [disponibilizado pela National Parks Services](https://www.kaggle.com/nationalparkservice/park-biodiversity). Também criamos um terceiro DataFrame, `parks_species`, que contém o número de espécies por parque.\n",
        "\n",
        "Execute a célula abaixo para carregar nossos dados."
      ]
    },
    {
      "cell_type": "code",
      "execution_count": null,
      "metadata": {
        "id": "AIk5564fVWzT"
      },
      "outputs": [],
      "source": [
        "parks = pd.read_csv(\"https://raw.githubusercontent.com/dsc-courses/dsc10-2023-wi/main/labs/lab03/data/california_parks.csv\")\n",
        "species = pd.read_csv(\"https://raw.githubusercontent.com/dsc-courses/dsc10-2023-wi/main/labs/lab03/data/california_parks_species.csv\")\n",
        "parks_species = pd.DataFrame().assign(\n",
        "    count=species.groupby('Park Name').count().get('Category')\n",
        ")"
      ]
    },
    {
      "cell_type": "markdown",
      "metadata": {
        "id": "fvS3n8OeVWzT"
      },
      "source": [
        "No momento, as informações que temos sobre cada Parque Nacional da Califórnia estão divididas em dois DataFrames. O DataFrame `parks` contém o código, estado, tamanho e localização de cada parque, e o DataFrame `parks_species` contém o número de espécies em cada parque. Execute as células abaixo para ver os dois DataFrames."
      ]
    },
    {
      "cell_type": "code",
      "execution_count": null,
      "metadata": {
        "id": "j8qOY61zVWzU"
      },
      "outputs": [],
      "source": [
        "parks"
      ]
    },
    {
      "cell_type": "code",
      "execution_count": null,
      "metadata": {
        "id": "FXLJFLIJVWzU"
      },
      "outputs": [],
      "source": [
        "parks_species"
      ]
    },
    {
      "cell_type": "markdown",
      "metadata": {
        "id": "NPYwa0MdVWzU"
      },
      "source": [
        "**Questão 1.1.** Abaixo, utilize o método `merge` para criar um novo DataFrame chamado `parks_with_species`, que terá as informações existentes dos parques junto com o número de espécies que cada um possui. Certifique-se de que o DataFrame tenha apenas uma linha por parque. Seu DataFrame deve ficar assim:\n",
        "\n",
        "|    | Park Code   | Park Name                               | State   |   Acres |   Latitude |   Longitude |   count |\n",
        "|---:|------------|----------------------------------------|--------|--------|-----------|------------|--------|\n",
        "|  0 | CHIS        | Channel Islands National Park           | CA      |  249561 |      34.01 |     -119.42 |    1885 |\n",
        "|  1 | JOTR        | Joshua Tree National Park               | CA      |  789745 |      33.79 |     -115.9  |    2294 |\n",
        "|  2 | LAVO        | Lassen Volcanic National Park           | CA      |  106372 |      40.49 |     -121.51 |    1797 |\n",
        "|  3 | PINN        | Pinnacles National Park                 | CA      |   26606 |      36.48 |     -121.16 |    1416 |\n",
        "|  4 | REDW        | Redwood National Park                   | CA      |  112512 |      41.3  |     -124    |    6310 |\n",
        "|  5 | SEKI        | Sequoia and Kings Canyon National Parks | CA      |  865952 |      36.43 |     -118.68 |    1995 |\n",
        "|  6 | YOSE        | Yosemite National Park                  | CA      |  761266 |      37.83 |     -119.5  |    2088 |"
      ]
    },
    {
      "cell_type": "code",
      "execution_count": null,
      "metadata": {
        "id": "w3sH8k47VWzU"
      },
      "outputs": [],
      "source": [
        "parks_with_species = ...\n",
        "parks_with_species"
      ]
    },
    {
      "cell_type": "markdown",
      "metadata": {
        "id": "VqsOHZrhVWzU"
      },
      "source": [
        "Agora, vamos dar uma olhada no DataFrame `species`. Cada parque tem muitas espécies diferentes, e cada espécie varia em abundância em cada parque."
      ]
    },
    {
      "cell_type": "code",
      "execution_count": null,
      "metadata": {
        "id": "DPtNUZbwVWzU"
      },
      "outputs": [],
      "source": [
        "species"
      ]
    },
    {
      "cell_type": "markdown",
      "metadata": {
        "id": "XrVJ08tAVWzU"
      },
      "source": [
        "**Questão 1.2.** Usando o método `groupby`, atribua a variável `species_abundance` a um DataFrame que *classifica* os parques por Nome do Parque e Abundância.\n",
        "\n",
        "_**Dica:**_ Redefina o índice e atribua colunas para que você tenha três colunas: `'Park Name'`, `'Abundance'` e `'Category'`. As primeiras linhas do seu DataFrame devem ficar assim:\n",
        "\n",
        "|    | Park Name                               | Abundance   |   Category |\n",
        "|---|----------------------------------------|------------|-----------|\n",
        "|  0 | Channel Islands National Park           | Abundant    |         48 |\n",
        "|  1 | Channel Islands National Park           | Common      |        228 |\n",
        "|  2 | Channel Islands National Park           | Occasional  |        190 |\n",
        "|  3 | Channel Islands National Park           | Rare        |        368 |\n",
        "|  4 | Channel Islands National Park           | Uncommon    |        471 |\n",
        "|  5 | Channel Islands National Park           | Unknown     |        173 |\n",
        "|  6 | Joshua Tree National Park               | Abundant    |         37 |\n",
        "|  7 | Joshua Tree National Park               | Common      |        543 |\n",
        "|  8 | Joshua Tree National Park               | Occasional  |         84 |\n",
        "|  9 | Joshua Tree National Park               | Rare        |         90 |"
      ]
    },
    {
      "cell_type": "code",
      "execution_count": null,
      "metadata": {
        "id": "97ZJWUdnVWzV"
      },
      "outputs": [],
      "source": [
        "species_abundance = ...\n",
        "species_abundance"
      ]
    },
    {
      "cell_type": "markdown",
      "metadata": {
        "id": "OXE-SiA3VWzV"
      },
      "source": [
        "## 2. Nachos 🧀 🌶️"
      ]
    },
    {
      "cell_type": "markdown",
      "metadata": {
        "id": "v5eZTVzpVWzV"
      },
      "source": [
        "Em Python, os valores booleanos podem ser `True` ou `False`. Obtemos valores booleanos ao usar operadores de comparação, entre os quais `<` (menor que), `>` (maior que) e `==` (igual a). Para uma lista mais completa, [veja aqui](https://www.tutorialspoint.com/python/comparison_operators_example.htm).\n",
        "\n",
        "Execute a célula abaixo para ver um exemplo de operador de comparação em ação."
      ]
    },
    {
      "cell_type": "code",
      "execution_count": null,
      "metadata": {
        "id": "1IKlUXujVWzV"
      },
      "outputs": [],
      "source": [
        "3 > 1 + 1"
      ]
    },
    {
      "cell_type": "markdown",
      "metadata": {
        "id": "X3aBF4JfVWzV"
      },
      "source": [
        "Podemos até atribuir o resultado de uma operação de comparação a uma variável."
      ]
    },
    {
      "cell_type": "code",
      "execution_count": null,
      "metadata": {
        "id": "xJhj0MgbVWzV"
      },
      "outputs": [],
      "source": [
        "result = 10 / 2 == 5\n",
        "result"
      ]
    },
    {
      "cell_type": "markdown",
      "metadata": {
        "id": "x8g4Oi31VWzV"
      },
      "source": [
        "Matrizes são compatíveis com operadores de comparação. A saída é uma matriz de valores booleanos."
      ]
    },
    {
      "cell_type": "code",
      "execution_count": null,
      "metadata": {
        "id": "5imO0-yvVWzV"
      },
      "outputs": [],
      "source": [
        "np.array([1, 5, 7, 8, 3, -1]) > 3"
      ]
    },
    {
      "cell_type": "markdown",
      "metadata": {
        "id": "HNp-TH7cVWzV"
      },
      "source": [
        "Esperando na mesa de jantar só para você está uma tigela quente de nachos! Digamos que sempre que você comer um nacho, ele terá queijo (cheese), molho (salsa), ambos (both) ou nenhum (neither), que seria apenas uma tortilla simples.\n",
        "\n",
        "<img src='https://raw.githubusercontent.com/dsc-courses/dsc10-2023-wi/main/labs/lab03/images/nacho.png' width=300>\n",
        "\n",
        "Usando a chamada de função `np.random.choice(array_name)`, vamos simular a retirada de nachos da tigela aleatoriamente. Comece executando a célula abaixo várias vezes e observe como os resultados mudam."
      ]
    },
    {
      "cell_type": "code",
      "execution_count": null,
      "metadata": {
        "id": "YIETOcQZVWzV"
      },
      "outputs": [],
      "source": [
        "nachos = np.array(['cheese', 'salsa', 'both', 'neither'])\n",
        "np.random.choice(nachos)"
      ]
    },
    {
      "cell_type": "markdown",
      "metadata": {
        "id": "lBx3QP0WVWzV"
      },
      "source": [
        "Suponha que pegamos dez nachos aleatoriamente e armazenamos os resultados em um array chamado `ten_nachos`."
      ]
    },
    {
      "cell_type": "code",
      "execution_count": null,
      "metadata": {
        "id": "f4Xpcb48VWzW"
      },
      "outputs": [],
      "source": [
        "ten_nachos = np.array(['neither', 'cheese', 'both', 'both', 'cheese', 'salsa', 'both', 'neither', 'cheese', 'both'])"
      ]
    },
    {
      "cell_type": "markdown",
      "metadata": {
        "id": "qV95uMiXVWzW"
      },
      "source": [
        "**Pergunta 2.1.** Encontre a quantidade de nachos apenas com queijo usando código (não *hardcode* sua resposta).\n",
        "\n",
        "_**Dica:**_ Nossa solução envolve um operador de comparação e a função `np.count_nonzero`."
      ]
    },
    {
      "cell_type": "code",
      "execution_count": null,
      "metadata": {
        "id": "rkyOodiAVWzW"
      },
      "outputs": [],
      "source": [
        "number_cheese = ...\n",
        "number_cheese"
      ]
    },
    {
      "cell_type": "markdown",
      "metadata": {
        "id": "MGwgGMuGVWzW"
      },
      "source": [
        "**Declarações Condicionais**\n",
        "\n",
        "Uma instrução condicional é composta de várias linhas de código que permitem ao Python escolher entre diferentes alternativas com base no fato de alguma condição ser verdadeira.\n",
        "\n",
        "Aqui está um exemplo básico.\n",
        "\n",
        "```\n",
        "def sign(x):\n",
        "    if x > 0:\n",
        "        return 'Positive'\n",
        "```\n",
        "\n",
        "Como a função funciona é que se a entrada `x` for maior que `0`, obtemos a string `'Positive'` de volta.\n",
        "\n",
        "Se quisermos testar múltiplas condições ao mesmo tempo, usamos o seguinte formato geral.\n",
        "\n",
        "```\n",
        "if <if expression>:\n",
        "    <if body>\n",
        "elif <elif expression 0>:\n",
        "    <elif body 0>\n",
        "elif <elif expression 1>:\n",
        "    <elif body 1>\n",
        "...\n",
        "else:\n",
        "    <else body>\n",
        "```\n",
        "\n",
        "Apenas um dos corpos será executado. Cada expressão `if` e `elif` (else-if) é avaliada e considerada em ordem, começando no topo. Assim que um valor verdadeiro for encontrado (ou seja, uma vez que uma condição for atendida), o corpo correspondente será executado e o restante da expressão será ignorado. Se nenhuma das expressões `if` ou `elif` for verdadeira, então o `else body` será executado. Para obter mais exemplos e explicações, consulte [CIT 9.1](https://inferentialthinking.com/chapters/09/1/Conditional_Statements.html?highlight=else)."
      ]
    },
    {
      "cell_type": "markdown",
      "metadata": {
        "id": "JLewYmlVVWzW"
      },
      "source": [
        "**Questão 2.2.** Complete a seguinte instrução condicional para que a string `'More please'` seja atribuída a `say_please` se o número de nachos com queijo em `ten_nachos` for menor que `5`."
      ]
    },
    {
      "cell_type": "code",
      "execution_count": null,
      "metadata": {
        "for_assignment_type": "student",
        "id": "pTnzZU3oVWzW"
      },
      "outputs": [],
      "source": [
        "...\n",
        "    say_please = 'More please'\n",
        "\n",
        "say_please"
      ]
    },
    {
      "cell_type": "markdown",
      "metadata": {
        "id": "3GP8VLXmVWzW"
      },
      "source": [
        "**Pergunta 2.3.** Escreva uma função chamada `nacho_reaction` que retorne uma string representando a reação de uma pessoa, com base no tipo de nacho passado. As reações devem ser conforme mostradas na tabela abaixo.\n",
        "\n",
        "| Type of nacho    | Reaction |\n",
        "| ----------- | ----------- |\n",
        "| `cheese`      | `Cheesy!`      |\n",
        "| `salsa`  | `Spicy!`        |\n",
        "| `both`      | `Delicious!`      |\n",
        "| `neither`  | `Boring.`        |"
      ]
    },
    {
      "cell_type": "code",
      "execution_count": null,
      "metadata": {
        "for_assignment_type": "student",
        "id": "CFv_HK3IVWzW"
      },
      "outputs": [],
      "source": [
        "def nacho_reaction(nacho):\n",
        "    ...\n",
        "\n",
        "# Isso é um exemplo de chamada da sua função\n",
        "spicy_nacho = nacho_reaction('salsa')\n",
        "spicy_nacho"
      ]
    },
    {
      "cell_type": "markdown",
      "metadata": {
        "id": "q8cdHS7-VWzX"
      },
      "source": [
        "Agora considere o DataFrame `ten_nachos_reactions` definido abaixo."
      ]
    },
    {
      "cell_type": "code",
      "execution_count": null,
      "metadata": {
        "scrolled": true,
        "id": "nCqP4EKzVWzX"
      },
      "outputs": [],
      "source": [
        "ten_nachos_reactions = pd.DataFrame().assign(Nacho=ten_nachos)\n",
        "ten_nachos_reactions"
      ]
    },
    {
      "cell_type": "markdown",
      "metadata": {
        "id": "x2XPjpVfVWzX"
      },
      "source": [
        "**Pergunta 2.4.** Adicione uma coluna chamada `'Reaction'` ao DataFrame `ten_nachos_reactions` que consiste na reação para cada um dos nachos em `ten_nachos`.\n",
        "\n",
        "_**Dica:**_ Use o método `apply`."
      ]
    },
    {
      "cell_type": "code",
      "execution_count": null,
      "metadata": {
        "for_assignment_type": "student",
        "id": "1JX_cjDuVWzX"
      },
      "outputs": [],
      "source": [
        "ten_nachos_reactions = ...\n",
        "ten_nachos_reactions"
      ]
    },
    {
      "cell_type": "markdown",
      "metadata": {
        "id": "1w_A-my4VWzX"
      },
      "source": [
        "**Pergunta 2.5.** Usando o código, encontre o número de reações `'Delicious!'` para os nachos em `ten_nachos_reactions`. Pense em como você poderia encontrar isso usando métodos DataFrame ou usando `np.count_nonzero`."
      ]
    },
    {
      "cell_type": "code",
      "execution_count": null,
      "metadata": {
        "id": "B-tXgJM9VWzX"
      },
      "outputs": [],
      "source": [
        "num_delicious = ...\n",
        "num_delicious"
      ]
    },
    {
      "cell_type": "markdown",
      "metadata": {
        "id": "6eNvVMUbVWzX"
      },
      "source": [
        "**Questão 2.6.** Complete a função `both_or_neither` abaixo. A função recebe como entrada qualquer DataFrame de nachos e reações, com nomes de colunas `'Nacho'` e `'Reaction'`. A função compara o número de nachos com queijo e molho com o número de nachos sem queijo nem molho. Se houver mais nachos com ambos, a função retornará `'These were some yummy nachos!'` e se houver mais nachos com nenhum deles, a função retornará `'These nachos were disappointing.'` Se houver um número igual de cada um. , a função retorna `'These nachos were hit or miss.'`"
      ]
    },
    {
      "cell_type": "code",
      "execution_count": null,
      "metadata": {
        "for_assignment_type": "student",
        "id": "rawUmIHWVWzX"
      },
      "outputs": [],
      "source": [
        "def both_or_neither(nacho_df):\n",
        "    nachos = nacho_df.get('Nacho')\n",
        "    number_both = ...\n",
        "    number_neither = ...\n",
        "    # Agora retorne a string apropriada que descreve a distribuicao dos nachos.\n",
        "     ...\n",
        "\n",
        "# Abaixo nós criamos um DataFrame com dados aleatoriamente gerados e testamos sua função nele.\n",
        "# NÃO troque nada abaixo dessa célula.\n",
        "# Contudo, você pode criar uma nova célula e avaliar both_or_neither(ten_nachos_reactions)\n",
        "# para ver se sua função se comporta como você a programou!\n",
        "\n",
        "np.random.seed(24)\n",
        "many_nachos = pd.DataFrame().assign(Nacho=np.random.choice(nachos, 250))\n",
        "many_nachos = many_nachos.assign(Reaction=many_nachos.get('Nacho').apply(nacho_reaction))\n",
        "result = both_or_neither(many_nachos)\n",
        "result"
      ]
    },
    {
      "cell_type": "markdown",
      "metadata": {
        "id": "5AHa5HSAVWzY"
      },
      "source": [
        "## 3. Billy faminto 🍗 🍕🍟\n",
        "Depois de um longo dia de aula, Billy decide ir jantar no Dirty Birds. O cardápio de hoje traz as quatro comidas favoritas de Billy: asas, pizza, batatas fritas e palitos de mussarela. No entanto, cada prato tem 25% de chance de acabar antes que Billy chegue ao Dirty Birds.\n",
        "\n",
        "**Observação:** Use Python como sua calculadora. Suas respostas devem ser expressões (como `0,5 ** 2`); não simplifique suas respostas usando uma calculadora externa. Além disso, todas as suas respostas devem ser dadas como decimais entre 0 e 1, não como porcentagens."
      ]
    },
    {
      "cell_type": "markdown",
      "metadata": {
        "id": "U1P95Q9tVWzY"
      },
      "source": [
        "**Pergunta 3.1.** Qual é a probabilidade de Billy conseguir comer asas no Dirty Birds?"
      ]
    },
    {
      "cell_type": "code",
      "execution_count": null,
      "metadata": {
        "id": "ftPnK2ugVWzY"
      },
      "outputs": [],
      "source": [
        "wings_prob = ...\n",
        "wings_prob"
      ]
    },
    {
      "cell_type": "markdown",
      "metadata": {
        "id": "TfIIRmEMVWzY"
      },
      "source": [
        "**Pergunta 3.2.** Qual é a probabilidade de Billy conseguir comer todos esses quatro alimentos no Dirty Birds?"
      ]
    },
    {
      "cell_type": "code",
      "execution_count": null,
      "metadata": {
        "id": "FYBShJcJVWzY"
      },
      "outputs": [],
      "source": [
        "all_prob = ...\n",
        "all_prob"
      ]
    },
    {
      "cell_type": "markdown",
      "metadata": {
        "id": "0gpM1y4pVWzY"
      },
      "source": [
        "**Pergunta 3.3.** Qual é a probabilidade de Dirty Birds ter ficado sem pelo menos um dos quatro alimentos antes de Billy chegar lá?"
      ]
    },
    {
      "cell_type": "code",
      "execution_count": null,
      "metadata": {
        "id": "uhlRlywfVWzY"
      },
      "outputs": [],
      "source": [
        "something_is_out = ...\n",
        "something_is_out"
      ]
    },
    {
      "cell_type": "markdown",
      "metadata": {
        "id": "QteW8Pe1VWzZ"
      },
      "source": [
        "Para compensar seu suprimento imprevisível de comida, Dirty Birds decide realizar um concurso para ganhar alguns brindes gratuitos do HDH Dining. Há uma bolsa com três bolinhas vermelhas, três bolinhas verdes e três bolinhas azuis. Billy tem que tirar três bolinhas de gude **sem reposição**. Para ganhar, todas as três bolinhas sorteadas por Billy devem ser de cores diferentes."
      ]
    },
    {
      "cell_type": "markdown",
      "metadata": {
        "id": "Gt-a8vytVWzZ"
      },
      "source": [
        "**Pergunta 3.4.** Qual é a probabilidade de Billy vencer a disputa?\n",
        "\n",
        "_**Dica:**_ Se você estiver preso, comece determinando a probabilidade de que a segunda bola de gude que Billy tira seja diferente da primeira bola de gude que Billy tira."
      ]
    },
    {
      "cell_type": "code",
      "execution_count": null,
      "metadata": {
        "id": "QxUbg-fYVWzZ"
      },
      "outputs": [],
      "source": [
        "winning_prob = ...\n",
        "winning_prob"
      ]
    },
    {
      "cell_type": "markdown",
      "metadata": {
        "id": "Hn42-ktBVWzZ"
      },
      "source": [
        "## 4. Iteração 🔂\n",
        "Usando um loop `for`, podemos executar uma tarefa várias vezes. Isso é conhecido como iteração. Aqui, simularemos o desenho de diferentes naipes de um baralho de cartas. 🃏"
      ]
    },
    {
      "cell_type": "code",
      "execution_count": null,
      "metadata": {
        "id": "CbzH9UkbVWzZ"
      },
      "outputs": [],
      "source": [
        "suits = np.array(['♣️', '♥️', '♠️', '♦️'])\n",
        "\n",
        "draws = np.array([])\n",
        "\n",
        "repetitions = 6\n",
        "\n",
        "for i in np.arange(repetitions):\n",
        "    draws = np.append(draws, np.random.choice(suits))\n",
        "\n",
        "draws"
      ]
    },
    {
      "cell_type": "markdown",
      "metadata": {
        "id": "ZR-a8kSLVWzZ"
      },
      "source": [
        "Outro uso da iteração é percorrer um conjunto de valores. Por exemplo, podemos imprimir todas as cores do arco-íris. 🌈"
      ]
    },
    {
      "cell_type": "code",
      "execution_count": null,
      "metadata": {
        "id": "qS_lhtKmVWzZ"
      },
      "outputs": [],
      "source": [
        "rainbow = np.array([\"red\", \"orange\", \"yellow\", \"green\", \"blue\", \"indigo\", \"violet\"])\n",
        "\n",
        "for color in rainbow:\n",
        "    print(color)"
      ]
    },
    {
      "cell_type": "markdown",
      "metadata": {
        "id": "Dm8OSeNmVWzZ"
      },
      "source": [
        "Podemos ver que a parte recuada do loop `for`, conhecida como corpo, é executada uma vez para cada item em `rainbow`. Observe que o nome `color` é arbitrário; poderíamos substituir ambas as instâncias de `color` na célula acima por qualquer nome de variável válido e o código funcionaria da mesma forma."
      ]
    },
    {
      "cell_type": "markdown",
      "metadata": {
        "id": "Kgj2AZ82VWza"
      },
      "source": [
        "Também podemos usar um loop `for` para adicionar uma variável de forma iterativa. Aqui, contamos o número de números pares em uma matriz de números. Cada vez que encontramos um número par em `num_array`, aumentamos `even_count` em 1. Para verificar se um número individual é par, calculamos seu resto quando dividido por 2 usando o operador `%` ([modulus](https://www.freecodecamp.org/news/the-python-modulo-operator-what-does-the-symbol-mean-in-python-solved/#:~:text=The%20%25%20symbol%20in%20Python%20is,basic%20syntax%20is%3A%20a%20%25%20b))."
      ]
    },
    {
      "cell_type": "code",
      "execution_count": null,
      "metadata": {
        "id": "luKmZkiaVWza"
      },
      "outputs": [],
      "source": [
        "num_array = np.array([1, 3, 4, 7, 21, 23, 28, 28, 30])\n",
        "\n",
        "even_count = 0\n",
        "\n",
        "for i in num_array:\n",
        "    if i % 2 == 0:\n",
        "        even_count = even_count + 1\n",
        "\n",
        "even_count"
      ]
    },
    {
      "cell_type": "markdown",
      "metadata": {
        "id": "--WsqHz0VWza"
      },
      "source": [
        "**Pergunta 4.1.** Valentina está jogando dardos. 🎯 Seu alvo de dardos contém dez zonas de tamanhos iguais com valores de pontos de 1 a 10. Escreva o código usando `np.random.choice` que simula sua pontuação total após 1000 lançamentos de dardo."
      ]
    },
    {
      "cell_type": "code",
      "execution_count": null,
      "metadata": {
        "for_assignment_type": "student",
        "id": "6V6G46O_VWza"
      },
      "outputs": [],
      "source": [
        "possible_point_values = ...\n",
        "tosses = 1000\n",
        "\n",
        "total_score = ...\n",
        "for i in range(tosses):\n",
        "    ...\n",
        "\n",
        "total_score"
      ]
    },
    {
      "cell_type": "markdown",
      "metadata": {
        "id": "bFj5zCNMVWza"
      },
      "source": [
        "**Pergunta 4.2.** Qual é a pontuação média de um dardo lançado por Valentina?"
      ]
    },
    {
      "cell_type": "code",
      "execution_count": null,
      "metadata": {
        "id": "WQTkbW6-VWza"
      },
      "outputs": [],
      "source": [
        "average_score = ...\n",
        "average_score"
      ]
    },
    {
      "cell_type": "markdown",
      "metadata": {
        "id": "76TVqXY-VWza"
      },
      "source": [
        "**Pergunta 4.3.** Na célula a seguir, carregamos o texto de _Winnie-the-Pooh_ de A. A. Milne, o livro que vimos na lição de casa 1. Dividimos o texto em palavras individuais e as armazenamos palavras em uma matriz. Usando um loop `for`, atribua `longer_than_four` ao número de palavras no romance que têm mais de 4 letras. Veja [CIT 9.2](https://inferentialthinking.com/chapters/09/2/Iteration.html) se você tiver dúvidas.\n",
        "\n",
        "_**Dica:**_ Você pode encontrar o número de letras em uma palavra com a função `len`."
      ]
    },
    {
      "cell_type": "code",
      "execution_count": null,
      "metadata": {
        "for_assignment_type": "student",
        "id": "eKFsrWfTVWza"
      },
      "outputs": [],
      "source": [
        "import urllib.request\n",
        "\n",
        "# Aqui usamos a urllib.request para ler um texto com base em um url. Também usamos a função .decode() para decodifcar o texto no padrão utf-8.\n",
        "\n",
        "winnie_string = urllib.request.urlopen('https://raw.githubusercontent.com/dsc-courses/dsc10-2023-wi/main/labs/lab03/data/winnie-the-pooh.txt').read().decode('utf-8')\n",
        "winnie_words = np.array(winnie_string.split())\n",
        "\n",
        "# ...\n",
        "\n",
        "# longer_than_four"
      ]
    },
    {
      "cell_type": "markdown",
      "metadata": {
        "id": "cxygCbONVWzb"
      },
      "source": [
        "# Linha de chegada 🏁\n",
        "\n",
        "Parabéns! Você concluiu o Laboratório 3.\n",
        "\n",
        "Para enviar sua tarefa:\n",
        "\n",
        "1. Selecione `Kernel -> Reiniciar e executar tudo` para garantir que você executou todas as células, incluindo as células de teste.\n",
        "2. Leia o caderno para ter certeza de que está tudo bem e que suas respostas foram computadas.\n",
        "3. Baixe seu notebook usando `Arquivo -> Baixar como -> Notebook (.ipynb)` e, em seguida, carregue seu notebook para o Moodle."
      ]
    }
  ],
  "metadata": {
    "anaconda-cloud": {},
    "kernelspec": {
      "display_name": "Python 3 (ipykernel)",
      "language": "python",
      "name": "python3"
    },
    "language_info": {
      "codemirror_mode": {
        "name": "ipython",
        "version": 3
      },
      "file_extension": ".py",
      "mimetype": "text/x-python",
      "name": "python",
      "nbconvert_exporter": "python",
      "pygments_lexer": "ipython3",
      "version": "3.9.12"
    },
    "colab": {
      "provenance": []
    }
  },
  "nbformat": 4,
  "nbformat_minor": 0
}
